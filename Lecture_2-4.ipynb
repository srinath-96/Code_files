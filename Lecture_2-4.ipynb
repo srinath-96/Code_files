{
  "cells": [
    {
      "cell_type": "markdown",
      "metadata": {},
      "source": [
        "# Lecture 2-4\n",
        "\n",
        "Python Conditionals: Controlling the Flow of Your Code"
      ]
    },
    {
      "cell_type": "markdown",
      "metadata": {},
      "source": [
        "This notebook explores conditional statements in Python, drawing inspiration from Chapter 6 of \"Think Python.\" Conditionals allow your programs to make decisions and execute different blocks of code based on whether certain conditions are met. We'll cover `if`, `elif`, and `else` statements, Boolean expressions, and chained conditionals."
      ]
    },
    {
      "cell_type": "markdown",
      "metadata": {},
      "source": [
        "## 1. Boolean Expressions"
      ]
    },
    {
      "cell_type": "markdown",
      "metadata": {},
      "source": [
        "Conditional statements rely on Boolean expressions, which evaluate to either `True` or `False`.  Python provides several comparison operators for creating these expressions:"
      ]
    },
    {
      "cell_type": "markdown",
      "metadata": {},
      "source": [
        "- `x == y`:  x is equal to y\n",
        "- `x != y`: x is not equal to y\n",
        "- `x > y`:  x is greater than y\n",
        "- `x < y`:  x is less than y\n",
        "- `x >= y`: x is greater than or equal to y\n",
        "- `x <= y`: x is less than or equal to y"
      ]
    },
    {
      "cell_type": "code",
      "execution_count": 1,
      "metadata": {},
      "outputs": [
        {
          "name": "stdout",
          "output_type": "stream",
          "text": [
            "False\n",
            "True\n",
            "True\n"
          ]
        }
      ],
      "source": [
        "x = 5\n",
        "y = 10\n",
        "\n",
        "print(x == y)  # Output: False\n",
        "print(x < y)   # Output: True\n",
        "print(x >= 5)  # Output: True"
      ]
    },
    {
      "cell_type": "markdown",
      "metadata": {},
      "source": [
        "## 2. `if` Statements"
      ]
    },
    {
      "cell_type": "markdown",
      "metadata": {},
      "source": [
        "The simplest conditional statement is the `if` statement.  It executes a block of code only if a condition is true:"
      ]
    },
    {
      "cell_type": "markdown",
      "metadata": {},
      "source": [
        "```python\n",
        "if condition:\n",
        "    # Code to execute if the condition is true\n",
        "```"
      ]
    },
    {
      "cell_type": "code",
      "execution_count": 2,
      "metadata": {},
      "outputs": [
        {
          "name": "stdout",
          "output_type": "stream",
          "text": [
            "You are old enough to vote.\n"
          ]
        }
      ],
      "source": [
        "age = 18\n",
        "\n",
        "if age >= 18:\n",
        "    print(\"You are old enough to vote.\")"
      ]
    },
    {
      "cell_type": "markdown",
      "metadata": {},
      "source": [
        "## 3. `else` Statements"
      ]
    },
    {
      "cell_type": "markdown",
      "metadata": {},
      "source": [
        "An `else` block can be added to an `if` statement to provide code that executes if the condition is false:"
      ]
    },
    {
      "cell_type": "markdown",
      "metadata": {},
      "source": [
        "```python\n",
        "if condition:\n",
        "    # Code to execute if the condition is true\n",
        "else:\n",
        "    # Code to execute if the condition is false\n",
        "```"
      ]
    },
    {
      "cell_type": "code",
      "execution_count": 3,
      "metadata": {},
      "outputs": [
        {
          "name": "stdout",
          "output_type": "stream",
          "text": [
            "It's not too hot.\n"
          ]
        }
      ],
      "source": [
        "temperature = 25\n",
        "\n",
        "if temperature > 30:\n",
        "    print(\"It's hot!\")\n",
        "else:\n",
        "    print(\"It's not too hot.\")"
      ]
    },
    {
      "cell_type": "markdown",
      "metadata": {},
      "source": [
        "## 4. `elif` Statements"
      ]
    },
    {
      "cell_type": "markdown",
      "metadata": {},
      "source": [
        "The `elif` (short for \"else if\") statement allows you to check multiple conditions in sequence:"
      ]
    },
    {
      "cell_type": "markdown",
      "metadata": {},
      "source": [
        "```python\n",
        "if condition1:\n",
        "    # Code to execute if condition1 is true\n",
        "elif condition2:\n",
        "    # Code to execute if condition2 is true\n",
        "else:\n",
        "    # Code to execute if none of the above conditions are true\n",
        "```"
      ]
    },
    {
      "cell_type": "code",
      "execution_count": 4,
      "metadata": {},
      "outputs": [
        {
          "name": "stdout",
          "output_type": "stream",
          "text": [
            "B\n"
          ]
        }
      ],
      "source": [
        "score = 85\n",
        "\n",
        "if score >= 90:\n",
        "    print(\"A\")\n",
        "elif score >= 80:\n",
        "    print(\"B\")\n",
        "elif score >= 70:\n",
        "    print(\"C\")\n",
        "else:\n",
        "    print(\"D\")"
      ]
    },
    {
      "cell_type": "markdown",
      "metadata": {},
      "source": [
        "## 5. Chained Conditionals and Nested Conditions"
      ]
    },
    {
      "cell_type": "markdown",
      "metadata": {},
      "source": [
        "You can combine multiple conditions using logical operators (`and`, `or`, `not`) and nest conditional statements within each other to create more complex decision-making structures."
      ]
    },
    {
      "cell_type": "code",
      "execution_count": 5,
      "metadata": {},
      "outputs": [
        {
          "name": "stdout",
          "output_type": "stream",
          "text": [
            "Both x and y are positive.\n",
            "x is positive and y is less than 10.\n"
          ]
        }
      ],
      "source": [
        "x = 10\n",
        "y = 5\n",
        "\n",
        "if x > 0 and y > 0:\n",
        "    print(\"Both x and y are positive.\")\n",
        "\n",
        "if x > 0:\n",
        "    if y < 10:\n",
        "        print(\"x is positive and y is less than 10.\")"
      ]
    },
    {
      "cell_type": "markdown",
      "metadata": {},
      "source": [
        "This notebook provides a comprehensive overview of conditional statements in Python.  Understanding how to control the flow of execution is fundamental to programming.  Practice writing different conditional statements to solidify your understanding."
      ]
    }
  ],
  "metadata": {
    "kernelspec": {
      "display_name": "prog-spring-2025",
      "language": "python",
      "name": "prog-spring-2025"
    },
    "language_info": {
      "codemirror_mode": {
        "name": "ipython",
        "version": 3
      },
      "file_extension": ".py",
      "mimetype": "text/x-python",
      "name": "python",
      "nbconvert_exporter": "python",
      "pygments_lexer": "ipython3",
      "version": "3.10.16"
    }
  },
  "nbformat": 4,
  "nbformat_minor": 4
}
