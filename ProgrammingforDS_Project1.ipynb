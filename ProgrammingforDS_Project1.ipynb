{
  "cells": [
    {
      "cell_type": "markdown",
      "metadata": {
        "id": "view-in-github",
        "colab_type": "text"
      },
      "source": [
        "<a href=\"https://colab.research.google.com/github/srinath-96/Code_files/blob/main/ProgrammingforDS_Project1.ipynb\" target=\"_parent\"><img src=\"https://colab.research.google.com/assets/colab-badge.svg\" alt=\"Open In Colab\"/></a>"
      ]
    },
    {
      "cell_type": "markdown",
      "id": "ad276cb3-8364-45ed-b858-bf3bf67088e0",
      "metadata": {
        "id": "ad276cb3-8364-45ed-b858-bf3bf67088e0"
      },
      "source": [
        "# Applied Machine Learning Project 1 : Classification using Logistic Regression Models\n",
        "**Srinath Murali Krishnan | NetID:SMK220008**"
      ]
    },
    {
      "cell_type": "markdown",
      "id": "c7e4d64c-3667-43fc-ab37-c2092e2bbb2c",
      "metadata": {
        "id": "c7e4d64c-3667-43fc-ab37-c2092e2bbb2c"
      },
      "source": [
        "# Data Importing and Preliminary Analysis"
      ]
    },
    {
      "cell_type": "markdown",
      "id": "3f59db98-0856-4c74-b86c-ffcc0e3fcbe8",
      "metadata": {
        "id": "3f59db98-0856-4c74-b86c-ffcc0e3fcbe8"
      },
      "source": [
        "1) We first import the data and identify the target variable\n",
        "2) We describe the data and observe column values"
      ]
    },
    {
      "cell_type": "code",
      "source": [
        "pip install scikit-learn==1.3.0 numpy==1.24.4 pandas==2.0.3 matplotlib==3.7.2 mlxtend==0.22.0 graphviz==0.20.1 mglearn==0.2.0 future==0.18.3 notebook==7.0.2 ipykernel==6.25.0 shap==0.42.1 category-encoders==2.6.1 seaborn==0.12.2 optuna==3.3.0 ipywidgets==8.1.0 xgboost==2.0.3 plotly==5.14.1 pyarrow==16.1.0 polars==0.20.29\n"
      ],
      "metadata": {
        "colab": {
          "base_uri": "https://localhost:8080/",
          "height": 1000
        },
        "id": "lXIix-KSv0Z3",
        "outputId": "638ec7f4-9327-4ef3-fe0e-f1f4eb735fce"
      },
      "id": "lXIix-KSv0Z3",
      "execution_count": 1,
      "outputs": [
        {
          "output_type": "stream",
          "name": "stdout",
          "text": [
            "Collecting scikit-learn==1.3.0\n",
            "  Downloading scikit_learn-1.3.0-cp311-cp311-manylinux_2_17_x86_64.manylinux2014_x86_64.whl.metadata (11 kB)\n",
            "Collecting numpy==1.24.4\n",
            "  Downloading numpy-1.24.4-cp311-cp311-manylinux_2_17_x86_64.manylinux2014_x86_64.whl.metadata (5.6 kB)\n",
            "Collecting pandas==2.0.3\n",
            "  Downloading pandas-2.0.3-cp311-cp311-manylinux_2_17_x86_64.manylinux2014_x86_64.whl.metadata (18 kB)\n",
            "Collecting matplotlib==3.7.2\n",
            "  Downloading matplotlib-3.7.2-cp311-cp311-manylinux_2_17_x86_64.manylinux2014_x86_64.whl.metadata (5.6 kB)\n",
            "Collecting mlxtend==0.22.0\n",
            "  Downloading mlxtend-0.22.0-py2.py3-none-any.whl.metadata (1.6 kB)\n",
            "Collecting graphviz==0.20.1\n",
            "  Downloading graphviz-0.20.1-py3-none-any.whl.metadata (12 kB)\n",
            "Collecting mglearn==0.2.0\n",
            "  Downloading mglearn-0.2.0-py2.py3-none-any.whl.metadata (628 bytes)\n",
            "Collecting future==0.18.3\n",
            "  Downloading future-0.18.3.tar.gz (840 kB)\n",
            "\u001b[2K     \u001b[90m━━━━━━━━━━━━━━━━━━━━━━━━━━━━━━━━━━━━━━\u001b[0m \u001b[32m840.9/840.9 kB\u001b[0m \u001b[31m13.7 MB/s\u001b[0m eta \u001b[36m0:00:00\u001b[0m\n",
            "\u001b[?25h  Preparing metadata (setup.py) ... \u001b[?25l\u001b[?25hdone\n",
            "Collecting notebook==7.0.2\n",
            "  Downloading notebook-7.0.2-py3-none-any.whl.metadata (10 kB)\n",
            "Collecting ipykernel==6.25.0\n",
            "  Downloading ipykernel-6.25.0-py3-none-any.whl.metadata (6.3 kB)\n",
            "Collecting shap==0.42.1\n",
            "  Downloading shap-0.42.1-cp311-cp311-manylinux_2_12_x86_64.manylinux2010_x86_64.manylinux_2_17_x86_64.manylinux2014_x86_64.whl.metadata (23 kB)\n",
            "Collecting category-encoders==2.6.1\n",
            "  Downloading category_encoders-2.6.1-py2.py3-none-any.whl.metadata (7.9 kB)\n",
            "Collecting seaborn==0.12.2\n",
            "  Downloading seaborn-0.12.2-py3-none-any.whl.metadata (5.4 kB)\n",
            "Collecting optuna==3.3.0\n",
            "  Downloading optuna-3.3.0-py3-none-any.whl.metadata (17 kB)\n",
            "Collecting ipywidgets==8.1.0\n",
            "  Downloading ipywidgets-8.1.0-py3-none-any.whl.metadata (2.4 kB)\n",
            "Collecting xgboost==2.0.3\n",
            "  Downloading xgboost-2.0.3-py3-none-manylinux2014_x86_64.whl.metadata (2.0 kB)\n",
            "Collecting plotly==5.14.1\n",
            "  Downloading plotly-5.14.1-py2.py3-none-any.whl.metadata (7.0 kB)\n",
            "Collecting pyarrow==16.1.0\n",
            "  Downloading pyarrow-16.1.0-cp311-cp311-manylinux_2_28_x86_64.whl.metadata (3.0 kB)\n",
            "Collecting polars==0.20.29\n",
            "  Downloading polars-0.20.29-cp38-abi3-manylinux_2_17_x86_64.manylinux2014_x86_64.whl.metadata (14 kB)\n",
            "Requirement already satisfied: scipy>=1.5.0 in /usr/local/lib/python3.11/dist-packages (from scikit-learn==1.3.0) (1.14.1)\n",
            "Requirement already satisfied: joblib>=1.1.1 in /usr/local/lib/python3.11/dist-packages (from scikit-learn==1.3.0) (1.4.2)\n",
            "Requirement already satisfied: threadpoolctl>=2.0.0 in /usr/local/lib/python3.11/dist-packages (from scikit-learn==1.3.0) (3.6.0)\n",
            "Requirement already satisfied: python-dateutil>=2.8.2 in /usr/local/lib/python3.11/dist-packages (from pandas==2.0.3) (2.8.2)\n",
            "Requirement already satisfied: pytz>=2020.1 in /usr/local/lib/python3.11/dist-packages (from pandas==2.0.3) (2025.2)\n",
            "Requirement already satisfied: tzdata>=2022.1 in /usr/local/lib/python3.11/dist-packages (from pandas==2.0.3) (2025.2)\n",
            "Requirement already satisfied: contourpy>=1.0.1 in /usr/local/lib/python3.11/dist-packages (from matplotlib==3.7.2) (1.3.2)\n",
            "Requirement already satisfied: cycler>=0.10 in /usr/local/lib/python3.11/dist-packages (from matplotlib==3.7.2) (0.12.1)\n",
            "Requirement already satisfied: fonttools>=4.22.0 in /usr/local/lib/python3.11/dist-packages (from matplotlib==3.7.2) (4.57.0)\n",
            "Requirement already satisfied: kiwisolver>=1.0.1 in /usr/local/lib/python3.11/dist-packages (from matplotlib==3.7.2) (1.4.8)\n",
            "Requirement already satisfied: packaging>=20.0 in /usr/local/lib/python3.11/dist-packages (from matplotlib==3.7.2) (24.2)\n",
            "Requirement already satisfied: pillow>=6.2.0 in /usr/local/lib/python3.11/dist-packages (from matplotlib==3.7.2) (11.1.0)\n",
            "Collecting pyparsing<3.1,>=2.3.1 (from matplotlib==3.7.2)\n",
            "  Downloading pyparsing-3.0.9-py3-none-any.whl.metadata (4.2 kB)\n",
            "Requirement already satisfied: setuptools in /usr/local/lib/python3.11/dist-packages (from mlxtend==0.22.0) (75.2.0)\n",
            "Requirement already satisfied: imageio in /usr/local/lib/python3.11/dist-packages (from mglearn==0.2.0) (2.37.0)\n",
            "Collecting jupyter-server<3,>=2.4.0 (from notebook==7.0.2)\n",
            "  Downloading jupyter_server-2.15.0-py3-none-any.whl.metadata (8.4 kB)\n",
            "Collecting jupyterlab-server<3,>=2.22.1 (from notebook==7.0.2)\n",
            "  Downloading jupyterlab_server-2.27.3-py3-none-any.whl.metadata (5.9 kB)\n",
            "Collecting jupyterlab<5,>=4.0.2 (from notebook==7.0.2)\n",
            "  Downloading jupyterlab-4.4.1-py3-none-any.whl.metadata (16 kB)\n",
            "Requirement already satisfied: notebook-shim<0.3,>=0.2 in /usr/local/lib/python3.11/dist-packages (from notebook==7.0.2) (0.2.4)\n",
            "Requirement already satisfied: tornado>=6.2.0 in /usr/local/lib/python3.11/dist-packages (from notebook==7.0.2) (6.4.2)\n",
            "Collecting comm>=0.1.1 (from ipykernel==6.25.0)\n",
            "  Downloading comm-0.2.2-py3-none-any.whl.metadata (3.7 kB)\n",
            "Requirement already satisfied: debugpy>=1.6.5 in /usr/local/lib/python3.11/dist-packages (from ipykernel==6.25.0) (1.8.0)\n",
            "Requirement already satisfied: ipython>=7.23.1 in /usr/local/lib/python3.11/dist-packages (from ipykernel==6.25.0) (7.34.0)\n",
            "Requirement already satisfied: jupyter-client>=6.1.12 in /usr/local/lib/python3.11/dist-packages (from ipykernel==6.25.0) (6.1.12)\n",
            "Requirement already satisfied: jupyter-core!=5.0.*,>=4.12 in /usr/local/lib/python3.11/dist-packages (from ipykernel==6.25.0) (5.7.2)\n",
            "Requirement already satisfied: matplotlib-inline>=0.1 in /usr/local/lib/python3.11/dist-packages (from ipykernel==6.25.0) (0.1.7)\n",
            "Requirement already satisfied: nest-asyncio in /usr/local/lib/python3.11/dist-packages (from ipykernel==6.25.0) (1.6.0)\n",
            "Requirement already satisfied: psutil in /usr/local/lib/python3.11/dist-packages (from ipykernel==6.25.0) (5.9.5)\n",
            "Requirement already satisfied: pyzmq>=20 in /usr/local/lib/python3.11/dist-packages (from ipykernel==6.25.0) (24.0.1)\n",
            "Requirement already satisfied: traitlets>=5.4.0 in /usr/local/lib/python3.11/dist-packages (from ipykernel==6.25.0) (5.7.1)\n",
            "Requirement already satisfied: tqdm>=4.27.0 in /usr/local/lib/python3.11/dist-packages (from shap==0.42.1) (4.67.1)\n",
            "Collecting slicer==0.0.7 (from shap==0.42.1)\n",
            "  Downloading slicer-0.0.7-py3-none-any.whl.metadata (3.7 kB)\n",
            "Requirement already satisfied: numba in /usr/local/lib/python3.11/dist-packages (from shap==0.42.1) (0.60.0)\n",
            "Requirement already satisfied: cloudpickle in /usr/local/lib/python3.11/dist-packages (from shap==0.42.1) (3.1.1)\n",
            "Requirement already satisfied: statsmodels>=0.9.0 in /usr/local/lib/python3.11/dist-packages (from category-encoders==2.6.1) (0.14.4)\n",
            "Requirement already satisfied: patsy>=0.5.1 in /usr/local/lib/python3.11/dist-packages (from category-encoders==2.6.1) (1.0.1)\n",
            "Collecting alembic>=1.5.0 (from optuna==3.3.0)\n",
            "  Downloading alembic-1.15.2-py3-none-any.whl.metadata (7.3 kB)\n",
            "Collecting cmaes>=0.10.0 (from optuna==3.3.0)\n",
            "  Downloading cmaes-0.11.1-py3-none-any.whl.metadata (18 kB)\n",
            "Collecting colorlog (from optuna==3.3.0)\n",
            "  Downloading colorlog-6.9.0-py3-none-any.whl.metadata (10 kB)\n",
            "Requirement already satisfied: sqlalchemy>=1.3.0 in /usr/local/lib/python3.11/dist-packages (from optuna==3.3.0) (2.0.40)\n",
            "Requirement already satisfied: PyYAML in /usr/local/lib/python3.11/dist-packages (from optuna==3.3.0) (6.0.2)\n",
            "Collecting widgetsnbextension~=4.0.7 (from ipywidgets==8.1.0)\n",
            "  Downloading widgetsnbextension-4.0.14-py3-none-any.whl.metadata (1.6 kB)\n",
            "Requirement already satisfied: jupyterlab-widgets~=3.0.7 in /usr/local/lib/python3.11/dist-packages (from ipywidgets==8.1.0) (3.0.14)\n",
            "Requirement already satisfied: tenacity>=6.2.0 in /usr/local/lib/python3.11/dist-packages (from plotly==5.14.1) (9.1.2)\n",
            "Requirement already satisfied: Mako in /usr/lib/python3/dist-packages (from alembic>=1.5.0->optuna==3.3.0) (1.1.3)\n",
            "Requirement already satisfied: typing-extensions>=4.12 in /usr/local/lib/python3.11/dist-packages (from alembic>=1.5.0->optuna==3.3.0) (4.13.2)\n",
            "Collecting jedi>=0.16 (from ipython>=7.23.1->ipykernel==6.25.0)\n",
            "  Downloading jedi-0.19.2-py2.py3-none-any.whl.metadata (22 kB)\n",
            "Requirement already satisfied: decorator in /usr/local/lib/python3.11/dist-packages (from ipython>=7.23.1->ipykernel==6.25.0) (4.4.2)\n",
            "Requirement already satisfied: pickleshare in /usr/local/lib/python3.11/dist-packages (from ipython>=7.23.1->ipykernel==6.25.0) (0.7.5)\n",
            "Requirement already satisfied: prompt-toolkit!=3.0.0,!=3.0.1,<3.1.0,>=2.0.0 in /usr/local/lib/python3.11/dist-packages (from ipython>=7.23.1->ipykernel==6.25.0) (3.0.51)\n",
            "Requirement already satisfied: pygments in /usr/local/lib/python3.11/dist-packages (from ipython>=7.23.1->ipykernel==6.25.0) (2.18.0)\n",
            "Requirement already satisfied: backcall in /usr/local/lib/python3.11/dist-packages (from ipython>=7.23.1->ipykernel==6.25.0) (0.2.0)\n",
            "Requirement already satisfied: pexpect>4.3 in /usr/local/lib/python3.11/dist-packages (from ipython>=7.23.1->ipykernel==6.25.0) (4.9.0)\n",
            "Requirement already satisfied: platformdirs>=2.5 in /usr/local/lib/python3.11/dist-packages (from jupyter-core!=5.0.*,>=4.12->ipykernel==6.25.0) (4.3.7)\n",
            "Requirement already satisfied: anyio>=3.1.0 in /usr/local/lib/python3.11/dist-packages (from jupyter-server<3,>=2.4.0->notebook==7.0.2) (4.9.0)\n",
            "Requirement already satisfied: argon2-cffi>=21.1 in /usr/local/lib/python3.11/dist-packages (from jupyter-server<3,>=2.4.0->notebook==7.0.2) (23.1.0)\n",
            "Requirement already satisfied: jinja2>=3.0.3 in /usr/local/lib/python3.11/dist-packages (from jupyter-server<3,>=2.4.0->notebook==7.0.2) (3.1.6)\n",
            "Collecting jupyter-client>=6.1.12 (from ipykernel==6.25.0)\n",
            "  Downloading jupyter_client-8.6.3-py3-none-any.whl.metadata (8.3 kB)\n",
            "Collecting jupyter-events>=0.11.0 (from jupyter-server<3,>=2.4.0->notebook==7.0.2)\n",
            "  Downloading jupyter_events-0.12.0-py3-none-any.whl.metadata (5.8 kB)\n",
            "Collecting jupyter-server-terminals>=0.4.4 (from jupyter-server<3,>=2.4.0->notebook==7.0.2)\n",
            "  Downloading jupyter_server_terminals-0.5.3-py3-none-any.whl.metadata (5.6 kB)\n",
            "Requirement already satisfied: nbconvert>=6.4.4 in /usr/local/lib/python3.11/dist-packages (from jupyter-server<3,>=2.4.0->notebook==7.0.2) (7.16.6)\n",
            "Requirement already satisfied: nbformat>=5.3.0 in /usr/local/lib/python3.11/dist-packages (from jupyter-server<3,>=2.4.0->notebook==7.0.2) (5.10.4)\n",
            "Collecting overrides>=5.0 (from jupyter-server<3,>=2.4.0->notebook==7.0.2)\n",
            "  Downloading overrides-7.7.0-py3-none-any.whl.metadata (5.8 kB)\n",
            "Requirement already satisfied: prometheus-client>=0.9 in /usr/local/lib/python3.11/dist-packages (from jupyter-server<3,>=2.4.0->notebook==7.0.2) (0.21.1)\n",
            "Requirement already satisfied: send2trash>=1.8.2 in /usr/local/lib/python3.11/dist-packages (from jupyter-server<3,>=2.4.0->notebook==7.0.2) (1.8.3)\n",
            "Requirement already satisfied: terminado>=0.8.3 in /usr/local/lib/python3.11/dist-packages (from jupyter-server<3,>=2.4.0->notebook==7.0.2) (0.18.1)\n",
            "Requirement already satisfied: websocket-client>=1.7 in /usr/local/lib/python3.11/dist-packages (from jupyter-server<3,>=2.4.0->notebook==7.0.2) (1.8.0)\n",
            "Collecting async-lru>=1.0.0 (from jupyterlab<5,>=4.0.2->notebook==7.0.2)\n",
            "  Downloading async_lru-2.0.5-py3-none-any.whl.metadata (4.5 kB)\n",
            "Requirement already satisfied: httpx>=0.25.0 in /usr/local/lib/python3.11/dist-packages (from jupyterlab<5,>=4.0.2->notebook==7.0.2) (0.28.1)\n",
            "Collecting jupyter-lsp>=2.0.0 (from jupyterlab<5,>=4.0.2->notebook==7.0.2)\n",
            "  Downloading jupyter_lsp-2.2.5-py3-none-any.whl.metadata (1.8 kB)\n",
            "Requirement already satisfied: babel>=2.10 in /usr/local/lib/python3.11/dist-packages (from jupyterlab-server<3,>=2.22.1->notebook==7.0.2) (2.17.0)\n",
            "Collecting json5>=0.9.0 (from jupyterlab-server<3,>=2.22.1->notebook==7.0.2)\n",
            "  Downloading json5-0.12.0-py3-none-any.whl.metadata (36 kB)\n",
            "Requirement already satisfied: jsonschema>=4.18.0 in /usr/local/lib/python3.11/dist-packages (from jupyterlab-server<3,>=2.22.1->notebook==7.0.2) (4.23.0)\n",
            "Requirement already satisfied: requests>=2.31 in /usr/local/lib/python3.11/dist-packages (from jupyterlab-server<3,>=2.22.1->notebook==7.0.2) (2.32.3)\n",
            "Requirement already satisfied: six>=1.5 in /usr/local/lib/python3.11/dist-packages (from python-dateutil>=2.8.2->pandas==2.0.3) (1.17.0)\n",
            "Requirement already satisfied: greenlet>=1 in /usr/local/lib/python3.11/dist-packages (from sqlalchemy>=1.3.0->optuna==3.3.0) (3.2.0)\n",
            "Requirement already satisfied: llvmlite<0.44,>=0.43.0dev0 in /usr/local/lib/python3.11/dist-packages (from numba->shap==0.42.1) (0.43.0)\n",
            "Requirement already satisfied: idna>=2.8 in /usr/local/lib/python3.11/dist-packages (from anyio>=3.1.0->jupyter-server<3,>=2.4.0->notebook==7.0.2) (3.10)\n",
            "Requirement already satisfied: sniffio>=1.1 in /usr/local/lib/python3.11/dist-packages (from anyio>=3.1.0->jupyter-server<3,>=2.4.0->notebook==7.0.2) (1.3.1)\n",
            "Requirement already satisfied: argon2-cffi-bindings in /usr/local/lib/python3.11/dist-packages (from argon2-cffi>=21.1->jupyter-server<3,>=2.4.0->notebook==7.0.2) (21.2.0)\n",
            "Requirement already satisfied: certifi in /usr/local/lib/python3.11/dist-packages (from httpx>=0.25.0->jupyterlab<5,>=4.0.2->notebook==7.0.2) (2025.1.31)\n",
            "Requirement already satisfied: httpcore==1.* in /usr/local/lib/python3.11/dist-packages (from httpx>=0.25.0->jupyterlab<5,>=4.0.2->notebook==7.0.2) (1.0.8)\n",
            "Requirement already satisfied: h11<0.15,>=0.13 in /usr/local/lib/python3.11/dist-packages (from httpcore==1.*->httpx>=0.25.0->jupyterlab<5,>=4.0.2->notebook==7.0.2) (0.14.0)\n",
            "Requirement already satisfied: parso<0.9.0,>=0.8.4 in /usr/local/lib/python3.11/dist-packages (from jedi>=0.16->ipython>=7.23.1->ipykernel==6.25.0) (0.8.4)\n",
            "Requirement already satisfied: MarkupSafe>=2.0 in /usr/local/lib/python3.11/dist-packages (from jinja2>=3.0.3->jupyter-server<3,>=2.4.0->notebook==7.0.2) (3.0.2)\n",
            "Requirement already satisfied: attrs>=22.2.0 in /usr/local/lib/python3.11/dist-packages (from jsonschema>=4.18.0->jupyterlab-server<3,>=2.22.1->notebook==7.0.2) (25.3.0)\n",
            "Requirement already satisfied: jsonschema-specifications>=2023.03.6 in /usr/local/lib/python3.11/dist-packages (from jsonschema>=4.18.0->jupyterlab-server<3,>=2.22.1->notebook==7.0.2) (2024.10.1)\n",
            "Requirement already satisfied: referencing>=0.28.4 in /usr/local/lib/python3.11/dist-packages (from jsonschema>=4.18.0->jupyterlab-server<3,>=2.22.1->notebook==7.0.2) (0.36.2)\n",
            "Requirement already satisfied: rpds-py>=0.7.1 in /usr/local/lib/python3.11/dist-packages (from jsonschema>=4.18.0->jupyterlab-server<3,>=2.22.1->notebook==7.0.2) (0.24.0)\n",
            "Collecting python-json-logger>=2.0.4 (from jupyter-events>=0.11.0->jupyter-server<3,>=2.4.0->notebook==7.0.2)\n",
            "  Downloading python_json_logger-3.3.0-py3-none-any.whl.metadata (4.0 kB)\n",
            "Collecting rfc3339-validator (from jupyter-events>=0.11.0->jupyter-server<3,>=2.4.0->notebook==7.0.2)\n",
            "  Downloading rfc3339_validator-0.1.4-py2.py3-none-any.whl.metadata (1.5 kB)\n",
            "Collecting rfc3986-validator>=0.1.1 (from jupyter-events>=0.11.0->jupyter-server<3,>=2.4.0->notebook==7.0.2)\n",
            "  Downloading rfc3986_validator-0.1.1-py2.py3-none-any.whl.metadata (1.7 kB)\n",
            "Requirement already satisfied: beautifulsoup4 in /usr/local/lib/python3.11/dist-packages (from nbconvert>=6.4.4->jupyter-server<3,>=2.4.0->notebook==7.0.2) (4.13.4)\n",
            "Requirement already satisfied: bleach!=5.0.0 in /usr/local/lib/python3.11/dist-packages (from bleach[css]!=5.0.0->nbconvert>=6.4.4->jupyter-server<3,>=2.4.0->notebook==7.0.2) (6.2.0)\n",
            "Requirement already satisfied: defusedxml in /usr/local/lib/python3.11/dist-packages (from nbconvert>=6.4.4->jupyter-server<3,>=2.4.0->notebook==7.0.2) (0.7.1)\n",
            "Requirement already satisfied: jupyterlab-pygments in /usr/local/lib/python3.11/dist-packages (from nbconvert>=6.4.4->jupyter-server<3,>=2.4.0->notebook==7.0.2) (0.3.0)\n",
            "Requirement already satisfied: mistune<4,>=2.0.3 in /usr/local/lib/python3.11/dist-packages (from nbconvert>=6.4.4->jupyter-server<3,>=2.4.0->notebook==7.0.2) (3.1.3)\n",
            "Requirement already satisfied: nbclient>=0.5.0 in /usr/local/lib/python3.11/dist-packages (from nbconvert>=6.4.4->jupyter-server<3,>=2.4.0->notebook==7.0.2) (0.10.2)\n",
            "Requirement already satisfied: pandocfilters>=1.4.1 in /usr/local/lib/python3.11/dist-packages (from nbconvert>=6.4.4->jupyter-server<3,>=2.4.0->notebook==7.0.2) (1.5.1)\n",
            "Requirement already satisfied: fastjsonschema>=2.15 in /usr/local/lib/python3.11/dist-packages (from nbformat>=5.3.0->jupyter-server<3,>=2.4.0->notebook==7.0.2) (2.21.1)\n",
            "Requirement already satisfied: ptyprocess>=0.5 in /usr/local/lib/python3.11/dist-packages (from pexpect>4.3->ipython>=7.23.1->ipykernel==6.25.0) (0.7.0)\n",
            "Requirement already satisfied: wcwidth in /usr/local/lib/python3.11/dist-packages (from prompt-toolkit!=3.0.0,!=3.0.1,<3.1.0,>=2.0.0->ipython>=7.23.1->ipykernel==6.25.0) (0.2.13)\n",
            "Requirement already satisfied: charset-normalizer<4,>=2 in /usr/local/lib/python3.11/dist-packages (from requests>=2.31->jupyterlab-server<3,>=2.22.1->notebook==7.0.2) (3.4.1)\n",
            "Requirement already satisfied: urllib3<3,>=1.21.1 in /usr/local/lib/python3.11/dist-packages (from requests>=2.31->jupyterlab-server<3,>=2.22.1->notebook==7.0.2) (2.3.0)\n",
            "Requirement already satisfied: webencodings in /usr/local/lib/python3.11/dist-packages (from bleach!=5.0.0->bleach[css]!=5.0.0->nbconvert>=6.4.4->jupyter-server<3,>=2.4.0->notebook==7.0.2) (0.5.1)\n",
            "Requirement already satisfied: tinycss2<1.5,>=1.1.0 in /usr/local/lib/python3.11/dist-packages (from bleach[css]!=5.0.0->nbconvert>=6.4.4->jupyter-server<3,>=2.4.0->notebook==7.0.2) (1.4.0)\n",
            "Collecting fqdn (from jsonschema[format-nongpl]>=4.18.0->jupyter-events>=0.11.0->jupyter-server<3,>=2.4.0->notebook==7.0.2)\n",
            "  Downloading fqdn-1.5.1-py3-none-any.whl.metadata (1.4 kB)\n",
            "Collecting isoduration (from jsonschema[format-nongpl]>=4.18.0->jupyter-events>=0.11.0->jupyter-server<3,>=2.4.0->notebook==7.0.2)\n",
            "  Downloading isoduration-20.11.0-py3-none-any.whl.metadata (5.7 kB)\n",
            "Requirement already satisfied: jsonpointer>1.13 in /usr/local/lib/python3.11/dist-packages (from jsonschema[format-nongpl]>=4.18.0->jupyter-events>=0.11.0->jupyter-server<3,>=2.4.0->notebook==7.0.2) (3.0.0)\n",
            "Collecting uri-template (from jsonschema[format-nongpl]>=4.18.0->jupyter-events>=0.11.0->jupyter-server<3,>=2.4.0->notebook==7.0.2)\n",
            "  Downloading uri_template-1.3.0-py3-none-any.whl.metadata (8.8 kB)\n",
            "Requirement already satisfied: webcolors>=24.6.0 in /usr/local/lib/python3.11/dist-packages (from jsonschema[format-nongpl]>=4.18.0->jupyter-events>=0.11.0->jupyter-server<3,>=2.4.0->notebook==7.0.2) (24.11.1)\n",
            "Requirement already satisfied: cffi>=1.0.1 in /usr/local/lib/python3.11/dist-packages (from argon2-cffi-bindings->argon2-cffi>=21.1->jupyter-server<3,>=2.4.0->notebook==7.0.2) (1.17.1)\n",
            "Requirement already satisfied: soupsieve>1.2 in /usr/local/lib/python3.11/dist-packages (from beautifulsoup4->nbconvert>=6.4.4->jupyter-server<3,>=2.4.0->notebook==7.0.2) (2.6)\n",
            "Requirement already satisfied: pycparser in /usr/local/lib/python3.11/dist-packages (from cffi>=1.0.1->argon2-cffi-bindings->argon2-cffi>=21.1->jupyter-server<3,>=2.4.0->notebook==7.0.2) (2.22)\n",
            "Collecting arrow>=0.15.0 (from isoduration->jsonschema[format-nongpl]>=4.18.0->jupyter-events>=0.11.0->jupyter-server<3,>=2.4.0->notebook==7.0.2)\n",
            "  Downloading arrow-1.3.0-py3-none-any.whl.metadata (7.5 kB)\n",
            "Collecting types-python-dateutil>=2.8.10 (from arrow>=0.15.0->isoduration->jsonschema[format-nongpl]>=4.18.0->jupyter-events>=0.11.0->jupyter-server<3,>=2.4.0->notebook==7.0.2)\n",
            "  Downloading types_python_dateutil-2.9.0.20241206-py3-none-any.whl.metadata (2.1 kB)\n",
            "\u001b[33mWARNING: The candidate selected for download or install is a yanked version: 'polars' candidate (version 0.20.29 at https://files.pythonhosted.org/packages/9e/68/1f3ded4d9d2339dfe5dd5213e1f37263985b631ff87702c17bb423e2724c/polars-0.20.29-cp38-abi3-manylinux_2_17_x86_64.manylinux2014_x86_64.whl (from https://pypi.org/simple/polars/) (requires-python:>=3.8))\n",
            "Reason for being yanked: <none given>\u001b[0m\u001b[33m\n",
            "\u001b[0mDownloading scikit_learn-1.3.0-cp311-cp311-manylinux_2_17_x86_64.manylinux2014_x86_64.whl (10.9 MB)\n",
            "\u001b[2K   \u001b[90m━━━━━━━━━━━━━━━━━━━━━━━━━━━━━━━━━━━━━━━━\u001b[0m \u001b[32m10.9/10.9 MB\u001b[0m \u001b[31m70.0 MB/s\u001b[0m eta \u001b[36m0:00:00\u001b[0m\n",
            "\u001b[?25hDownloading numpy-1.24.4-cp311-cp311-manylinux_2_17_x86_64.manylinux2014_x86_64.whl (17.3 MB)\n",
            "\u001b[2K   \u001b[90m━━━━━━━━━━━━━━━━━━━━━━━━━━━━━━━━━━━━━━━━\u001b[0m \u001b[32m17.3/17.3 MB\u001b[0m \u001b[31m69.3 MB/s\u001b[0m eta \u001b[36m0:00:00\u001b[0m\n",
            "\u001b[?25hDownloading pandas-2.0.3-cp311-cp311-manylinux_2_17_x86_64.manylinux2014_x86_64.whl (12.2 MB)\n",
            "\u001b[2K   \u001b[90m━━━━━━━━━━━━━━━━━━━━━━━━━━━━━━━━━━━━━━━━\u001b[0m \u001b[32m12.2/12.2 MB\u001b[0m \u001b[31m49.4 MB/s\u001b[0m eta \u001b[36m0:00:00\u001b[0m\n",
            "\u001b[?25hDownloading matplotlib-3.7.2-cp311-cp311-manylinux_2_17_x86_64.manylinux2014_x86_64.whl (11.6 MB)\n",
            "\u001b[2K   \u001b[90m━━━━━━━━━━━━━━━━━━━━━━━━━━━━━━━━━━━━━━━━\u001b[0m \u001b[32m11.6/11.6 MB\u001b[0m \u001b[31m89.8 MB/s\u001b[0m eta \u001b[36m0:00:00\u001b[0m\n",
            "\u001b[?25hDownloading mlxtend-0.22.0-py2.py3-none-any.whl (1.4 MB)\n",
            "\u001b[2K   \u001b[90m━━━━━━━━━━━━━━━━━━━━━━━━━━━━━━━━━━━━━━━━\u001b[0m \u001b[32m1.4/1.4 MB\u001b[0m \u001b[31m42.5 MB/s\u001b[0m eta \u001b[36m0:00:00\u001b[0m\n",
            "\u001b[?25hDownloading graphviz-0.20.1-py3-none-any.whl (47 kB)\n",
            "\u001b[2K   \u001b[90m━━━━━━━━━━━━━━━━━━━━━━━━━━━━━━━━━━━━━━━━\u001b[0m \u001b[32m47.0/47.0 kB\u001b[0m \u001b[31m4.0 MB/s\u001b[0m eta \u001b[36m0:00:00\u001b[0m\n",
            "\u001b[?25hDownloading mglearn-0.2.0-py2.py3-none-any.whl (581 kB)\n",
            "\u001b[2K   \u001b[90m━━━━━━━━━━━━━━━━━━━━━━━━━━━━━━━━━━━━━━━━\u001b[0m \u001b[32m581.4/581.4 kB\u001b[0m \u001b[31m19.8 MB/s\u001b[0m eta \u001b[36m0:00:00\u001b[0m\n",
            "\u001b[?25hDownloading notebook-7.0.2-py3-none-any.whl (4.0 MB)\n",
            "\u001b[2K   \u001b[90m━━━━━━━━━━━━━━━━━━━━━━━━━━━━━━━━━━━━━━━━\u001b[0m \u001b[32m4.0/4.0 MB\u001b[0m \u001b[31m62.2 MB/s\u001b[0m eta \u001b[36m0:00:00\u001b[0m\n",
            "\u001b[?25hDownloading ipykernel-6.25.0-py3-none-any.whl (153 kB)\n",
            "\u001b[2K   \u001b[90m━━━━━━━━━━━━━━━━━━━━━━━━━━━━━━━━━━━━━━━━\u001b[0m \u001b[32m153.9/153.9 kB\u001b[0m \u001b[31m13.3 MB/s\u001b[0m eta \u001b[36m0:00:00\u001b[0m\n",
            "\u001b[?25hDownloading shap-0.42.1-cp311-cp311-manylinux_2_12_x86_64.manylinux2010_x86_64.manylinux_2_17_x86_64.manylinux2014_x86_64.whl (547 kB)\n",
            "\u001b[2K   \u001b[90m━━━━━━━━━━━━━━━━━━━━━━━━━━━━━━━━━━━━━━━━\u001b[0m \u001b[32m548.0/548.0 kB\u001b[0m \u001b[31m35.9 MB/s\u001b[0m eta \u001b[36m0:00:00\u001b[0m\n",
            "\u001b[?25hDownloading category_encoders-2.6.1-py2.py3-none-any.whl (81 kB)\n",
            "\u001b[2K   \u001b[90m━━━━━━━━━━━━━━━━━━━━━━━━━━━━━━━━━━━━━━━━\u001b[0m \u001b[32m81.9/81.9 kB\u001b[0m \u001b[31m7.7 MB/s\u001b[0m eta \u001b[36m0:00:00\u001b[0m\n",
            "\u001b[?25hDownloading seaborn-0.12.2-py3-none-any.whl (293 kB)\n",
            "\u001b[2K   \u001b[90m━━━━━━━━━━━━━━━━━━━━━━━━━━━━━━━━━━━━━━━━\u001b[0m \u001b[32m293.3/293.3 kB\u001b[0m \u001b[31m21.7 MB/s\u001b[0m eta \u001b[36m0:00:00\u001b[0m\n",
            "\u001b[?25hDownloading optuna-3.3.0-py3-none-any.whl (404 kB)\n",
            "\u001b[2K   \u001b[90m━━━━━━━━━━━━━━━━━━━━━━━━━━━━━━━━━━━━━━━━\u001b[0m \u001b[32m404.2/404.2 kB\u001b[0m \u001b[31m33.0 MB/s\u001b[0m eta \u001b[36m0:00:00\u001b[0m\n",
            "\u001b[?25hDownloading ipywidgets-8.1.0-py3-none-any.whl (139 kB)\n",
            "\u001b[2K   \u001b[90m━━━━━━━━━━━━━━━━━━━━━━━━━━━━━━━━━━━━━━━━\u001b[0m \u001b[32m139.3/139.3 kB\u001b[0m \u001b[31m12.4 MB/s\u001b[0m eta \u001b[36m0:00:00\u001b[0m\n",
            "\u001b[?25hDownloading xgboost-2.0.3-py3-none-manylinux2014_x86_64.whl (297.1 MB)\n",
            "\u001b[2K   \u001b[90m━━━━━━━━━━━━━━━━━━━━━━━━━━━━━━━━━━━━━━━━\u001b[0m \u001b[32m297.1/297.1 MB\u001b[0m \u001b[31m4.9 MB/s\u001b[0m eta \u001b[36m0:00:00\u001b[0m\n",
            "\u001b[?25hDownloading plotly-5.14.1-py2.py3-none-any.whl (15.3 MB)\n",
            "\u001b[2K   \u001b[90m━━━━━━━━━━━━━━━━━━━━━━━━━━━━━━━━━━━━━━━━\u001b[0m \u001b[32m15.3/15.3 MB\u001b[0m \u001b[31m59.3 MB/s\u001b[0m eta \u001b[36m0:00:00\u001b[0m\n",
            "\u001b[?25hDownloading pyarrow-16.1.0-cp311-cp311-manylinux_2_28_x86_64.whl (40.8 MB)\n",
            "\u001b[2K   \u001b[90m━━━━━━━━━━━━━━━━━━━━━━━━━━━━━━━━━━━━━━━━\u001b[0m \u001b[32m40.8/40.8 MB\u001b[0m \u001b[31m19.5 MB/s\u001b[0m eta \u001b[36m0:00:00\u001b[0m\n",
            "\u001b[?25hDownloading polars-0.20.29-cp38-abi3-manylinux_2_17_x86_64.manylinux2014_x86_64.whl (28.2 MB)\n",
            "\u001b[2K   \u001b[90m━━━━━━━━━━━━━━━━━━━━━━━━━━━━━━━━━━━━━━━━\u001b[0m \u001b[32m28.2/28.2 MB\u001b[0m \u001b[31m56.7 MB/s\u001b[0m eta \u001b[36m0:00:00\u001b[0m\n",
            "\u001b[?25hDownloading slicer-0.0.7-py3-none-any.whl (14 kB)\n",
            "Downloading alembic-1.15.2-py3-none-any.whl (231 kB)\n",
            "\u001b[2K   \u001b[90m━━━━━━━━━━━━━━━━━━━━━━━━━━━━━━━━━━━━━━━━\u001b[0m \u001b[32m231.9/231.9 kB\u001b[0m \u001b[31m20.0 MB/s\u001b[0m eta \u001b[36m0:00:00\u001b[0m\n",
            "\u001b[?25hDownloading cmaes-0.11.1-py3-none-any.whl (35 kB)\n",
            "Downloading comm-0.2.2-py3-none-any.whl (7.2 kB)\n",
            "Downloading jupyter_server-2.15.0-py3-none-any.whl (385 kB)\n",
            "\u001b[2K   \u001b[90m━━━━━━━━━━━━━━━━━━━━━━━━━━━━━━━━━━━━━━━━\u001b[0m \u001b[32m385.8/385.8 kB\u001b[0m \u001b[31m29.9 MB/s\u001b[0m eta \u001b[36m0:00:00\u001b[0m\n",
            "\u001b[?25hDownloading jupyter_client-8.6.3-py3-none-any.whl (106 kB)\n",
            "\u001b[2K   \u001b[90m━━━━━━━━━━━━━━━━━━━━━━━━━━━━━━━━━━━━━━━━\u001b[0m \u001b[32m106.1/106.1 kB\u001b[0m \u001b[31m10.2 MB/s\u001b[0m eta \u001b[36m0:00:00\u001b[0m\n",
            "\u001b[?25hDownloading jupyterlab-4.4.1-py3-none-any.whl (12.3 MB)\n",
            "\u001b[2K   \u001b[90m━━━━━━━━━━━━━━━━━━━━━━━━━━━━━━━━━━━━━━━━\u001b[0m \u001b[32m12.3/12.3 MB\u001b[0m \u001b[31m77.3 MB/s\u001b[0m eta \u001b[36m0:00:00\u001b[0m\n",
            "\u001b[?25hDownloading jupyterlab_server-2.27.3-py3-none-any.whl (59 kB)\n",
            "\u001b[2K   \u001b[90m━━━━━━━━━━━━━━━━━━━━━━━━━━━━━━━━━━━━━━━━\u001b[0m \u001b[32m59.7/59.7 kB\u001b[0m \u001b[31m5.2 MB/s\u001b[0m eta \u001b[36m0:00:00\u001b[0m\n",
            "\u001b[?25hDownloading pyparsing-3.0.9-py3-none-any.whl (98 kB)\n",
            "\u001b[2K   \u001b[90m━━━━━━━━━━━━━━━━━━━━━━━━━━━━━━━━━━━━━━━━\u001b[0m \u001b[32m98.3/98.3 kB\u001b[0m \u001b[31m9.9 MB/s\u001b[0m eta \u001b[36m0:00:00\u001b[0m\n",
            "\u001b[?25hDownloading widgetsnbextension-4.0.14-py3-none-any.whl (2.2 MB)\n",
            "\u001b[2K   \u001b[90m━━━━━━━━━━━━━━━━━━━━━━━━━━━━━━━━━━━━━━━━\u001b[0m \u001b[32m2.2/2.2 MB\u001b[0m \u001b[31m82.8 MB/s\u001b[0m eta \u001b[36m0:00:00\u001b[0m\n",
            "\u001b[?25hDownloading colorlog-6.9.0-py3-none-any.whl (11 kB)\n",
            "Downloading async_lru-2.0.5-py3-none-any.whl (6.1 kB)\n",
            "Downloading jedi-0.19.2-py2.py3-none-any.whl (1.6 MB)\n",
            "\u001b[2K   \u001b[90m━━━━━━━━━━━━━━━━━━━━━━━━━━━━━━━━━━━━━━━━\u001b[0m \u001b[32m1.6/1.6 MB\u001b[0m \u001b[31m73.7 MB/s\u001b[0m eta \u001b[36m0:00:00\u001b[0m\n",
            "\u001b[?25hDownloading json5-0.12.0-py3-none-any.whl (36 kB)\n",
            "Downloading jupyter_events-0.12.0-py3-none-any.whl (19 kB)\n",
            "Downloading jupyter_lsp-2.2.5-py3-none-any.whl (69 kB)\n",
            "\u001b[2K   \u001b[90m━━━━━━━━━━━━━━━━━━━━━━━━━━━━━━━━━━━━━━━━\u001b[0m \u001b[32m69.1/69.1 kB\u001b[0m \u001b[31m6.0 MB/s\u001b[0m eta \u001b[36m0:00:00\u001b[0m\n",
            "\u001b[?25hDownloading jupyter_server_terminals-0.5.3-py3-none-any.whl (13 kB)\n",
            "Downloading overrides-7.7.0-py3-none-any.whl (17 kB)\n",
            "Downloading python_json_logger-3.3.0-py3-none-any.whl (15 kB)\n",
            "Downloading rfc3986_validator-0.1.1-py2.py3-none-any.whl (4.2 kB)\n",
            "Downloading rfc3339_validator-0.1.4-py2.py3-none-any.whl (3.5 kB)\n",
            "Downloading fqdn-1.5.1-py3-none-any.whl (9.1 kB)\n",
            "Downloading isoduration-20.11.0-py3-none-any.whl (11 kB)\n",
            "Downloading uri_template-1.3.0-py3-none-any.whl (11 kB)\n",
            "Downloading arrow-1.3.0-py3-none-any.whl (66 kB)\n",
            "\u001b[2K   \u001b[90m━━━━━━━━━━━━━━━━━━━━━━━━━━━━━━━━━━━━━━━━\u001b[0m \u001b[32m66.4/66.4 kB\u001b[0m \u001b[31m5.8 MB/s\u001b[0m eta \u001b[36m0:00:00\u001b[0m\n",
            "\u001b[?25hDownloading types_python_dateutil-2.9.0.20241206-py3-none-any.whl (14 kB)\n",
            "Building wheels for collected packages: future\n",
            "  Building wheel for future (setup.py) ... \u001b[?25l\u001b[?25hdone\n",
            "  Created wheel for future: filename=future-0.18.3-py3-none-any.whl size=492025 sha256=cc8be9a92eb7496d55ce05f210ebd7ff6cc2a355b475db282f187f98e372ec6b\n",
            "  Stored in directory: /root/.cache/pip/wheels/da/19/ca/9d8c44cd311a955509d7e13da3f0bea42400c469ef825b580b\n",
            "Successfully built future\n",
            "Installing collected packages: widgetsnbextension, uri-template, types-python-dateutil, slicer, rfc3986-validator, rfc3339-validator, python-json-logger, pyparsing, polars, plotly, overrides, numpy, json5, jedi, graphviz, future, fqdn, comm, colorlog, async-lru, pyarrow, pandas, jupyter-server-terminals, jupyter-client, cmaes, arrow, alembic, xgboost, scikit-learn, optuna, matplotlib, isoduration, ipywidgets, ipykernel, shap, seaborn, mlxtend, mglearn, category-encoders, jupyter-events, jupyter-server, jupyterlab-server, jupyter-lsp, jupyterlab, notebook\n",
            "  Attempting uninstall: widgetsnbextension\n",
            "    Found existing installation: widgetsnbextension 3.6.10\n",
            "    Uninstalling widgetsnbextension-3.6.10:\n",
            "      Successfully uninstalled widgetsnbextension-3.6.10\n",
            "  Attempting uninstall: slicer\n",
            "    Found existing installation: slicer 0.0.8\n",
            "    Uninstalling slicer-0.0.8:\n",
            "      Successfully uninstalled slicer-0.0.8\n",
            "  Attempting uninstall: pyparsing\n",
            "    Found existing installation: pyparsing 3.2.3\n",
            "    Uninstalling pyparsing-3.2.3:\n",
            "      Successfully uninstalled pyparsing-3.2.3\n",
            "  Attempting uninstall: polars\n",
            "    Found existing installation: polars 1.21.0\n",
            "    Uninstalling polars-1.21.0:\n",
            "      Successfully uninstalled polars-1.21.0\n",
            "  Attempting uninstall: plotly\n",
            "    Found existing installation: plotly 5.24.1\n",
            "    Uninstalling plotly-5.24.1:\n",
            "      Successfully uninstalled plotly-5.24.1\n",
            "  Attempting uninstall: numpy\n",
            "    Found existing installation: numpy 2.0.2\n",
            "    Uninstalling numpy-2.0.2:\n",
            "      Successfully uninstalled numpy-2.0.2\n",
            "  Attempting uninstall: graphviz\n",
            "    Found existing installation: graphviz 0.20.3\n",
            "    Uninstalling graphviz-0.20.3:\n",
            "      Successfully uninstalled graphviz-0.20.3\n",
            "  Attempting uninstall: future\n",
            "    Found existing installation: future 1.0.0\n",
            "    Uninstalling future-1.0.0:\n",
            "      Successfully uninstalled future-1.0.0\n",
            "  Attempting uninstall: pyarrow\n",
            "    Found existing installation: pyarrow 18.1.0\n",
            "    Uninstalling pyarrow-18.1.0:\n",
            "      Successfully uninstalled pyarrow-18.1.0\n",
            "  Attempting uninstall: pandas\n",
            "    Found existing installation: pandas 2.2.2\n",
            "    Uninstalling pandas-2.2.2:\n",
            "      Successfully uninstalled pandas-2.2.2\n",
            "  Attempting uninstall: jupyter-client\n",
            "    Found existing installation: jupyter-client 6.1.12\n",
            "    Uninstalling jupyter-client-6.1.12:\n",
            "      Successfully uninstalled jupyter-client-6.1.12\n",
            "  Attempting uninstall: xgboost\n",
            "    Found existing installation: xgboost 2.1.4\n",
            "    Uninstalling xgboost-2.1.4:\n",
            "      Successfully uninstalled xgboost-2.1.4\n",
            "  Attempting uninstall: scikit-learn\n",
            "    Found existing installation: scikit-learn 1.6.1\n",
            "    Uninstalling scikit-learn-1.6.1:\n",
            "      Successfully uninstalled scikit-learn-1.6.1\n",
            "  Attempting uninstall: matplotlib\n",
            "    Found existing installation: matplotlib 3.10.0\n",
            "    Uninstalling matplotlib-3.10.0:\n",
            "      Successfully uninstalled matplotlib-3.10.0\n",
            "  Attempting uninstall: ipywidgets\n",
            "    Found existing installation: ipywidgets 7.7.1\n",
            "    Uninstalling ipywidgets-7.7.1:\n",
            "      Successfully uninstalled ipywidgets-7.7.1\n",
            "  Attempting uninstall: ipykernel\n",
            "    Found existing installation: ipykernel 6.17.1\n",
            "    Uninstalling ipykernel-6.17.1:\n",
            "      Successfully uninstalled ipykernel-6.17.1\n",
            "  Attempting uninstall: shap\n",
            "    Found existing installation: shap 0.47.1\n",
            "    Uninstalling shap-0.47.1:\n",
            "      Successfully uninstalled shap-0.47.1\n",
            "  Attempting uninstall: seaborn\n",
            "    Found existing installation: seaborn 0.13.2\n",
            "    Uninstalling seaborn-0.13.2:\n",
            "      Successfully uninstalled seaborn-0.13.2\n",
            "  Attempting uninstall: mlxtend\n",
            "    Found existing installation: mlxtend 0.23.4\n",
            "    Uninstalling mlxtend-0.23.4:\n",
            "      Successfully uninstalled mlxtend-0.23.4\n",
            "  Attempting uninstall: jupyter-server\n",
            "    Found existing installation: jupyter-server 1.16.0\n",
            "    Uninstalling jupyter-server-1.16.0:\n",
            "      Successfully uninstalled jupyter-server-1.16.0\n",
            "  Attempting uninstall: notebook\n",
            "    Found existing installation: notebook 6.5.7\n",
            "    Uninstalling notebook-6.5.7:\n",
            "      Successfully uninstalled notebook-6.5.7\n",
            "\u001b[31mERROR: pip's dependency resolver does not currently take into account all the packages that are installed. This behaviour is the source of the following dependency conflicts.\n",
            "google-colab 1.0.0 requires ipykernel==6.17.1, but you have ipykernel 6.25.0 which is incompatible.\n",
            "google-colab 1.0.0 requires notebook==6.5.7, but you have notebook 7.0.2 which is incompatible.\n",
            "google-colab 1.0.0 requires pandas==2.2.2, but you have pandas 2.0.3 which is incompatible.\n",
            "thinc 8.3.6 requires numpy<3.0.0,>=2.0.0, but you have numpy 1.24.4 which is incompatible.\n",
            "cudf-polars-cu12 25.2.2 requires polars<1.22,>=1.20, but you have polars 0.20.29 which is incompatible.\n",
            "tensorflow 2.18.0 requires numpy<2.1.0,>=1.26.0, but you have numpy 1.24.4 which is incompatible.\n",
            "plotnine 0.14.5 requires matplotlib>=3.8.0, but you have matplotlib 3.7.2 which is incompatible.\n",
            "plotnine 0.14.5 requires pandas>=2.2.0, but you have pandas 2.0.3 which is incompatible.\n",
            "treescope 0.1.9 requires numpy>=1.25.2, but you have numpy 1.24.4 which is incompatible.\n",
            "blosc2 3.3.0 requires numpy>=1.26, but you have numpy 1.24.4 which is incompatible.\n",
            "imbalanced-learn 0.13.0 requires scikit-learn<2,>=1.3.2, but you have scikit-learn 1.3.0 which is incompatible.\n",
            "pymc 5.21.2 requires numpy>=1.25.0, but you have numpy 1.24.4 which is incompatible.\n",
            "xarray 2025.1.2 requires pandas>=2.1, but you have pandas 2.0.3 which is incompatible.\n",
            "jax 0.5.2 requires numpy>=1.25, but you have numpy 1.24.4 which is incompatible.\n",
            "jaxlib 0.5.1 requires numpy>=1.25, but you have numpy 1.24.4 which is incompatible.\n",
            "mizani 0.13.3 requires pandas>=2.2.0, but you have pandas 2.0.3 which is incompatible.\u001b[0m\u001b[31m\n",
            "\u001b[0mSuccessfully installed alembic-1.15.2 arrow-1.3.0 async-lru-2.0.5 category-encoders-2.6.1 cmaes-0.11.1 colorlog-6.9.0 comm-0.2.2 fqdn-1.5.1 future-0.18.3 graphviz-0.20.1 ipykernel-6.25.0 ipywidgets-8.1.0 isoduration-20.11.0 jedi-0.19.2 json5-0.12.0 jupyter-client-8.6.3 jupyter-events-0.12.0 jupyter-lsp-2.2.5 jupyter-server-2.15.0 jupyter-server-terminals-0.5.3 jupyterlab-4.4.1 jupyterlab-server-2.27.3 matplotlib-3.7.2 mglearn-0.2.0 mlxtend-0.22.0 notebook-7.0.2 numpy-1.24.4 optuna-3.3.0 overrides-7.7.0 pandas-2.0.3 plotly-5.14.1 polars-0.20.29 pyarrow-16.1.0 pyparsing-3.0.9 python-json-logger-3.3.0 rfc3339-validator-0.1.4 rfc3986-validator-0.1.1 scikit-learn-1.3.0 seaborn-0.12.2 shap-0.42.1 slicer-0.0.7 types-python-dateutil-2.9.0.20241206 uri-template-1.3.0 widgetsnbextension-4.0.14 xgboost-2.0.3\n"
          ]
        },
        {
          "output_type": "display_data",
          "data": {
            "application/vnd.colab-display-data+json": {
              "pip_warning": {
                "packages": [
                  "matplotlib",
                  "mpl_toolkits",
                  "numpy"
                ]
              },
              "id": "83891da51e074656ba5a313096cf266c"
            }
          },
          "metadata": {}
        }
      ]
    },
    {
      "cell_type": "code",
      "execution_count": 1,
      "id": "2964421e-7218-4299-a7f0-90863c70da5d",
      "metadata": {
        "id": "2964421e-7218-4299-a7f0-90863c70da5d"
      },
      "outputs": [],
      "source": [
        "import pandas as pd\n",
        "import numpy as np"
      ]
    },
    {
      "cell_type": "code",
      "execution_count": 61,
      "id": "f711bede-9327-4047-858f-284ce6128cb4",
      "metadata": {
        "id": "f711bede-9327-4047-858f-284ce6128cb4"
      },
      "outputs": [],
      "source": [
        "# Import Dataset\n",
        "X_train = pd.read_csv('SBA_loans_project_1(1).csv')"
      ]
    },
    {
      "cell_type": "code",
      "execution_count": 62,
      "id": "d27ca6ce-9159-4e1b-ad27-ca4645d608c4",
      "metadata": {
        "id": "d27ca6ce-9159-4e1b-ad27-ca4645d608c4"
      },
      "outputs": [],
      "source": [
        "X_train.drop('index',axis=1,inplace=True)"
      ]
    },
    {
      "cell_type": "code",
      "execution_count": 63,
      "id": "d3e68785-cc1e-4680-b0ba-09f342608d3e",
      "metadata": {
        "id": "d3e68785-cc1e-4680-b0ba-09f342608d3e"
      },
      "outputs": [],
      "source": [
        "def describe_more(df,normalize_ind=False, weight_column=None, skip_columns=[], dropna=True):\n",
        "    var = [] ; l = [] ; t = []; unq =[]; min_l = []; max_l = [];\n",
        "    assert isinstance(skip_columns, list), \"Argument skip_columns should be list\"\n",
        "    if weight_column is not None:\n",
        "        if weight_column not in list(df.columns):\n",
        "            raise AssertionError('weight_column is not a valid column name in the input X_trainFrame')\n",
        "\n",
        "    for x in df:\n",
        "        if x in skip_columns:\n",
        "            pass\n",
        "        else:\n",
        "            var.append( x )\n",
        "            uniq_counts = len(pd.value_counts(df[x],dropna=dropna))\n",
        "            uniq_counts = len(pd.value_counts(df[x], dropna=dropna)[pd.value_counts(df[x],dropna=dropna)>0])\n",
        "            l.append(uniq_counts)\n",
        "            t.append( df[ x ].dtypes )\n",
        "            min_l.append(df[x].apply(str).str.len().min())\n",
        "            max_l.append(df[x].apply(str).str.len().max())\n",
        "            if weight_column is not None and x not in skip_columns:\n",
        "                df2 = df.groupby(x).agg({weight_column: 'sum'}).sort_values(weight_column, ascending=False)\n",
        "                df2['authtrans_vts_cnt']=((df2[weight_column])/df2[weight_column].sum()).round(2)\n",
        "                unq.append(df2.head(n=100).to_dict()[weight_column])\n",
        "            else:\n",
        "                df_cat_d = df[x].value_counts(normalize=normalize_ind,dropna=dropna).round(decimals=2)\n",
        "                df_cat_d = df_cat_d[df_cat_d>0]\n",
        "                #unq.append(df[x].value_counts().iloc[0:100].to_dict())\n",
        "                unq.append(df_cat_d.iloc[0:200].to_dict())\n",
        "\n",
        "\n",
        "    levels = pd.DataFrame( { 'A_Variable' : var , 'Levels' : l , 'X_traintype' : t ,\n",
        "                             'Min Length' : min_l,\n",
        "                             'Max Length': max_l,\n",
        "                             'Level_Values' : unq} )\n",
        "    #levels.sort_values( by = 'Levels' , inplace = True )\n",
        "    return levels"
      ]
    },
    {
      "cell_type": "code",
      "execution_count": 64,
      "id": "b60c2e6a-dbb0-4331-bb5d-a3d474b25a60",
      "metadata": {
        "id": "b60c2e6a-dbb0-4331-bb5d-a3d474b25a60"
      },
      "outputs": [],
      "source": [
        "x=describe_more(X_train)"
      ]
    },
    {
      "cell_type": "code",
      "execution_count": 65,
      "id": "44551720-2a85-474f-a547-a45f728ebe21",
      "metadata": {
        "colab": {
          "base_uri": "https://localhost:8080/",
          "height": 645
        },
        "id": "44551720-2a85-474f-a547-a45f728ebe21",
        "outputId": "2a7f1cbe-7cf9-4302-aeb1-03e4c95348bf"
      },
      "outputs": [
        {
          "output_type": "execute_result",
          "data": {
            "text/plain": [
              "           A_Variable  Levels X_traintype  Min Length  Max Length  \\\n",
              "0                City   31255      object           1          30   \n",
              "1               State      51      object           2           3   \n",
              "2                 Zip   32701       int64           1           5   \n",
              "3                Bank    5714      object           3          30   \n",
              "4           BankState      56      object           2           3   \n",
              "5               NAICS    1306       int64           1           6   \n",
              "6               NoEmp     575       int64           1           4   \n",
              "7            NewExist       3     float64           3           3   \n",
              "8           CreateJob     234       int64           1           4   \n",
              "9         RetainedJob     346       int64           1           4   \n",
              "10      FranchiseCode    2671       int64           1           5   \n",
              "11         UrbanRural       3       int64           1           1   \n",
              "12          RevLineCr      17      object           1           3   \n",
              "13             LowDoc       8      object           1           3   \n",
              "14  DisbursementGross  110555     float64           3          10   \n",
              "15       BalanceGross      15     float64           3           8   \n",
              "16             GrAppv   20684     float64           5           9   \n",
              "17           SBA_Appv   35975     float64           5           9   \n",
              "18         MIS_Status       2       int64           1           1   \n",
              "\n",
              "                                         Level_Values  \n",
              "0   {'LOS ANGELES': 10455, 'HOUSTON': 9219, 'NEW Y...  \n",
              "1   {'CA': 117584, 'TX': 63509, 'NY': 51986, 'FL':...  \n",
              "2   {10001: 844, 90015: 837, 93401: 713, 90010: 67...  \n",
              "3   {'BANK OF AMERICA NATL ASSOC': 78252, 'WELLS F...  \n",
              "4   {'CA': 106232, 'NC': 71632, 'IL': 59212, 'OH':...  \n",
              "5   {0: 181851, 722110: 25180, 722211: 17563, 8111...  \n",
              "6   {1: 138723, 2: 124353, 3: 81715, 4: 66183, 5: ...  \n",
              "7                {1.0: 580543, 2.0: 227637, 0.0: 943}  \n",
              "8   {0: 566264, 1: 56862, 2: 52008, 3: 25933, 4: 1...  \n",
              "9   {0: 396441, 1: 79907, 2: 69176, 3: 44928, 4: 3...  \n",
              "10  {1: 574757, 0: 187906, 78760: 3038, 68020: 171...  \n",
              "11                   {1: 423444, 0: 290912, 2: 94891}  \n",
              "12  {'N': 378197, '0': 231994, 'Y': 181115, 'T': 1...  \n",
              "13  {'N': 704531, 'Y': 99333, '0': 1349, 'C': 662,...  \n",
              "14  {50000.0: 39492, 100000.0: 33002, 25000.0: 246...  \n",
              "15  {0.0: 809233, 996262.0: 1, 1760.0: 1, 827875.0...  \n",
              "16  {50000.0: 62594, 25000.0: 46060, 100000.0: 458...  \n",
              "17  {25000.0: 44748, 12500.0: 36045, 5000.0: 28041...  \n",
              "18                             {0: 667366, 1: 141881}  "
            ],
            "text/html": [
              "\n",
              "  <div id=\"df-dccd20e9-2f54-4960-b4c6-d87058ff5d2b\" class=\"colab-df-container\">\n",
              "    <div>\n",
              "<style scoped>\n",
              "    .dataframe tbody tr th:only-of-type {\n",
              "        vertical-align: middle;\n",
              "    }\n",
              "\n",
              "    .dataframe tbody tr th {\n",
              "        vertical-align: top;\n",
              "    }\n",
              "\n",
              "    .dataframe thead th {\n",
              "        text-align: right;\n",
              "    }\n",
              "</style>\n",
              "<table border=\"1\" class=\"dataframe\">\n",
              "  <thead>\n",
              "    <tr style=\"text-align: right;\">\n",
              "      <th></th>\n",
              "      <th>A_Variable</th>\n",
              "      <th>Levels</th>\n",
              "      <th>X_traintype</th>\n",
              "      <th>Min Length</th>\n",
              "      <th>Max Length</th>\n",
              "      <th>Level_Values</th>\n",
              "    </tr>\n",
              "  </thead>\n",
              "  <tbody>\n",
              "    <tr>\n",
              "      <th>0</th>\n",
              "      <td>City</td>\n",
              "      <td>31255</td>\n",
              "      <td>object</td>\n",
              "      <td>1</td>\n",
              "      <td>30</td>\n",
              "      <td>{'LOS ANGELES': 10455, 'HOUSTON': 9219, 'NEW Y...</td>\n",
              "    </tr>\n",
              "    <tr>\n",
              "      <th>1</th>\n",
              "      <td>State</td>\n",
              "      <td>51</td>\n",
              "      <td>object</td>\n",
              "      <td>2</td>\n",
              "      <td>3</td>\n",
              "      <td>{'CA': 117584, 'TX': 63509, 'NY': 51986, 'FL':...</td>\n",
              "    </tr>\n",
              "    <tr>\n",
              "      <th>2</th>\n",
              "      <td>Zip</td>\n",
              "      <td>32701</td>\n",
              "      <td>int64</td>\n",
              "      <td>1</td>\n",
              "      <td>5</td>\n",
              "      <td>{10001: 844, 90015: 837, 93401: 713, 90010: 67...</td>\n",
              "    </tr>\n",
              "    <tr>\n",
              "      <th>3</th>\n",
              "      <td>Bank</td>\n",
              "      <td>5714</td>\n",
              "      <td>object</td>\n",
              "      <td>3</td>\n",
              "      <td>30</td>\n",
              "      <td>{'BANK OF AMERICA NATL ASSOC': 78252, 'WELLS F...</td>\n",
              "    </tr>\n",
              "    <tr>\n",
              "      <th>4</th>\n",
              "      <td>BankState</td>\n",
              "      <td>56</td>\n",
              "      <td>object</td>\n",
              "      <td>2</td>\n",
              "      <td>3</td>\n",
              "      <td>{'CA': 106232, 'NC': 71632, 'IL': 59212, 'OH':...</td>\n",
              "    </tr>\n",
              "    <tr>\n",
              "      <th>5</th>\n",
              "      <td>NAICS</td>\n",
              "      <td>1306</td>\n",
              "      <td>int64</td>\n",
              "      <td>1</td>\n",
              "      <td>6</td>\n",
              "      <td>{0: 181851, 722110: 25180, 722211: 17563, 8111...</td>\n",
              "    </tr>\n",
              "    <tr>\n",
              "      <th>6</th>\n",
              "      <td>NoEmp</td>\n",
              "      <td>575</td>\n",
              "      <td>int64</td>\n",
              "      <td>1</td>\n",
              "      <td>4</td>\n",
              "      <td>{1: 138723, 2: 124353, 3: 81715, 4: 66183, 5: ...</td>\n",
              "    </tr>\n",
              "    <tr>\n",
              "      <th>7</th>\n",
              "      <td>NewExist</td>\n",
              "      <td>3</td>\n",
              "      <td>float64</td>\n",
              "      <td>3</td>\n",
              "      <td>3</td>\n",
              "      <td>{1.0: 580543, 2.0: 227637, 0.0: 943}</td>\n",
              "    </tr>\n",
              "    <tr>\n",
              "      <th>8</th>\n",
              "      <td>CreateJob</td>\n",
              "      <td>234</td>\n",
              "      <td>int64</td>\n",
              "      <td>1</td>\n",
              "      <td>4</td>\n",
              "      <td>{0: 566264, 1: 56862, 2: 52008, 3: 25933, 4: 1...</td>\n",
              "    </tr>\n",
              "    <tr>\n",
              "      <th>9</th>\n",
              "      <td>RetainedJob</td>\n",
              "      <td>346</td>\n",
              "      <td>int64</td>\n",
              "      <td>1</td>\n",
              "      <td>4</td>\n",
              "      <td>{0: 396441, 1: 79907, 2: 69176, 3: 44928, 4: 3...</td>\n",
              "    </tr>\n",
              "    <tr>\n",
              "      <th>10</th>\n",
              "      <td>FranchiseCode</td>\n",
              "      <td>2671</td>\n",
              "      <td>int64</td>\n",
              "      <td>1</td>\n",
              "      <td>5</td>\n",
              "      <td>{1: 574757, 0: 187906, 78760: 3038, 68020: 171...</td>\n",
              "    </tr>\n",
              "    <tr>\n",
              "      <th>11</th>\n",
              "      <td>UrbanRural</td>\n",
              "      <td>3</td>\n",
              "      <td>int64</td>\n",
              "      <td>1</td>\n",
              "      <td>1</td>\n",
              "      <td>{1: 423444, 0: 290912, 2: 94891}</td>\n",
              "    </tr>\n",
              "    <tr>\n",
              "      <th>12</th>\n",
              "      <td>RevLineCr</td>\n",
              "      <td>17</td>\n",
              "      <td>object</td>\n",
              "      <td>1</td>\n",
              "      <td>3</td>\n",
              "      <td>{'N': 378197, '0': 231994, 'Y': 181115, 'T': 1...</td>\n",
              "    </tr>\n",
              "    <tr>\n",
              "      <th>13</th>\n",
              "      <td>LowDoc</td>\n",
              "      <td>8</td>\n",
              "      <td>object</td>\n",
              "      <td>1</td>\n",
              "      <td>3</td>\n",
              "      <td>{'N': 704531, 'Y': 99333, '0': 1349, 'C': 662,...</td>\n",
              "    </tr>\n",
              "    <tr>\n",
              "      <th>14</th>\n",
              "      <td>DisbursementGross</td>\n",
              "      <td>110555</td>\n",
              "      <td>float64</td>\n",
              "      <td>3</td>\n",
              "      <td>10</td>\n",
              "      <td>{50000.0: 39492, 100000.0: 33002, 25000.0: 246...</td>\n",
              "    </tr>\n",
              "    <tr>\n",
              "      <th>15</th>\n",
              "      <td>BalanceGross</td>\n",
              "      <td>15</td>\n",
              "      <td>float64</td>\n",
              "      <td>3</td>\n",
              "      <td>8</td>\n",
              "      <td>{0.0: 809233, 996262.0: 1, 1760.0: 1, 827875.0...</td>\n",
              "    </tr>\n",
              "    <tr>\n",
              "      <th>16</th>\n",
              "      <td>GrAppv</td>\n",
              "      <td>20684</td>\n",
              "      <td>float64</td>\n",
              "      <td>5</td>\n",
              "      <td>9</td>\n",
              "      <td>{50000.0: 62594, 25000.0: 46060, 100000.0: 458...</td>\n",
              "    </tr>\n",
              "    <tr>\n",
              "      <th>17</th>\n",
              "      <td>SBA_Appv</td>\n",
              "      <td>35975</td>\n",
              "      <td>float64</td>\n",
              "      <td>5</td>\n",
              "      <td>9</td>\n",
              "      <td>{25000.0: 44748, 12500.0: 36045, 5000.0: 28041...</td>\n",
              "    </tr>\n",
              "    <tr>\n",
              "      <th>18</th>\n",
              "      <td>MIS_Status</td>\n",
              "      <td>2</td>\n",
              "      <td>int64</td>\n",
              "      <td>1</td>\n",
              "      <td>1</td>\n",
              "      <td>{0: 667366, 1: 141881}</td>\n",
              "    </tr>\n",
              "  </tbody>\n",
              "</table>\n",
              "</div>\n",
              "    <div class=\"colab-df-buttons\">\n",
              "\n",
              "  <div class=\"colab-df-container\">\n",
              "    <button class=\"colab-df-convert\" onclick=\"convertToInteractive('df-dccd20e9-2f54-4960-b4c6-d87058ff5d2b')\"\n",
              "            title=\"Convert this dataframe to an interactive table.\"\n",
              "            style=\"display:none;\">\n",
              "\n",
              "  <svg xmlns=\"http://www.w3.org/2000/svg\" height=\"24px\" viewBox=\"0 -960 960 960\">\n",
              "    <path d=\"M120-120v-720h720v720H120Zm60-500h600v-160H180v160Zm220 220h160v-160H400v160Zm0 220h160v-160H400v160ZM180-400h160v-160H180v160Zm440 0h160v-160H620v160ZM180-180h160v-160H180v160Zm440 0h160v-160H620v160Z\"/>\n",
              "  </svg>\n",
              "    </button>\n",
              "\n",
              "  <style>\n",
              "    .colab-df-container {\n",
              "      display:flex;\n",
              "      gap: 12px;\n",
              "    }\n",
              "\n",
              "    .colab-df-convert {\n",
              "      background-color: #E8F0FE;\n",
              "      border: none;\n",
              "      border-radius: 50%;\n",
              "      cursor: pointer;\n",
              "      display: none;\n",
              "      fill: #1967D2;\n",
              "      height: 32px;\n",
              "      padding: 0 0 0 0;\n",
              "      width: 32px;\n",
              "    }\n",
              "\n",
              "    .colab-df-convert:hover {\n",
              "      background-color: #E2EBFA;\n",
              "      box-shadow: 0px 1px 2px rgba(60, 64, 67, 0.3), 0px 1px 3px 1px rgba(60, 64, 67, 0.15);\n",
              "      fill: #174EA6;\n",
              "    }\n",
              "\n",
              "    .colab-df-buttons div {\n",
              "      margin-bottom: 4px;\n",
              "    }\n",
              "\n",
              "    [theme=dark] .colab-df-convert {\n",
              "      background-color: #3B4455;\n",
              "      fill: #D2E3FC;\n",
              "    }\n",
              "\n",
              "    [theme=dark] .colab-df-convert:hover {\n",
              "      background-color: #434B5C;\n",
              "      box-shadow: 0px 1px 3px 1px rgba(0, 0, 0, 0.15);\n",
              "      filter: drop-shadow(0px 1px 2px rgba(0, 0, 0, 0.3));\n",
              "      fill: #FFFFFF;\n",
              "    }\n",
              "  </style>\n",
              "\n",
              "    <script>\n",
              "      const buttonEl =\n",
              "        document.querySelector('#df-dccd20e9-2f54-4960-b4c6-d87058ff5d2b button.colab-df-convert');\n",
              "      buttonEl.style.display =\n",
              "        google.colab.kernel.accessAllowed ? 'block' : 'none';\n",
              "\n",
              "      async function convertToInteractive(key) {\n",
              "        const element = document.querySelector('#df-dccd20e9-2f54-4960-b4c6-d87058ff5d2b');\n",
              "        const dataTable =\n",
              "          await google.colab.kernel.invokeFunction('convertToInteractive',\n",
              "                                                    [key], {});\n",
              "        if (!dataTable) return;\n",
              "\n",
              "        const docLinkHtml = 'Like what you see? Visit the ' +\n",
              "          '<a target=\"_blank\" href=https://colab.research.google.com/notebooks/data_table.ipynb>data table notebook</a>'\n",
              "          + ' to learn more about interactive tables.';\n",
              "        element.innerHTML = '';\n",
              "        dataTable['output_type'] = 'display_data';\n",
              "        await google.colab.output.renderOutput(dataTable, element);\n",
              "        const docLink = document.createElement('div');\n",
              "        docLink.innerHTML = docLinkHtml;\n",
              "        element.appendChild(docLink);\n",
              "      }\n",
              "    </script>\n",
              "  </div>\n",
              "\n",
              "\n",
              "<div id=\"df-049e0f95-bcd2-48a4-882d-29043736fdd9\">\n",
              "  <button class=\"colab-df-quickchart\" onclick=\"quickchart('df-049e0f95-bcd2-48a4-882d-29043736fdd9')\"\n",
              "            title=\"Suggest charts\"\n",
              "            style=\"display:none;\">\n",
              "\n",
              "<svg xmlns=\"http://www.w3.org/2000/svg\" height=\"24px\"viewBox=\"0 0 24 24\"\n",
              "     width=\"24px\">\n",
              "    <g>\n",
              "        <path d=\"M19 3H5c-1.1 0-2 .9-2 2v14c0 1.1.9 2 2 2h14c1.1 0 2-.9 2-2V5c0-1.1-.9-2-2-2zM9 17H7v-7h2v7zm4 0h-2V7h2v10zm4 0h-2v-4h2v4z\"/>\n",
              "    </g>\n",
              "</svg>\n",
              "  </button>\n",
              "\n",
              "<style>\n",
              "  .colab-df-quickchart {\n",
              "      --bg-color: #E8F0FE;\n",
              "      --fill-color: #1967D2;\n",
              "      --hover-bg-color: #E2EBFA;\n",
              "      --hover-fill-color: #174EA6;\n",
              "      --disabled-fill-color: #AAA;\n",
              "      --disabled-bg-color: #DDD;\n",
              "  }\n",
              "\n",
              "  [theme=dark] .colab-df-quickchart {\n",
              "      --bg-color: #3B4455;\n",
              "      --fill-color: #D2E3FC;\n",
              "      --hover-bg-color: #434B5C;\n",
              "      --hover-fill-color: #FFFFFF;\n",
              "      --disabled-bg-color: #3B4455;\n",
              "      --disabled-fill-color: #666;\n",
              "  }\n",
              "\n",
              "  .colab-df-quickchart {\n",
              "    background-color: var(--bg-color);\n",
              "    border: none;\n",
              "    border-radius: 50%;\n",
              "    cursor: pointer;\n",
              "    display: none;\n",
              "    fill: var(--fill-color);\n",
              "    height: 32px;\n",
              "    padding: 0;\n",
              "    width: 32px;\n",
              "  }\n",
              "\n",
              "  .colab-df-quickchart:hover {\n",
              "    background-color: var(--hover-bg-color);\n",
              "    box-shadow: 0 1px 2px rgba(60, 64, 67, 0.3), 0 1px 3px 1px rgba(60, 64, 67, 0.15);\n",
              "    fill: var(--button-hover-fill-color);\n",
              "  }\n",
              "\n",
              "  .colab-df-quickchart-complete:disabled,\n",
              "  .colab-df-quickchart-complete:disabled:hover {\n",
              "    background-color: var(--disabled-bg-color);\n",
              "    fill: var(--disabled-fill-color);\n",
              "    box-shadow: none;\n",
              "  }\n",
              "\n",
              "  .colab-df-spinner {\n",
              "    border: 2px solid var(--fill-color);\n",
              "    border-color: transparent;\n",
              "    border-bottom-color: var(--fill-color);\n",
              "    animation:\n",
              "      spin 1s steps(1) infinite;\n",
              "  }\n",
              "\n",
              "  @keyframes spin {\n",
              "    0% {\n",
              "      border-color: transparent;\n",
              "      border-bottom-color: var(--fill-color);\n",
              "      border-left-color: var(--fill-color);\n",
              "    }\n",
              "    20% {\n",
              "      border-color: transparent;\n",
              "      border-left-color: var(--fill-color);\n",
              "      border-top-color: var(--fill-color);\n",
              "    }\n",
              "    30% {\n",
              "      border-color: transparent;\n",
              "      border-left-color: var(--fill-color);\n",
              "      border-top-color: var(--fill-color);\n",
              "      border-right-color: var(--fill-color);\n",
              "    }\n",
              "    40% {\n",
              "      border-color: transparent;\n",
              "      border-right-color: var(--fill-color);\n",
              "      border-top-color: var(--fill-color);\n",
              "    }\n",
              "    60% {\n",
              "      border-color: transparent;\n",
              "      border-right-color: var(--fill-color);\n",
              "    }\n",
              "    80% {\n",
              "      border-color: transparent;\n",
              "      border-right-color: var(--fill-color);\n",
              "      border-bottom-color: var(--fill-color);\n",
              "    }\n",
              "    90% {\n",
              "      border-color: transparent;\n",
              "      border-bottom-color: var(--fill-color);\n",
              "    }\n",
              "  }\n",
              "</style>\n",
              "\n",
              "  <script>\n",
              "    async function quickchart(key) {\n",
              "      const quickchartButtonEl =\n",
              "        document.querySelector('#' + key + ' button');\n",
              "      quickchartButtonEl.disabled = true;  // To prevent multiple clicks.\n",
              "      quickchartButtonEl.classList.add('colab-df-spinner');\n",
              "      try {\n",
              "        const charts = await google.colab.kernel.invokeFunction(\n",
              "            'suggestCharts', [key], {});\n",
              "      } catch (error) {\n",
              "        console.error('Error during call to suggestCharts:', error);\n",
              "      }\n",
              "      quickchartButtonEl.classList.remove('colab-df-spinner');\n",
              "      quickchartButtonEl.classList.add('colab-df-quickchart-complete');\n",
              "    }\n",
              "    (() => {\n",
              "      let quickchartButtonEl =\n",
              "        document.querySelector('#df-049e0f95-bcd2-48a4-882d-29043736fdd9 button');\n",
              "      quickchartButtonEl.style.display =\n",
              "        google.colab.kernel.accessAllowed ? 'block' : 'none';\n",
              "    })();\n",
              "  </script>\n",
              "</div>\n",
              "\n",
              "  <div id=\"id_3bdc73d6-90d3-411b-b2da-546f76e6765b\">\n",
              "    <style>\n",
              "      .colab-df-generate {\n",
              "        background-color: #E8F0FE;\n",
              "        border: none;\n",
              "        border-radius: 50%;\n",
              "        cursor: pointer;\n",
              "        display: none;\n",
              "        fill: #1967D2;\n",
              "        height: 32px;\n",
              "        padding: 0 0 0 0;\n",
              "        width: 32px;\n",
              "      }\n",
              "\n",
              "      .colab-df-generate:hover {\n",
              "        background-color: #E2EBFA;\n",
              "        box-shadow: 0px 1px 2px rgba(60, 64, 67, 0.3), 0px 1px 3px 1px rgba(60, 64, 67, 0.15);\n",
              "        fill: #174EA6;\n",
              "      }\n",
              "\n",
              "      [theme=dark] .colab-df-generate {\n",
              "        background-color: #3B4455;\n",
              "        fill: #D2E3FC;\n",
              "      }\n",
              "\n",
              "      [theme=dark] .colab-df-generate:hover {\n",
              "        background-color: #434B5C;\n",
              "        box-shadow: 0px 1px 3px 1px rgba(0, 0, 0, 0.15);\n",
              "        filter: drop-shadow(0px 1px 2px rgba(0, 0, 0, 0.3));\n",
              "        fill: #FFFFFF;\n",
              "      }\n",
              "    </style>\n",
              "    <button class=\"colab-df-generate\" onclick=\"generateWithVariable('x')\"\n",
              "            title=\"Generate code using this dataframe.\"\n",
              "            style=\"display:none;\">\n",
              "\n",
              "  <svg xmlns=\"http://www.w3.org/2000/svg\" height=\"24px\"viewBox=\"0 0 24 24\"\n",
              "       width=\"24px\">\n",
              "    <path d=\"M7,19H8.4L18.45,9,17,7.55,7,17.6ZM5,21V16.75L18.45,3.32a2,2,0,0,1,2.83,0l1.4,1.43a1.91,1.91,0,0,1,.58,1.4,1.91,1.91,0,0,1-.58,1.4L9.25,21ZM18.45,9,17,7.55Zm-12,3A5.31,5.31,0,0,0,4.9,8.1,5.31,5.31,0,0,0,1,6.5,5.31,5.31,0,0,0,4.9,4.9,5.31,5.31,0,0,0,6.5,1,5.31,5.31,0,0,0,8.1,4.9,5.31,5.31,0,0,0,12,6.5,5.46,5.46,0,0,0,6.5,12Z\"/>\n",
              "  </svg>\n",
              "    </button>\n",
              "    <script>\n",
              "      (() => {\n",
              "      const buttonEl =\n",
              "        document.querySelector('#id_3bdc73d6-90d3-411b-b2da-546f76e6765b button.colab-df-generate');\n",
              "      buttonEl.style.display =\n",
              "        google.colab.kernel.accessAllowed ? 'block' : 'none';\n",
              "\n",
              "      buttonEl.onclick = () => {\n",
              "        google.colab.notebook.generateWithVariable('x');\n",
              "      }\n",
              "      })();\n",
              "    </script>\n",
              "  </div>\n",
              "\n",
              "    </div>\n",
              "  </div>\n"
            ],
            "application/vnd.google.colaboratory.intrinsic+json": {
              "type": "dataframe",
              "variable_name": "x",
              "summary": "{\n  \"name\": \"x\",\n  \"rows\": 19,\n  \"fields\": [\n    {\n      \"column\": \"A_Variable\",\n      \"properties\": {\n        \"dtype\": \"string\",\n        \"num_unique_values\": 19,\n        \"samples\": [\n          \"City\",\n          \"NAICS\",\n          \"UrbanRural\"\n        ],\n        \"semantic_type\": \"\",\n        \"description\": \"\"\n      }\n    },\n    {\n      \"column\": \"Levels\",\n      \"properties\": {\n        \"dtype\": \"number\",\n        \"std\": 26818,\n        \"min\": 2,\n        \"max\": 110555,\n        \"num_unique_values\": 18,\n        \"samples\": [\n          31255,\n          51,\n          234\n        ],\n        \"semantic_type\": \"\",\n        \"description\": \"\"\n      }\n    },\n    {\n      \"column\": \"X_traintype\",\n      \"properties\": {\n        \"dtype\": \"category\",\n        \"num_unique_values\": 3,\n        \"samples\": [\n          \"object\",\n          \"int64\",\n          \"float64\"\n        ],\n        \"semantic_type\": \"\",\n        \"description\": \"\"\n      }\n    },\n    {\n      \"column\": \"Min Length\",\n      \"properties\": {\n        \"dtype\": \"number\",\n        \"std\": 1,\n        \"min\": 1,\n        \"max\": 5,\n        \"num_unique_values\": 4,\n        \"samples\": [\n          2,\n          5,\n          1\n        ],\n        \"semantic_type\": \"\",\n        \"description\": \"\"\n      }\n    },\n    {\n      \"column\": \"Max Length\",\n      \"properties\": {\n        \"dtype\": \"number\",\n        \"std\": 8,\n        \"min\": 1,\n        \"max\": 30,\n        \"num_unique_values\": 9,\n        \"samples\": [\n          8,\n          3,\n          1\n        ],\n        \"semantic_type\": \"\",\n        \"description\": \"\"\n      }\n    },\n    {\n      \"column\": \"Level_Values\",\n      \"properties\": {\n        \"dtype\": \"object\",\n        \"semantic_type\": \"\",\n        \"description\": \"\"\n      }\n    }\n  ]\n}"
            }
          },
          "metadata": {},
          "execution_count": 65
        }
      ],
      "source": [
        "x"
      ]
    },
    {
      "cell_type": "markdown",
      "id": "e76c51b3-b0d1-4f14-8753-df683d1524ca",
      "metadata": {
        "tags": [],
        "id": "e76c51b3-b0d1-4f14-8753-df683d1524ca"
      },
      "source": [
        "# Data Cleaning Step:"
      ]
    },
    {
      "cell_type": "markdown",
      "id": "62b5b7ba-3c4b-435c-b08d-2ed32f841fa3",
      "metadata": {
        "id": "62b5b7ba-3c4b-435c-b08d-2ed32f841fa3"
      },
      "source": [
        "1) The strategy of data cleaning is to identify extra characters in columns that may or may not have just 2 viables characters such as RevLineCr and LowDoc with 'Y' and 'N'\n",
        "2) we identify the context of the extra characters and replace them with Y and N respectively\n",
        "3) if the character has no contextual backing, we convert them to null values\n",
        "4) Final step involves identifying columns with null values and replacing them with imputed values in the corresponding column"
      ]
    },
    {
      "cell_type": "code",
      "execution_count": 66,
      "id": "083e0dc1-d381-43dc-b889-129fbc61d0d0",
      "metadata": {
        "id": "083e0dc1-d381-43dc-b889-129fbc61d0d0"
      },
      "outputs": [],
      "source": [
        "#replacing values in RevLineCr with Y and N\n",
        "X_train['RevLineCr']=X_train['RevLineCr'].replace('0','N')\n",
        "X_train['RevLineCr']=X_train['RevLineCr'].replace('1','Y')\n",
        "X_train['RevLineCr']=X_train['RevLineCr'].replace('T','Y')"
      ]
    },
    {
      "cell_type": "code",
      "execution_count": 67,
      "id": "b3a08d56-9039-47de-ba07-3ef9ef936936",
      "metadata": {
        "id": "b3a08d56-9039-47de-ba07-3ef9ef936936"
      },
      "outputs": [],
      "source": [
        "#replacing values in RevLineCr with null that have no context\n",
        "X_train['RevLineCr'] = X_train['RevLineCr'].apply(lambda x: x if x in ['Y', 'N'] else np.nan)\n",
        "\n",
        "\n",
        "X_train['RevLineCr'].fillna(X_train['RevLineCr'].mode()[0], inplace=True)"
      ]
    },
    {
      "cell_type": "code",
      "execution_count": 68,
      "id": "f97a129a-dc1e-4648-ad03-7954adf5efec",
      "metadata": {
        "id": "f97a129a-dc1e-4648-ad03-7954adf5efec"
      },
      "outputs": [],
      "source": [
        "#replacing values in LowDoc with Y and N\n",
        "X_train['LowDoc']=X_train['LowDoc'].replace('0','N')\n",
        "X_train['LowDoc']=X_train['LowDoc'].replace('S','Y')\n",
        "X_train['LowDoc']=X_train['LowDoc'].replace('A','N')"
      ]
    },
    {
      "cell_type": "code",
      "execution_count": 69,
      "id": "383e4b3f-a4d7-4307-8696-189dbca16fab",
      "metadata": {
        "id": "383e4b3f-a4d7-4307-8696-189dbca16fab"
      },
      "outputs": [],
      "source": [
        "#replacing values in LowDoc with null that have no context\n",
        "X_train['LowDoc'] = X_train['LowDoc'].apply(lambda x: x if x in ['Y', 'N'] else np.nan)\n",
        "\n",
        "\n",
        "X_train['LowDoc'].fillna(X_train['LowDoc'].mode()[0], inplace=True)\n"
      ]
    },
    {
      "cell_type": "code",
      "execution_count": 70,
      "id": "c5a32aba-9f19-49e4-af49-416dd2835e52",
      "metadata": {
        "id": "c5a32aba-9f19-49e4-af49-416dd2835e52"
      },
      "outputs": [],
      "source": [
        "# defining target variable\n",
        "y_train = X_train['MIS_Status']"
      ]
    },
    {
      "cell_type": "code",
      "execution_count": 71,
      "id": "4ad0c5d6-66ed-4719-8500-7038262ec099",
      "metadata": {
        "id": "4ad0c5d6-66ed-4719-8500-7038262ec099"
      },
      "outputs": [],
      "source": [
        "y_train=y_train.to_frame()"
      ]
    },
    {
      "cell_type": "code",
      "execution_count": 72,
      "id": "1e232ba4-723c-4c22-bd36-70f362ca2ee5",
      "metadata": {
        "id": "1e232ba4-723c-4c22-bd36-70f362ca2ee5"
      },
      "outputs": [],
      "source": [
        "X_train.drop('MIS_Status',axis=1,inplace=True)"
      ]
    },
    {
      "cell_type": "code",
      "execution_count": 73,
      "id": "91c10175-b62b-4d9e-bec3-00a5d439b262",
      "metadata": {
        "colab": {
          "base_uri": "https://localhost:8080/",
          "height": 614
        },
        "id": "91c10175-b62b-4d9e-bec3-00a5d439b262",
        "outputId": "84cc4174-4aeb-4eec-a153-d474da8ffd30"
      },
      "outputs": [
        {
          "output_type": "execute_result",
          "data": {
            "text/plain": [
              "           A_Variable  Levels X_traintype  Min Length  Max Length  \\\n",
              "0                City   31255      object           1          30   \n",
              "1               State      51      object           2           3   \n",
              "2                 Zip   32701       int64           1           5   \n",
              "3                Bank    5714      object           3          30   \n",
              "4           BankState      56      object           2           3   \n",
              "5               NAICS    1306       int64           1           6   \n",
              "6               NoEmp     575       int64           1           4   \n",
              "7            NewExist       3     float64           3           3   \n",
              "8           CreateJob     234       int64           1           4   \n",
              "9         RetainedJob     346       int64           1           4   \n",
              "10      FranchiseCode    2671       int64           1           5   \n",
              "11         UrbanRural       3       int64           1           1   \n",
              "12          RevLineCr       2      object           1           1   \n",
              "13             LowDoc       2      object           1           1   \n",
              "14  DisbursementGross  110555     float64           3          10   \n",
              "15       BalanceGross      15     float64           3           8   \n",
              "16             GrAppv   20684     float64           5           9   \n",
              "17           SBA_Appv   35975     float64           5           9   \n",
              "\n",
              "                                         Level_Values  \n",
              "0   {'LOS ANGELES': 10455, 'HOUSTON': 9219, 'NEW Y...  \n",
              "1   {'CA': 117584, 'TX': 63509, 'NY': 51986, 'FL':...  \n",
              "2   {10001: 844, 90015: 837, 93401: 713, 90010: 67...  \n",
              "3   {'BANK OF AMERICA NATL ASSOC': 78252, 'WELLS F...  \n",
              "4   {'CA': 106232, 'NC': 71632, 'IL': 59212, 'OH':...  \n",
              "5   {0: 181851, 722110: 25180, 722211: 17563, 8111...  \n",
              "6   {1: 138723, 2: 124353, 3: 81715, 4: 66183, 5: ...  \n",
              "7                {1.0: 580543, 2.0: 227637, 0.0: 943}  \n",
              "8   {0: 566264, 1: 56862, 2: 52008, 3: 25933, 4: 1...  \n",
              "9   {0: 396441, 1: 79907, 2: 69176, 3: 44928, 4: 3...  \n",
              "10  {1: 574757, 0: 187906, 78760: 3038, 68020: 171...  \n",
              "11                   {1: 423444, 0: 290912, 2: 94891}  \n",
              "12                         {'N': 614307, 'Y': 194940}  \n",
              "13                          {'N': 709376, 'Y': 99871}  \n",
              "14  {50000.0: 39492, 100000.0: 33002, 25000.0: 246...  \n",
              "15  {0.0: 809233, 996262.0: 1, 1760.0: 1, 827875.0...  \n",
              "16  {50000.0: 62594, 25000.0: 46060, 100000.0: 458...  \n",
              "17  {25000.0: 44748, 12500.0: 36045, 5000.0: 28041...  "
            ],
            "text/html": [
              "\n",
              "  <div id=\"df-41b7fd1d-8b30-4473-8c24-547770549397\" class=\"colab-df-container\">\n",
              "    <div>\n",
              "<style scoped>\n",
              "    .dataframe tbody tr th:only-of-type {\n",
              "        vertical-align: middle;\n",
              "    }\n",
              "\n",
              "    .dataframe tbody tr th {\n",
              "        vertical-align: top;\n",
              "    }\n",
              "\n",
              "    .dataframe thead th {\n",
              "        text-align: right;\n",
              "    }\n",
              "</style>\n",
              "<table border=\"1\" class=\"dataframe\">\n",
              "  <thead>\n",
              "    <tr style=\"text-align: right;\">\n",
              "      <th></th>\n",
              "      <th>A_Variable</th>\n",
              "      <th>Levels</th>\n",
              "      <th>X_traintype</th>\n",
              "      <th>Min Length</th>\n",
              "      <th>Max Length</th>\n",
              "      <th>Level_Values</th>\n",
              "    </tr>\n",
              "  </thead>\n",
              "  <tbody>\n",
              "    <tr>\n",
              "      <th>0</th>\n",
              "      <td>City</td>\n",
              "      <td>31255</td>\n",
              "      <td>object</td>\n",
              "      <td>1</td>\n",
              "      <td>30</td>\n",
              "      <td>{'LOS ANGELES': 10455, 'HOUSTON': 9219, 'NEW Y...</td>\n",
              "    </tr>\n",
              "    <tr>\n",
              "      <th>1</th>\n",
              "      <td>State</td>\n",
              "      <td>51</td>\n",
              "      <td>object</td>\n",
              "      <td>2</td>\n",
              "      <td>3</td>\n",
              "      <td>{'CA': 117584, 'TX': 63509, 'NY': 51986, 'FL':...</td>\n",
              "    </tr>\n",
              "    <tr>\n",
              "      <th>2</th>\n",
              "      <td>Zip</td>\n",
              "      <td>32701</td>\n",
              "      <td>int64</td>\n",
              "      <td>1</td>\n",
              "      <td>5</td>\n",
              "      <td>{10001: 844, 90015: 837, 93401: 713, 90010: 67...</td>\n",
              "    </tr>\n",
              "    <tr>\n",
              "      <th>3</th>\n",
              "      <td>Bank</td>\n",
              "      <td>5714</td>\n",
              "      <td>object</td>\n",
              "      <td>3</td>\n",
              "      <td>30</td>\n",
              "      <td>{'BANK OF AMERICA NATL ASSOC': 78252, 'WELLS F...</td>\n",
              "    </tr>\n",
              "    <tr>\n",
              "      <th>4</th>\n",
              "      <td>BankState</td>\n",
              "      <td>56</td>\n",
              "      <td>object</td>\n",
              "      <td>2</td>\n",
              "      <td>3</td>\n",
              "      <td>{'CA': 106232, 'NC': 71632, 'IL': 59212, 'OH':...</td>\n",
              "    </tr>\n",
              "    <tr>\n",
              "      <th>5</th>\n",
              "      <td>NAICS</td>\n",
              "      <td>1306</td>\n",
              "      <td>int64</td>\n",
              "      <td>1</td>\n",
              "      <td>6</td>\n",
              "      <td>{0: 181851, 722110: 25180, 722211: 17563, 8111...</td>\n",
              "    </tr>\n",
              "    <tr>\n",
              "      <th>6</th>\n",
              "      <td>NoEmp</td>\n",
              "      <td>575</td>\n",
              "      <td>int64</td>\n",
              "      <td>1</td>\n",
              "      <td>4</td>\n",
              "      <td>{1: 138723, 2: 124353, 3: 81715, 4: 66183, 5: ...</td>\n",
              "    </tr>\n",
              "    <tr>\n",
              "      <th>7</th>\n",
              "      <td>NewExist</td>\n",
              "      <td>3</td>\n",
              "      <td>float64</td>\n",
              "      <td>3</td>\n",
              "      <td>3</td>\n",
              "      <td>{1.0: 580543, 2.0: 227637, 0.0: 943}</td>\n",
              "    </tr>\n",
              "    <tr>\n",
              "      <th>8</th>\n",
              "      <td>CreateJob</td>\n",
              "      <td>234</td>\n",
              "      <td>int64</td>\n",
              "      <td>1</td>\n",
              "      <td>4</td>\n",
              "      <td>{0: 566264, 1: 56862, 2: 52008, 3: 25933, 4: 1...</td>\n",
              "    </tr>\n",
              "    <tr>\n",
              "      <th>9</th>\n",
              "      <td>RetainedJob</td>\n",
              "      <td>346</td>\n",
              "      <td>int64</td>\n",
              "      <td>1</td>\n",
              "      <td>4</td>\n",
              "      <td>{0: 396441, 1: 79907, 2: 69176, 3: 44928, 4: 3...</td>\n",
              "    </tr>\n",
              "    <tr>\n",
              "      <th>10</th>\n",
              "      <td>FranchiseCode</td>\n",
              "      <td>2671</td>\n",
              "      <td>int64</td>\n",
              "      <td>1</td>\n",
              "      <td>5</td>\n",
              "      <td>{1: 574757, 0: 187906, 78760: 3038, 68020: 171...</td>\n",
              "    </tr>\n",
              "    <tr>\n",
              "      <th>11</th>\n",
              "      <td>UrbanRural</td>\n",
              "      <td>3</td>\n",
              "      <td>int64</td>\n",
              "      <td>1</td>\n",
              "      <td>1</td>\n",
              "      <td>{1: 423444, 0: 290912, 2: 94891}</td>\n",
              "    </tr>\n",
              "    <tr>\n",
              "      <th>12</th>\n",
              "      <td>RevLineCr</td>\n",
              "      <td>2</td>\n",
              "      <td>object</td>\n",
              "      <td>1</td>\n",
              "      <td>1</td>\n",
              "      <td>{'N': 614307, 'Y': 194940}</td>\n",
              "    </tr>\n",
              "    <tr>\n",
              "      <th>13</th>\n",
              "      <td>LowDoc</td>\n",
              "      <td>2</td>\n",
              "      <td>object</td>\n",
              "      <td>1</td>\n",
              "      <td>1</td>\n",
              "      <td>{'N': 709376, 'Y': 99871}</td>\n",
              "    </tr>\n",
              "    <tr>\n",
              "      <th>14</th>\n",
              "      <td>DisbursementGross</td>\n",
              "      <td>110555</td>\n",
              "      <td>float64</td>\n",
              "      <td>3</td>\n",
              "      <td>10</td>\n",
              "      <td>{50000.0: 39492, 100000.0: 33002, 25000.0: 246...</td>\n",
              "    </tr>\n",
              "    <tr>\n",
              "      <th>15</th>\n",
              "      <td>BalanceGross</td>\n",
              "      <td>15</td>\n",
              "      <td>float64</td>\n",
              "      <td>3</td>\n",
              "      <td>8</td>\n",
              "      <td>{0.0: 809233, 996262.0: 1, 1760.0: 1, 827875.0...</td>\n",
              "    </tr>\n",
              "    <tr>\n",
              "      <th>16</th>\n",
              "      <td>GrAppv</td>\n",
              "      <td>20684</td>\n",
              "      <td>float64</td>\n",
              "      <td>5</td>\n",
              "      <td>9</td>\n",
              "      <td>{50000.0: 62594, 25000.0: 46060, 100000.0: 458...</td>\n",
              "    </tr>\n",
              "    <tr>\n",
              "      <th>17</th>\n",
              "      <td>SBA_Appv</td>\n",
              "      <td>35975</td>\n",
              "      <td>float64</td>\n",
              "      <td>5</td>\n",
              "      <td>9</td>\n",
              "      <td>{25000.0: 44748, 12500.0: 36045, 5000.0: 28041...</td>\n",
              "    </tr>\n",
              "  </tbody>\n",
              "</table>\n",
              "</div>\n",
              "    <div class=\"colab-df-buttons\">\n",
              "\n",
              "  <div class=\"colab-df-container\">\n",
              "    <button class=\"colab-df-convert\" onclick=\"convertToInteractive('df-41b7fd1d-8b30-4473-8c24-547770549397')\"\n",
              "            title=\"Convert this dataframe to an interactive table.\"\n",
              "            style=\"display:none;\">\n",
              "\n",
              "  <svg xmlns=\"http://www.w3.org/2000/svg\" height=\"24px\" viewBox=\"0 -960 960 960\">\n",
              "    <path d=\"M120-120v-720h720v720H120Zm60-500h600v-160H180v160Zm220 220h160v-160H400v160Zm0 220h160v-160H400v160ZM180-400h160v-160H180v160Zm440 0h160v-160H620v160ZM180-180h160v-160H180v160Zm440 0h160v-160H620v160Z\"/>\n",
              "  </svg>\n",
              "    </button>\n",
              "\n",
              "  <style>\n",
              "    .colab-df-container {\n",
              "      display:flex;\n",
              "      gap: 12px;\n",
              "    }\n",
              "\n",
              "    .colab-df-convert {\n",
              "      background-color: #E8F0FE;\n",
              "      border: none;\n",
              "      border-radius: 50%;\n",
              "      cursor: pointer;\n",
              "      display: none;\n",
              "      fill: #1967D2;\n",
              "      height: 32px;\n",
              "      padding: 0 0 0 0;\n",
              "      width: 32px;\n",
              "    }\n",
              "\n",
              "    .colab-df-convert:hover {\n",
              "      background-color: #E2EBFA;\n",
              "      box-shadow: 0px 1px 2px rgba(60, 64, 67, 0.3), 0px 1px 3px 1px rgba(60, 64, 67, 0.15);\n",
              "      fill: #174EA6;\n",
              "    }\n",
              "\n",
              "    .colab-df-buttons div {\n",
              "      margin-bottom: 4px;\n",
              "    }\n",
              "\n",
              "    [theme=dark] .colab-df-convert {\n",
              "      background-color: #3B4455;\n",
              "      fill: #D2E3FC;\n",
              "    }\n",
              "\n",
              "    [theme=dark] .colab-df-convert:hover {\n",
              "      background-color: #434B5C;\n",
              "      box-shadow: 0px 1px 3px 1px rgba(0, 0, 0, 0.15);\n",
              "      filter: drop-shadow(0px 1px 2px rgba(0, 0, 0, 0.3));\n",
              "      fill: #FFFFFF;\n",
              "    }\n",
              "  </style>\n",
              "\n",
              "    <script>\n",
              "      const buttonEl =\n",
              "        document.querySelector('#df-41b7fd1d-8b30-4473-8c24-547770549397 button.colab-df-convert');\n",
              "      buttonEl.style.display =\n",
              "        google.colab.kernel.accessAllowed ? 'block' : 'none';\n",
              "\n",
              "      async function convertToInteractive(key) {\n",
              "        const element = document.querySelector('#df-41b7fd1d-8b30-4473-8c24-547770549397');\n",
              "        const dataTable =\n",
              "          await google.colab.kernel.invokeFunction('convertToInteractive',\n",
              "                                                    [key], {});\n",
              "        if (!dataTable) return;\n",
              "\n",
              "        const docLinkHtml = 'Like what you see? Visit the ' +\n",
              "          '<a target=\"_blank\" href=https://colab.research.google.com/notebooks/data_table.ipynb>data table notebook</a>'\n",
              "          + ' to learn more about interactive tables.';\n",
              "        element.innerHTML = '';\n",
              "        dataTable['output_type'] = 'display_data';\n",
              "        await google.colab.output.renderOutput(dataTable, element);\n",
              "        const docLink = document.createElement('div');\n",
              "        docLink.innerHTML = docLinkHtml;\n",
              "        element.appendChild(docLink);\n",
              "      }\n",
              "    </script>\n",
              "  </div>\n",
              "\n",
              "\n",
              "<div id=\"df-23b9fa2a-95a4-47fb-b038-ba2d75a94b44\">\n",
              "  <button class=\"colab-df-quickchart\" onclick=\"quickchart('df-23b9fa2a-95a4-47fb-b038-ba2d75a94b44')\"\n",
              "            title=\"Suggest charts\"\n",
              "            style=\"display:none;\">\n",
              "\n",
              "<svg xmlns=\"http://www.w3.org/2000/svg\" height=\"24px\"viewBox=\"0 0 24 24\"\n",
              "     width=\"24px\">\n",
              "    <g>\n",
              "        <path d=\"M19 3H5c-1.1 0-2 .9-2 2v14c0 1.1.9 2 2 2h14c1.1 0 2-.9 2-2V5c0-1.1-.9-2-2-2zM9 17H7v-7h2v7zm4 0h-2V7h2v10zm4 0h-2v-4h2v4z\"/>\n",
              "    </g>\n",
              "</svg>\n",
              "  </button>\n",
              "\n",
              "<style>\n",
              "  .colab-df-quickchart {\n",
              "      --bg-color: #E8F0FE;\n",
              "      --fill-color: #1967D2;\n",
              "      --hover-bg-color: #E2EBFA;\n",
              "      --hover-fill-color: #174EA6;\n",
              "      --disabled-fill-color: #AAA;\n",
              "      --disabled-bg-color: #DDD;\n",
              "  }\n",
              "\n",
              "  [theme=dark] .colab-df-quickchart {\n",
              "      --bg-color: #3B4455;\n",
              "      --fill-color: #D2E3FC;\n",
              "      --hover-bg-color: #434B5C;\n",
              "      --hover-fill-color: #FFFFFF;\n",
              "      --disabled-bg-color: #3B4455;\n",
              "      --disabled-fill-color: #666;\n",
              "  }\n",
              "\n",
              "  .colab-df-quickchart {\n",
              "    background-color: var(--bg-color);\n",
              "    border: none;\n",
              "    border-radius: 50%;\n",
              "    cursor: pointer;\n",
              "    display: none;\n",
              "    fill: var(--fill-color);\n",
              "    height: 32px;\n",
              "    padding: 0;\n",
              "    width: 32px;\n",
              "  }\n",
              "\n",
              "  .colab-df-quickchart:hover {\n",
              "    background-color: var(--hover-bg-color);\n",
              "    box-shadow: 0 1px 2px rgba(60, 64, 67, 0.3), 0 1px 3px 1px rgba(60, 64, 67, 0.15);\n",
              "    fill: var(--button-hover-fill-color);\n",
              "  }\n",
              "\n",
              "  .colab-df-quickchart-complete:disabled,\n",
              "  .colab-df-quickchart-complete:disabled:hover {\n",
              "    background-color: var(--disabled-bg-color);\n",
              "    fill: var(--disabled-fill-color);\n",
              "    box-shadow: none;\n",
              "  }\n",
              "\n",
              "  .colab-df-spinner {\n",
              "    border: 2px solid var(--fill-color);\n",
              "    border-color: transparent;\n",
              "    border-bottom-color: var(--fill-color);\n",
              "    animation:\n",
              "      spin 1s steps(1) infinite;\n",
              "  }\n",
              "\n",
              "  @keyframes spin {\n",
              "    0% {\n",
              "      border-color: transparent;\n",
              "      border-bottom-color: var(--fill-color);\n",
              "      border-left-color: var(--fill-color);\n",
              "    }\n",
              "    20% {\n",
              "      border-color: transparent;\n",
              "      border-left-color: var(--fill-color);\n",
              "      border-top-color: var(--fill-color);\n",
              "    }\n",
              "    30% {\n",
              "      border-color: transparent;\n",
              "      border-left-color: var(--fill-color);\n",
              "      border-top-color: var(--fill-color);\n",
              "      border-right-color: var(--fill-color);\n",
              "    }\n",
              "    40% {\n",
              "      border-color: transparent;\n",
              "      border-right-color: var(--fill-color);\n",
              "      border-top-color: var(--fill-color);\n",
              "    }\n",
              "    60% {\n",
              "      border-color: transparent;\n",
              "      border-right-color: var(--fill-color);\n",
              "    }\n",
              "    80% {\n",
              "      border-color: transparent;\n",
              "      border-right-color: var(--fill-color);\n",
              "      border-bottom-color: var(--fill-color);\n",
              "    }\n",
              "    90% {\n",
              "      border-color: transparent;\n",
              "      border-bottom-color: var(--fill-color);\n",
              "    }\n",
              "  }\n",
              "</style>\n",
              "\n",
              "  <script>\n",
              "    async function quickchart(key) {\n",
              "      const quickchartButtonEl =\n",
              "        document.querySelector('#' + key + ' button');\n",
              "      quickchartButtonEl.disabled = true;  // To prevent multiple clicks.\n",
              "      quickchartButtonEl.classList.add('colab-df-spinner');\n",
              "      try {\n",
              "        const charts = await google.colab.kernel.invokeFunction(\n",
              "            'suggestCharts', [key], {});\n",
              "      } catch (error) {\n",
              "        console.error('Error during call to suggestCharts:', error);\n",
              "      }\n",
              "      quickchartButtonEl.classList.remove('colab-df-spinner');\n",
              "      quickchartButtonEl.classList.add('colab-df-quickchart-complete');\n",
              "    }\n",
              "    (() => {\n",
              "      let quickchartButtonEl =\n",
              "        document.querySelector('#df-23b9fa2a-95a4-47fb-b038-ba2d75a94b44 button');\n",
              "      quickchartButtonEl.style.display =\n",
              "        google.colab.kernel.accessAllowed ? 'block' : 'none';\n",
              "    })();\n",
              "  </script>\n",
              "</div>\n",
              "\n",
              "    </div>\n",
              "  </div>\n"
            ],
            "application/vnd.google.colaboratory.intrinsic+json": {
              "type": "dataframe",
              "summary": "{\n  \"name\": \"describe_more(X_train)\",\n  \"rows\": 18,\n  \"fields\": [\n    {\n      \"column\": \"A_Variable\",\n      \"properties\": {\n        \"dtype\": \"string\",\n        \"num_unique_values\": 18,\n        \"samples\": [\n          \"City\",\n          \"State\",\n          \"CreateJob\"\n        ],\n        \"semantic_type\": \"\",\n        \"description\": \"\"\n      }\n    },\n    {\n      \"column\": \"Levels\",\n      \"properties\": {\n        \"dtype\": \"number\",\n        \"std\": 27413,\n        \"min\": 2,\n        \"max\": 110555,\n        \"num_unique_values\": 16,\n        \"samples\": [\n          31255,\n          51,\n          1306\n        ],\n        \"semantic_type\": \"\",\n        \"description\": \"\"\n      }\n    },\n    {\n      \"column\": \"X_traintype\",\n      \"properties\": {\n        \"dtype\": \"category\",\n        \"num_unique_values\": 3,\n        \"samples\": [\n          \"object\",\n          \"int64\",\n          \"float64\"\n        ],\n        \"semantic_type\": \"\",\n        \"description\": \"\"\n      }\n    },\n    {\n      \"column\": \"Min Length\",\n      \"properties\": {\n        \"dtype\": \"number\",\n        \"std\": 1,\n        \"min\": 1,\n        \"max\": 5,\n        \"num_unique_values\": 4,\n        \"samples\": [\n          2,\n          5,\n          1\n        ],\n        \"semantic_type\": \"\",\n        \"description\": \"\"\n      }\n    },\n    {\n      \"column\": \"Max Length\",\n      \"properties\": {\n        \"dtype\": \"number\",\n        \"std\": 8,\n        \"min\": 1,\n        \"max\": 30,\n        \"num_unique_values\": 9,\n        \"samples\": [\n          8,\n          3,\n          1\n        ],\n        \"semantic_type\": \"\",\n        \"description\": \"\"\n      }\n    },\n    {\n      \"column\": \"Level_Values\",\n      \"properties\": {\n        \"dtype\": \"object\",\n        \"semantic_type\": \"\",\n        \"description\": \"\"\n      }\n    }\n  ]\n}"
            }
          },
          "metadata": {},
          "execution_count": 73
        }
      ],
      "source": [
        "describe_more(X_train)"
      ]
    },
    {
      "cell_type": "code",
      "execution_count": 74,
      "id": "7ddf24f6-8e45-4dc8-8981-b8135a55f4b8",
      "metadata": {
        "id": "7ddf24f6-8e45-4dc8-8981-b8135a55f4b8"
      },
      "outputs": [],
      "source": [
        "#imputing null values\n",
        "cat=['City','State','Bank','BankState']\n",
        "num=['NewExist']\n",
        "for i in cat:\n",
        "    X_train[i].fillna(X_train[i].mode().iloc[0],inplace=True)\n",
        "for i in num:\n",
        "    X_train[i].fillna(X_train[i].median(),inplace=True)"
      ]
    },
    {
      "cell_type": "code",
      "execution_count": 75,
      "id": "bcd26786-9bae-45b5-b6db-78580fff01ca",
      "metadata": {
        "id": "bcd26786-9bae-45b5-b6db-78580fff01ca",
        "colab": {
          "base_uri": "https://localhost:8080/"
        },
        "outputId": "2d232e66-8142-4d73-8a4e-08503b4db9f3"
      },
      "outputs": [
        {
          "output_type": "stream",
          "name": "stdout",
          "text": [
            "City :no null values\n",
            "State :no null values\n",
            "Zip :no null values\n",
            "Bank :no null values\n",
            "BankState :no null values\n",
            "NAICS :no null values\n",
            "NoEmp :no null values\n",
            "NewExist :no null values\n",
            "CreateJob :no null values\n",
            "RetainedJob :no null values\n",
            "FranchiseCode :no null values\n",
            "UrbanRural :no null values\n",
            "RevLineCr :no null values\n",
            "LowDoc :no null values\n",
            "DisbursementGross :no null values\n",
            "BalanceGross :no null values\n",
            "GrAppv :no null values\n",
            "SBA_Appv :no null values\n"
          ]
        }
      ],
      "source": [
        "# check if any columns still have null values\n",
        "for col in X_train.columns:\n",
        "    if X_train[col].isna().any() == True:\n",
        "        print(col)\n",
        "    else:\n",
        "      print(col,':no null values')"
      ]
    },
    {
      "cell_type": "code",
      "source": [],
      "metadata": {
        "id": "CBzPBQmB-PkP"
      },
      "id": "CBzPBQmB-PkP",
      "execution_count": 75,
      "outputs": []
    },
    {
      "cell_type": "markdown",
      "id": "110df3d6-83b7-43ca-bf69-2646099336be",
      "metadata": {
        "id": "110df3d6-83b7-43ca-bf69-2646099336be"
      },
      "source": [
        "# Feature Engineering step"
      ]
    },
    {
      "cell_type": "markdown",
      "id": "d75e82c8-f0df-4d4f-93a7-6f32702e4a6f",
      "metadata": {
        "id": "d75e82c8-f0df-4d4f-93a7-6f32702e4a6f"
      },
      "source": [
        "1) We construct 10 new features from the existing features in the dataset\n",
        "2) The task is to create better features packed with more contextual information\n",
        "3) We further use VIF for feature selection and getting rid of any possible multicollinearity"
      ]
    },
    {
      "cell_type": "code",
      "execution_count": 76,
      "id": "8b182814-4442-46be-a21c-283b82138f34",
      "metadata": {
        "colab": {
          "base_uri": "https://localhost:8080/",
          "height": 53
        },
        "id": "8b182814-4442-46be-a21c-283b82138f34",
        "outputId": "7d3650b6-ba17-4d12-ea45-5bb3315ec0c5"
      },
      "outputs": [
        {
          "output_type": "execute_result",
          "data": {
            "text/plain": [
              "\"X=X_train.copy()\\ngeo_concentration = data['State'].value_counts(normalize=True)\\ndata['geo_concentration'] = data['State'].map(geo_concentration)\""
            ],
            "application/vnd.google.colaboratory.intrinsic+json": {
              "type": "string"
            }
          },
          "metadata": {},
          "execution_count": 76
        }
      ],
      "source": [
        "\"\"\"X=X_train.copy()\n",
        "geo_concentration = data['State'].value_counts(normalize=True)\n",
        "data['geo_concentration'] = data['State'].map(geo_concentration)\"\"\""
      ]
    },
    {
      "cell_type": "code",
      "execution_count": 77,
      "id": "4f72486e-befa-4214-b0e4-0962c5baa79a",
      "metadata": {
        "id": "4f72486e-befa-4214-b0e4-0962c5baa79a"
      },
      "outputs": [],
      "source": [
        "\n",
        "X_train['NewBusiness'] = X_train['NewExist'].apply(lambda x: 1 if x == 2 else 0)\n",
        "\n",
        "X_train['CreditUtilizationRatio'] = X_train['GrAppv'] / X_train['SBA_Appv']\n",
        "\n",
        "X_train['LoanPerEmployee'] = X_train['GrAppv'] / (X_train['NoEmp'] + 1)\n",
        "\n",
        "X_train['EconomicSector'] = X_train['NAICS'].apply(lambda x: int(str(x)[:2]) if x > 0 else 0)\n",
        "\n",
        "X_train['ProfitabilityIndicator'] = (X_train['RetainedJob'] > X_train['CreateJob']).astype(int)\n",
        "\n",
        "\n"
      ]
    },
    {
      "cell_type": "code",
      "execution_count": 78,
      "id": "c534ddb7-eb08-428a-ab6a-e7927df438db",
      "metadata": {
        "colab": {
          "base_uri": "https://localhost:8080/",
          "height": 458
        },
        "id": "c534ddb7-eb08-428a-ab6a-e7927df438db",
        "outputId": "d3b3dcb5-cc56-4c34-c338-4add7c2ddef7"
      },
      "outputs": [
        {
          "output_type": "execute_result",
          "data": {
            "text/plain": [
              "0         N\n",
              "1         N\n",
              "2         N\n",
              "3         N\n",
              "4         Y\n",
              "         ..\n",
              "809242    Y\n",
              "809243    N\n",
              "809244    Y\n",
              "809245    N\n",
              "809246    Y\n",
              "Name: RevLineCr, Length: 809247, dtype: object"
            ],
            "text/html": [
              "<div>\n",
              "<style scoped>\n",
              "    .dataframe tbody tr th:only-of-type {\n",
              "        vertical-align: middle;\n",
              "    }\n",
              "\n",
              "    .dataframe tbody tr th {\n",
              "        vertical-align: top;\n",
              "    }\n",
              "\n",
              "    .dataframe thead th {\n",
              "        text-align: right;\n",
              "    }\n",
              "</style>\n",
              "<table border=\"1\" class=\"dataframe\">\n",
              "  <thead>\n",
              "    <tr style=\"text-align: right;\">\n",
              "      <th></th>\n",
              "      <th>RevLineCr</th>\n",
              "    </tr>\n",
              "  </thead>\n",
              "  <tbody>\n",
              "    <tr>\n",
              "      <th>0</th>\n",
              "      <td>N</td>\n",
              "    </tr>\n",
              "    <tr>\n",
              "      <th>1</th>\n",
              "      <td>N</td>\n",
              "    </tr>\n",
              "    <tr>\n",
              "      <th>2</th>\n",
              "      <td>N</td>\n",
              "    </tr>\n",
              "    <tr>\n",
              "      <th>3</th>\n",
              "      <td>N</td>\n",
              "    </tr>\n",
              "    <tr>\n",
              "      <th>4</th>\n",
              "      <td>Y</td>\n",
              "    </tr>\n",
              "    <tr>\n",
              "      <th>...</th>\n",
              "      <td>...</td>\n",
              "    </tr>\n",
              "    <tr>\n",
              "      <th>809242</th>\n",
              "      <td>Y</td>\n",
              "    </tr>\n",
              "    <tr>\n",
              "      <th>809243</th>\n",
              "      <td>N</td>\n",
              "    </tr>\n",
              "    <tr>\n",
              "      <th>809244</th>\n",
              "      <td>Y</td>\n",
              "    </tr>\n",
              "    <tr>\n",
              "      <th>809245</th>\n",
              "      <td>N</td>\n",
              "    </tr>\n",
              "    <tr>\n",
              "      <th>809246</th>\n",
              "      <td>Y</td>\n",
              "    </tr>\n",
              "  </tbody>\n",
              "</table>\n",
              "<p>809247 rows × 1 columns</p>\n",
              "</div><br><label><b>dtype:</b> object</label>"
            ]
          },
          "metadata": {},
          "execution_count": 78
        }
      ],
      "source": [
        "X_train['RevLineCr']"
      ]
    },
    {
      "cell_type": "code",
      "source": [
        "# CELL TO INSERT AFTER [206]\n",
        "\n",
        "# --- Additional Interaction Term Feature Engineering ---\n",
        "print(f\"Number of features before adding interactions: {X_train.shape[1]}\")\n",
        "import numpy as np # Ensure numpy is imported\n",
        "from sklearn.preprocessing import PolynomialFeatures\n",
        "import pandas as pd # Ensure pandas is imported\n",
        "\n",
        "# --- Keep track of newly created columns ---\n",
        "new_numeric_interactions = []\n",
        "new_binary_flags = []\n",
        "poly_interaction_cols = []\n",
        "\n",
        "# --- Manual Interactions (Based on original & engineered features) ---\n",
        "\n",
        "# Interaction: Loan Amount related features\n",
        "X_train['GrAppv_x_SBA_Appv'] = X_train['GrAppv'] * X_train['SBA_Appv']\n",
        "new_numeric_interactions.append('GrAppv_x_SBA_Appv')\n",
        "\n",
        "# Interaction: Business Age/Type related features (using engineered 'NewBusiness')\n",
        "X_train['LoanPerEmp_x_NewBiz'] = X_train['LoanPerEmployee'] * X_train['NewBusiness']\n",
        "new_numeric_interactions.append('LoanPerEmp_x_NewBiz')\n",
        "X_train['NoEmp_x_NewBiz'] = X_train['NoEmp'] * X_train['NewBusiness']\n",
        "new_numeric_interactions.append('NoEmp_x_NewBiz')\n",
        "\n",
        "# Interaction: Location and Business Type\n",
        "# Create numerical flags first as UrbanRural is categorical (0, 1, 2)\n",
        "X_train['IsUrban'] = (X_train['UrbanRural'] == 1).astype(int)\n",
        "new_binary_flags.append('IsUrban') # Binary flag\n",
        "X_train['IsRural'] = (X_train['UrbanRural'] == 2).astype(int)\n",
        "new_binary_flags.append('IsRural') # Binary flag\n",
        "# Interact engineered LoanPerEmployee with location flags\n",
        "X_train['LoanPerEmp_x_Urban'] = X_train['LoanPerEmployee'] * X_train['IsUrban']\n",
        "new_numeric_interactions.append('LoanPerEmp_x_Urban')\n",
        "X_train['LoanPerEmp_x_Rural'] = X_train['LoanPerEmployee'] * X_train['IsRural']\n",
        "new_numeric_interactions.append('LoanPerEmp_x_Rural')\n",
        "\n",
        "# Interaction: Documentation and Credit Line\n",
        "# Create numerical flags first as RevLineCr and LowDoc are 'Y'/'N'\n",
        "X_train['RevLineCr_Y_flag'] = (X_train['RevLineCr'] == 'Y').astype(int)\n",
        "new_binary_flags.append('RevLineCr_Y_flag') # Binary flag\n",
        "X_train['LowDoc_Y_flag'] = (X_train['LowDoc'] == 'Y').astype(int)\n",
        "new_binary_flags.append('LowDoc_Y_flag') # Binary flag\n",
        "X_train['RevLine_x_LowDoc'] = X_train['RevLineCr_Y_flag'] * X_train['LowDoc_Y_flag']\n",
        "new_numeric_interactions.append('RevLine_x_LowDoc') # Technically binary, but treat as numeric for scaling consistency\n",
        "\n",
        "# Interaction: Jobs Created/Retained and Loan Amount\n",
        "X_train['GrAppv_x_CreateJob'] = X_train['GrAppv'] * X_train['CreateJob']\n",
        "new_numeric_interactions.append('GrAppv_x_CreateJob')\n",
        "X_train['GrAppv_x_RetainedJob'] = X_train['GrAppv'] * X_train['RetainedJob']\n",
        "new_numeric_interactions.append('GrAppv_x_RetainedJob')\n",
        "\n",
        "# Interaction: Profitability and Loan/Employee metrics (using engineered features)\n",
        "X_train['LoanPerEmp_x_Profit'] = X_train['LoanPerEmployee'] * X_train['ProfitabilityIndicator']\n",
        "new_numeric_interactions.append('LoanPerEmp_x_Profit')\n",
        "X_train['CreditUtil_x_Profit'] = X_train['CreditUtilizationRatio'] * X_train['ProfitabilityIndicator']\n",
        "new_numeric_interactions.append('CreditUtil_x_Profit')\n",
        "\n",
        "\n",
        "# --- PolynomialFeatures for key numericals (original & engineered) ---\n",
        "poly_features_list = ['GrAppv', 'SBA_Appv', 'NoEmp', 'LoanPerEmployee', 'CreditUtilizationRatio']\n",
        "\n",
        "# --- Pre-check and handle potential NaN/Inf before PolynomialFeatures ---\n",
        "print(\"Checking for NaN/inf before PolynomialFeatures...\")\n",
        "# Ensure CreditUtilizationRatio doesn't have inf values\n",
        "X_train['CreditUtilizationRatio'].replace([np.inf, -np.inf], np.nan, inplace=True)\n",
        "# Impute NaN in CreditUtilizationRatio if created by inf replacement or original NaNs\n",
        "if X_train['CreditUtilizationRatio'].isnull().any():\n",
        "     print(\"Imputing NaNs in CreditUtilizationRatio with median.\")\n",
        "     median_val = X_train['CreditUtilizationRatio'].median()\n",
        "     X_train['CreditUtilizationRatio'].fillna(median_val, inplace=True)\n",
        "\n",
        "# Check other columns in poly_features_list\n",
        "for col in poly_features_list:\n",
        "    if X_train[col].isnull().any():\n",
        "        print(f\"Warning: Column {col} contains NaN values. Imputing with median.\")\n",
        "        median_val = X_train[col].median()\n",
        "        X_train[col].fillna(median_val, inplace=True)\n",
        "    # Handle potential infinity values as well\n",
        "    if np.isinf(X_train[col]).any():\n",
        "         print(f\"Warning: Column {col} contains Inf values. Replacing with NaN and imputing with median.\")\n",
        "         X_train[col].replace([np.inf, -np.inf], np.nan, inplace=True)\n",
        "         median_val = X_train[col].median() # Recalculate median after replacing inf\n",
        "         X_train[col].fillna(median_val, inplace=True)\n",
        "# --- End Pre-check ---\n",
        "\n",
        "poly = PolynomialFeatures(degree=2, interaction_only=True, include_bias=False)\n",
        "poly_interactions = poly.fit_transform(X_train[poly_features_list])\n",
        "poly_feature_names = poly.get_feature_names_out(poly_features_list)\n",
        "X_poly = pd.DataFrame(poly_interactions, columns=poly_feature_names, index=X_train.index)\n",
        "# Drop originals from poly df to keep only interaction terms generated by PolynomialFeatures\n",
        "X_poly = X_poly.drop(columns=poly_features_list)\n",
        "poly_interaction_cols = list(X_poly.columns)\n",
        "\n",
        "# Concatenate polynomial features with the main DataFrame\n",
        "X_train = pd.concat([X_train, X_poly], axis=1)\n",
        "\n",
        "# --- List of ALL newly created interaction columns to be processed ---\n",
        "all_new_numeric_cols = new_numeric_interactions + poly_interaction_cols\n",
        "all_new_binary_cols = new_binary_flags\n",
        "\n",
        "print(f\"Number of features after adding interactions: {X_train.shape[1]}\")\n",
        "print(f\"Added {len(all_new_numeric_cols)} new numeric interaction features.\")\n",
        "print(f\"Added {len(all_new_binary_cols)} new binary flag features.\")\n",
        "\n",
        "# --- End Additional Interaction Term Feature Engineering ---\n",
        "\n",
        "# IMPORTANT: NOW GO TO CELL [208] AND UPDATE THE LISTS\n"
      ],
      "metadata": {
        "colab": {
          "base_uri": "https://localhost:8080/"
        },
        "id": "aIQVNd7RUu6R",
        "outputId": "eb1443fb-de94-434b-f4d7-eddc8f7a6fb4"
      },
      "id": "aIQVNd7RUu6R",
      "execution_count": 79,
      "outputs": [
        {
          "output_type": "stream",
          "name": "stdout",
          "text": [
            "Number of features before adding interactions: 23\n",
            "Checking for NaN/inf before PolynomialFeatures...\n",
            "Number of features after adding interactions: 47\n",
            "Added 20 new numeric interaction features.\n",
            "Added 4 new binary flag features.\n"
          ]
        }
      ]
    },
    {
      "cell_type": "code",
      "execution_count": 80,
      "id": "a5806cfd-fe78-463a-bc80-b99ab667b516",
      "metadata": {
        "id": "a5806cfd-fe78-463a-bc80-b99ab667b516"
      },
      "outputs": [],
      "source": [
        "# convert columns fo category type to object\n",
        "for col in X_train.select_dtypes(include=['category']).columns:\n",
        "    X_train[col] = X_train[col].astype('object')"
      ]
    },
    {
      "cell_type": "code",
      "source": [
        "# CELL [208] - MODIFIED\n",
        "\n",
        "# Original numeric features + engineered numeric features from cell [204]\n",
        "# + NEW numeric interaction terms created above\n",
        "numeric = [\n",
        "    'NoEmp',\n",
        "    'CreateJob',\n",
        "    'RetainedJob',\n",
        "    'DisbursementGross',\n",
        "    'BalanceGross',\n",
        "    'GrAppv',\n",
        "    'SBA_Appv',\n",
        "    'CreditUtilizationRatio', # Engineered numerical ratio\n",
        "    'LoanPerEmployee'         # Engineered numerical ratio\n",
        "] + all_new_numeric_cols # Add all new numeric interactions here\n",
        "\n",
        "# Original low-cardinality + engineered binary flags from cell [204]\n",
        "# + NEW binary flags created above\n",
        "cat_vars_for_one_hot = [\n",
        "    'NewExist',                # Original numeric category (~3 levels)\n",
        "    'UrbanRural',            # Original numeric category (3 levels) - Consider removing if IsUrban/IsRural flags are sufficient\n",
        "    'RevLineCr',             # Original object (becomes binary) - Consider removing if RevLineCr_Y_flag is sufficient\n",
        "    'LowDoc',                # Original object (becomes binary) - Consider removing if LowDoc_Y_flag is sufficient\n",
        "    'NewBusiness',           # Engineered (binary flag)\n",
        "    'ProfitabilityIndicator' # Engineered (binary flag)\n",
        "] + all_new_binary_cols # Add all new binary flags here\n",
        "\n",
        "# Original high-cardinality + engineered high-cardinality from cell [204]\n",
        "remaining_cat_vars = [\n",
        "    'City',\n",
        "    'State',\n",
        "    'Zip',                   # Original numeric ID\n",
        "    'Bank',\n",
        "    'BankState',\n",
        "    'NAICS',                 # Original numeric ID\n",
        "    'FranchiseCode',         # Original numeric ID\n",
        "    'EconomicSector'         # Engineered category from NAICS\n",
        "]\n",
        "\n",
        "# --- Optional but Recommended: Clean up lists by removing redundant originals ---\n",
        "# If you are confident the new flags capture the necessary info, remove the originals:\n",
        "# Example:\n",
        "# if 'IsUrban' in cat_vars_for_one_hot and 'IsRural' in cat_vars_for_one_hot:\n",
        "#     cat_vars_for_one_hot.remove('UrbanRural')\n",
        "# if 'RevLineCr_Y_flag' in cat_vars_for_one_hot:\n",
        "#     cat_vars_for_one_hot.remove('RevLineCr')\n",
        "# if 'LowDoc_Y_flag' in cat_vars_for_one_hot:\n",
        "#     cat_vars_for_one_hot.remove('LowDoc')\n",
        "# --- End Optional Cleanup ---\n",
        "\n",
        "print(f\"Updated 'numeric' list includes {len(numeric)} features.\")\n",
        "print(f\"Updated 'cat_vars_for_one_hot' list includes {len(cat_vars_for_one_hot)} features.\")\n"
      ],
      "metadata": {
        "id": "68-DommdP0_J",
        "colab": {
          "base_uri": "https://localhost:8080/"
        },
        "outputId": "96403e9c-86e8-41b0-c97a-3beb9a958320"
      },
      "id": "68-DommdP0_J",
      "execution_count": 82,
      "outputs": [
        {
          "output_type": "stream",
          "name": "stdout",
          "text": [
            "Updated 'numeric' list includes 29 features.\n",
            "Updated 'cat_vars_for_one_hot' list includes 10 features.\n"
          ]
        }
      ]
    },
    {
      "cell_type": "markdown",
      "id": "ba2360ad-577c-425e-a697-2d641442db07",
      "metadata": {
        "id": "ba2360ad-577c-425e-a697-2d641442db07"
      },
      "source": [
        "# Data Encoding Step"
      ]
    },
    {
      "cell_type": "markdown",
      "id": "cc9522a4-2f6a-4568-a15f-17c26ba1e1a5",
      "metadata": {
        "id": "cc9522a4-2f6a-4568-a15f-17c26ba1e1a5"
      },
      "source": [
        "1) This step involves identifying the numerical and categorical columns: a) for one hot and b) woe encoding\n",
        "2) The categorical columns undergo encoding based on whether they have less than 10 values or not\n",
        "3) further we scale the numerical columns\n",
        "4) we save the encoders/scalers"
      ]
    },
    {
      "cell_type": "code",
      "source": [
        "pip install category_encoders==2.6.1"
      ],
      "metadata": {
        "colab": {
          "base_uri": "https://localhost:8080/"
        },
        "id": "B4aR0fONwkQN",
        "outputId": "654fb7b8-46f8-44e3-d0af-5f539679d31a"
      },
      "id": "B4aR0fONwkQN",
      "execution_count": 83,
      "outputs": [
        {
          "output_type": "stream",
          "name": "stdout",
          "text": [
            "Requirement already satisfied: category_encoders==2.6.1 in /usr/local/lib/python3.11/dist-packages (2.6.1)\n",
            "Requirement already satisfied: numpy>=1.14.0 in /usr/local/lib/python3.11/dist-packages (from category_encoders==2.6.1) (1.24.4)\n",
            "Requirement already satisfied: scikit-learn>=0.20.0 in /usr/local/lib/python3.11/dist-packages (from category_encoders==2.6.1) (1.3.0)\n",
            "Requirement already satisfied: scipy>=1.0.0 in /usr/local/lib/python3.11/dist-packages (from category_encoders==2.6.1) (1.14.1)\n",
            "Requirement already satisfied: statsmodels>=0.9.0 in /usr/local/lib/python3.11/dist-packages (from category_encoders==2.6.1) (0.14.4)\n",
            "Requirement already satisfied: pandas>=1.0.5 in /usr/local/lib/python3.11/dist-packages (from category_encoders==2.6.1) (2.0.3)\n",
            "Requirement already satisfied: patsy>=0.5.1 in /usr/local/lib/python3.11/dist-packages (from category_encoders==2.6.1) (1.0.1)\n",
            "Requirement already satisfied: python-dateutil>=2.8.2 in /usr/local/lib/python3.11/dist-packages (from pandas>=1.0.5->category_encoders==2.6.1) (2.8.2)\n",
            "Requirement already satisfied: pytz>=2020.1 in /usr/local/lib/python3.11/dist-packages (from pandas>=1.0.5->category_encoders==2.6.1) (2025.2)\n",
            "Requirement already satisfied: tzdata>=2022.1 in /usr/local/lib/python3.11/dist-packages (from pandas>=1.0.5->category_encoders==2.6.1) (2025.2)\n",
            "Requirement already satisfied: joblib>=1.1.1 in /usr/local/lib/python3.11/dist-packages (from scikit-learn>=0.20.0->category_encoders==2.6.1) (1.4.2)\n",
            "Requirement already satisfied: threadpoolctl>=2.0.0 in /usr/local/lib/python3.11/dist-packages (from scikit-learn>=0.20.0->category_encoders==2.6.1) (3.6.0)\n",
            "Requirement already satisfied: packaging>=21.3 in /usr/local/lib/python3.11/dist-packages (from statsmodels>=0.9.0->category_encoders==2.6.1) (24.2)\n",
            "Requirement already satisfied: six>=1.5 in /usr/local/lib/python3.11/dist-packages (from python-dateutil>=2.8.2->pandas>=1.0.5->category_encoders==2.6.1) (1.17.0)\n"
          ]
        }
      ]
    },
    {
      "cell_type": "code",
      "execution_count": 84,
      "id": "35872687-645c-46e2-b2d6-bb2452bd1fc0",
      "metadata": {
        "colab": {
          "base_uri": "https://localhost:8080/",
          "height": 107
        },
        "id": "35872687-645c-46e2-b2d6-bb2452bd1fc0",
        "outputId": "af27f747-a4d7-4a99-8fc9-a2e71d7f331a"
      },
      "outputs": [
        {
          "output_type": "execute_result",
          "data": {
            "text/plain": [
              "\"# Identify categorical variables with less than 10 unique values for one-hot encoding\\ncat_vars_for_one_hot = [col for col in X_train.columns if (X_train[col].nunique() < 10) and (X_train[col].dtype == 'object')]\\n\\n# Now, for target and WOE encoding, identify the remaining categorical variables\\nremaining_cat_vars = [col for col in X_train.columns if (X_train[col].dtype == 'object') and (col not in cat_vars_for_one_hot)]\\n\\nnumeric=[col for col in X_train.columns if (X_train[col].dtype != 'object') ]\""
            ],
            "application/vnd.google.colaboratory.intrinsic+json": {
              "type": "string"
            }
          },
          "metadata": {},
          "execution_count": 84
        }
      ],
      "source": [
        "import category_encoders as ce\n",
        "\n",
        "# Assuming 'X_train' is the X_trainFrame after feature engineering\n",
        "# Assuming 'target' is the name of the target column in 'X_train'\n",
        "\n",
        "\"\"\"# Identify categorical variables with less than 10 unique values for one-hot encoding\n",
        "cat_vars_for_one_hot = [col for col in X_train.columns if (X_train[col].nunique() < 10) and (X_train[col].dtype == 'object')]\n",
        "\n",
        "# Now, for target and WOE encoding, identify the remaining categorical variables\n",
        "remaining_cat_vars = [col for col in X_train.columns if (X_train[col].dtype == 'object') and (col not in cat_vars_for_one_hot)]\n",
        "\n",
        "numeric=[col for col in X_train.columns if (X_train[col].dtype != 'object') ]\"\"\"\n"
      ]
    },
    {
      "cell_type": "code",
      "source": [
        "X_train['ProfitabilityIndicator'].unique()"
      ],
      "metadata": {
        "colab": {
          "base_uri": "https://localhost:8080/"
        },
        "id": "2l12IrvxOm4F",
        "outputId": "6d5aae49-494f-4327-efbe-e87c27aa712d"
      },
      "id": "2l12IrvxOm4F",
      "execution_count": 85,
      "outputs": [
        {
          "output_type": "execute_result",
          "data": {
            "text/plain": [
              "array([0, 1])"
            ]
          },
          "metadata": {},
          "execution_count": 85
        }
      ]
    },
    {
      "cell_type": "code",
      "execution_count": 86,
      "id": "393cc3d0-da53-4950-9e3a-f5b978117ca1",
      "metadata": {
        "colab": {
          "base_uri": "https://localhost:8080/"
        },
        "id": "393cc3d0-da53-4950-9e3a-f5b978117ca1",
        "outputId": "296b3d43-04e7-4d86-9bbb-8a4f78f8d1a9"
      },
      "outputs": [
        {
          "output_type": "execute_result",
          "data": {
            "text/plain": [
              "['NewExist',\n",
              " 'UrbanRural',\n",
              " 'RevLineCr',\n",
              " 'LowDoc',\n",
              " 'NewBusiness',\n",
              " 'ProfitabilityIndicator',\n",
              " 'IsUrban',\n",
              " 'IsRural',\n",
              " 'RevLineCr_Y_flag',\n",
              " 'LowDoc_Y_flag']"
            ]
          },
          "metadata": {},
          "execution_count": 86
        }
      ],
      "source": [
        "cat_vars_for_one_hot"
      ]
    },
    {
      "cell_type": "code",
      "execution_count": 87,
      "id": "57649dee-c1c2-487b-b8ff-afa4d2d9ab9e",
      "metadata": {
        "colab": {
          "base_uri": "https://localhost:8080/"
        },
        "id": "57649dee-c1c2-487b-b8ff-afa4d2d9ab9e",
        "outputId": "42563170-4c0f-4b0d-f984-2c5748691890"
      },
      "outputs": [
        {
          "output_type": "execute_result",
          "data": {
            "text/plain": [
              "['City',\n",
              " 'State',\n",
              " 'Zip',\n",
              " 'Bank',\n",
              " 'BankState',\n",
              " 'NAICS',\n",
              " 'FranchiseCode',\n",
              " 'EconomicSector']"
            ]
          },
          "metadata": {},
          "execution_count": 87
        }
      ],
      "source": [
        "remaining_cat_vars"
      ]
    },
    {
      "cell_type": "code",
      "execution_count": 88,
      "id": "b10bd75c-c117-4dce-96a2-8cc7dcbc7bd3",
      "metadata": {
        "colab": {
          "base_uri": "https://localhost:8080/"
        },
        "id": "b10bd75c-c117-4dce-96a2-8cc7dcbc7bd3",
        "outputId": "640bac28-2974-4661-e9d1-5ca06f6a1232"
      },
      "outputs": [
        {
          "output_type": "execute_result",
          "data": {
            "text/plain": [
              "['NoEmp',\n",
              " 'CreateJob',\n",
              " 'RetainedJob',\n",
              " 'DisbursementGross',\n",
              " 'BalanceGross',\n",
              " 'GrAppv',\n",
              " 'SBA_Appv',\n",
              " 'CreditUtilizationRatio',\n",
              " 'LoanPerEmployee',\n",
              " 'GrAppv_x_SBA_Appv',\n",
              " 'LoanPerEmp_x_NewBiz',\n",
              " 'NoEmp_x_NewBiz',\n",
              " 'LoanPerEmp_x_Urban',\n",
              " 'LoanPerEmp_x_Rural',\n",
              " 'RevLine_x_LowDoc',\n",
              " 'GrAppv_x_CreateJob',\n",
              " 'GrAppv_x_RetainedJob',\n",
              " 'LoanPerEmp_x_Profit',\n",
              " 'CreditUtil_x_Profit',\n",
              " 'GrAppv SBA_Appv',\n",
              " 'GrAppv NoEmp',\n",
              " 'GrAppv LoanPerEmployee',\n",
              " 'GrAppv CreditUtilizationRatio',\n",
              " 'SBA_Appv NoEmp',\n",
              " 'SBA_Appv LoanPerEmployee',\n",
              " 'SBA_Appv CreditUtilizationRatio',\n",
              " 'NoEmp LoanPerEmployee',\n",
              " 'NoEmp CreditUtilizationRatio',\n",
              " 'LoanPerEmployee CreditUtilizationRatio']"
            ]
          },
          "metadata": {},
          "execution_count": 88
        }
      ],
      "source": [
        "numeric"
      ]
    },
    {
      "cell_type": "code",
      "execution_count": 89,
      "id": "5b421b2b-3d30-496c-8dfe-c33b19739300",
      "metadata": {
        "id": "5b421b2b-3d30-496c-8dfe-c33b19739300"
      },
      "outputs": [],
      "source": [
        "from sklearn.model_selection import train_test_split\n",
        "\n",
        "# using the train test split function\n",
        "x_train, x_val, y_t, y_val = train_test_split(\n",
        "  X_train,y_train , random_state=104,test_size=0.1, shuffle=True)"
      ]
    },
    {
      "cell_type": "code",
      "source": [
        "print(x_train.columns)"
      ],
      "metadata": {
        "colab": {
          "base_uri": "https://localhost:8080/"
        },
        "id": "DuSSm1U5W8ea",
        "outputId": "a6627894-fa09-4eb0-c7f6-16cd91ff1c36"
      },
      "id": "DuSSm1U5W8ea",
      "execution_count": 90,
      "outputs": [
        {
          "output_type": "stream",
          "name": "stdout",
          "text": [
            "Index(['City', 'State', 'Zip', 'Bank', 'BankState', 'NAICS', 'NoEmp',\n",
            "       'NewExist', 'CreateJob', 'RetainedJob', 'FranchiseCode', 'UrbanRural',\n",
            "       'RevLineCr', 'LowDoc', 'DisbursementGross', 'BalanceGross', 'GrAppv',\n",
            "       'SBA_Appv', 'NewBusiness', 'CreditUtilizationRatio', 'LoanPerEmployee',\n",
            "       'EconomicSector', 'ProfitabilityIndicator', 'GrAppv_x_SBA_Appv',\n",
            "       'LoanPerEmp_x_NewBiz', 'NoEmp_x_NewBiz', 'IsUrban', 'IsRural',\n",
            "       'LoanPerEmp_x_Urban', 'LoanPerEmp_x_Rural', 'RevLineCr_Y_flag',\n",
            "       'LowDoc_Y_flag', 'RevLine_x_LowDoc', 'GrAppv_x_CreateJob',\n",
            "       'GrAppv_x_RetainedJob', 'LoanPerEmp_x_Profit', 'CreditUtil_x_Profit',\n",
            "       'GrAppv SBA_Appv', 'GrAppv NoEmp', 'GrAppv LoanPerEmployee',\n",
            "       'GrAppv CreditUtilizationRatio', 'SBA_Appv NoEmp',\n",
            "       'SBA_Appv LoanPerEmployee', 'SBA_Appv CreditUtilizationRatio',\n",
            "       'NoEmp LoanPerEmployee', 'NoEmp CreditUtilizationRatio',\n",
            "       'LoanPerEmployee CreditUtilizationRatio'],\n",
            "      dtype='object')\n"
          ]
        }
      ]
    },
    {
      "cell_type": "code",
      "execution_count": 91,
      "id": "82e736db-3791-4593-bf41-9b370973a3a5",
      "metadata": {
        "id": "82e736db-3791-4593-bf41-9b370973a3a5"
      },
      "outputs": [],
      "source": [
        "# Initialize WOE encoder for categorical variables\n",
        "woe_encoder = ce.WOEEncoder(cols=remaining_cat_vars)\n",
        "\n",
        "# Fit the WOE encoder on the training data\n",
        "# Assuming 'target' is the name of your target variable in the training data\n",
        "woe_encoder.fit(x_train[remaining_cat_vars], y_t)\n",
        "\n",
        "# Transform the training and validation data using the fitted encoder\n",
        "x_train = x_train.join(woe_encoder.transform(x_train[remaining_cat_vars]).add_suffix('_woe'))\n",
        "x_val = x_val.join(woe_encoder.transform(x_val[remaining_cat_vars]).add_suffix('_woe'))\n"
      ]
    },
    {
      "cell_type": "code",
      "execution_count": 92,
      "id": "24006950-484f-472c-95a3-1270f10ea8a8",
      "metadata": {
        "id": "24006950-484f-472c-95a3-1270f10ea8a8"
      },
      "outputs": [],
      "source": [
        "from sklearn.preprocessing import RobustScaler"
      ]
    },
    {
      "cell_type": "code",
      "execution_count": 93,
      "id": "5c087a31-c92a-46f5-a9cc-2d7b1116bbc3",
      "metadata": {
        "id": "5c087a31-c92a-46f5-a9cc-2d7b1116bbc3"
      },
      "outputs": [],
      "source": [
        "# using Standard Scaler to Scale the numerical columns\n",
        "scaler = RobustScaler()\n",
        "# Fit the scaler on the training data\n",
        "scaler.fit(x_train[numeric])\n",
        "# Transform the training and validation data using the fitted scaler\n",
        "x_train[numeric] = scaler.transform(x_train[numeric])\n",
        "x_val[numeric] = scaler.transform(x_val[numeric])"
      ]
    },
    {
      "cell_type": "code",
      "execution_count": 94,
      "id": "26256862-88fc-4a72-8d24-2e2800f6149b",
      "metadata": {
        "id": "26256862-88fc-4a72-8d24-2e2800f6149b"
      },
      "outputs": [],
      "source": [
        "import pickle\n",
        "\n",
        "# Assuming woe_encoder is your fitted encoder\n",
        "with open('woe_encoder.pkl', 'wb') as file:\n",
        "    pickle.dump(woe_encoder, file)"
      ]
    },
    {
      "cell_type": "code",
      "execution_count": 95,
      "id": "8c1fcdd4-4ab8-4217-b1ff-ea37259a88ba",
      "metadata": {
        "id": "8c1fcdd4-4ab8-4217-b1ff-ea37259a88ba"
      },
      "outputs": [],
      "source": [
        "# Assuming scaler is your fitted scaler\n",
        "with open('robustscaler.pkl', 'wb') as file:\n",
        "    pickle.dump(scaler, file)"
      ]
    },
    {
      "cell_type": "code",
      "source": [
        "print(x_train.columns)"
      ],
      "metadata": {
        "colab": {
          "base_uri": "https://localhost:8080/"
        },
        "id": "TMU3fib9SUIE",
        "outputId": "53f69c4a-71db-4ef2-c2e9-0a614b50fe71"
      },
      "id": "TMU3fib9SUIE",
      "execution_count": 96,
      "outputs": [
        {
          "output_type": "stream",
          "name": "stdout",
          "text": [
            "Index(['City', 'State', 'Zip', 'Bank', 'BankState', 'NAICS', 'NoEmp',\n",
            "       'NewExist', 'CreateJob', 'RetainedJob', 'FranchiseCode', 'UrbanRural',\n",
            "       'RevLineCr', 'LowDoc', 'DisbursementGross', 'BalanceGross', 'GrAppv',\n",
            "       'SBA_Appv', 'NewBusiness', 'CreditUtilizationRatio', 'LoanPerEmployee',\n",
            "       'EconomicSector', 'ProfitabilityIndicator', 'GrAppv_x_SBA_Appv',\n",
            "       'LoanPerEmp_x_NewBiz', 'NoEmp_x_NewBiz', 'IsUrban', 'IsRural',\n",
            "       'LoanPerEmp_x_Urban', 'LoanPerEmp_x_Rural', 'RevLineCr_Y_flag',\n",
            "       'LowDoc_Y_flag', 'RevLine_x_LowDoc', 'GrAppv_x_CreateJob',\n",
            "       'GrAppv_x_RetainedJob', 'LoanPerEmp_x_Profit', 'CreditUtil_x_Profit',\n",
            "       'GrAppv SBA_Appv', 'GrAppv NoEmp', 'GrAppv LoanPerEmployee',\n",
            "       'GrAppv CreditUtilizationRatio', 'SBA_Appv NoEmp',\n",
            "       'SBA_Appv LoanPerEmployee', 'SBA_Appv CreditUtilizationRatio',\n",
            "       'NoEmp LoanPerEmployee', 'NoEmp CreditUtilizationRatio',\n",
            "       'LoanPerEmployee CreditUtilizationRatio', 'City_woe', 'State_woe',\n",
            "       'Zip_woe', 'Bank_woe', 'BankState_woe', 'NAICS_woe',\n",
            "       'FranchiseCode_woe', 'EconomicSector_woe'],\n",
            "      dtype='object')\n"
          ]
        }
      ]
    },
    {
      "cell_type": "code",
      "source": [
        "original_columns_processed = list(set(remaining_cat_vars))"
      ],
      "metadata": {
        "id": "KsJ2fb3-UayX"
      },
      "id": "KsJ2fb3-UayX",
      "execution_count": 97,
      "outputs": []
    },
    {
      "cell_type": "code",
      "source": [
        "original_columns_processed"
      ],
      "metadata": {
        "colab": {
          "base_uri": "https://localhost:8080/"
        },
        "id": "DG6m7ohkVePh",
        "outputId": "df2727bc-db8a-4ce3-d675-9b4ecdc3f737"
      },
      "id": "DG6m7ohkVePh",
      "execution_count": 98,
      "outputs": [
        {
          "output_type": "execute_result",
          "data": {
            "text/plain": [
              "['NAICS',\n",
              " 'City',\n",
              " 'Bank',\n",
              " 'EconomicSector',\n",
              " 'FranchiseCode',\n",
              " 'BankState',\n",
              " 'State',\n",
              " 'Zip']"
            ]
          },
          "metadata": {},
          "execution_count": 98
        }
      ]
    },
    {
      "cell_type": "code",
      "execution_count": 99,
      "id": "fc87685c-c434-4f40-b903-e0ea5f85da61",
      "metadata": {
        "id": "fc87685c-c434-4f40-b903-e0ea5f85da61"
      },
      "outputs": [],
      "source": [
        "# drop the unencoded columns\n",
        "x_train.drop(columns=original_columns_processed,axis=1,inplace=True)"
      ]
    },
    {
      "cell_type": "code",
      "execution_count": 100,
      "id": "9774fbc9-4e97-4bc4-bccc-81eebf663e1d",
      "metadata": {
        "id": "9774fbc9-4e97-4bc4-bccc-81eebf663e1d"
      },
      "outputs": [],
      "source": [
        "#steps repeated for validation\n",
        "x_val.drop(columns=original_columns_processed,axis=1,inplace=True)"
      ]
    },
    {
      "cell_type": "code",
      "source": [
        "print(x_train)"
      ],
      "metadata": {
        "colab": {
          "base_uri": "https://localhost:8080/"
        },
        "id": "cREhnqnkWzdS",
        "outputId": "cccc51f5-ff47-4acf-fc6f-d460792d0f58"
      },
      "id": "cREhnqnkWzdS",
      "execution_count": 101,
      "outputs": [
        {
          "output_type": "stream",
          "name": "stdout",
          "text": [
            "        NoEmp  NewExist  CreateJob  RetainedJob  UrbanRural RevLineCr LowDoc  \\\n",
            "460275  4.500       1.0        0.0         9.75           1         N      N   \n",
            "508689  3.875       1.0        0.0        -0.25           0         N      N   \n",
            "491539 -0.125       1.0        1.0        -0.25           1         N      N   \n",
            "525848 -0.250       2.0        0.0        -0.25           0         N      Y   \n",
            "58280  -0.250       1.0        0.0         0.25           2         N      N   \n",
            "...       ...       ...        ...          ...         ...       ...    ...   \n",
            "578687  1.500       2.0        0.0        -0.25           0         N      N   \n",
            "170150  0.625       2.0        0.0        -0.25           0         N      N   \n",
            "516750  1.375       0.0        0.0        -0.25           2         N      N   \n",
            "115417  1.000       1.0        6.0         4.25           2         N      N   \n",
            "317121  0.250       1.0        6.0         2.75           1         N      N   \n",
            "\n",
            "        DisbursementGross  BalanceGross     GrAppv  ...  \\\n",
            "460275           9.765306           0.0  10.126316  ...   \n",
            "508689           0.255102           0.0   0.315789  ...   \n",
            "491539           1.239796           0.0   1.331579  ...   \n",
            "525848          -0.382653           0.0  -0.342105  ...   \n",
            "58280            0.484694           0.0   0.552632  ...   \n",
            "...                   ...           ...        ...  ...   \n",
            "578687           0.510204           0.0   1.142105  ...   \n",
            "170150           0.216837           0.0   0.276316  ...   \n",
            "516750           5.367347           0.0   5.589474  ...   \n",
            "115417           0.306122           0.0   0.368421  ...   \n",
            "317121           1.096939           0.0   1.184211  ...   \n",
            "\n",
            "        NoEmp CreditUtilizationRatio  LoanPerEmployee CreditUtilizationRatio  \\\n",
            "460275                      8.451195                                3.534001   \n",
            "508689                      3.388889                               -0.456140   \n",
            "491539                     -0.250000                                2.076316   \n",
            "525848                     -0.312734                               -0.335896   \n",
            "58280                      -0.166667                                3.473684   \n",
            "...                              ...                                     ...   \n",
            "578687                      1.068627                                0.039337   \n",
            "170150                      0.500000                               -0.031579   \n",
            "516750                      1.166667                                2.400000   \n",
            "115417                      1.500000                                0.145749   \n",
            "317121                      0.166667                                1.263158   \n",
            "\n",
            "        City_woe  State_woe   Zip_woe  Bank_woe  BankState_woe  NAICS_woe  \\\n",
            "460275 -0.184030   0.064374  0.054709 -2.804880       0.270315  -0.231808   \n",
            "508689 -0.278936   0.064374 -0.414602 -0.256372       0.024025  -0.845785   \n",
            "491539 -0.278936   0.064374 -0.061463 -5.519344       0.270315   0.112397   \n",
            "525848 -0.228517   0.320407 -0.100683 -0.435424      -0.118180  -0.434362   \n",
            "58280  -0.043113   0.320407  0.232299 -0.580256      -0.753690   0.450656   \n",
            "...          ...        ...       ...       ...            ...        ...   \n",
            "578687  0.455686   0.340464 -0.094252  0.560335       0.669692  -0.845785   \n",
            "170150  0.631685   0.133618  0.491923 -0.531466      -0.216663  -0.396393   \n",
            "516750 -0.100683  -0.233034 -0.703316  0.742377      -0.150279   0.001407   \n",
            "115417 -0.061463   0.115207  0.536374 -0.318113       0.669692  -0.061463   \n",
            "317121  0.495454   0.064374  0.675035 -0.256372       0.270315   0.911987   \n",
            "\n",
            "        FranchiseCode_woe  EconomicSector_woe  \n",
            "460275           -0.41443           -0.307957  \n",
            "508689           -0.41443           -0.845785  \n",
            "491539           -0.41443            0.091940  \n",
            "525848           -0.41443            0.353130  \n",
            "58280            -0.41443            0.422133  \n",
            "...                   ...                 ...  \n",
            "578687           -0.41443           -0.845785  \n",
            "170150           -0.41443           -0.609887  \n",
            "516750           -0.41443            0.302860  \n",
            "115417           -0.41443           -0.307957  \n",
            "317121           -0.41443            0.134996  \n",
            "\n",
            "[728322 rows x 47 columns]\n"
          ]
        }
      ]
    },
    {
      "cell_type": "code",
      "execution_count": 102,
      "id": "503e61ff-ef27-4ad8-8a3e-0458961ca33f",
      "metadata": {
        "colab": {
          "base_uri": "https://localhost:8080/",
          "height": 75
        },
        "id": "503e61ff-ef27-4ad8-8a3e-0458961ca33f",
        "outputId": "349cae45-a925-4739-bbac-e3f967c24961"
      },
      "outputs": [
        {
          "output_type": "execute_result",
          "data": {
            "text/plain": [
              "OneHotEncoder(drop='first', sparse_output=False)"
            ],
            "text/html": [
              "<style>#sk-container-id-2 {color: black;}#sk-container-id-2 pre{padding: 0;}#sk-container-id-2 div.sk-toggleable {background-color: white;}#sk-container-id-2 label.sk-toggleable__label {cursor: pointer;display: block;width: 100%;margin-bottom: 0;padding: 0.3em;box-sizing: border-box;text-align: center;}#sk-container-id-2 label.sk-toggleable__label-arrow:before {content: \"▸\";float: left;margin-right: 0.25em;color: #696969;}#sk-container-id-2 label.sk-toggleable__label-arrow:hover:before {color: black;}#sk-container-id-2 div.sk-estimator:hover label.sk-toggleable__label-arrow:before {color: black;}#sk-container-id-2 div.sk-toggleable__content {max-height: 0;max-width: 0;overflow: hidden;text-align: left;background-color: #f0f8ff;}#sk-container-id-2 div.sk-toggleable__content pre {margin: 0.2em;color: black;border-radius: 0.25em;background-color: #f0f8ff;}#sk-container-id-2 input.sk-toggleable__control:checked~div.sk-toggleable__content {max-height: 200px;max-width: 100%;overflow: auto;}#sk-container-id-2 input.sk-toggleable__control:checked~label.sk-toggleable__label-arrow:before {content: \"▾\";}#sk-container-id-2 div.sk-estimator input.sk-toggleable__control:checked~label.sk-toggleable__label {background-color: #d4ebff;}#sk-container-id-2 div.sk-label input.sk-toggleable__control:checked~label.sk-toggleable__label {background-color: #d4ebff;}#sk-container-id-2 input.sk-hidden--visually {border: 0;clip: rect(1px 1px 1px 1px);clip: rect(1px, 1px, 1px, 1px);height: 1px;margin: -1px;overflow: hidden;padding: 0;position: absolute;width: 1px;}#sk-container-id-2 div.sk-estimator {font-family: monospace;background-color: #f0f8ff;border: 1px dotted black;border-radius: 0.25em;box-sizing: border-box;margin-bottom: 0.5em;}#sk-container-id-2 div.sk-estimator:hover {background-color: #d4ebff;}#sk-container-id-2 div.sk-parallel-item::after {content: \"\";width: 100%;border-bottom: 1px solid gray;flex-grow: 1;}#sk-container-id-2 div.sk-label:hover label.sk-toggleable__label {background-color: #d4ebff;}#sk-container-id-2 div.sk-serial::before {content: \"\";position: absolute;border-left: 1px solid gray;box-sizing: border-box;top: 0;bottom: 0;left: 50%;z-index: 0;}#sk-container-id-2 div.sk-serial {display: flex;flex-direction: column;align-items: center;background-color: white;padding-right: 0.2em;padding-left: 0.2em;position: relative;}#sk-container-id-2 div.sk-item {position: relative;z-index: 1;}#sk-container-id-2 div.sk-parallel {display: flex;align-items: stretch;justify-content: center;background-color: white;position: relative;}#sk-container-id-2 div.sk-item::before, #sk-container-id-2 div.sk-parallel-item::before {content: \"\";position: absolute;border-left: 1px solid gray;box-sizing: border-box;top: 0;bottom: 0;left: 50%;z-index: -1;}#sk-container-id-2 div.sk-parallel-item {display: flex;flex-direction: column;z-index: 1;position: relative;background-color: white;}#sk-container-id-2 div.sk-parallel-item:first-child::after {align-self: flex-end;width: 50%;}#sk-container-id-2 div.sk-parallel-item:last-child::after {align-self: flex-start;width: 50%;}#sk-container-id-2 div.sk-parallel-item:only-child::after {width: 0;}#sk-container-id-2 div.sk-dashed-wrapped {border: 1px dashed gray;margin: 0 0.4em 0.5em 0.4em;box-sizing: border-box;padding-bottom: 0.4em;background-color: white;}#sk-container-id-2 div.sk-label label {font-family: monospace;font-weight: bold;display: inline-block;line-height: 1.2em;}#sk-container-id-2 div.sk-label-container {text-align: center;}#sk-container-id-2 div.sk-container {/* jupyter's `normalize.less` sets `[hidden] { display: none; }` but bootstrap.min.css set `[hidden] { display: none !important; }` so we also need the `!important` here to be able to override the default hidden behavior on the sphinx rendered scikit-learn.org. See: https://github.com/scikit-learn/scikit-learn/issues/21755 */display: inline-block !important;position: relative;}#sk-container-id-2 div.sk-text-repr-fallback {display: none;}</style><div id=\"sk-container-id-2\" class=\"sk-top-container\"><div class=\"sk-text-repr-fallback\"><pre>OneHotEncoder(drop=&#x27;first&#x27;, sparse_output=False)</pre><b>In a Jupyter environment, please rerun this cell to show the HTML representation or trust the notebook. <br />On GitHub, the HTML representation is unable to render, please try loading this page with nbviewer.org.</b></div><div class=\"sk-container\" hidden><div class=\"sk-item\"><div class=\"sk-estimator sk-toggleable\"><input class=\"sk-toggleable__control sk-hidden--visually\" id=\"sk-estimator-id-2\" type=\"checkbox\" checked><label for=\"sk-estimator-id-2\" class=\"sk-toggleable__label sk-toggleable__label-arrow\">OneHotEncoder</label><div class=\"sk-toggleable__content\"><pre>OneHotEncoder(drop=&#x27;first&#x27;, sparse_output=False)</pre></div></div></div></div></div>"
            ]
          },
          "metadata": {},
          "execution_count": 102
        }
      ],
      "source": [
        "from sklearn.preprocessing import OneHotEncoder\n",
        "import numpy as np\n",
        "# Initialize the OneHotEncoder\n",
        "ohe_encoder = OneHotEncoder(sparse_output=False,drop='first')  # `drop='first'` to drop the first category to avoid multicollinearity\n",
        "# LoanSizeCategory: Column Dropped is LoanSizeCategoryLarge\n",
        "# JobCreationCategory: Column Dropped is JobCreationCategoryFew\n",
        "# RevLineCr: Column Dropped is RevLineCrN\n",
        "# LowDoc: Column Dropped is LowDocN\n",
        "\n",
        "# Fit the encoder on the training data\n",
        "ohe_encoder.fit(x_train[cat_vars_for_one_hot])\n"
      ]
    },
    {
      "cell_type": "code",
      "execution_count": 103,
      "id": "ba18208a-5a85-43ef-a04d-c9c4f3ea8e54",
      "metadata": {
        "id": "ba18208a-5a85-43ef-a04d-c9c4f3ea8e54"
      },
      "outputs": [],
      "source": [
        "x_train_ohe = ohe_encoder.transform(x_train[cat_vars_for_one_hot])\n",
        "# Convert to DataFrame and name columns\n",
        "columns = ohe_encoder.get_feature_names_out(cat_vars_for_one_hot)\n",
        "x_train_ohe = pd.DataFrame(x_train_ohe, columns=columns, index=x_train.index)\n",
        "\n",
        "# Repeat for validation/test data\n",
        "x_val_ohe = ohe_encoder.transform(x_val[cat_vars_for_one_hot])\n",
        "x_val_ohe = pd.DataFrame(x_val_ohe, columns=columns, index=x_val.index)\n"
      ]
    },
    {
      "cell_type": "code",
      "execution_count": 104,
      "id": "a8d8b2bd-e661-4543-b730-25f476c5e4b0",
      "metadata": {
        "id": "a8d8b2bd-e661-4543-b730-25f476c5e4b0"
      },
      "outputs": [],
      "source": [
        "# add onehot encoded columns to x_train and x_val\n",
        "x_train = pd.concat([x_train.drop(columns=cat_vars_for_one_hot), x_train_ohe], axis=1)"
      ]
    },
    {
      "cell_type": "code",
      "execution_count": 105,
      "id": "ced8a9f1-3e2d-460a-8181-59bf2eac210a",
      "metadata": {
        "id": "ced8a9f1-3e2d-460a-8181-59bf2eac210a"
      },
      "outputs": [],
      "source": [
        "x_val = pd.concat([x_val.drop(columns=cat_vars_for_one_hot), x_val_ohe], axis=1)"
      ]
    },
    {
      "cell_type": "code",
      "execution_count": 106,
      "id": "b150e2e9-6400-406a-a1b3-165e029f40c4",
      "metadata": {
        "colab": {
          "base_uri": "https://localhost:8080/",
          "height": 444
        },
        "id": "b150e2e9-6400-406a-a1b3-165e029f40c4",
        "outputId": "a425592a-f2f5-4d6a-9a29-2c7e37119782"
      },
      "outputs": [
        {
          "output_type": "execute_result",
          "data": {
            "text/plain": [
              "        NoEmp  CreateJob  RetainedJob  DisbursementGross  BalanceGross  \\\n",
              "460275  4.500        0.0         9.75           9.765306           0.0   \n",
              "508689  3.875        0.0        -0.25           0.255102           0.0   \n",
              "491539 -0.125        1.0        -0.25           1.239796           0.0   \n",
              "525848 -0.250        0.0        -0.25          -0.382653           0.0   \n",
              "58280  -0.250        0.0         0.25           0.484694           0.0   \n",
              "...       ...        ...          ...                ...           ...   \n",
              "578687  1.500        0.0        -0.25           0.510204           0.0   \n",
              "170150  0.625        0.0        -0.25           0.216837           0.0   \n",
              "516750  1.375        0.0        -0.25           5.367347           0.0   \n",
              "115417  1.000        6.0         4.25           0.306122           0.0   \n",
              "317121  0.250        6.0         2.75           1.096939           0.0   \n",
              "\n",
              "           GrAppv  SBA_Appv  CreditUtilizationRatio  LoanPerEmployee  \\\n",
              "460275  10.126316  4.479340                1.641745         1.506889   \n",
              "508689   0.315789  0.333044                0.000000        -0.385965   \n",
              "491539   1.331579  1.832231               -0.404762         3.049123   \n",
              "525848  -0.342105 -0.253948               -0.254682        -0.210526   \n",
              "58280    0.552632  0.235483                0.809524         2.175439   \n",
              "...           ...       ...                     ...              ...   \n",
              "578687   1.142105  1.298572               -0.190476         0.198968   \n",
              "170150   0.276316  0.296459                0.000000         0.038596   \n",
              "516750   5.589474  5.220849                0.000000         2.470175   \n",
              "115417   0.368421  0.121662                0.809524        -0.043185   \n",
              "317121   1.184211  1.137922                0.000000         1.333333   \n",
              "\n",
              "        GrAppv_x_SBA_Appv  ...  UrbanRural_1  UrbanRural_2  RevLineCr_Y  \\\n",
              "460275          39.340595  ...           1.0           0.0          0.0   \n",
              "508689           0.310311  ...           0.0           0.0          0.0   \n",
              "491539           2.943687  ...           1.0           0.0          0.0   \n",
              "525848          -0.116122  ...           0.0           0.0          0.0   \n",
              "58280            0.366168  ...           0.0           1.0          0.0   \n",
              "...                   ...  ...           ...           ...          ...   \n",
              "578687           1.962780  ...           0.0           0.0          0.0   \n",
              "170150           0.267317  ...           0.0           0.0          0.0   \n",
              "516750          25.878750  ...           0.0           1.0          0.0   \n",
              "115417           0.203826  ...           0.0           1.0          0.0   \n",
              "317121           1.814016  ...           1.0           0.0          0.0   \n",
              "\n",
              "        LowDoc_Y  NewBusiness_1  ProfitabilityIndicator_1  IsUrban_1  \\\n",
              "460275       0.0            0.0                       1.0        1.0   \n",
              "508689       0.0            0.0                       0.0        0.0   \n",
              "491539       0.0            0.0                       0.0        1.0   \n",
              "525848       1.0            1.0                       0.0        0.0   \n",
              "58280        0.0            0.0                       1.0        0.0   \n",
              "...          ...            ...                       ...        ...   \n",
              "578687       0.0            1.0                       0.0        0.0   \n",
              "170150       0.0            1.0                       0.0        0.0   \n",
              "516750       0.0            0.0                       0.0        0.0   \n",
              "115417       0.0            0.0                       1.0        0.0   \n",
              "317121       0.0            0.0                       1.0        1.0   \n",
              "\n",
              "        IsRural_1  RevLineCr_Y_flag_1  LowDoc_Y_flag_1  \n",
              "460275        0.0                 0.0              0.0  \n",
              "508689        0.0                 0.0              0.0  \n",
              "491539        0.0                 0.0              0.0  \n",
              "525848        0.0                 0.0              1.0  \n",
              "58280         1.0                 0.0              0.0  \n",
              "...           ...                 ...              ...  \n",
              "578687        0.0                 0.0              0.0  \n",
              "170150        0.0                 0.0              0.0  \n",
              "516750        1.0                 0.0              0.0  \n",
              "115417        1.0                 0.0              0.0  \n",
              "317121        0.0                 0.0              0.0  \n",
              "\n",
              "[728322 rows x 49 columns]"
            ],
            "text/html": [
              "\n",
              "  <div id=\"df-28e20d55-3342-4598-a532-b6f3782df9ad\" class=\"colab-df-container\">\n",
              "    <div>\n",
              "<style scoped>\n",
              "    .dataframe tbody tr th:only-of-type {\n",
              "        vertical-align: middle;\n",
              "    }\n",
              "\n",
              "    .dataframe tbody tr th {\n",
              "        vertical-align: top;\n",
              "    }\n",
              "\n",
              "    .dataframe thead th {\n",
              "        text-align: right;\n",
              "    }\n",
              "</style>\n",
              "<table border=\"1\" class=\"dataframe\">\n",
              "  <thead>\n",
              "    <tr style=\"text-align: right;\">\n",
              "      <th></th>\n",
              "      <th>NoEmp</th>\n",
              "      <th>CreateJob</th>\n",
              "      <th>RetainedJob</th>\n",
              "      <th>DisbursementGross</th>\n",
              "      <th>BalanceGross</th>\n",
              "      <th>GrAppv</th>\n",
              "      <th>SBA_Appv</th>\n",
              "      <th>CreditUtilizationRatio</th>\n",
              "      <th>LoanPerEmployee</th>\n",
              "      <th>GrAppv_x_SBA_Appv</th>\n",
              "      <th>...</th>\n",
              "      <th>UrbanRural_1</th>\n",
              "      <th>UrbanRural_2</th>\n",
              "      <th>RevLineCr_Y</th>\n",
              "      <th>LowDoc_Y</th>\n",
              "      <th>NewBusiness_1</th>\n",
              "      <th>ProfitabilityIndicator_1</th>\n",
              "      <th>IsUrban_1</th>\n",
              "      <th>IsRural_1</th>\n",
              "      <th>RevLineCr_Y_flag_1</th>\n",
              "      <th>LowDoc_Y_flag_1</th>\n",
              "    </tr>\n",
              "  </thead>\n",
              "  <tbody>\n",
              "    <tr>\n",
              "      <th>460275</th>\n",
              "      <td>4.500</td>\n",
              "      <td>0.0</td>\n",
              "      <td>9.75</td>\n",
              "      <td>9.765306</td>\n",
              "      <td>0.0</td>\n",
              "      <td>10.126316</td>\n",
              "      <td>4.479340</td>\n",
              "      <td>1.641745</td>\n",
              "      <td>1.506889</td>\n",
              "      <td>39.340595</td>\n",
              "      <td>...</td>\n",
              "      <td>1.0</td>\n",
              "      <td>0.0</td>\n",
              "      <td>0.0</td>\n",
              "      <td>0.0</td>\n",
              "      <td>0.0</td>\n",
              "      <td>1.0</td>\n",
              "      <td>1.0</td>\n",
              "      <td>0.0</td>\n",
              "      <td>0.0</td>\n",
              "      <td>0.0</td>\n",
              "    </tr>\n",
              "    <tr>\n",
              "      <th>508689</th>\n",
              "      <td>3.875</td>\n",
              "      <td>0.0</td>\n",
              "      <td>-0.25</td>\n",
              "      <td>0.255102</td>\n",
              "      <td>0.0</td>\n",
              "      <td>0.315789</td>\n",
              "      <td>0.333044</td>\n",
              "      <td>0.000000</td>\n",
              "      <td>-0.385965</td>\n",
              "      <td>0.310311</td>\n",
              "      <td>...</td>\n",
              "      <td>0.0</td>\n",
              "      <td>0.0</td>\n",
              "      <td>0.0</td>\n",
              "      <td>0.0</td>\n",
              "      <td>0.0</td>\n",
              "      <td>0.0</td>\n",
              "      <td>0.0</td>\n",
              "      <td>0.0</td>\n",
              "      <td>0.0</td>\n",
              "      <td>0.0</td>\n",
              "    </tr>\n",
              "    <tr>\n",
              "      <th>491539</th>\n",
              "      <td>-0.125</td>\n",
              "      <td>1.0</td>\n",
              "      <td>-0.25</td>\n",
              "      <td>1.239796</td>\n",
              "      <td>0.0</td>\n",
              "      <td>1.331579</td>\n",
              "      <td>1.832231</td>\n",
              "      <td>-0.404762</td>\n",
              "      <td>3.049123</td>\n",
              "      <td>2.943687</td>\n",
              "      <td>...</td>\n",
              "      <td>1.0</td>\n",
              "      <td>0.0</td>\n",
              "      <td>0.0</td>\n",
              "      <td>0.0</td>\n",
              "      <td>0.0</td>\n",
              "      <td>0.0</td>\n",
              "      <td>1.0</td>\n",
              "      <td>0.0</td>\n",
              "      <td>0.0</td>\n",
              "      <td>0.0</td>\n",
              "    </tr>\n",
              "    <tr>\n",
              "      <th>525848</th>\n",
              "      <td>-0.250</td>\n",
              "      <td>0.0</td>\n",
              "      <td>-0.25</td>\n",
              "      <td>-0.382653</td>\n",
              "      <td>0.0</td>\n",
              "      <td>-0.342105</td>\n",
              "      <td>-0.253948</td>\n",
              "      <td>-0.254682</td>\n",
              "      <td>-0.210526</td>\n",
              "      <td>-0.116122</td>\n",
              "      <td>...</td>\n",
              "      <td>0.0</td>\n",
              "      <td>0.0</td>\n",
              "      <td>0.0</td>\n",
              "      <td>1.0</td>\n",
              "      <td>1.0</td>\n",
              "      <td>0.0</td>\n",
              "      <td>0.0</td>\n",
              "      <td>0.0</td>\n",
              "      <td>0.0</td>\n",
              "      <td>1.0</td>\n",
              "    </tr>\n",
              "    <tr>\n",
              "      <th>58280</th>\n",
              "      <td>-0.250</td>\n",
              "      <td>0.0</td>\n",
              "      <td>0.25</td>\n",
              "      <td>0.484694</td>\n",
              "      <td>0.0</td>\n",
              "      <td>0.552632</td>\n",
              "      <td>0.235483</td>\n",
              "      <td>0.809524</td>\n",
              "      <td>2.175439</td>\n",
              "      <td>0.366168</td>\n",
              "      <td>...</td>\n",
              "      <td>0.0</td>\n",
              "      <td>1.0</td>\n",
              "      <td>0.0</td>\n",
              "      <td>0.0</td>\n",
              "      <td>0.0</td>\n",
              "      <td>1.0</td>\n",
              "      <td>0.0</td>\n",
              "      <td>1.0</td>\n",
              "      <td>0.0</td>\n",
              "      <td>0.0</td>\n",
              "    </tr>\n",
              "    <tr>\n",
              "      <th>...</th>\n",
              "      <td>...</td>\n",
              "      <td>...</td>\n",
              "      <td>...</td>\n",
              "      <td>...</td>\n",
              "      <td>...</td>\n",
              "      <td>...</td>\n",
              "      <td>...</td>\n",
              "      <td>...</td>\n",
              "      <td>...</td>\n",
              "      <td>...</td>\n",
              "      <td>...</td>\n",
              "      <td>...</td>\n",
              "      <td>...</td>\n",
              "      <td>...</td>\n",
              "      <td>...</td>\n",
              "      <td>...</td>\n",
              "      <td>...</td>\n",
              "      <td>...</td>\n",
              "      <td>...</td>\n",
              "      <td>...</td>\n",
              "      <td>...</td>\n",
              "    </tr>\n",
              "    <tr>\n",
              "      <th>578687</th>\n",
              "      <td>1.500</td>\n",
              "      <td>0.0</td>\n",
              "      <td>-0.25</td>\n",
              "      <td>0.510204</td>\n",
              "      <td>0.0</td>\n",
              "      <td>1.142105</td>\n",
              "      <td>1.298572</td>\n",
              "      <td>-0.190476</td>\n",
              "      <td>0.198968</td>\n",
              "      <td>1.962780</td>\n",
              "      <td>...</td>\n",
              "      <td>0.0</td>\n",
              "      <td>0.0</td>\n",
              "      <td>0.0</td>\n",
              "      <td>0.0</td>\n",
              "      <td>1.0</td>\n",
              "      <td>0.0</td>\n",
              "      <td>0.0</td>\n",
              "      <td>0.0</td>\n",
              "      <td>0.0</td>\n",
              "      <td>0.0</td>\n",
              "    </tr>\n",
              "    <tr>\n",
              "      <th>170150</th>\n",
              "      <td>0.625</td>\n",
              "      <td>0.0</td>\n",
              "      <td>-0.25</td>\n",
              "      <td>0.216837</td>\n",
              "      <td>0.0</td>\n",
              "      <td>0.276316</td>\n",
              "      <td>0.296459</td>\n",
              "      <td>0.000000</td>\n",
              "      <td>0.038596</td>\n",
              "      <td>0.267317</td>\n",
              "      <td>...</td>\n",
              "      <td>0.0</td>\n",
              "      <td>0.0</td>\n",
              "      <td>0.0</td>\n",
              "      <td>0.0</td>\n",
              "      <td>1.0</td>\n",
              "      <td>0.0</td>\n",
              "      <td>0.0</td>\n",
              "      <td>0.0</td>\n",
              "      <td>0.0</td>\n",
              "      <td>0.0</td>\n",
              "    </tr>\n",
              "    <tr>\n",
              "      <th>516750</th>\n",
              "      <td>1.375</td>\n",
              "      <td>0.0</td>\n",
              "      <td>-0.25</td>\n",
              "      <td>5.367347</td>\n",
              "      <td>0.0</td>\n",
              "      <td>5.589474</td>\n",
              "      <td>5.220849</td>\n",
              "      <td>0.000000</td>\n",
              "      <td>2.470175</td>\n",
              "      <td>25.878750</td>\n",
              "      <td>...</td>\n",
              "      <td>0.0</td>\n",
              "      <td>1.0</td>\n",
              "      <td>0.0</td>\n",
              "      <td>0.0</td>\n",
              "      <td>0.0</td>\n",
              "      <td>0.0</td>\n",
              "      <td>0.0</td>\n",
              "      <td>1.0</td>\n",
              "      <td>0.0</td>\n",
              "      <td>0.0</td>\n",
              "    </tr>\n",
              "    <tr>\n",
              "      <th>115417</th>\n",
              "      <td>1.000</td>\n",
              "      <td>6.0</td>\n",
              "      <td>4.25</td>\n",
              "      <td>0.306122</td>\n",
              "      <td>0.0</td>\n",
              "      <td>0.368421</td>\n",
              "      <td>0.121662</td>\n",
              "      <td>0.809524</td>\n",
              "      <td>-0.043185</td>\n",
              "      <td>0.203826</td>\n",
              "      <td>...</td>\n",
              "      <td>0.0</td>\n",
              "      <td>1.0</td>\n",
              "      <td>0.0</td>\n",
              "      <td>0.0</td>\n",
              "      <td>0.0</td>\n",
              "      <td>1.0</td>\n",
              "      <td>0.0</td>\n",
              "      <td>1.0</td>\n",
              "      <td>0.0</td>\n",
              "      <td>0.0</td>\n",
              "    </tr>\n",
              "    <tr>\n",
              "      <th>317121</th>\n",
              "      <td>0.250</td>\n",
              "      <td>6.0</td>\n",
              "      <td>2.75</td>\n",
              "      <td>1.096939</td>\n",
              "      <td>0.0</td>\n",
              "      <td>1.184211</td>\n",
              "      <td>1.137922</td>\n",
              "      <td>0.000000</td>\n",
              "      <td>1.333333</td>\n",
              "      <td>1.814016</td>\n",
              "      <td>...</td>\n",
              "      <td>1.0</td>\n",
              "      <td>0.0</td>\n",
              "      <td>0.0</td>\n",
              "      <td>0.0</td>\n",
              "      <td>0.0</td>\n",
              "      <td>1.0</td>\n",
              "      <td>1.0</td>\n",
              "      <td>0.0</td>\n",
              "      <td>0.0</td>\n",
              "      <td>0.0</td>\n",
              "    </tr>\n",
              "  </tbody>\n",
              "</table>\n",
              "<p>728322 rows × 49 columns</p>\n",
              "</div>\n",
              "    <div class=\"colab-df-buttons\">\n",
              "\n",
              "  <div class=\"colab-df-container\">\n",
              "    <button class=\"colab-df-convert\" onclick=\"convertToInteractive('df-28e20d55-3342-4598-a532-b6f3782df9ad')\"\n",
              "            title=\"Convert this dataframe to an interactive table.\"\n",
              "            style=\"display:none;\">\n",
              "\n",
              "  <svg xmlns=\"http://www.w3.org/2000/svg\" height=\"24px\" viewBox=\"0 -960 960 960\">\n",
              "    <path d=\"M120-120v-720h720v720H120Zm60-500h600v-160H180v160Zm220 220h160v-160H400v160Zm0 220h160v-160H400v160ZM180-400h160v-160H180v160Zm440 0h160v-160H620v160ZM180-180h160v-160H180v160Zm440 0h160v-160H620v160Z\"/>\n",
              "  </svg>\n",
              "    </button>\n",
              "\n",
              "  <style>\n",
              "    .colab-df-container {\n",
              "      display:flex;\n",
              "      gap: 12px;\n",
              "    }\n",
              "\n",
              "    .colab-df-convert {\n",
              "      background-color: #E8F0FE;\n",
              "      border: none;\n",
              "      border-radius: 50%;\n",
              "      cursor: pointer;\n",
              "      display: none;\n",
              "      fill: #1967D2;\n",
              "      height: 32px;\n",
              "      padding: 0 0 0 0;\n",
              "      width: 32px;\n",
              "    }\n",
              "\n",
              "    .colab-df-convert:hover {\n",
              "      background-color: #E2EBFA;\n",
              "      box-shadow: 0px 1px 2px rgba(60, 64, 67, 0.3), 0px 1px 3px 1px rgba(60, 64, 67, 0.15);\n",
              "      fill: #174EA6;\n",
              "    }\n",
              "\n",
              "    .colab-df-buttons div {\n",
              "      margin-bottom: 4px;\n",
              "    }\n",
              "\n",
              "    [theme=dark] .colab-df-convert {\n",
              "      background-color: #3B4455;\n",
              "      fill: #D2E3FC;\n",
              "    }\n",
              "\n",
              "    [theme=dark] .colab-df-convert:hover {\n",
              "      background-color: #434B5C;\n",
              "      box-shadow: 0px 1px 3px 1px rgba(0, 0, 0, 0.15);\n",
              "      filter: drop-shadow(0px 1px 2px rgba(0, 0, 0, 0.3));\n",
              "      fill: #FFFFFF;\n",
              "    }\n",
              "  </style>\n",
              "\n",
              "    <script>\n",
              "      const buttonEl =\n",
              "        document.querySelector('#df-28e20d55-3342-4598-a532-b6f3782df9ad button.colab-df-convert');\n",
              "      buttonEl.style.display =\n",
              "        google.colab.kernel.accessAllowed ? 'block' : 'none';\n",
              "\n",
              "      async function convertToInteractive(key) {\n",
              "        const element = document.querySelector('#df-28e20d55-3342-4598-a532-b6f3782df9ad');\n",
              "        const dataTable =\n",
              "          await google.colab.kernel.invokeFunction('convertToInteractive',\n",
              "                                                    [key], {});\n",
              "        if (!dataTable) return;\n",
              "\n",
              "        const docLinkHtml = 'Like what you see? Visit the ' +\n",
              "          '<a target=\"_blank\" href=https://colab.research.google.com/notebooks/data_table.ipynb>data table notebook</a>'\n",
              "          + ' to learn more about interactive tables.';\n",
              "        element.innerHTML = '';\n",
              "        dataTable['output_type'] = 'display_data';\n",
              "        await google.colab.output.renderOutput(dataTable, element);\n",
              "        const docLink = document.createElement('div');\n",
              "        docLink.innerHTML = docLinkHtml;\n",
              "        element.appendChild(docLink);\n",
              "      }\n",
              "    </script>\n",
              "  </div>\n",
              "\n",
              "\n",
              "<div id=\"df-4568ddf1-dfb3-4350-a3ca-f2c48e1c7233\">\n",
              "  <button class=\"colab-df-quickchart\" onclick=\"quickchart('df-4568ddf1-dfb3-4350-a3ca-f2c48e1c7233')\"\n",
              "            title=\"Suggest charts\"\n",
              "            style=\"display:none;\">\n",
              "\n",
              "<svg xmlns=\"http://www.w3.org/2000/svg\" height=\"24px\"viewBox=\"0 0 24 24\"\n",
              "     width=\"24px\">\n",
              "    <g>\n",
              "        <path d=\"M19 3H5c-1.1 0-2 .9-2 2v14c0 1.1.9 2 2 2h14c1.1 0 2-.9 2-2V5c0-1.1-.9-2-2-2zM9 17H7v-7h2v7zm4 0h-2V7h2v10zm4 0h-2v-4h2v4z\"/>\n",
              "    </g>\n",
              "</svg>\n",
              "  </button>\n",
              "\n",
              "<style>\n",
              "  .colab-df-quickchart {\n",
              "      --bg-color: #E8F0FE;\n",
              "      --fill-color: #1967D2;\n",
              "      --hover-bg-color: #E2EBFA;\n",
              "      --hover-fill-color: #174EA6;\n",
              "      --disabled-fill-color: #AAA;\n",
              "      --disabled-bg-color: #DDD;\n",
              "  }\n",
              "\n",
              "  [theme=dark] .colab-df-quickchart {\n",
              "      --bg-color: #3B4455;\n",
              "      --fill-color: #D2E3FC;\n",
              "      --hover-bg-color: #434B5C;\n",
              "      --hover-fill-color: #FFFFFF;\n",
              "      --disabled-bg-color: #3B4455;\n",
              "      --disabled-fill-color: #666;\n",
              "  }\n",
              "\n",
              "  .colab-df-quickchart {\n",
              "    background-color: var(--bg-color);\n",
              "    border: none;\n",
              "    border-radius: 50%;\n",
              "    cursor: pointer;\n",
              "    display: none;\n",
              "    fill: var(--fill-color);\n",
              "    height: 32px;\n",
              "    padding: 0;\n",
              "    width: 32px;\n",
              "  }\n",
              "\n",
              "  .colab-df-quickchart:hover {\n",
              "    background-color: var(--hover-bg-color);\n",
              "    box-shadow: 0 1px 2px rgba(60, 64, 67, 0.3), 0 1px 3px 1px rgba(60, 64, 67, 0.15);\n",
              "    fill: var(--button-hover-fill-color);\n",
              "  }\n",
              "\n",
              "  .colab-df-quickchart-complete:disabled,\n",
              "  .colab-df-quickchart-complete:disabled:hover {\n",
              "    background-color: var(--disabled-bg-color);\n",
              "    fill: var(--disabled-fill-color);\n",
              "    box-shadow: none;\n",
              "  }\n",
              "\n",
              "  .colab-df-spinner {\n",
              "    border: 2px solid var(--fill-color);\n",
              "    border-color: transparent;\n",
              "    border-bottom-color: var(--fill-color);\n",
              "    animation:\n",
              "      spin 1s steps(1) infinite;\n",
              "  }\n",
              "\n",
              "  @keyframes spin {\n",
              "    0% {\n",
              "      border-color: transparent;\n",
              "      border-bottom-color: var(--fill-color);\n",
              "      border-left-color: var(--fill-color);\n",
              "    }\n",
              "    20% {\n",
              "      border-color: transparent;\n",
              "      border-left-color: var(--fill-color);\n",
              "      border-top-color: var(--fill-color);\n",
              "    }\n",
              "    30% {\n",
              "      border-color: transparent;\n",
              "      border-left-color: var(--fill-color);\n",
              "      border-top-color: var(--fill-color);\n",
              "      border-right-color: var(--fill-color);\n",
              "    }\n",
              "    40% {\n",
              "      border-color: transparent;\n",
              "      border-right-color: var(--fill-color);\n",
              "      border-top-color: var(--fill-color);\n",
              "    }\n",
              "    60% {\n",
              "      border-color: transparent;\n",
              "      border-right-color: var(--fill-color);\n",
              "    }\n",
              "    80% {\n",
              "      border-color: transparent;\n",
              "      border-right-color: var(--fill-color);\n",
              "      border-bottom-color: var(--fill-color);\n",
              "    }\n",
              "    90% {\n",
              "      border-color: transparent;\n",
              "      border-bottom-color: var(--fill-color);\n",
              "    }\n",
              "  }\n",
              "</style>\n",
              "\n",
              "  <script>\n",
              "    async function quickchart(key) {\n",
              "      const quickchartButtonEl =\n",
              "        document.querySelector('#' + key + ' button');\n",
              "      quickchartButtonEl.disabled = true;  // To prevent multiple clicks.\n",
              "      quickchartButtonEl.classList.add('colab-df-spinner');\n",
              "      try {\n",
              "        const charts = await google.colab.kernel.invokeFunction(\n",
              "            'suggestCharts', [key], {});\n",
              "      } catch (error) {\n",
              "        console.error('Error during call to suggestCharts:', error);\n",
              "      }\n",
              "      quickchartButtonEl.classList.remove('colab-df-spinner');\n",
              "      quickchartButtonEl.classList.add('colab-df-quickchart-complete');\n",
              "    }\n",
              "    (() => {\n",
              "      let quickchartButtonEl =\n",
              "        document.querySelector('#df-4568ddf1-dfb3-4350-a3ca-f2c48e1c7233 button');\n",
              "      quickchartButtonEl.style.display =\n",
              "        google.colab.kernel.accessAllowed ? 'block' : 'none';\n",
              "    })();\n",
              "  </script>\n",
              "</div>\n",
              "\n",
              "  <div id=\"id_2dd74036-dad8-4248-af2c-3de2f23d3737\">\n",
              "    <style>\n",
              "      .colab-df-generate {\n",
              "        background-color: #E8F0FE;\n",
              "        border: none;\n",
              "        border-radius: 50%;\n",
              "        cursor: pointer;\n",
              "        display: none;\n",
              "        fill: #1967D2;\n",
              "        height: 32px;\n",
              "        padding: 0 0 0 0;\n",
              "        width: 32px;\n",
              "      }\n",
              "\n",
              "      .colab-df-generate:hover {\n",
              "        background-color: #E2EBFA;\n",
              "        box-shadow: 0px 1px 2px rgba(60, 64, 67, 0.3), 0px 1px 3px 1px rgba(60, 64, 67, 0.15);\n",
              "        fill: #174EA6;\n",
              "      }\n",
              "\n",
              "      [theme=dark] .colab-df-generate {\n",
              "        background-color: #3B4455;\n",
              "        fill: #D2E3FC;\n",
              "      }\n",
              "\n",
              "      [theme=dark] .colab-df-generate:hover {\n",
              "        background-color: #434B5C;\n",
              "        box-shadow: 0px 1px 3px 1px rgba(0, 0, 0, 0.15);\n",
              "        filter: drop-shadow(0px 1px 2px rgba(0, 0, 0, 0.3));\n",
              "        fill: #FFFFFF;\n",
              "      }\n",
              "    </style>\n",
              "    <button class=\"colab-df-generate\" onclick=\"generateWithVariable('x_train')\"\n",
              "            title=\"Generate code using this dataframe.\"\n",
              "            style=\"display:none;\">\n",
              "\n",
              "  <svg xmlns=\"http://www.w3.org/2000/svg\" height=\"24px\"viewBox=\"0 0 24 24\"\n",
              "       width=\"24px\">\n",
              "    <path d=\"M7,19H8.4L18.45,9,17,7.55,7,17.6ZM5,21V16.75L18.45,3.32a2,2,0,0,1,2.83,0l1.4,1.43a1.91,1.91,0,0,1,.58,1.4,1.91,1.91,0,0,1-.58,1.4L9.25,21ZM18.45,9,17,7.55Zm-12,3A5.31,5.31,0,0,0,4.9,8.1,5.31,5.31,0,0,0,1,6.5,5.31,5.31,0,0,0,4.9,4.9,5.31,5.31,0,0,0,6.5,1,5.31,5.31,0,0,0,8.1,4.9,5.31,5.31,0,0,0,12,6.5,5.46,5.46,0,0,0,6.5,12Z\"/>\n",
              "  </svg>\n",
              "    </button>\n",
              "    <script>\n",
              "      (() => {\n",
              "      const buttonEl =\n",
              "        document.querySelector('#id_2dd74036-dad8-4248-af2c-3de2f23d3737 button.colab-df-generate');\n",
              "      buttonEl.style.display =\n",
              "        google.colab.kernel.accessAllowed ? 'block' : 'none';\n",
              "\n",
              "      buttonEl.onclick = () => {\n",
              "        google.colab.notebook.generateWithVariable('x_train');\n",
              "      }\n",
              "      })();\n",
              "    </script>\n",
              "  </div>\n",
              "\n",
              "    </div>\n",
              "  </div>\n"
            ],
            "application/vnd.google.colaboratory.intrinsic+json": {
              "type": "dataframe",
              "variable_name": "x_train"
            }
          },
          "metadata": {},
          "execution_count": 106
        }
      ],
      "source": [
        "x_train"
      ]
    },
    {
      "cell_type": "code",
      "execution_count": 107,
      "id": "89fdb9d6-2131-4538-a1ef-a1720bc943c6",
      "metadata": {
        "id": "89fdb9d6-2131-4538-a1ef-a1720bc943c6"
      },
      "outputs": [],
      "source": [
        "import pickle\n",
        "\n",
        "# Assuming onehot_encoder is your fitted encoder\n",
        "with open('onehot_encoder.pkl', 'wb') as file:\n",
        "    pickle.dump(ohe_encoder, file)"
      ]
    },
    {
      "cell_type": "code",
      "execution_count": 108,
      "id": "a68caca7-9223-4bad-b839-1b87d783042b",
      "metadata": {
        "colab": {
          "base_uri": "https://localhost:8080/",
          "height": 444
        },
        "id": "a68caca7-9223-4bad-b839-1b87d783042b",
        "outputId": "099e2b10-22bb-439e-bf3e-2141c8d43657"
      },
      "outputs": [
        {
          "output_type": "execute_result",
          "data": {
            "text/plain": [
              "        NoEmp  CreateJob  RetainedJob  DisbursementGross  BalanceGross  \\\n",
              "460275  4.500        0.0         9.75           9.765306           0.0   \n",
              "508689  3.875        0.0        -0.25           0.255102           0.0   \n",
              "491539 -0.125        1.0        -0.25           1.239796           0.0   \n",
              "525848 -0.250        0.0        -0.25          -0.382653           0.0   \n",
              "58280  -0.250        0.0         0.25           0.484694           0.0   \n",
              "...       ...        ...          ...                ...           ...   \n",
              "578687  1.500        0.0        -0.25           0.510204           0.0   \n",
              "170150  0.625        0.0        -0.25           0.216837           0.0   \n",
              "516750  1.375        0.0        -0.25           5.367347           0.0   \n",
              "115417  1.000        6.0         4.25           0.306122           0.0   \n",
              "317121  0.250        6.0         2.75           1.096939           0.0   \n",
              "\n",
              "           GrAppv  SBA_Appv  CreditUtilizationRatio  LoanPerEmployee  \\\n",
              "460275  10.126316  4.479340                1.641745         1.506889   \n",
              "508689   0.315789  0.333044                0.000000        -0.385965   \n",
              "491539   1.331579  1.832231               -0.404762         3.049123   \n",
              "525848  -0.342105 -0.253948               -0.254682        -0.210526   \n",
              "58280    0.552632  0.235483                0.809524         2.175439   \n",
              "...           ...       ...                     ...              ...   \n",
              "578687   1.142105  1.298572               -0.190476         0.198968   \n",
              "170150   0.276316  0.296459                0.000000         0.038596   \n",
              "516750   5.589474  5.220849                0.000000         2.470175   \n",
              "115417   0.368421  0.121662                0.809524        -0.043185   \n",
              "317121   1.184211  1.137922                0.000000         1.333333   \n",
              "\n",
              "        GrAppv_x_SBA_Appv  ...  UrbanRural_1  UrbanRural_2  RevLineCr_Y  \\\n",
              "460275          39.340595  ...           1.0           0.0          0.0   \n",
              "508689           0.310311  ...           0.0           0.0          0.0   \n",
              "491539           2.943687  ...           1.0           0.0          0.0   \n",
              "525848          -0.116122  ...           0.0           0.0          0.0   \n",
              "58280            0.366168  ...           0.0           1.0          0.0   \n",
              "...                   ...  ...           ...           ...          ...   \n",
              "578687           1.962780  ...           0.0           0.0          0.0   \n",
              "170150           0.267317  ...           0.0           0.0          0.0   \n",
              "516750          25.878750  ...           0.0           1.0          0.0   \n",
              "115417           0.203826  ...           0.0           1.0          0.0   \n",
              "317121           1.814016  ...           1.0           0.0          0.0   \n",
              "\n",
              "        LowDoc_Y  NewBusiness_1  ProfitabilityIndicator_1  IsUrban_1  \\\n",
              "460275       0.0            0.0                       1.0        1.0   \n",
              "508689       0.0            0.0                       0.0        0.0   \n",
              "491539       0.0            0.0                       0.0        1.0   \n",
              "525848       1.0            1.0                       0.0        0.0   \n",
              "58280        0.0            0.0                       1.0        0.0   \n",
              "...          ...            ...                       ...        ...   \n",
              "578687       0.0            1.0                       0.0        0.0   \n",
              "170150       0.0            1.0                       0.0        0.0   \n",
              "516750       0.0            0.0                       0.0        0.0   \n",
              "115417       0.0            0.0                       1.0        0.0   \n",
              "317121       0.0            0.0                       1.0        1.0   \n",
              "\n",
              "        IsRural_1  RevLineCr_Y_flag_1  LowDoc_Y_flag_1  \n",
              "460275        0.0                 0.0              0.0  \n",
              "508689        0.0                 0.0              0.0  \n",
              "491539        0.0                 0.0              0.0  \n",
              "525848        0.0                 0.0              1.0  \n",
              "58280         1.0                 0.0              0.0  \n",
              "...           ...                 ...              ...  \n",
              "578687        0.0                 0.0              0.0  \n",
              "170150        0.0                 0.0              0.0  \n",
              "516750        1.0                 0.0              0.0  \n",
              "115417        1.0                 0.0              0.0  \n",
              "317121        0.0                 0.0              0.0  \n",
              "\n",
              "[728322 rows x 49 columns]"
            ],
            "text/html": [
              "\n",
              "  <div id=\"df-90b1dbed-12b6-4728-8616-39c7f5524462\" class=\"colab-df-container\">\n",
              "    <div>\n",
              "<style scoped>\n",
              "    .dataframe tbody tr th:only-of-type {\n",
              "        vertical-align: middle;\n",
              "    }\n",
              "\n",
              "    .dataframe tbody tr th {\n",
              "        vertical-align: top;\n",
              "    }\n",
              "\n",
              "    .dataframe thead th {\n",
              "        text-align: right;\n",
              "    }\n",
              "</style>\n",
              "<table border=\"1\" class=\"dataframe\">\n",
              "  <thead>\n",
              "    <tr style=\"text-align: right;\">\n",
              "      <th></th>\n",
              "      <th>NoEmp</th>\n",
              "      <th>CreateJob</th>\n",
              "      <th>RetainedJob</th>\n",
              "      <th>DisbursementGross</th>\n",
              "      <th>BalanceGross</th>\n",
              "      <th>GrAppv</th>\n",
              "      <th>SBA_Appv</th>\n",
              "      <th>CreditUtilizationRatio</th>\n",
              "      <th>LoanPerEmployee</th>\n",
              "      <th>GrAppv_x_SBA_Appv</th>\n",
              "      <th>...</th>\n",
              "      <th>UrbanRural_1</th>\n",
              "      <th>UrbanRural_2</th>\n",
              "      <th>RevLineCr_Y</th>\n",
              "      <th>LowDoc_Y</th>\n",
              "      <th>NewBusiness_1</th>\n",
              "      <th>ProfitabilityIndicator_1</th>\n",
              "      <th>IsUrban_1</th>\n",
              "      <th>IsRural_1</th>\n",
              "      <th>RevLineCr_Y_flag_1</th>\n",
              "      <th>LowDoc_Y_flag_1</th>\n",
              "    </tr>\n",
              "  </thead>\n",
              "  <tbody>\n",
              "    <tr>\n",
              "      <th>460275</th>\n",
              "      <td>4.500</td>\n",
              "      <td>0.0</td>\n",
              "      <td>9.75</td>\n",
              "      <td>9.765306</td>\n",
              "      <td>0.0</td>\n",
              "      <td>10.126316</td>\n",
              "      <td>4.479340</td>\n",
              "      <td>1.641745</td>\n",
              "      <td>1.506889</td>\n",
              "      <td>39.340595</td>\n",
              "      <td>...</td>\n",
              "      <td>1.0</td>\n",
              "      <td>0.0</td>\n",
              "      <td>0.0</td>\n",
              "      <td>0.0</td>\n",
              "      <td>0.0</td>\n",
              "      <td>1.0</td>\n",
              "      <td>1.0</td>\n",
              "      <td>0.0</td>\n",
              "      <td>0.0</td>\n",
              "      <td>0.0</td>\n",
              "    </tr>\n",
              "    <tr>\n",
              "      <th>508689</th>\n",
              "      <td>3.875</td>\n",
              "      <td>0.0</td>\n",
              "      <td>-0.25</td>\n",
              "      <td>0.255102</td>\n",
              "      <td>0.0</td>\n",
              "      <td>0.315789</td>\n",
              "      <td>0.333044</td>\n",
              "      <td>0.000000</td>\n",
              "      <td>-0.385965</td>\n",
              "      <td>0.310311</td>\n",
              "      <td>...</td>\n",
              "      <td>0.0</td>\n",
              "      <td>0.0</td>\n",
              "      <td>0.0</td>\n",
              "      <td>0.0</td>\n",
              "      <td>0.0</td>\n",
              "      <td>0.0</td>\n",
              "      <td>0.0</td>\n",
              "      <td>0.0</td>\n",
              "      <td>0.0</td>\n",
              "      <td>0.0</td>\n",
              "    </tr>\n",
              "    <tr>\n",
              "      <th>491539</th>\n",
              "      <td>-0.125</td>\n",
              "      <td>1.0</td>\n",
              "      <td>-0.25</td>\n",
              "      <td>1.239796</td>\n",
              "      <td>0.0</td>\n",
              "      <td>1.331579</td>\n",
              "      <td>1.832231</td>\n",
              "      <td>-0.404762</td>\n",
              "      <td>3.049123</td>\n",
              "      <td>2.943687</td>\n",
              "      <td>...</td>\n",
              "      <td>1.0</td>\n",
              "      <td>0.0</td>\n",
              "      <td>0.0</td>\n",
              "      <td>0.0</td>\n",
              "      <td>0.0</td>\n",
              "      <td>0.0</td>\n",
              "      <td>1.0</td>\n",
              "      <td>0.0</td>\n",
              "      <td>0.0</td>\n",
              "      <td>0.0</td>\n",
              "    </tr>\n",
              "    <tr>\n",
              "      <th>525848</th>\n",
              "      <td>-0.250</td>\n",
              "      <td>0.0</td>\n",
              "      <td>-0.25</td>\n",
              "      <td>-0.382653</td>\n",
              "      <td>0.0</td>\n",
              "      <td>-0.342105</td>\n",
              "      <td>-0.253948</td>\n",
              "      <td>-0.254682</td>\n",
              "      <td>-0.210526</td>\n",
              "      <td>-0.116122</td>\n",
              "      <td>...</td>\n",
              "      <td>0.0</td>\n",
              "      <td>0.0</td>\n",
              "      <td>0.0</td>\n",
              "      <td>1.0</td>\n",
              "      <td>1.0</td>\n",
              "      <td>0.0</td>\n",
              "      <td>0.0</td>\n",
              "      <td>0.0</td>\n",
              "      <td>0.0</td>\n",
              "      <td>1.0</td>\n",
              "    </tr>\n",
              "    <tr>\n",
              "      <th>58280</th>\n",
              "      <td>-0.250</td>\n",
              "      <td>0.0</td>\n",
              "      <td>0.25</td>\n",
              "      <td>0.484694</td>\n",
              "      <td>0.0</td>\n",
              "      <td>0.552632</td>\n",
              "      <td>0.235483</td>\n",
              "      <td>0.809524</td>\n",
              "      <td>2.175439</td>\n",
              "      <td>0.366168</td>\n",
              "      <td>...</td>\n",
              "      <td>0.0</td>\n",
              "      <td>1.0</td>\n",
              "      <td>0.0</td>\n",
              "      <td>0.0</td>\n",
              "      <td>0.0</td>\n",
              "      <td>1.0</td>\n",
              "      <td>0.0</td>\n",
              "      <td>1.0</td>\n",
              "      <td>0.0</td>\n",
              "      <td>0.0</td>\n",
              "    </tr>\n",
              "    <tr>\n",
              "      <th>...</th>\n",
              "      <td>...</td>\n",
              "      <td>...</td>\n",
              "      <td>...</td>\n",
              "      <td>...</td>\n",
              "      <td>...</td>\n",
              "      <td>...</td>\n",
              "      <td>...</td>\n",
              "      <td>...</td>\n",
              "      <td>...</td>\n",
              "      <td>...</td>\n",
              "      <td>...</td>\n",
              "      <td>...</td>\n",
              "      <td>...</td>\n",
              "      <td>...</td>\n",
              "      <td>...</td>\n",
              "      <td>...</td>\n",
              "      <td>...</td>\n",
              "      <td>...</td>\n",
              "      <td>...</td>\n",
              "      <td>...</td>\n",
              "      <td>...</td>\n",
              "    </tr>\n",
              "    <tr>\n",
              "      <th>578687</th>\n",
              "      <td>1.500</td>\n",
              "      <td>0.0</td>\n",
              "      <td>-0.25</td>\n",
              "      <td>0.510204</td>\n",
              "      <td>0.0</td>\n",
              "      <td>1.142105</td>\n",
              "      <td>1.298572</td>\n",
              "      <td>-0.190476</td>\n",
              "      <td>0.198968</td>\n",
              "      <td>1.962780</td>\n",
              "      <td>...</td>\n",
              "      <td>0.0</td>\n",
              "      <td>0.0</td>\n",
              "      <td>0.0</td>\n",
              "      <td>0.0</td>\n",
              "      <td>1.0</td>\n",
              "      <td>0.0</td>\n",
              "      <td>0.0</td>\n",
              "      <td>0.0</td>\n",
              "      <td>0.0</td>\n",
              "      <td>0.0</td>\n",
              "    </tr>\n",
              "    <tr>\n",
              "      <th>170150</th>\n",
              "      <td>0.625</td>\n",
              "      <td>0.0</td>\n",
              "      <td>-0.25</td>\n",
              "      <td>0.216837</td>\n",
              "      <td>0.0</td>\n",
              "      <td>0.276316</td>\n",
              "      <td>0.296459</td>\n",
              "      <td>0.000000</td>\n",
              "      <td>0.038596</td>\n",
              "      <td>0.267317</td>\n",
              "      <td>...</td>\n",
              "      <td>0.0</td>\n",
              "      <td>0.0</td>\n",
              "      <td>0.0</td>\n",
              "      <td>0.0</td>\n",
              "      <td>1.0</td>\n",
              "      <td>0.0</td>\n",
              "      <td>0.0</td>\n",
              "      <td>0.0</td>\n",
              "      <td>0.0</td>\n",
              "      <td>0.0</td>\n",
              "    </tr>\n",
              "    <tr>\n",
              "      <th>516750</th>\n",
              "      <td>1.375</td>\n",
              "      <td>0.0</td>\n",
              "      <td>-0.25</td>\n",
              "      <td>5.367347</td>\n",
              "      <td>0.0</td>\n",
              "      <td>5.589474</td>\n",
              "      <td>5.220849</td>\n",
              "      <td>0.000000</td>\n",
              "      <td>2.470175</td>\n",
              "      <td>25.878750</td>\n",
              "      <td>...</td>\n",
              "      <td>0.0</td>\n",
              "      <td>1.0</td>\n",
              "      <td>0.0</td>\n",
              "      <td>0.0</td>\n",
              "      <td>0.0</td>\n",
              "      <td>0.0</td>\n",
              "      <td>0.0</td>\n",
              "      <td>1.0</td>\n",
              "      <td>0.0</td>\n",
              "      <td>0.0</td>\n",
              "    </tr>\n",
              "    <tr>\n",
              "      <th>115417</th>\n",
              "      <td>1.000</td>\n",
              "      <td>6.0</td>\n",
              "      <td>4.25</td>\n",
              "      <td>0.306122</td>\n",
              "      <td>0.0</td>\n",
              "      <td>0.368421</td>\n",
              "      <td>0.121662</td>\n",
              "      <td>0.809524</td>\n",
              "      <td>-0.043185</td>\n",
              "      <td>0.203826</td>\n",
              "      <td>...</td>\n",
              "      <td>0.0</td>\n",
              "      <td>1.0</td>\n",
              "      <td>0.0</td>\n",
              "      <td>0.0</td>\n",
              "      <td>0.0</td>\n",
              "      <td>1.0</td>\n",
              "      <td>0.0</td>\n",
              "      <td>1.0</td>\n",
              "      <td>0.0</td>\n",
              "      <td>0.0</td>\n",
              "    </tr>\n",
              "    <tr>\n",
              "      <th>317121</th>\n",
              "      <td>0.250</td>\n",
              "      <td>6.0</td>\n",
              "      <td>2.75</td>\n",
              "      <td>1.096939</td>\n",
              "      <td>0.0</td>\n",
              "      <td>1.184211</td>\n",
              "      <td>1.137922</td>\n",
              "      <td>0.000000</td>\n",
              "      <td>1.333333</td>\n",
              "      <td>1.814016</td>\n",
              "      <td>...</td>\n",
              "      <td>1.0</td>\n",
              "      <td>0.0</td>\n",
              "      <td>0.0</td>\n",
              "      <td>0.0</td>\n",
              "      <td>0.0</td>\n",
              "      <td>1.0</td>\n",
              "      <td>1.0</td>\n",
              "      <td>0.0</td>\n",
              "      <td>0.0</td>\n",
              "      <td>0.0</td>\n",
              "    </tr>\n",
              "  </tbody>\n",
              "</table>\n",
              "<p>728322 rows × 49 columns</p>\n",
              "</div>\n",
              "    <div class=\"colab-df-buttons\">\n",
              "\n",
              "  <div class=\"colab-df-container\">\n",
              "    <button class=\"colab-df-convert\" onclick=\"convertToInteractive('df-90b1dbed-12b6-4728-8616-39c7f5524462')\"\n",
              "            title=\"Convert this dataframe to an interactive table.\"\n",
              "            style=\"display:none;\">\n",
              "\n",
              "  <svg xmlns=\"http://www.w3.org/2000/svg\" height=\"24px\" viewBox=\"0 -960 960 960\">\n",
              "    <path d=\"M120-120v-720h720v720H120Zm60-500h600v-160H180v160Zm220 220h160v-160H400v160Zm0 220h160v-160H400v160ZM180-400h160v-160H180v160Zm440 0h160v-160H620v160ZM180-180h160v-160H180v160Zm440 0h160v-160H620v160Z\"/>\n",
              "  </svg>\n",
              "    </button>\n",
              "\n",
              "  <style>\n",
              "    .colab-df-container {\n",
              "      display:flex;\n",
              "      gap: 12px;\n",
              "    }\n",
              "\n",
              "    .colab-df-convert {\n",
              "      background-color: #E8F0FE;\n",
              "      border: none;\n",
              "      border-radius: 50%;\n",
              "      cursor: pointer;\n",
              "      display: none;\n",
              "      fill: #1967D2;\n",
              "      height: 32px;\n",
              "      padding: 0 0 0 0;\n",
              "      width: 32px;\n",
              "    }\n",
              "\n",
              "    .colab-df-convert:hover {\n",
              "      background-color: #E2EBFA;\n",
              "      box-shadow: 0px 1px 2px rgba(60, 64, 67, 0.3), 0px 1px 3px 1px rgba(60, 64, 67, 0.15);\n",
              "      fill: #174EA6;\n",
              "    }\n",
              "\n",
              "    .colab-df-buttons div {\n",
              "      margin-bottom: 4px;\n",
              "    }\n",
              "\n",
              "    [theme=dark] .colab-df-convert {\n",
              "      background-color: #3B4455;\n",
              "      fill: #D2E3FC;\n",
              "    }\n",
              "\n",
              "    [theme=dark] .colab-df-convert:hover {\n",
              "      background-color: #434B5C;\n",
              "      box-shadow: 0px 1px 3px 1px rgba(0, 0, 0, 0.15);\n",
              "      filter: drop-shadow(0px 1px 2px rgba(0, 0, 0, 0.3));\n",
              "      fill: #FFFFFF;\n",
              "    }\n",
              "  </style>\n",
              "\n",
              "    <script>\n",
              "      const buttonEl =\n",
              "        document.querySelector('#df-90b1dbed-12b6-4728-8616-39c7f5524462 button.colab-df-convert');\n",
              "      buttonEl.style.display =\n",
              "        google.colab.kernel.accessAllowed ? 'block' : 'none';\n",
              "\n",
              "      async function convertToInteractive(key) {\n",
              "        const element = document.querySelector('#df-90b1dbed-12b6-4728-8616-39c7f5524462');\n",
              "        const dataTable =\n",
              "          await google.colab.kernel.invokeFunction('convertToInteractive',\n",
              "                                                    [key], {});\n",
              "        if (!dataTable) return;\n",
              "\n",
              "        const docLinkHtml = 'Like what you see? Visit the ' +\n",
              "          '<a target=\"_blank\" href=https://colab.research.google.com/notebooks/data_table.ipynb>data table notebook</a>'\n",
              "          + ' to learn more about interactive tables.';\n",
              "        element.innerHTML = '';\n",
              "        dataTable['output_type'] = 'display_data';\n",
              "        await google.colab.output.renderOutput(dataTable, element);\n",
              "        const docLink = document.createElement('div');\n",
              "        docLink.innerHTML = docLinkHtml;\n",
              "        element.appendChild(docLink);\n",
              "      }\n",
              "    </script>\n",
              "  </div>\n",
              "\n",
              "\n",
              "<div id=\"df-01793a43-8afe-44a9-8ec9-f23036b60c20\">\n",
              "  <button class=\"colab-df-quickchart\" onclick=\"quickchart('df-01793a43-8afe-44a9-8ec9-f23036b60c20')\"\n",
              "            title=\"Suggest charts\"\n",
              "            style=\"display:none;\">\n",
              "\n",
              "<svg xmlns=\"http://www.w3.org/2000/svg\" height=\"24px\"viewBox=\"0 0 24 24\"\n",
              "     width=\"24px\">\n",
              "    <g>\n",
              "        <path d=\"M19 3H5c-1.1 0-2 .9-2 2v14c0 1.1.9 2 2 2h14c1.1 0 2-.9 2-2V5c0-1.1-.9-2-2-2zM9 17H7v-7h2v7zm4 0h-2V7h2v10zm4 0h-2v-4h2v4z\"/>\n",
              "    </g>\n",
              "</svg>\n",
              "  </button>\n",
              "\n",
              "<style>\n",
              "  .colab-df-quickchart {\n",
              "      --bg-color: #E8F0FE;\n",
              "      --fill-color: #1967D2;\n",
              "      --hover-bg-color: #E2EBFA;\n",
              "      --hover-fill-color: #174EA6;\n",
              "      --disabled-fill-color: #AAA;\n",
              "      --disabled-bg-color: #DDD;\n",
              "  }\n",
              "\n",
              "  [theme=dark] .colab-df-quickchart {\n",
              "      --bg-color: #3B4455;\n",
              "      --fill-color: #D2E3FC;\n",
              "      --hover-bg-color: #434B5C;\n",
              "      --hover-fill-color: #FFFFFF;\n",
              "      --disabled-bg-color: #3B4455;\n",
              "      --disabled-fill-color: #666;\n",
              "  }\n",
              "\n",
              "  .colab-df-quickchart {\n",
              "    background-color: var(--bg-color);\n",
              "    border: none;\n",
              "    border-radius: 50%;\n",
              "    cursor: pointer;\n",
              "    display: none;\n",
              "    fill: var(--fill-color);\n",
              "    height: 32px;\n",
              "    padding: 0;\n",
              "    width: 32px;\n",
              "  }\n",
              "\n",
              "  .colab-df-quickchart:hover {\n",
              "    background-color: var(--hover-bg-color);\n",
              "    box-shadow: 0 1px 2px rgba(60, 64, 67, 0.3), 0 1px 3px 1px rgba(60, 64, 67, 0.15);\n",
              "    fill: var(--button-hover-fill-color);\n",
              "  }\n",
              "\n",
              "  .colab-df-quickchart-complete:disabled,\n",
              "  .colab-df-quickchart-complete:disabled:hover {\n",
              "    background-color: var(--disabled-bg-color);\n",
              "    fill: var(--disabled-fill-color);\n",
              "    box-shadow: none;\n",
              "  }\n",
              "\n",
              "  .colab-df-spinner {\n",
              "    border: 2px solid var(--fill-color);\n",
              "    border-color: transparent;\n",
              "    border-bottom-color: var(--fill-color);\n",
              "    animation:\n",
              "      spin 1s steps(1) infinite;\n",
              "  }\n",
              "\n",
              "  @keyframes spin {\n",
              "    0% {\n",
              "      border-color: transparent;\n",
              "      border-bottom-color: var(--fill-color);\n",
              "      border-left-color: var(--fill-color);\n",
              "    }\n",
              "    20% {\n",
              "      border-color: transparent;\n",
              "      border-left-color: var(--fill-color);\n",
              "      border-top-color: var(--fill-color);\n",
              "    }\n",
              "    30% {\n",
              "      border-color: transparent;\n",
              "      border-left-color: var(--fill-color);\n",
              "      border-top-color: var(--fill-color);\n",
              "      border-right-color: var(--fill-color);\n",
              "    }\n",
              "    40% {\n",
              "      border-color: transparent;\n",
              "      border-right-color: var(--fill-color);\n",
              "      border-top-color: var(--fill-color);\n",
              "    }\n",
              "    60% {\n",
              "      border-color: transparent;\n",
              "      border-right-color: var(--fill-color);\n",
              "    }\n",
              "    80% {\n",
              "      border-color: transparent;\n",
              "      border-right-color: var(--fill-color);\n",
              "      border-bottom-color: var(--fill-color);\n",
              "    }\n",
              "    90% {\n",
              "      border-color: transparent;\n",
              "      border-bottom-color: var(--fill-color);\n",
              "    }\n",
              "  }\n",
              "</style>\n",
              "\n",
              "  <script>\n",
              "    async function quickchart(key) {\n",
              "      const quickchartButtonEl =\n",
              "        document.querySelector('#' + key + ' button');\n",
              "      quickchartButtonEl.disabled = true;  // To prevent multiple clicks.\n",
              "      quickchartButtonEl.classList.add('colab-df-spinner');\n",
              "      try {\n",
              "        const charts = await google.colab.kernel.invokeFunction(\n",
              "            'suggestCharts', [key], {});\n",
              "      } catch (error) {\n",
              "        console.error('Error during call to suggestCharts:', error);\n",
              "      }\n",
              "      quickchartButtonEl.classList.remove('colab-df-spinner');\n",
              "      quickchartButtonEl.classList.add('colab-df-quickchart-complete');\n",
              "    }\n",
              "    (() => {\n",
              "      let quickchartButtonEl =\n",
              "        document.querySelector('#df-01793a43-8afe-44a9-8ec9-f23036b60c20 button');\n",
              "      quickchartButtonEl.style.display =\n",
              "        google.colab.kernel.accessAllowed ? 'block' : 'none';\n",
              "    })();\n",
              "  </script>\n",
              "</div>\n",
              "\n",
              "  <div id=\"id_bec8ac43-6728-4f48-adda-c4c2902008db\">\n",
              "    <style>\n",
              "      .colab-df-generate {\n",
              "        background-color: #E8F0FE;\n",
              "        border: none;\n",
              "        border-radius: 50%;\n",
              "        cursor: pointer;\n",
              "        display: none;\n",
              "        fill: #1967D2;\n",
              "        height: 32px;\n",
              "        padding: 0 0 0 0;\n",
              "        width: 32px;\n",
              "      }\n",
              "\n",
              "      .colab-df-generate:hover {\n",
              "        background-color: #E2EBFA;\n",
              "        box-shadow: 0px 1px 2px rgba(60, 64, 67, 0.3), 0px 1px 3px 1px rgba(60, 64, 67, 0.15);\n",
              "        fill: #174EA6;\n",
              "      }\n",
              "\n",
              "      [theme=dark] .colab-df-generate {\n",
              "        background-color: #3B4455;\n",
              "        fill: #D2E3FC;\n",
              "      }\n",
              "\n",
              "      [theme=dark] .colab-df-generate:hover {\n",
              "        background-color: #434B5C;\n",
              "        box-shadow: 0px 1px 3px 1px rgba(0, 0, 0, 0.15);\n",
              "        filter: drop-shadow(0px 1px 2px rgba(0, 0, 0, 0.3));\n",
              "        fill: #FFFFFF;\n",
              "      }\n",
              "    </style>\n",
              "    <button class=\"colab-df-generate\" onclick=\"generateWithVariable('x_train')\"\n",
              "            title=\"Generate code using this dataframe.\"\n",
              "            style=\"display:none;\">\n",
              "\n",
              "  <svg xmlns=\"http://www.w3.org/2000/svg\" height=\"24px\"viewBox=\"0 0 24 24\"\n",
              "       width=\"24px\">\n",
              "    <path d=\"M7,19H8.4L18.45,9,17,7.55,7,17.6ZM5,21V16.75L18.45,3.32a2,2,0,0,1,2.83,0l1.4,1.43a1.91,1.91,0,0,1,.58,1.4,1.91,1.91,0,0,1-.58,1.4L9.25,21ZM18.45,9,17,7.55Zm-12,3A5.31,5.31,0,0,0,4.9,8.1,5.31,5.31,0,0,0,1,6.5,5.31,5.31,0,0,0,4.9,4.9,5.31,5.31,0,0,0,6.5,1,5.31,5.31,0,0,0,8.1,4.9,5.31,5.31,0,0,0,12,6.5,5.46,5.46,0,0,0,6.5,12Z\"/>\n",
              "  </svg>\n",
              "    </button>\n",
              "    <script>\n",
              "      (() => {\n",
              "      const buttonEl =\n",
              "        document.querySelector('#id_bec8ac43-6728-4f48-adda-c4c2902008db button.colab-df-generate');\n",
              "      buttonEl.style.display =\n",
              "        google.colab.kernel.accessAllowed ? 'block' : 'none';\n",
              "\n",
              "      buttonEl.onclick = () => {\n",
              "        google.colab.notebook.generateWithVariable('x_train');\n",
              "      }\n",
              "      })();\n",
              "    </script>\n",
              "  </div>\n",
              "\n",
              "    </div>\n",
              "  </div>\n"
            ],
            "application/vnd.google.colaboratory.intrinsic+json": {
              "type": "dataframe",
              "variable_name": "x_train"
            }
          },
          "metadata": {},
          "execution_count": 108
        }
      ],
      "source": [
        "x_train"
      ]
    },
    {
      "cell_type": "code",
      "execution_count": 109,
      "id": "ee142a30-025e-4f65-bcf6-1949a2d15c30",
      "metadata": {
        "colab": {
          "base_uri": "https://localhost:8080/",
          "height": 424
        },
        "id": "ee142a30-025e-4f65-bcf6-1949a2d15c30",
        "outputId": "16cd9c71-99ef-4805-a35c-0e51efb801be"
      },
      "outputs": [
        {
          "output_type": "execute_result",
          "data": {
            "text/plain": [
              "        MIS_Status\n",
              "460275           0\n",
              "508689           0\n",
              "491539           0\n",
              "525848           0\n",
              "58280            0\n",
              "...            ...\n",
              "578687           0\n",
              "170150           0\n",
              "516750           0\n",
              "115417           0\n",
              "317121           0\n",
              "\n",
              "[728322 rows x 1 columns]"
            ],
            "text/html": [
              "\n",
              "  <div id=\"df-f32380c6-3926-4dc8-8dd4-01f73a74d3d4\" class=\"colab-df-container\">\n",
              "    <div>\n",
              "<style scoped>\n",
              "    .dataframe tbody tr th:only-of-type {\n",
              "        vertical-align: middle;\n",
              "    }\n",
              "\n",
              "    .dataframe tbody tr th {\n",
              "        vertical-align: top;\n",
              "    }\n",
              "\n",
              "    .dataframe thead th {\n",
              "        text-align: right;\n",
              "    }\n",
              "</style>\n",
              "<table border=\"1\" class=\"dataframe\">\n",
              "  <thead>\n",
              "    <tr style=\"text-align: right;\">\n",
              "      <th></th>\n",
              "      <th>MIS_Status</th>\n",
              "    </tr>\n",
              "  </thead>\n",
              "  <tbody>\n",
              "    <tr>\n",
              "      <th>460275</th>\n",
              "      <td>0</td>\n",
              "    </tr>\n",
              "    <tr>\n",
              "      <th>508689</th>\n",
              "      <td>0</td>\n",
              "    </tr>\n",
              "    <tr>\n",
              "      <th>491539</th>\n",
              "      <td>0</td>\n",
              "    </tr>\n",
              "    <tr>\n",
              "      <th>525848</th>\n",
              "      <td>0</td>\n",
              "    </tr>\n",
              "    <tr>\n",
              "      <th>58280</th>\n",
              "      <td>0</td>\n",
              "    </tr>\n",
              "    <tr>\n",
              "      <th>...</th>\n",
              "      <td>...</td>\n",
              "    </tr>\n",
              "    <tr>\n",
              "      <th>578687</th>\n",
              "      <td>0</td>\n",
              "    </tr>\n",
              "    <tr>\n",
              "      <th>170150</th>\n",
              "      <td>0</td>\n",
              "    </tr>\n",
              "    <tr>\n",
              "      <th>516750</th>\n",
              "      <td>0</td>\n",
              "    </tr>\n",
              "    <tr>\n",
              "      <th>115417</th>\n",
              "      <td>0</td>\n",
              "    </tr>\n",
              "    <tr>\n",
              "      <th>317121</th>\n",
              "      <td>0</td>\n",
              "    </tr>\n",
              "  </tbody>\n",
              "</table>\n",
              "<p>728322 rows × 1 columns</p>\n",
              "</div>\n",
              "    <div class=\"colab-df-buttons\">\n",
              "\n",
              "  <div class=\"colab-df-container\">\n",
              "    <button class=\"colab-df-convert\" onclick=\"convertToInteractive('df-f32380c6-3926-4dc8-8dd4-01f73a74d3d4')\"\n",
              "            title=\"Convert this dataframe to an interactive table.\"\n",
              "            style=\"display:none;\">\n",
              "\n",
              "  <svg xmlns=\"http://www.w3.org/2000/svg\" height=\"24px\" viewBox=\"0 -960 960 960\">\n",
              "    <path d=\"M120-120v-720h720v720H120Zm60-500h600v-160H180v160Zm220 220h160v-160H400v160Zm0 220h160v-160H400v160ZM180-400h160v-160H180v160Zm440 0h160v-160H620v160ZM180-180h160v-160H180v160Zm440 0h160v-160H620v160Z\"/>\n",
              "  </svg>\n",
              "    </button>\n",
              "\n",
              "  <style>\n",
              "    .colab-df-container {\n",
              "      display:flex;\n",
              "      gap: 12px;\n",
              "    }\n",
              "\n",
              "    .colab-df-convert {\n",
              "      background-color: #E8F0FE;\n",
              "      border: none;\n",
              "      border-radius: 50%;\n",
              "      cursor: pointer;\n",
              "      display: none;\n",
              "      fill: #1967D2;\n",
              "      height: 32px;\n",
              "      padding: 0 0 0 0;\n",
              "      width: 32px;\n",
              "    }\n",
              "\n",
              "    .colab-df-convert:hover {\n",
              "      background-color: #E2EBFA;\n",
              "      box-shadow: 0px 1px 2px rgba(60, 64, 67, 0.3), 0px 1px 3px 1px rgba(60, 64, 67, 0.15);\n",
              "      fill: #174EA6;\n",
              "    }\n",
              "\n",
              "    .colab-df-buttons div {\n",
              "      margin-bottom: 4px;\n",
              "    }\n",
              "\n",
              "    [theme=dark] .colab-df-convert {\n",
              "      background-color: #3B4455;\n",
              "      fill: #D2E3FC;\n",
              "    }\n",
              "\n",
              "    [theme=dark] .colab-df-convert:hover {\n",
              "      background-color: #434B5C;\n",
              "      box-shadow: 0px 1px 3px 1px rgba(0, 0, 0, 0.15);\n",
              "      filter: drop-shadow(0px 1px 2px rgba(0, 0, 0, 0.3));\n",
              "      fill: #FFFFFF;\n",
              "    }\n",
              "  </style>\n",
              "\n",
              "    <script>\n",
              "      const buttonEl =\n",
              "        document.querySelector('#df-f32380c6-3926-4dc8-8dd4-01f73a74d3d4 button.colab-df-convert');\n",
              "      buttonEl.style.display =\n",
              "        google.colab.kernel.accessAllowed ? 'block' : 'none';\n",
              "\n",
              "      async function convertToInteractive(key) {\n",
              "        const element = document.querySelector('#df-f32380c6-3926-4dc8-8dd4-01f73a74d3d4');\n",
              "        const dataTable =\n",
              "          await google.colab.kernel.invokeFunction('convertToInteractive',\n",
              "                                                    [key], {});\n",
              "        if (!dataTable) return;\n",
              "\n",
              "        const docLinkHtml = 'Like what you see? Visit the ' +\n",
              "          '<a target=\"_blank\" href=https://colab.research.google.com/notebooks/data_table.ipynb>data table notebook</a>'\n",
              "          + ' to learn more about interactive tables.';\n",
              "        element.innerHTML = '';\n",
              "        dataTable['output_type'] = 'display_data';\n",
              "        await google.colab.output.renderOutput(dataTable, element);\n",
              "        const docLink = document.createElement('div');\n",
              "        docLink.innerHTML = docLinkHtml;\n",
              "        element.appendChild(docLink);\n",
              "      }\n",
              "    </script>\n",
              "  </div>\n",
              "\n",
              "\n",
              "<div id=\"df-6c8c1a88-a151-4a5c-bbef-57e2884d8ee4\">\n",
              "  <button class=\"colab-df-quickchart\" onclick=\"quickchart('df-6c8c1a88-a151-4a5c-bbef-57e2884d8ee4')\"\n",
              "            title=\"Suggest charts\"\n",
              "            style=\"display:none;\">\n",
              "\n",
              "<svg xmlns=\"http://www.w3.org/2000/svg\" height=\"24px\"viewBox=\"0 0 24 24\"\n",
              "     width=\"24px\">\n",
              "    <g>\n",
              "        <path d=\"M19 3H5c-1.1 0-2 .9-2 2v14c0 1.1.9 2 2 2h14c1.1 0 2-.9 2-2V5c0-1.1-.9-2-2-2zM9 17H7v-7h2v7zm4 0h-2V7h2v10zm4 0h-2v-4h2v4z\"/>\n",
              "    </g>\n",
              "</svg>\n",
              "  </button>\n",
              "\n",
              "<style>\n",
              "  .colab-df-quickchart {\n",
              "      --bg-color: #E8F0FE;\n",
              "      --fill-color: #1967D2;\n",
              "      --hover-bg-color: #E2EBFA;\n",
              "      --hover-fill-color: #174EA6;\n",
              "      --disabled-fill-color: #AAA;\n",
              "      --disabled-bg-color: #DDD;\n",
              "  }\n",
              "\n",
              "  [theme=dark] .colab-df-quickchart {\n",
              "      --bg-color: #3B4455;\n",
              "      --fill-color: #D2E3FC;\n",
              "      --hover-bg-color: #434B5C;\n",
              "      --hover-fill-color: #FFFFFF;\n",
              "      --disabled-bg-color: #3B4455;\n",
              "      --disabled-fill-color: #666;\n",
              "  }\n",
              "\n",
              "  .colab-df-quickchart {\n",
              "    background-color: var(--bg-color);\n",
              "    border: none;\n",
              "    border-radius: 50%;\n",
              "    cursor: pointer;\n",
              "    display: none;\n",
              "    fill: var(--fill-color);\n",
              "    height: 32px;\n",
              "    padding: 0;\n",
              "    width: 32px;\n",
              "  }\n",
              "\n",
              "  .colab-df-quickchart:hover {\n",
              "    background-color: var(--hover-bg-color);\n",
              "    box-shadow: 0 1px 2px rgba(60, 64, 67, 0.3), 0 1px 3px 1px rgba(60, 64, 67, 0.15);\n",
              "    fill: var(--button-hover-fill-color);\n",
              "  }\n",
              "\n",
              "  .colab-df-quickchart-complete:disabled,\n",
              "  .colab-df-quickchart-complete:disabled:hover {\n",
              "    background-color: var(--disabled-bg-color);\n",
              "    fill: var(--disabled-fill-color);\n",
              "    box-shadow: none;\n",
              "  }\n",
              "\n",
              "  .colab-df-spinner {\n",
              "    border: 2px solid var(--fill-color);\n",
              "    border-color: transparent;\n",
              "    border-bottom-color: var(--fill-color);\n",
              "    animation:\n",
              "      spin 1s steps(1) infinite;\n",
              "  }\n",
              "\n",
              "  @keyframes spin {\n",
              "    0% {\n",
              "      border-color: transparent;\n",
              "      border-bottom-color: var(--fill-color);\n",
              "      border-left-color: var(--fill-color);\n",
              "    }\n",
              "    20% {\n",
              "      border-color: transparent;\n",
              "      border-left-color: var(--fill-color);\n",
              "      border-top-color: var(--fill-color);\n",
              "    }\n",
              "    30% {\n",
              "      border-color: transparent;\n",
              "      border-left-color: var(--fill-color);\n",
              "      border-top-color: var(--fill-color);\n",
              "      border-right-color: var(--fill-color);\n",
              "    }\n",
              "    40% {\n",
              "      border-color: transparent;\n",
              "      border-right-color: var(--fill-color);\n",
              "      border-top-color: var(--fill-color);\n",
              "    }\n",
              "    60% {\n",
              "      border-color: transparent;\n",
              "      border-right-color: var(--fill-color);\n",
              "    }\n",
              "    80% {\n",
              "      border-color: transparent;\n",
              "      border-right-color: var(--fill-color);\n",
              "      border-bottom-color: var(--fill-color);\n",
              "    }\n",
              "    90% {\n",
              "      border-color: transparent;\n",
              "      border-bottom-color: var(--fill-color);\n",
              "    }\n",
              "  }\n",
              "</style>\n",
              "\n",
              "  <script>\n",
              "    async function quickchart(key) {\n",
              "      const quickchartButtonEl =\n",
              "        document.querySelector('#' + key + ' button');\n",
              "      quickchartButtonEl.disabled = true;  // To prevent multiple clicks.\n",
              "      quickchartButtonEl.classList.add('colab-df-spinner');\n",
              "      try {\n",
              "        const charts = await google.colab.kernel.invokeFunction(\n",
              "            'suggestCharts', [key], {});\n",
              "      } catch (error) {\n",
              "        console.error('Error during call to suggestCharts:', error);\n",
              "      }\n",
              "      quickchartButtonEl.classList.remove('colab-df-spinner');\n",
              "      quickchartButtonEl.classList.add('colab-df-quickchart-complete');\n",
              "    }\n",
              "    (() => {\n",
              "      let quickchartButtonEl =\n",
              "        document.querySelector('#df-6c8c1a88-a151-4a5c-bbef-57e2884d8ee4 button');\n",
              "      quickchartButtonEl.style.display =\n",
              "        google.colab.kernel.accessAllowed ? 'block' : 'none';\n",
              "    })();\n",
              "  </script>\n",
              "</div>\n",
              "\n",
              "  <div id=\"id_46ab17fe-7ba0-47db-b58c-f6b2824b1233\">\n",
              "    <style>\n",
              "      .colab-df-generate {\n",
              "        background-color: #E8F0FE;\n",
              "        border: none;\n",
              "        border-radius: 50%;\n",
              "        cursor: pointer;\n",
              "        display: none;\n",
              "        fill: #1967D2;\n",
              "        height: 32px;\n",
              "        padding: 0 0 0 0;\n",
              "        width: 32px;\n",
              "      }\n",
              "\n",
              "      .colab-df-generate:hover {\n",
              "        background-color: #E2EBFA;\n",
              "        box-shadow: 0px 1px 2px rgba(60, 64, 67, 0.3), 0px 1px 3px 1px rgba(60, 64, 67, 0.15);\n",
              "        fill: #174EA6;\n",
              "      }\n",
              "\n",
              "      [theme=dark] .colab-df-generate {\n",
              "        background-color: #3B4455;\n",
              "        fill: #D2E3FC;\n",
              "      }\n",
              "\n",
              "      [theme=dark] .colab-df-generate:hover {\n",
              "        background-color: #434B5C;\n",
              "        box-shadow: 0px 1px 3px 1px rgba(0, 0, 0, 0.15);\n",
              "        filter: drop-shadow(0px 1px 2px rgba(0, 0, 0, 0.3));\n",
              "        fill: #FFFFFF;\n",
              "      }\n",
              "    </style>\n",
              "    <button class=\"colab-df-generate\" onclick=\"generateWithVariable('y_t')\"\n",
              "            title=\"Generate code using this dataframe.\"\n",
              "            style=\"display:none;\">\n",
              "\n",
              "  <svg xmlns=\"http://www.w3.org/2000/svg\" height=\"24px\"viewBox=\"0 0 24 24\"\n",
              "       width=\"24px\">\n",
              "    <path d=\"M7,19H8.4L18.45,9,17,7.55,7,17.6ZM5,21V16.75L18.45,3.32a2,2,0,0,1,2.83,0l1.4,1.43a1.91,1.91,0,0,1,.58,1.4,1.91,1.91,0,0,1-.58,1.4L9.25,21ZM18.45,9,17,7.55Zm-12,3A5.31,5.31,0,0,0,4.9,8.1,5.31,5.31,0,0,0,1,6.5,5.31,5.31,0,0,0,4.9,4.9,5.31,5.31,0,0,0,6.5,1,5.31,5.31,0,0,0,8.1,4.9,5.31,5.31,0,0,0,12,6.5,5.46,5.46,0,0,0,6.5,12Z\"/>\n",
              "  </svg>\n",
              "    </button>\n",
              "    <script>\n",
              "      (() => {\n",
              "      const buttonEl =\n",
              "        document.querySelector('#id_46ab17fe-7ba0-47db-b58c-f6b2824b1233 button.colab-df-generate');\n",
              "      buttonEl.style.display =\n",
              "        google.colab.kernel.accessAllowed ? 'block' : 'none';\n",
              "\n",
              "      buttonEl.onclick = () => {\n",
              "        google.colab.notebook.generateWithVariable('y_t');\n",
              "      }\n",
              "      })();\n",
              "    </script>\n",
              "  </div>\n",
              "\n",
              "    </div>\n",
              "  </div>\n"
            ],
            "application/vnd.google.colaboratory.intrinsic+json": {
              "type": "dataframe",
              "variable_name": "y_t"
            }
          },
          "metadata": {},
          "execution_count": 109
        }
      ],
      "source": [
        "y_t"
      ]
    },
    {
      "cell_type": "markdown",
      "id": "72c49f5a-0fe2-4d82-9235-590af6df47a4",
      "metadata": {
        "id": "72c49f5a-0fe2-4d82-9235-590af6df47a4"
      },
      "source": [
        "# Model Training Step"
      ]
    },
    {
      "cell_type": "markdown",
      "id": "f1b4966e-5a26-44c6-9b3e-9e43e67c5799",
      "metadata": {
        "id": "f1b4966e-5a26-44c6-9b3e-9e43e67c5799"
      },
      "source": [
        "1) We run a dry model with random hyperparameters\n",
        "2) We compute the classification report for the corresponding model\n",
        "3) We analyze the metrics and identify where the tuning must be done"
      ]
    },
    {
      "cell_type": "code",
      "execution_count": 110,
      "id": "cf5a28f7-535d-4735-a15f-ebb5bf769b54",
      "metadata": {
        "tags": [],
        "id": "cf5a28f7-535d-4735-a15f-ebb5bf769b54"
      },
      "outputs": [],
      "source": [
        "from sklearn.linear_model import LogisticRegression\n",
        "from sklearn.metrics import accuracy_score,roc_auc_score\n",
        "from sklearn.model_selection import GridSearchCV\n",
        "from sklearn.metrics import roc_curve, auc,f1_score,classification_report,ConfusionMatrixDisplay,confusion_matrix\n",
        "import matplotlib.pyplot as plt\n"
      ]
    },
    {
      "cell_type": "code",
      "source": [
        "from sklearn.linear_model import SGDClassifier"
      ],
      "metadata": {
        "id": "vOr4_Oi-Zzd5"
      },
      "id": "vOr4_Oi-Zzd5",
      "execution_count": 111,
      "outputs": []
    },
    {
      "cell_type": "code",
      "execution_count": 112,
      "id": "d8a3f8e9-07d2-4198-b331-413f8c215188",
      "metadata": {
        "colab": {
          "base_uri": "https://localhost:8080/"
        },
        "id": "d8a3f8e9-07d2-4198-b331-413f8c215188",
        "outputId": "6e45bb8a-a1c3-4a47-b163-d969c83090a0"
      },
      "outputs": [
        {
          "output_type": "stream",
          "name": "stderr",
          "text": [
            "/usr/local/lib/python3.11/dist-packages/sklearn/linear_model/_logistic.py:1171: UserWarning: l1_ratio parameter is only used when penalty is 'elasticnet'. Got (penalty=l1)\n",
            "  warnings.warn(\n",
            "/usr/local/lib/python3.11/dist-packages/sklearn/utils/validation.py:1184: DataConversionWarning: A column-vector y was passed when a 1d array was expected. Please change the shape of y to (n_samples, ), for example using ravel().\n",
            "  y = column_or_1d(y, warn=True)\n",
            "/usr/local/lib/python3.11/dist-packages/sklearn/linear_model/_sag.py:350: ConvergenceWarning: The max_iter was reached which means the coef_ did not converge\n",
            "  warnings.warn(\n"
          ]
        },
        {
          "output_type": "stream",
          "name": "stdout",
          "text": [
            "              precision    recall  f1-score   support\n",
            "\n",
            "           0       0.83      0.91      0.87     66775\n",
            "           1       0.25      0.14      0.18     14150\n",
            "\n",
            "    accuracy                           0.78     80925\n",
            "   macro avg       0.54      0.53      0.53     80925\n",
            "weighted avg       0.73      0.78      0.75     80925\n",
            "\n"
          ]
        }
      ],
      "source": [
        "# First logreg model\n",
        "lr = LogisticRegression(C=0.01,penalty='l1', l1_ratio=0.5, solver='saga', random_state=42, max_iter=500)\n",
        "lr.fit(x_train, y_t)\n",
        "y_pred = lr.predict(x_val)\n",
        "Y_PRED=lr.predict_proba(x_val)[:,1]\n",
        "print(classification_report(y_val, y_pred))"
      ]
    },
    {
      "cell_type": "code",
      "execution_count": 113,
      "id": "00756e71-dbba-4259-ae7d-3928a64aef10",
      "metadata": {
        "colab": {
          "base_uri": "https://localhost:8080/",
          "height": 467
        },
        "id": "00756e71-dbba-4259-ae7d-3928a64aef10",
        "outputId": "6dbce283-08e3-4361-cae5-093fccc674ce"
      },
      "outputs": [
        {
          "output_type": "execute_result",
          "data": {
            "text/plain": [
              "<sklearn.metrics._plot.confusion_matrix.ConfusionMatrixDisplay at 0x7850cb38da10>"
            ]
          },
          "metadata": {},
          "execution_count": 113
        },
        {
          "output_type": "display_data",
          "data": {
            "text/plain": [
              "<Figure size 640x480 with 2 Axes>"
            ],
            "image/png": "[encoded data removed]"
          },
          "metadata": {}
        }
      ],
      "source": [
        "cm_display = ConfusionMatrixDisplay(confusion_matrix = confusion_matrix(y_val, y_pred), display_labels = [False, True])\n",
        "cm_display.plot()"
      ]
    },
    {
      "cell_type": "code",
      "execution_count": 114,
      "id": "6186869e-75ba-4f1b-9138-a4ffcfa062d9",
      "metadata": {
        "colab": {
          "base_uri": "https://localhost:8080/",
          "height": 472
        },
        "id": "6186869e-75ba-4f1b-9138-a4ffcfa062d9",
        "outputId": "948c834b-a501-49c7-8f0c-63568610f436"
      },
      "outputs": [
        {
          "output_type": "display_data",
          "data": {
            "text/plain": [
              "<Figure size 640x480 with 1 Axes>"
            ],
            "image/png": "[encoded data removed]"
          },
          "metadata": {}
        }
      ],
      "source": [
        "# Calculating ROC curve and AUC\n",
        "fpr, tpr, threshold = roc_curve(y_val, y_pred)\n",
        "roc_auc = auc(fpr, tpr)\n",
        "\n",
        "# Plotting\n",
        "plt.figure()\n",
        "plt.plot(fpr, tpr, color='darkorange', lw=2, label='ROC curve (area = %0.2f)' % roc_auc)\n",
        "plt.plot([0, 1], [0, 1], color='navy', lw=2, linestyle='--')\n",
        "plt.xlim([0.0, 1.0])\n",
        "plt.ylim([0.0, 1.05])\n",
        "plt.xlabel('False Positive Rate')\n",
        "plt.ylabel('True Positive Rate')\n",
        "plt.title('Receiver Operating Characteristic')\n",
        "plt.legend(loc=\"lower right\")\n",
        "plt.show()"
      ]
    },
    {
      "cell_type": "code",
      "execution_count": null,
      "metadata": {
        "colab": {
          "base_uri": "https://localhost:8080/"
        },
        "outputId": "10682077-40d4-48b2-a693-d5ff935c6cde",
        "id": "T1hYADdVAHcB"
      },
      "outputs": [
        {
          "output_type": "stream",
          "name": "stderr",
          "text": [
            "/usr/local/lib/python3.11/dist-packages/sklearn/linear_model/_logistic.py:1171: UserWarning: l1_ratio parameter is only used when penalty is 'elasticnet'. Got (penalty=l2)\n",
            "  warnings.warn(\n",
            "/usr/local/lib/python3.11/dist-packages/sklearn/utils/validation.py:1184: DataConversionWarning: A column-vector y was passed when a 1d array was expected. Please change the shape of y to (n_samples, ), for example using ravel().\n",
            "  y = column_or_1d(y, warn=True)\n"
          ]
        },
        {
          "output_type": "stream",
          "name": "stdout",
          "text": [
            "              precision    recall  f1-score   support\n",
            "\n",
            "           0       0.85      0.97      0.91     66775\n",
            "           1       0.57      0.22      0.32     14150\n",
            "\n",
            "    accuracy                           0.83     80925\n",
            "   macro avg       0.71      0.59      0.61     80925\n",
            "weighted avg       0.80      0.83      0.80     80925\n",
            "\n"
          ]
        }
      ],
      "source": [
        "# Second logreg model\n",
        "lr2 = LogisticRegression(C=0.01,penalty='l2', l1_ratio=0.5,solver='saga', random_state=42, max_iter=500)\n",
        "lr2.fit(x_train, y_t)\n",
        "y_pred = lr2.predict(x_val)\n",
        "print(classification_report(y_val, y_pred))"
      ],
      "id": "T1hYADdVAHcB"
    },
    {
      "cell_type": "code",
      "execution_count": null,
      "metadata": {
        "colab": {
          "base_uri": "https://localhost:8080/",
          "height": 467
        },
        "id": "ucIgYLubAHcB",
        "outputId": "17c7195b-6191-44b3-f1c6-a7f06860dae8"
      },
      "outputs": [
        {
          "output_type": "execute_result",
          "data": {
            "text/plain": [
              "<sklearn.metrics._plot.confusion_matrix.ConfusionMatrixDisplay at 0x7c63411ece50>"
            ]
          },
          "metadata": {},
          "execution_count": 243
        },
        {
          "output_type": "display_data",
          "data": {
            "text/plain": [
              "<Figure size 640x480 with 2 Axes>"
            ],
            "image/png": "[encoded data removed]"
          },
          "metadata": {}
        }
      ],
      "source": [
        "cm_display = ConfusionMatrixDisplay(confusion_matrix = confusion_matrix(y_val, y_pred), display_labels = [False, True])\n",
        "cm_display.plot()"
      ],
      "id": "ucIgYLubAHcB"
    },
    {
      "cell_type": "code",
      "execution_count": null,
      "metadata": {
        "colab": {
          "base_uri": "https://localhost:8080/",
          "height": 472
        },
        "id": "UW9j6xEhAHcB",
        "outputId": "115d09d3-06b5-4d1f-99e1-fee3beb3ad46"
      },
      "outputs": [
        {
          "output_type": "display_data",
          "data": {
            "text/plain": [
              "<Figure size 640x480 with 1 Axes>"
            ],
            "image/png": "[encoded data removed]"
          },
          "metadata": {}
        }
      ],
      "source": [
        "# Calculating ROC curve and AUC\n",
        "fpr, tpr, threshold = roc_curve(y_val, y_pred)\n",
        "roc_auc = auc(fpr, tpr)\n",
        "\n",
        "# Plotting\n",
        "plt.figure()\n",
        "plt.plot(fpr, tpr, color='darkorange', lw=2, label='ROC curve (area = %0.2f)' % roc_auc)\n",
        "plt.plot([0, 1], [0, 1], color='navy', lw=2, linestyle='--')\n",
        "plt.xlim([0.0, 1.0])\n",
        "plt.ylim([0.0, 1.05])\n",
        "plt.xlabel('False Positive Rate')\n",
        "plt.ylabel('True Positive Rate')\n",
        "plt.title('Receiver Operating Characteristic')\n",
        "plt.legend(loc=\"lower right\")\n",
        "plt.show()"
      ],
      "id": "UW9j6xEhAHcB"
    },
    {
      "cell_type": "code",
      "execution_count": null,
      "metadata": {
        "colab": {
          "base_uri": "https://localhost:8080/"
        },
        "outputId": "427ae4e1-d53d-425d-a229-6b054c11a6eb",
        "id": "RU7pXYb3HGI-"
      },
      "outputs": [
        {
          "output_type": "stream",
          "name": "stderr",
          "text": [
            "/usr/local/lib/python3.11/dist-packages/sklearn/utils/validation.py:1184: DataConversionWarning: A column-vector y was passed when a 1d array was expected. Please change the shape of y to (n_samples, ), for example using ravel().\n",
            "  y = column_or_1d(y, warn=True)\n"
          ]
        },
        {
          "output_type": "stream",
          "name": "stdout",
          "text": [
            "              precision    recall  f1-score   support\n",
            "\n",
            "           0       0.85      0.97      0.91     66775\n",
            "           1       0.57      0.22      0.32     14150\n",
            "\n",
            "    accuracy                           0.83     80925\n",
            "   macro avg       0.71      0.59      0.61     80925\n",
            "weighted avg       0.80      0.83      0.80     80925\n",
            "\n"
          ]
        }
      ],
      "source": [
        "# Third logreg model\n",
        "lr3 = LogisticRegression(C=0.01, solver='saga',penalty='elasticnet' ,l1_ratio=0.5,random_state=42, max_iter=500)\n",
        "lr3.fit(x_train, y_t)\n",
        "y_pred = lr3.predict(x_val)\n",
        "print(classification_report(y_val, y_pred))"
      ],
      "id": "RU7pXYb3HGI-"
    },
    {
      "cell_type": "code",
      "execution_count": null,
      "metadata": {
        "colab": {
          "base_uri": "https://localhost:8080/",
          "height": 467
        },
        "id": "omkpGSZDHGI_",
        "outputId": "11d3c4ed-8bd8-4411-b448-9f07ed3bc734"
      },
      "outputs": [
        {
          "output_type": "execute_result",
          "data": {
            "text/plain": [
              "<sklearn.metrics._plot.confusion_matrix.ConfusionMatrixDisplay at 0x7c6349d7e5d0>"
            ]
          },
          "metadata": {},
          "execution_count": 246
        },
        {
          "output_type": "display_data",
          "data": {
            "text/plain": [
              "<Figure size 640x480 with 2 Axes>"
            ],
            "image/png": "[encoded data removed]"
          },
          "metadata": {}
        }
      ],
      "source": [
        "cm_display = ConfusionMatrixDisplay(confusion_matrix = confusion_matrix(y_val, y_pred), display_labels = [False, True])\n",
        "cm_display.plot()"
      ],
      "id": "omkpGSZDHGI_"
    },
    {
      "cell_type": "code",
      "execution_count": null,
      "metadata": {
        "colab": {
          "base_uri": "https://localhost:8080/",
          "height": 472
        },
        "id": "jDb2YGwmHGJA",
        "outputId": "fdee4f26-73a3-43c8-e58c-5908c9c06578"
      },
      "outputs": [
        {
          "output_type": "display_data",
          "data": {
            "text/plain": [
              "<Figure size 640x480 with 1 Axes>"
            ],
            "image/png": "[encoded data removed]"
          },
          "metadata": {}
        }
      ],
      "source": [
        "# Calculating ROC curve and AUC\n",
        "fpr, tpr, threshold = roc_curve(y_val, y_pred)\n",
        "roc_auc = auc(fpr, tpr)\n",
        "\n",
        "# Plotting\n",
        "plt.figure()\n",
        "plt.plot(fpr, tpr, color='darkorange', lw=2, label='ROC curve (area = %0.2f)' % roc_auc)\n",
        "plt.plot([0, 1], [0, 1], color='navy', lw=2, linestyle='--')\n",
        "plt.xlim([0.0, 1.0])\n",
        "plt.ylim([0.0, 1.05])\n",
        "plt.xlabel('False Positive Rate')\n",
        "plt.ylabel('True Positive Rate')\n",
        "plt.title('Receiver Operating Characteristic')\n",
        "plt.legend(loc=\"lower right\")\n",
        "plt.show()"
      ],
      "id": "jDb2YGwmHGJA"
    },
    {
      "cell_type": "code",
      "source": [
        "sgd = SGDClassifier(loss='log_loss', random_state=42, class_weight='balanced',\n",
        "                        early_stopping=True, n_iter_no_change=10, validation_fraction=0.1)\n",
        "sgd.fit(x_train, y_t)\n",
        "y_pred2 = sgd.predict(x_val)\n",
        "print(classification_report(y_val, y_pred2))"
      ],
      "metadata": {
        "colab": {
          "base_uri": "https://localhost:8080/"
        },
        "id": "mlsVAjFwZHM6",
        "outputId": "0a09d30b-04fc-471e-ceaa-1b47e4cfc2f2"
      },
      "id": "mlsVAjFwZHM6",
      "execution_count": 115,
      "outputs": [
        {
          "output_type": "stream",
          "name": "stderr",
          "text": [
            "/usr/local/lib/python3.11/dist-packages/sklearn/utils/validation.py:1184: DataConversionWarning: A column-vector y was passed when a 1d array was expected. Please change the shape of y to (n_samples, ), for example using ravel().\n",
            "  y = column_or_1d(y, warn=True)\n"
          ]
        },
        {
          "output_type": "stream",
          "name": "stdout",
          "text": [
            "              precision    recall  f1-score   support\n",
            "\n",
            "           0       0.89      0.74      0.81     66775\n",
            "           1       0.31      0.56      0.40     14150\n",
            "\n",
            "    accuracy                           0.71     80925\n",
            "   macro avg       0.60      0.65      0.60     80925\n",
            "weighted avg       0.79      0.71      0.74     80925\n",
            "\n"
          ]
        }
      ]
    },
    {
      "cell_type": "code",
      "source": [
        "cm_display = ConfusionMatrixDisplay(confusion_matrix = confusion_matrix(y_val, y_pred2), display_labels = [False, True])\n",
        "cm_display.plot()"
      ],
      "metadata": {
        "colab": {
          "base_uri": "https://localhost:8080/",
          "height": 467
        },
        "id": "RmosamNYbZSo",
        "outputId": "e9ee464c-1b0b-4b97-9343-b9e5815ce2e2"
      },
      "id": "RmosamNYbZSo",
      "execution_count": 116,
      "outputs": [
        {
          "output_type": "execute_result",
          "data": {
            "text/plain": [
              "<sklearn.metrics._plot.confusion_matrix.ConfusionMatrixDisplay at 0x7850cebd2450>"
            ]
          },
          "metadata": {},
          "execution_count": 116
        },
        {
          "output_type": "display_data",
          "data": {
            "text/plain": [
              "<Figure size 640x480 with 2 Axes>"
            ],
            "image/png": "[encoded data removed]"
          },
          "metadata": {}
        }
      ]
    },
    {
      "cell_type": "code",
      "source": [
        "# Calculating ROC curve and AUC\n",
        "fpr, tpr, threshold = roc_curve(y_val, y_pred2)\n",
        "roc_auc = auc(fpr, tpr)\n",
        "\n",
        "# Plotting\n",
        "plt.figure()\n",
        "plt.plot(fpr, tpr, color='darkorange', lw=2, label='ROC curve (area = %0.2f)' % roc_auc)\n",
        "plt.plot([0, 1], [0, 1], color='navy', lw=2, linestyle='--')\n",
        "plt.xlim([0.0, 1.0])\n",
        "plt.ylim([0.0, 1.05])\n",
        "plt.xlabel('False Positive Rate')\n",
        "plt.ylabel('True Positive Rate')\n",
        "plt.title('Receiver Operating Characteristic')\n",
        "plt.legend(loc=\"lower right\")\n",
        "plt.show()"
      ],
      "metadata": {
        "colab": {
          "base_uri": "https://localhost:8080/",
          "height": 472
        },
        "id": "M7trXa0Sbb-F",
        "outputId": "1d264295-6a5e-4c03-f526-1b0e65610b69"
      },
      "id": "M7trXa0Sbb-F",
      "execution_count": 117,
      "outputs": [
        {
          "output_type": "display_data",
          "data": {
            "text/plain": [
              "<Figure size 640x480 with 1 Axes>"
            ],
            "image/png": "[encoded data removed]"
          },
          "metadata": {}
        }
      ]
    },
    {
      "cell_type": "markdown",
      "id": "4ea11902-2e2d-4999-82c4-54f1a91d4625",
      "metadata": {
        "id": "4ea11902-2e2d-4999-82c4-54f1a91d4625"
      },
      "source": [
        "# Model Tuning Step"
      ]
    },
    {
      "cell_type": "markdown",
      "id": "44203f7c-7033-4f07-b5a3-ddbe7aa259c9",
      "metadata": {
        "id": "44203f7c-7033-4f07-b5a3-ddbe7aa259c9"
      },
      "source": [
        "1) We first define the searchspace for our logrep model tuning\n",
        "2) We experiment with different regularizations and Max iterations\n",
        "3) After running GridSearch, we use different class weights to compare results\n",
        "4) We pick the best hyerparameters based on our tuning process"
      ]
    },
    {
      "cell_type": "code",
      "execution_count": null,
      "id": "fd17da35-36c2-423a-8326-6a978d3b4ea9",
      "metadata": {
        "tags": [],
        "colab": {
          "base_uri": "https://localhost:8080/"
        },
        "id": "fd17da35-36c2-423a-8326-6a978d3b4ea9",
        "outputId": "02be6855-8025-4ddd-a935-42faeda5887d"
      },
      "outputs": [
        {
          "output_type": "stream",
          "name": "stdout",
          "text": [
            "Fitting 5 folds for each of 27 candidates, totalling 135 fits\n"
          ]
        },
        {
          "output_type": "stream",
          "name": "stderr",
          "text": [
            "/usr/local/lib/python3.11/dist-packages/sklearn/linear_model/_logistic.py:1171: UserWarning: l1_ratio parameter is only used when penalty is 'elasticnet'. Got (penalty=l2)\n",
            "  warnings.warn(\n",
            "/usr/local/lib/python3.11/dist-packages/sklearn/utils/validation.py:1184: DataConversionWarning: A column-vector y was passed when a 1d array was expected. Please change the shape of y to (n_samples, ), for example using ravel().\n",
            "  y = column_or_1d(y, warn=True)\n"
          ]
        }
      ],
      "source": [
        "# We use GridSearch for hyperparameter tuning\n",
        "# we first define the searchspace for hyperparameters\n",
        "param_grid = [\n",
        "    {'penalty' : ['l1', 'l2', 'elasticnet'],\n",
        "    'C' : [0.001,0.01,0.1],\n",
        "     'l1_ratio':[0.5],\n",
        "    'solver' : ['saga'],\n",
        "    'max_iter' : [500,1000,2000]\n",
        "    }\n",
        "]\n",
        "# run the algorithm\n",
        "logModel = LogisticRegression()\n",
        "clf = GridSearchCV(logModel, param_grid = param_grid, cv = 5, verbose=True, n_jobs=-1,scoring='roc_auc')\n",
        "best_clf = clf.fit(x_train,y_t)\n"
      ]
    },
    {
      "cell_type": "code",
      "execution_count": null,
      "id": "c24252d7-4c75-4811-9a37-8601e7812db0",
      "metadata": {
        "colab": {
          "base_uri": "https://localhost:8080/",
          "height": 75
        },
        "id": "c24252d7-4c75-4811-9a37-8601e7812db0",
        "outputId": "54fc37a4-6928-4a0e-8ac3-fed12c879a82"
      },
      "outputs": [
        {
          "output_type": "execute_result",
          "data": {
            "text/plain": [
              "LogisticRegression(C=0.1, l1_ratio=0.5, max_iter=2000, solver='saga')"
            ],
            "text/html": [
              "<style>#sk-container-id-4 {color: black;}#sk-container-id-4 pre{padding: 0;}#sk-container-id-4 div.sk-toggleable {background-color: white;}#sk-container-id-4 label.sk-toggleable__label {cursor: pointer;display: block;width: 100%;margin-bottom: 0;padding: 0.3em;box-sizing: border-box;text-align: center;}#sk-container-id-4 label.sk-toggleable__label-arrow:before {content: \"▸\";float: left;margin-right: 0.25em;color: #696969;}#sk-container-id-4 label.sk-toggleable__label-arrow:hover:before {color: black;}#sk-container-id-4 div.sk-estimator:hover label.sk-toggleable__label-arrow:before {color: black;}#sk-container-id-4 div.sk-toggleable__content {max-height: 0;max-width: 0;overflow: hidden;text-align: left;background-color: #f0f8ff;}#sk-container-id-4 div.sk-toggleable__content pre {margin: 0.2em;color: black;border-radius: 0.25em;background-color: #f0f8ff;}#sk-container-id-4 input.sk-toggleable__control:checked~div.sk-toggleable__content {max-height: 200px;max-width: 100%;overflow: auto;}#sk-container-id-4 input.sk-toggleable__control:checked~label.sk-toggleable__label-arrow:before {content: \"▾\";}#sk-container-id-4 div.sk-estimator input.sk-toggleable__control:checked~label.sk-toggleable__label {background-color: #d4ebff;}#sk-container-id-4 div.sk-label input.sk-toggleable__control:checked~label.sk-toggleable__label {background-color: #d4ebff;}#sk-container-id-4 input.sk-hidden--visually {border: 0;clip: rect(1px 1px 1px 1px);clip: rect(1px, 1px, 1px, 1px);height: 1px;margin: -1px;overflow: hidden;padding: 0;position: absolute;width: 1px;}#sk-container-id-4 div.sk-estimator {font-family: monospace;background-color: #f0f8ff;border: 1px dotted black;border-radius: 0.25em;box-sizing: border-box;margin-bottom: 0.5em;}#sk-container-id-4 div.sk-estimator:hover {background-color: #d4ebff;}#sk-container-id-4 div.sk-parallel-item::after {content: \"\";width: 100%;border-bottom: 1px solid gray;flex-grow: 1;}#sk-container-id-4 div.sk-label:hover label.sk-toggleable__label {background-color: #d4ebff;}#sk-container-id-4 div.sk-serial::before {content: \"\";position: absolute;border-left: 1px solid gray;box-sizing: border-box;top: 0;bottom: 0;left: 50%;z-index: 0;}#sk-container-id-4 div.sk-serial {display: flex;flex-direction: column;align-items: center;background-color: white;padding-right: 0.2em;padding-left: 0.2em;position: relative;}#sk-container-id-4 div.sk-item {position: relative;z-index: 1;}#sk-container-id-4 div.sk-parallel {display: flex;align-items: stretch;justify-content: center;background-color: white;position: relative;}#sk-container-id-4 div.sk-item::before, #sk-container-id-4 div.sk-parallel-item::before {content: \"\";position: absolute;border-left: 1px solid gray;box-sizing: border-box;top: 0;bottom: 0;left: 50%;z-index: -1;}#sk-container-id-4 div.sk-parallel-item {display: flex;flex-direction: column;z-index: 1;position: relative;background-color: white;}#sk-container-id-4 div.sk-parallel-item:first-child::after {align-self: flex-end;width: 50%;}#sk-container-id-4 div.sk-parallel-item:last-child::after {align-self: flex-start;width: 50%;}#sk-container-id-4 div.sk-parallel-item:only-child::after {width: 0;}#sk-container-id-4 div.sk-dashed-wrapped {border: 1px dashed gray;margin: 0 0.4em 0.5em 0.4em;box-sizing: border-box;padding-bottom: 0.4em;background-color: white;}#sk-container-id-4 div.sk-label label {font-family: monospace;font-weight: bold;display: inline-block;line-height: 1.2em;}#sk-container-id-4 div.sk-label-container {text-align: center;}#sk-container-id-4 div.sk-container {/* jupyter's `normalize.less` sets `[hidden] { display: none; }` but bootstrap.min.css set `[hidden] { display: none !important; }` so we also need the `!important` here to be able to override the default hidden behavior on the sphinx rendered scikit-learn.org. See: https://github.com/scikit-learn/scikit-learn/issues/21755 */display: inline-block !important;position: relative;}#sk-container-id-4 div.sk-text-repr-fallback {display: none;}</style><div id=\"sk-container-id-4\" class=\"sk-top-container\"><div class=\"sk-text-repr-fallback\"><pre>LogisticRegression(C=0.1, l1_ratio=0.5, max_iter=2000, solver=&#x27;saga&#x27;)</pre><b>In a Jupyter environment, please rerun this cell to show the HTML representation or trust the notebook. <br />On GitHub, the HTML representation is unable to render, please try loading this page with nbviewer.org.</b></div><div class=\"sk-container\" hidden><div class=\"sk-item\"><div class=\"sk-estimator sk-toggleable\"><input class=\"sk-toggleable__control sk-hidden--visually\" id=\"sk-estimator-id-4\" type=\"checkbox\" checked><label for=\"sk-estimator-id-4\" class=\"sk-toggleable__label sk-toggleable__label-arrow\">LogisticRegression</label><div class=\"sk-toggleable__content\"><pre>LogisticRegression(C=0.1, l1_ratio=0.5, max_iter=2000, solver=&#x27;saga&#x27;)</pre></div></div></div></div></div>"
            ]
          },
          "metadata": {},
          "execution_count": 248
        }
      ],
      "source": [
        "best_clf.best_estimator_"
      ]
    },
    {
      "cell_type": "code",
      "execution_count": null,
      "id": "9d6ddefc-95b1-4573-ad07-633061f70376",
      "metadata": {
        "colab": {
          "base_uri": "https://localhost:8080/"
        },
        "id": "9d6ddefc-95b1-4573-ad07-633061f70376",
        "outputId": "1e0e1734-e6bc-43fc-e6d6-9ec034f61152"
      },
      "outputs": [
        {
          "output_type": "stream",
          "name": "stderr",
          "text": [
            "/usr/local/lib/python3.11/dist-packages/sklearn/linear_model/_logistic.py:1171: UserWarning: l1_ratio parameter is only used when penalty is 'elasticnet'. Got (penalty=l2)\n",
            "  warnings.warn(\n",
            "/usr/local/lib/python3.11/dist-packages/sklearn/utils/validation.py:1184: DataConversionWarning: A column-vector y was passed when a 1d array was expected. Please change the shape of y to (n_samples, ), for example using ravel().\n",
            "  y = column_or_1d(y, warn=True)\n"
          ]
        },
        {
          "output_type": "stream",
          "name": "stdout",
          "text": [
            "              precision    recall  f1-score   support\n",
            "\n",
            "           0       0.97      0.85      0.91     75493\n",
            "           1       0.22      0.57      0.32      5432\n",
            "\n",
            "    accuracy                           0.83     80925\n",
            "   macro avg       0.59      0.71      0.61     80925\n",
            "weighted avg       0.92      0.83      0.87     80925\n",
            "\n"
          ]
        }
      ],
      "source": [
        "# run the model with best parameters in gridsearch\n",
        "final_model=LogisticRegression(C= 0.1, penalty= 'l2',l1_ratio=0.5, solver= 'saga', max_iter=2000)\n",
        "final_model.fit(x_train, y_t)\n",
        "y_pred = final_model.predict(x_val)\n",
        "print(classification_report(y_pred,y_val))"
      ]
    },
    {
      "cell_type": "code",
      "source": [
        "cm_display = ConfusionMatrixDisplay(confusion_matrix = confusion_matrix(y_val, y_pred), display_labels = [False, True])\n",
        "cm_display.plot()"
      ],
      "metadata": {
        "colab": {
          "base_uri": "https://localhost:8080/",
          "height": 467
        },
        "id": "qF6x1HENK04L",
        "outputId": "67525720-3404-4bb2-b4a6-577bedb8a3b1"
      },
      "id": "qF6x1HENK04L",
      "execution_count": null,
      "outputs": [
        {
          "output_type": "execute_result",
          "data": {
            "text/plain": [
              "<sklearn.metrics._plot.confusion_matrix.ConfusionMatrixDisplay at 0x7c6368c0e190>"
            ]
          },
          "metadata": {},
          "execution_count": 250
        },
        {
          "output_type": "display_data",
          "data": {
            "text/plain": [
              "<Figure size 640x480 with 2 Axes>"
            ],
            "image/png": "[encoded data removed]"
          },
          "metadata": {}
        }
      ]
    },
    {
      "cell_type": "code",
      "source": [
        "# Calculating ROC curve and AUC\n",
        "fpr, tpr, threshold = roc_curve(y_val, y_pred)\n",
        "roc_auc = auc(fpr, tpr)\n",
        "\n",
        "# Plotting\n",
        "plt.figure()\n",
        "plt.plot(fpr, tpr, color='darkorange', lw=2, label='ROC curve (area = %0.2f)' % roc_auc)\n",
        "plt.plot([0, 1], [0, 1], color='navy', lw=2, linestyle='--')\n",
        "plt.xlim([0.0, 1.0])\n",
        "plt.ylim([0.0, 1.05])\n",
        "plt.xlabel('False Positive Rate')\n",
        "plt.ylabel('True Positive Rate')\n",
        "plt.title('Receiver Operating Characteristic')\n",
        "plt.legend(loc=\"lower right\")\n",
        "plt.show()"
      ],
      "metadata": {
        "colab": {
          "base_uri": "https://localhost:8080/",
          "height": 472
        },
        "id": "CDi-3IDwK6ld",
        "outputId": "19d7c46e-ded9-4687-feb0-7523494f233f"
      },
      "id": "CDi-3IDwK6ld",
      "execution_count": null,
      "outputs": [
        {
          "output_type": "display_data",
          "data": {
            "text/plain": [
              "<Figure size 640x480 with 1 Axes>"
            ],
            "image/png": "[encoded data removed]"
          },
          "metadata": {}
        }
      ]
    },
    {
      "cell_type": "code",
      "execution_count": 63,
      "id": "a5cd7851-093a-4d00-bd60-e6b1d811c565",
      "metadata": {
        "colab": {
          "base_uri": "https://localhost:8080/"
        },
        "id": "a5cd7851-093a-4d00-bd60-e6b1d811c565",
        "outputId": "d310e952-33f2-4067-9e4f-f456a27cb7b0"
      },
      "outputs": [
        {
          "output_type": "stream",
          "name": "stderr",
          "text": [
            "/usr/local/lib/python3.11/dist-packages/sklearn/linear_model/_logistic.py:1171: UserWarning: l1_ratio parameter is only used when penalty is 'elasticnet'. Got (penalty=l2)\n",
            "  warnings.warn(\n",
            "/usr/local/lib/python3.11/dist-packages/sklearn/utils/validation.py:1184: DataConversionWarning: A column-vector y was passed when a 1d array was expected. Please change the shape of y to (n_samples, ), for example using ravel().\n",
            "  y = column_or_1d(y, warn=True)\n"
          ]
        },
        {
          "output_type": "stream",
          "name": "stdout",
          "text": [
            "Class weights: {0: 1, 1: 1}\n",
            "              precision    recall  f1-score   support\n",
            "\n",
            "           0       0.85      0.97      0.91     66775\n",
            "           1       0.57      0.22      0.32     14150\n",
            "\n",
            "    accuracy                           0.83     80925\n",
            "   macro avg       0.71      0.59      0.61     80925\n",
            "weighted avg       0.80      0.83      0.80     80925\n",
            "\n",
            "AUC: 0.5922931287893922\n"
          ]
        },
        {
          "output_type": "stream",
          "name": "stderr",
          "text": [
            "/usr/local/lib/python3.11/dist-packages/sklearn/linear_model/_logistic.py:1171: UserWarning: l1_ratio parameter is only used when penalty is 'elasticnet'. Got (penalty=l2)\n",
            "  warnings.warn(\n",
            "/usr/local/lib/python3.11/dist-packages/sklearn/utils/validation.py:1184: DataConversionWarning: A column-vector y was passed when a 1d array was expected. Please change the shape of y to (n_samples, ), for example using ravel().\n",
            "  y = column_or_1d(y, warn=True)\n"
          ]
        },
        {
          "output_type": "stream",
          "name": "stdout",
          "text": [
            "Class weights: {0: 1, 1: 2}\n",
            "              precision    recall  f1-score   support\n",
            "\n",
            "           0       0.88      0.89      0.89     66775\n",
            "           1       0.46      0.43      0.45     14150\n",
            "\n",
            "    accuracy                           0.81     80925\n",
            "   macro avg       0.67      0.66      0.67     80925\n",
            "weighted avg       0.81      0.81      0.81     80925\n",
            "\n",
            "AUC: 0.6619079023089246\n"
          ]
        },
        {
          "output_type": "stream",
          "name": "stderr",
          "text": [
            "/usr/local/lib/python3.11/dist-packages/sklearn/linear_model/_logistic.py:1171: UserWarning: l1_ratio parameter is only used when penalty is 'elasticnet'. Got (penalty=l2)\n",
            "  warnings.warn(\n",
            "/usr/local/lib/python3.11/dist-packages/sklearn/utils/validation.py:1184: DataConversionWarning: A column-vector y was passed when a 1d array was expected. Please change the shape of y to (n_samples, ), for example using ravel().\n",
            "  y = column_or_1d(y, warn=True)\n"
          ]
        },
        {
          "output_type": "stream",
          "name": "stdout",
          "text": [
            "Class weights: {0: 1, 1: 2.05}\n",
            "              precision    recall  f1-score   support\n",
            "\n",
            "           0       0.88      0.89      0.89     66775\n",
            "           1       0.46      0.44      0.45     14150\n",
            "\n",
            "    accuracy                           0.81     80925\n",
            "   macro avg       0.67      0.66      0.67     80925\n",
            "weighted avg       0.81      0.81      0.81     80925\n",
            "\n",
            "AUC: 0.6643670069705634\n"
          ]
        },
        {
          "output_type": "stream",
          "name": "stderr",
          "text": [
            "/usr/local/lib/python3.11/dist-packages/sklearn/linear_model/_logistic.py:1171: UserWarning: l1_ratio parameter is only used when penalty is 'elasticnet'. Got (penalty=l2)\n",
            "  warnings.warn(\n",
            "/usr/local/lib/python3.11/dist-packages/sklearn/utils/validation.py:1184: DataConversionWarning: A column-vector y was passed when a 1d array was expected. Please change the shape of y to (n_samples, ), for example using ravel().\n",
            "  y = column_or_1d(y, warn=True)\n"
          ]
        },
        {
          "output_type": "stream",
          "name": "stdout",
          "text": [
            "Class weights: {0: 1, 1: 2.1}\n",
            "              precision    recall  f1-score   support\n",
            "\n",
            "           0       0.88      0.89      0.88     66775\n",
            "           1       0.45      0.45      0.45     14150\n",
            "\n",
            "    accuracy                           0.81     80925\n",
            "   macro avg       0.67      0.67      0.67     80925\n",
            "weighted avg       0.81      0.81      0.81     80925\n",
            "\n",
            "AUC: 0.6669485231375339\n"
          ]
        },
        {
          "output_type": "stream",
          "name": "stderr",
          "text": [
            "/usr/local/lib/python3.11/dist-packages/sklearn/linear_model/_logistic.py:1171: UserWarning: l1_ratio parameter is only used when penalty is 'elasticnet'. Got (penalty=l2)\n",
            "  warnings.warn(\n",
            "/usr/local/lib/python3.11/dist-packages/sklearn/utils/validation.py:1184: DataConversionWarning: A column-vector y was passed when a 1d array was expected. Please change the shape of y to (n_samples, ), for example using ravel().\n",
            "  y = column_or_1d(y, warn=True)\n"
          ]
        },
        {
          "output_type": "stream",
          "name": "stdout",
          "text": [
            "Class weights: {0: 1, 1: 2.3}\n",
            "              precision    recall  f1-score   support\n",
            "\n",
            "           0       0.89      0.87      0.88     66775\n",
            "           1       0.44      0.48      0.46     14150\n",
            "\n",
            "    accuracy                           0.80     80925\n",
            "   macro avg       0.66      0.67      0.67     80925\n",
            "weighted avg       0.81      0.80      0.81     80925\n",
            "\n",
            "AUC: 0.6742951184889925\n"
          ]
        },
        {
          "output_type": "stream",
          "name": "stderr",
          "text": [
            "/usr/local/lib/python3.11/dist-packages/sklearn/linear_model/_logistic.py:1171: UserWarning: l1_ratio parameter is only used when penalty is 'elasticnet'. Got (penalty=l2)\n",
            "  warnings.warn(\n",
            "/usr/local/lib/python3.11/dist-packages/sklearn/utils/validation.py:1184: DataConversionWarning: A column-vector y was passed when a 1d array was expected. Please change the shape of y to (n_samples, ), for example using ravel().\n",
            "  y = column_or_1d(y, warn=True)\n"
          ]
        },
        {
          "output_type": "stream",
          "name": "stdout",
          "text": [
            "Class weights: {0: 1, 1: 2.35}\n",
            "              precision    recall  f1-score   support\n",
            "\n",
            "           0       0.89      0.87      0.88     66775\n",
            "           1       0.44      0.48      0.46     14150\n",
            "\n",
            "    accuracy                           0.80     80925\n",
            "   macro avg       0.66      0.68      0.67     80925\n",
            "weighted avg       0.81      0.80      0.80     80925\n",
            "\n",
            "AUC: 0.6757896421848065\n"
          ]
        },
        {
          "output_type": "stream",
          "name": "stderr",
          "text": [
            "/usr/local/lib/python3.11/dist-packages/sklearn/linear_model/_logistic.py:1171: UserWarning: l1_ratio parameter is only used when penalty is 'elasticnet'. Got (penalty=l2)\n",
            "  warnings.warn(\n",
            "/usr/local/lib/python3.11/dist-packages/sklearn/utils/validation.py:1184: DataConversionWarning: A column-vector y was passed when a 1d array was expected. Please change the shape of y to (n_samples, ), for example using ravel().\n",
            "  y = column_or_1d(y, warn=True)\n"
          ]
        },
        {
          "output_type": "stream",
          "name": "stdout",
          "text": [
            "Class weights: {0: 1, 1: 2.7}\n",
            "              precision    recall  f1-score   support\n",
            "\n",
            "           0       0.89      0.84      0.87     66775\n",
            "           1       0.42      0.53      0.47     14150\n",
            "\n",
            "    accuracy                           0.79     80925\n",
            "   macro avg       0.65      0.69      0.67     80925\n",
            "weighted avg       0.81      0.79      0.80     80925\n",
            "\n",
            "AUC: 0.685842004093172\n"
          ]
        },
        {
          "output_type": "stream",
          "name": "stderr",
          "text": [
            "/usr/local/lib/python3.11/dist-packages/sklearn/linear_model/_logistic.py:1171: UserWarning: l1_ratio parameter is only used when penalty is 'elasticnet'. Got (penalty=l2)\n",
            "  warnings.warn(\n",
            "/usr/local/lib/python3.11/dist-packages/sklearn/utils/validation.py:1184: DataConversionWarning: A column-vector y was passed when a 1d array was expected. Please change the shape of y to (n_samples, ), for example using ravel().\n",
            "  y = column_or_1d(y, warn=True)\n"
          ]
        },
        {
          "output_type": "stream",
          "name": "stdout",
          "text": [
            "Class weights: {0: 1, 1: 2.9}\n",
            "              precision    recall  f1-score   support\n",
            "\n",
            "           0       0.90      0.83      0.86     66775\n",
            "           1       0.40      0.55      0.47     14150\n",
            "\n",
            "    accuracy                           0.78     80925\n",
            "   macro avg       0.65      0.69      0.66     80925\n",
            "weighted avg       0.81      0.78      0.79     80925\n",
            "\n",
            "AUC: 0.6901485527713578\n"
          ]
        },
        {
          "output_type": "stream",
          "name": "stderr",
          "text": [
            "/usr/local/lib/python3.11/dist-packages/sklearn/linear_model/_logistic.py:1171: UserWarning: l1_ratio parameter is only used when penalty is 'elasticnet'. Got (penalty=l2)\n",
            "  warnings.warn(\n",
            "/usr/local/lib/python3.11/dist-packages/sklearn/utils/validation.py:1184: DataConversionWarning: A column-vector y was passed when a 1d array was expected. Please change the shape of y to (n_samples, ), for example using ravel().\n",
            "  y = column_or_1d(y, warn=True)\n"
          ]
        },
        {
          "output_type": "stream",
          "name": "stdout",
          "text": [
            "Class weights: {0: 1, 1: 3}\n",
            "              precision    recall  f1-score   support\n",
            "\n",
            "           0       0.90      0.82      0.86     66775\n",
            "           1       0.40      0.56      0.47     14150\n",
            "\n",
            "    accuracy                           0.78     80925\n",
            "   macro avg       0.65      0.69      0.66     80925\n",
            "weighted avg       0.81      0.78      0.79     80925\n",
            "\n",
            "AUC: 0.6919904536753219\n"
          ]
        },
        {
          "output_type": "stream",
          "name": "stderr",
          "text": [
            "/usr/local/lib/python3.11/dist-packages/sklearn/linear_model/_logistic.py:1171: UserWarning: l1_ratio parameter is only used when penalty is 'elasticnet'. Got (penalty=l2)\n",
            "  warnings.warn(\n",
            "/usr/local/lib/python3.11/dist-packages/sklearn/utils/validation.py:1184: DataConversionWarning: A column-vector y was passed when a 1d array was expected. Please change the shape of y to (n_samples, ), for example using ravel().\n",
            "  y = column_or_1d(y, warn=True)\n"
          ]
        },
        {
          "output_type": "stream",
          "name": "stdout",
          "text": [
            "Class weights: {0: 1, 1: 4}\n",
            "              precision    recall  f1-score   support\n",
            "\n",
            "           0       0.91      0.76      0.83     66775\n",
            "           1       0.36      0.65      0.47     14150\n",
            "\n",
            "    accuracy                           0.74     80925\n",
            "   macro avg       0.64      0.70      0.65     80925\n",
            "weighted avg       0.81      0.74      0.76     80925\n",
            "\n",
            "AUC: 0.7037184892570775\n"
          ]
        },
        {
          "output_type": "stream",
          "name": "stderr",
          "text": [
            "/usr/local/lib/python3.11/dist-packages/sklearn/linear_model/_logistic.py:1171: UserWarning: l1_ratio parameter is only used when penalty is 'elasticnet'. Got (penalty=l2)\n",
            "  warnings.warn(\n",
            "/usr/local/lib/python3.11/dist-packages/sklearn/utils/validation.py:1184: DataConversionWarning: A column-vector y was passed when a 1d array was expected. Please change the shape of y to (n_samples, ), for example using ravel().\n",
            "  y = column_or_1d(y, warn=True)\n"
          ]
        },
        {
          "output_type": "stream",
          "name": "stdout",
          "text": [
            "Class weights: {0: 1, 1: 5}\n",
            "              precision    recall  f1-score   support\n",
            "\n",
            "           0       0.92      0.70      0.80     66775\n",
            "           1       0.34      0.71      0.46     14150\n",
            "\n",
            "    accuracy                           0.70     80925\n",
            "   macro avg       0.63      0.71      0.63     80925\n",
            "weighted avg       0.82      0.70      0.74     80925\n",
            "\n",
            "AUC: 0.707219632937466\n"
          ]
        }
      ],
      "source": [
        "# now we try different classweights to find the best model for our project\n",
        "weights = [{0: 1, 1: w} for w in [1, 2,2.05,2.1,2.3,2.35,2.7,2.9,3,4,5]]\n",
        "auc_s=[]\n",
        "for weight in weights:\n",
        "    lr = LogisticRegression(C=0.1,penalty='l2',l1_ratio=0.5, solver='saga', random_state=42, max_iter=2000,class_weight=weight)\n",
        "    lr.fit(x_train, y_t)\n",
        "    y_pred = lr.predict(x_val)\n",
        "    print(f\"Class weights: {weight}\")\n",
        "    print(classification_report(y_val, y_pred))\n",
        "    fpr, tpr, threshold = roc_curve(y_val, y_pred)\n",
        "    roc_auc = auc(fpr, tpr)\n",
        "    auc_s.append(roc_auc)\n",
        "    print(f\"AUC: {roc_auc}\")"
      ]
    },
    {
      "cell_type": "code",
      "source": [
        "param_grid_sgd = {\n",
        "    'penalty': ['l2', 'l1', 'elasticnet'],\n",
        "    'alpha': [0.001, 0.01, 0.1], # Regularization strength\n",
        "    'l1_ratio': [0.5], # Only used for elasticnet\n",
        "    'learning_rate': ['optimal', 'adaptive'], # Adaptive requires eta0\n",
        "    'eta0': [0.01, 0.1], # Initial learning rate for adaptive\n",
        "    'max_iter': [1000] # Max iterations\n",
        "}\n",
        "grid_search_sgd = GridSearchCV(sgd, param_grid_sgd, cv=3, # Using 3 folds for potentially faster search\n",
        "                               scoring='roc_auc', n_jobs=-1, verbose=2)\n",
        "\n",
        "print(\"Starting GridSearchCV for SGDClassifier...\")\n",
        "grid_search_sgd.fit(x_train, y_t)"
      ],
      "metadata": {
        "colab": {
          "base_uri": "https://localhost:8080/",
          "height": 209
        },
        "id": "WakZWkuKbkDA",
        "outputId": "0e5fce36-ae72-4082-92ce-75de6f2ebeaa"
      },
      "id": "WakZWkuKbkDA",
      "execution_count": 118,
      "outputs": [
        {
          "output_type": "stream",
          "name": "stdout",
          "text": [
            "Starting GridSearchCV for SGDClassifier...\n",
            "Fitting 3 folds for each of 36 candidates, totalling 108 fits\n"
          ]
        },
        {
          "output_type": "stream",
          "name": "stderr",
          "text": [
            "/usr/local/lib/python3.11/dist-packages/sklearn/utils/validation.py:1184: DataConversionWarning: A column-vector y was passed when a 1d array was expected. Please change the shape of y to (n_samples, ), for example using ravel().\n",
            "  y = column_or_1d(y, warn=True)\n"
          ]
        },
        {
          "output_type": "execute_result",
          "data": {
            "text/plain": [
              "GridSearchCV(cv=3,\n",
              "             estimator=SGDClassifier(class_weight='balanced',\n",
              "                                     early_stopping=True, loss='log_loss',\n",
              "                                     n_iter_no_change=10, random_state=42),\n",
              "             n_jobs=-1,\n",
              "             param_grid={'alpha': [0.001, 0.01, 0.1], 'eta0': [0.01, 0.1],\n",
              "                         'l1_ratio': [0.5],\n",
              "                         'learning_rate': ['optimal', 'adaptive'],\n",
              "                         'max_iter': [1000],\n",
              "                         'penalty': ['l2', 'l1', 'elasticnet']},\n",
              "             scoring='roc_auc', verbose=2)"
            ],
            "text/html": [
              "<style>#sk-container-id-3 {color: black;}#sk-container-id-3 pre{padding: 0;}#sk-container-id-3 div.sk-toggleable {background-color: white;}#sk-container-id-3 label.sk-toggleable__label {cursor: pointer;display: block;width: 100%;margin-bottom: 0;padding: 0.3em;box-sizing: border-box;text-align: center;}#sk-container-id-3 label.sk-toggleable__label-arrow:before {content: \"▸\";float: left;margin-right: 0.25em;color: #696969;}#sk-container-id-3 label.sk-toggleable__label-arrow:hover:before {color: black;}#sk-container-id-3 div.sk-estimator:hover label.sk-toggleable__label-arrow:before {color: black;}#sk-container-id-3 div.sk-toggleable__content {max-height: 0;max-width: 0;overflow: hidden;text-align: left;background-color: #f0f8ff;}#sk-container-id-3 div.sk-toggleable__content pre {margin: 0.2em;color: black;border-radius: 0.25em;background-color: #f0f8ff;}#sk-container-id-3 input.sk-toggleable__control:checked~div.sk-toggleable__content {max-height: 200px;max-width: 100%;overflow: auto;}#sk-container-id-3 input.sk-toggleable__control:checked~label.sk-toggleable__label-arrow:before {content: \"▾\";}#sk-container-id-3 div.sk-estimator input.sk-toggleable__control:checked~label.sk-toggleable__label {background-color: #d4ebff;}#sk-container-id-3 div.sk-label input.sk-toggleable__control:checked~label.sk-toggleable__label {background-color: #d4ebff;}#sk-container-id-3 input.sk-hidden--visually {border: 0;clip: rect(1px 1px 1px 1px);clip: rect(1px, 1px, 1px, 1px);height: 1px;margin: -1px;overflow: hidden;padding: 0;position: absolute;width: 1px;}#sk-container-id-3 div.sk-estimator {font-family: monospace;background-color: #f0f8ff;border: 1px dotted black;border-radius: 0.25em;box-sizing: border-box;margin-bottom: 0.5em;}#sk-container-id-3 div.sk-estimator:hover {background-color: #d4ebff;}#sk-container-id-3 div.sk-parallel-item::after {content: \"\";width: 100%;border-bottom: 1px solid gray;flex-grow: 1;}#sk-container-id-3 div.sk-label:hover label.sk-toggleable__label {background-color: #d4ebff;}#sk-container-id-3 div.sk-serial::before {content: \"\";position: absolute;border-left: 1px solid gray;box-sizing: border-box;top: 0;bottom: 0;left: 50%;z-index: 0;}#sk-container-id-3 div.sk-serial {display: flex;flex-direction: column;align-items: center;background-color: white;padding-right: 0.2em;padding-left: 0.2em;position: relative;}#sk-container-id-3 div.sk-item {position: relative;z-index: 1;}#sk-container-id-3 div.sk-parallel {display: flex;align-items: stretch;justify-content: center;background-color: white;position: relative;}#sk-container-id-3 div.sk-item::before, #sk-container-id-3 div.sk-parallel-item::before {content: \"\";position: absolute;border-left: 1px solid gray;box-sizing: border-box;top: 0;bottom: 0;left: 50%;z-index: -1;}#sk-container-id-3 div.sk-parallel-item {display: flex;flex-direction: column;z-index: 1;position: relative;background-color: white;}#sk-container-id-3 div.sk-parallel-item:first-child::after {align-self: flex-end;width: 50%;}#sk-container-id-3 div.sk-parallel-item:last-child::after {align-self: flex-start;width: 50%;}#sk-container-id-3 div.sk-parallel-item:only-child::after {width: 0;}#sk-container-id-3 div.sk-dashed-wrapped {border: 1px dashed gray;margin: 0 0.4em 0.5em 0.4em;box-sizing: border-box;padding-bottom: 0.4em;background-color: white;}#sk-container-id-3 div.sk-label label {font-family: monospace;font-weight: bold;display: inline-block;line-height: 1.2em;}#sk-container-id-3 div.sk-label-container {text-align: center;}#sk-container-id-3 div.sk-container {/* jupyter's `normalize.less` sets `[hidden] { display: none; }` but bootstrap.min.css set `[hidden] { display: none !important; }` so we also need the `!important` here to be able to override the default hidden behavior on the sphinx rendered scikit-learn.org. See: https://github.com/scikit-learn/scikit-learn/issues/21755 */display: inline-block !important;position: relative;}#sk-container-id-3 div.sk-text-repr-fallback {display: none;}</style><div id=\"sk-container-id-3\" class=\"sk-top-container\"><div class=\"sk-text-repr-fallback\"><pre>GridSearchCV(cv=3,\n",
              "             estimator=SGDClassifier(class_weight=&#x27;balanced&#x27;,\n",
              "                                     early_stopping=True, loss=&#x27;log_loss&#x27;,\n",
              "                                     n_iter_no_change=10, random_state=42),\n",
              "             n_jobs=-1,\n",
              "             param_grid={&#x27;alpha&#x27;: [0.001, 0.01, 0.1], &#x27;eta0&#x27;: [0.01, 0.1],\n",
              "                         &#x27;l1_ratio&#x27;: [0.5],\n",
              "                         &#x27;learning_rate&#x27;: [&#x27;optimal&#x27;, &#x27;adaptive&#x27;],\n",
              "                         &#x27;max_iter&#x27;: [1000],\n",
              "                         &#x27;penalty&#x27;: [&#x27;l2&#x27;, &#x27;l1&#x27;, &#x27;elasticnet&#x27;]},\n",
              "             scoring=&#x27;roc_auc&#x27;, verbose=2)</pre><b>In a Jupyter environment, please rerun this cell to show the HTML representation or trust the notebook. <br />On GitHub, the HTML representation is unable to render, please try loading this page with nbviewer.org.</b></div><div class=\"sk-container\" hidden><div class=\"sk-item sk-dashed-wrapped\"><div class=\"sk-label-container\"><div class=\"sk-label sk-toggleable\"><input class=\"sk-toggleable__control sk-hidden--visually\" id=\"sk-estimator-id-3\" type=\"checkbox\" ><label for=\"sk-estimator-id-3\" class=\"sk-toggleable__label sk-toggleable__label-arrow\">GridSearchCV</label><div class=\"sk-toggleable__content\"><pre>GridSearchCV(cv=3,\n",
              "             estimator=SGDClassifier(class_weight=&#x27;balanced&#x27;,\n",
              "                                     early_stopping=True, loss=&#x27;log_loss&#x27;,\n",
              "                                     n_iter_no_change=10, random_state=42),\n",
              "             n_jobs=-1,\n",
              "             param_grid={&#x27;alpha&#x27;: [0.001, 0.01, 0.1], &#x27;eta0&#x27;: [0.01, 0.1],\n",
              "                         &#x27;l1_ratio&#x27;: [0.5],\n",
              "                         &#x27;learning_rate&#x27;: [&#x27;optimal&#x27;, &#x27;adaptive&#x27;],\n",
              "                         &#x27;max_iter&#x27;: [1000],\n",
              "                         &#x27;penalty&#x27;: [&#x27;l2&#x27;, &#x27;l1&#x27;, &#x27;elasticnet&#x27;]},\n",
              "             scoring=&#x27;roc_auc&#x27;, verbose=2)</pre></div></div></div><div class=\"sk-parallel\"><div class=\"sk-parallel-item\"><div class=\"sk-item\"><div class=\"sk-label-container\"><div class=\"sk-label sk-toggleable\"><input class=\"sk-toggleable__control sk-hidden--visually\" id=\"sk-estimator-id-4\" type=\"checkbox\" ><label for=\"sk-estimator-id-4\" class=\"sk-toggleable__label sk-toggleable__label-arrow\">estimator: SGDClassifier</label><div class=\"sk-toggleable__content\"><pre>SGDClassifier(class_weight=&#x27;balanced&#x27;, early_stopping=True, loss=&#x27;log_loss&#x27;,\n",
              "              n_iter_no_change=10, random_state=42)</pre></div></div></div><div class=\"sk-serial\"><div class=\"sk-item\"><div class=\"sk-estimator sk-toggleable\"><input class=\"sk-toggleable__control sk-hidden--visually\" id=\"sk-estimator-id-5\" type=\"checkbox\" ><label for=\"sk-estimator-id-5\" class=\"sk-toggleable__label sk-toggleable__label-arrow\">SGDClassifier</label><div class=\"sk-toggleable__content\"><pre>SGDClassifier(class_weight=&#x27;balanced&#x27;, early_stopping=True, loss=&#x27;log_loss&#x27;,\n",
              "              n_iter_no_change=10, random_state=42)</pre></div></div></div></div></div></div></div></div></div></div>"
            ]
          },
          "metadata": {},
          "execution_count": 118
        }
      ]
    },
    {
      "cell_type": "code",
      "source": [
        "print(\"\\nBest SGD Parameters:\", grid_search_sgd.best_params_)\n",
        "print(\"Best SGD AUC Score:\", grid_search_sgd.best_score_)"
      ],
      "metadata": {
        "colab": {
          "base_uri": "https://localhost:8080/"
        },
        "id": "vPTTq-ZHfhdw",
        "outputId": "377f5deb-0564-4185-af89-ced44008ddb6"
      },
      "id": "vPTTq-ZHfhdw",
      "execution_count": 119,
      "outputs": [
        {
          "output_type": "stream",
          "name": "stdout",
          "text": [
            "\n",
            "Best SGD Parameters: {'alpha': 0.01, 'eta0': 0.1, 'l1_ratio': 0.5, 'learning_rate': 'adaptive', 'max_iter': 1000, 'penalty': 'elasticnet'}\n",
            "Best SGD AUC Score: 0.8038039785901664\n"
          ]
        }
      ]
    },
    {
      "cell_type": "markdown",
      "id": "c54a28dd-af0a-4a39-a935-4a3339c9b00a",
      "metadata": {
        "id": "c54a28dd-af0a-4a39-a935-4a3339c9b00a"
      },
      "source": [
        "# Best Model"
      ]
    },
    {
      "cell_type": "markdown",
      "id": "898f0612-0097-46ec-8aff-4f2fde1323ac",
      "metadata": {
        "id": "898f0612-0097-46ec-8aff-4f2fde1323ac"
      },
      "source": [
        "1) We have identified the best model so we simply train the model\n",
        "2) We find the ideal threshold for our model\n",
        "3) We compute the metrics and export the model for scoring function"
      ]
    },
    {
      "cell_type": "code",
      "source": [
        "best_sgd_model = grid_search_sgd.best_estimator_"
      ],
      "metadata": {
        "id": "EcTgLbBMh-2i"
      },
      "id": "EcTgLbBMh-2i",
      "execution_count": 120,
      "outputs": []
    },
    {
      "cell_type": "code",
      "source": [
        "y_pred_sgd = best_sgd_model.predict(x_val)\n",
        "y_prob_sgd = best_sgd_model.predict_proba(x_val)[:, 1] # Probabilities for class 1\n",
        "\n",
        "print(\"\\nSGD Classifier Validation Report:\")\n",
        "print(classification_report(y_val, y_pred_sgd))\n",
        "\n",
        "print(\"SGD Classifier Validation AUC:\", roc_auc_score(y_val, y_prob_sgd))"
      ],
      "metadata": {
        "colab": {
          "base_uri": "https://localhost:8080/"
        },
        "id": "OQJSvxk2h__e",
        "outputId": "b8e24b17-a17a-4e0e-e3b2-e75c7ec18ce1"
      },
      "id": "OQJSvxk2h__e",
      "execution_count": 121,
      "outputs": [
        {
          "output_type": "stream",
          "name": "stdout",
          "text": [
            "\n",
            "SGD Classifier Validation Report:\n",
            "              precision    recall  f1-score   support\n",
            "\n",
            "           0       0.91      0.74      0.82     66775\n",
            "           1       0.36      0.67      0.46     14150\n",
            "\n",
            "    accuracy                           0.73     80925\n",
            "   macro avg       0.63      0.70      0.64     80925\n",
            "weighted avg       0.82      0.73      0.76     80925\n",
            "\n",
            "SGD Classifier Validation AUC: 0.7783710922048491\n"
          ]
        }
      ]
    },
    {
      "cell_type": "code",
      "source": [
        "cm_display = ConfusionMatrixDisplay(confusion_matrix = confusion_matrix(y_val, y_pred_sgd), display_labels = [False, True])\n",
        "cm_display.plot()"
      ],
      "metadata": {
        "colab": {
          "base_uri": "https://localhost:8080/",
          "height": 467
        },
        "id": "9KQrFvrOiUes",
        "outputId": "99cb431a-d426-4cb9-d760-231ced729ff8"
      },
      "id": "9KQrFvrOiUes",
      "execution_count": 122,
      "outputs": [
        {
          "output_type": "execute_result",
          "data": {
            "text/plain": [
              "<sklearn.metrics._plot.confusion_matrix.ConfusionMatrixDisplay at 0x7850de4861d0>"
            ]
          },
          "metadata": {},
          "execution_count": 122
        },
        {
          "output_type": "display_data",
          "data": {
            "text/plain": [
              "<Figure size 640x480 with 2 Axes>"
            ],
            "image/png": "[encoded data removed]"
          },
          "metadata": {}
        }
      ]
    },
    {
      "cell_type": "code",
      "source": [
        "# Calculating ROC curve and AUC\n",
        "fpr, tpr, threshold =  roc_curve(y_val, y_prob_sgd)\n",
        "roc_auc = auc(fpr, tpr)\n",
        "\n",
        "# Plotting\n",
        "plt.figure()\n",
        "plt.plot(fpr, tpr, color='darkorange', lw=2, label='ROC curve (area = %0.2f)' % roc_auc)\n",
        "plt.plot([0, 1], [0, 1], color='navy', lw=2, linestyle='--')\n",
        "plt.xlim([0.0, 1.0])\n",
        "plt.ylim([0.0, 1.05])\n",
        "plt.xlabel('False Positive Rate')\n",
        "plt.ylabel('True Positive Rate')\n",
        "plt.title('Receiver Operating Characteristic')\n",
        "plt.legend(loc=\"lower right\")\n",
        "plt.show()"
      ],
      "metadata": {
        "colab": {
          "base_uri": "https://localhost:8080/",
          "height": 472
        },
        "id": "dRyLzSNMiZ-n",
        "outputId": "03e031ee-b875-4a78-f0ea-084905d20498"
      },
      "id": "dRyLzSNMiZ-n",
      "execution_count": 123,
      "outputs": [
        {
          "output_type": "display_data",
          "data": {
            "text/plain": [
              "<Figure size 640x480 with 1 Axes>"
            ],
            "image/png": "[encoded data removed]"
          },
          "metadata": {}
        }
      ]
    },
    {
      "cell_type": "code",
      "source": [
        "with open('sgd_model.pkl', 'wb') as file:\n",
        "    pickle.dump(best_sgd_model, file)"
      ],
      "metadata": {
        "id": "H61bd1CJjX5D"
      },
      "id": "H61bd1CJjX5D",
      "execution_count": 124,
      "outputs": []
    },
    {
      "cell_type": "code",
      "source": [
        "y_probs = best_sgd_model.predict_proba(x_val)[:, 1]\n",
        "\n",
        "# Find optimal threshold using F1 macro score\n",
        "thresholds = np.arange(0, 1, 0.01)\n",
        "f1_scores = [f1_score(y_val, (y_probs > threshold).astype(int), average='macro') for threshold in thresholds]\n",
        "optimal_threshold = thresholds[np.argmax(f1_scores)]\n",
        "\n",
        "print(\"Optimal Threshold using F1 Macro Score:\", optimal_threshold)"
      ],
      "metadata": {
        "colab": {
          "base_uri": "https://localhost:8080/"
        },
        "id": "dZ2mExFemQiL",
        "outputId": "ab2b7b93-3d99-4a5e-b52d-b6708f00c053"
      },
      "id": "dZ2mExFemQiL",
      "execution_count": 125,
      "outputs": [
        {
          "output_type": "stream",
          "name": "stdout",
          "text": [
            "Optimal Threshold using F1 Macro Score: 0.66\n"
          ]
        }
      ]
    },
    {
      "cell_type": "markdown",
      "id": "aa774296-90ba-45e2-bed9-b736425f69cc",
      "metadata": {
        "id": "aa774296-90ba-45e2-bed9-b736425f69cc"
      },
      "source": [
        "**Strategy for scoring:\n",
        "    Load artifacts one by one on this file and experiment on the validation file by loading it here first\n",
        "    Perform the trasformations and then the testing on the file and get the output the same way its done on the function\n",
        "    if it works , export the code from here to the scoring function.**\n",
        "    "
      ]
    },
    {
      "cell_type": "markdown",
      "id": "f06b2d37-d8ee-4200-93cd-78805f1abb31",
      "metadata": {
        "id": "f06b2d37-d8ee-4200-93cd-78805f1abb31"
      },
      "source": [
        "**So the scoring function has been done.\n",
        "But there are some issues to address:\n",
        "    1) Data might be severely imbalanced since F1 score is low\n",
        "    2) Threshold is 0 which is bad again due to imbalance\n",
        "    3) Might have to drop original features in favor of engineered features or,\n",
        "    4) Feature Selection algorithms**"
      ]
    },
    {
      "cell_type": "markdown",
      "id": "1cbd049d-8196-4d1f-9f16-9ca7671f0bf5",
      "metadata": {
        "id": "1cbd049d-8196-4d1f-9f16-9ca7671f0bf5"
      },
      "source": [
        "# SUMMARY OF THE PROJECT"
      ]
    },
    {
      "cell_type": "markdown",
      "id": "65e5c220-c677-4443-a882-c4f43e3a0871",
      "metadata": {
        "id": "65e5c220-c677-4443-a882-c4f43e3a0871"
      },
      "source": [
        "**The project primarily focued on the SBA loans dataset. After data cleaning and EDA we used feature engineering to create better features for our model. The project included the use of logistic regression in both sklearn and h20. The logistic regression models used were experimented with multiple hyperparamreters using gridsearch and the ideal set of parameters was identified. The feature engineering step helped decrease multicollinearity by using PCA and further using feature selection/ViF helped improve performance. From the observations made, the best model had no regularization and performed with an f1 macro score of 0.65 and accuracy of 76%. On further analysis using Scoring function and the kaggle submission board, a score of 76.45% was obtained. On the H20 side our best model performs with an AUC score of 0.78 and AIC of 551259.8254321709. we experimented with multiple regularizations and regularization strenghts. The sklearn model was used for our scoring function since it gave us the best results. The ideal threshold after using f1 macro was 0.54.\n",
        "Moving forward a set of recommendations would primarily focus on experimenting with other models that deal better with data imbalance. Another approach could be used data resampling such as oversampling and undersampling the data to try improving model performance. Lastly more engineered features which increase explainability could ultimately result in a better model.**"
      ]
    },
    {
      "cell_type": "code",
      "execution_count": null,
      "id": "6cbc39d6-1587-46ce-b4a9-cef5c12602fa",
      "metadata": {
        "id": "6cbc39d6-1587-46ce-b4a9-cef5c12602fa"
      },
      "outputs": [],
      "source": [
        "import sklearn as sk\n"
      ]
    },
    {
      "cell_type": "code",
      "source": [
        "print(sk.__version__)"
      ],
      "metadata": {
        "colab": {
          "base_uri": "https://localhost:8080/"
        },
        "id": "RIxyamXJuwD1",
        "outputId": "7d8a4e82-fedb-48be-8864-774dd8b46494"
      },
      "id": "RIxyamXJuwD1",
      "execution_count": null,
      "outputs": [
        {
          "output_type": "stream",
          "name": "stdout",
          "text": [
            "1.6.1\n"
          ]
        }
      ]
    },
    {
      "cell_type": "code",
      "source": [],
      "metadata": {
        "id": "OD2hqOILu1r1"
      },
      "id": "OD2hqOILu1r1",
      "execution_count": null,
      "outputs": []
    }
  ],
  "metadata": {
    "kernelspec": {
      "display_name": "Python 3",
      "name": "python3"
    },
    "language_info": {
      "codemirror_mode": {
        "name": "ipython",
        "version": 3
      },
      "file_extension": ".py",
      "mimetype": "text/x-python",
      "name": "python",
      "nbconvert_exporter": "python",
      "pygments_lexer": "ipython3",
      "version": "3.9.12"
    },
    "colab": {
      "provenance": [],
      "gpuType": "A100",
      "include_colab_link": true
    }
  },
  "nbformat": 4,
  "nbformat_minor": 5
}