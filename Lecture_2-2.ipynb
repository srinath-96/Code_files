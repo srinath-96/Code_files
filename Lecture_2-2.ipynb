{
  "cells": [
    {
      "cell_type": "markdown",
      "metadata": {},
      "source": [
        "# Lecture 2-2\n",
        "\n",
        "This notebook provides a comprehensive overview of various Python data structures, including:\n",
        "\n",
        "### Strings\n",
        "- **Sequences of characters.**\n",
        "- **Immutable:** Individual characters cannot be changed.\n",
        "- **Defined using single quotes `''` or double quotes `\"\"`.**\n",
        "\n",
        "### Lists\n",
        "- **Ordered collections of items.**\n",
        "- **Mutable:** Elements can be changed after creation.\n",
        "- **Defined using square brackets `[]`.**\n",
        "\n",
        "### Tuples\n",
        "- **Ordered collections of items.**\n",
        "- **Immutable:** Elements cannot be changed after creation.\n",
        "- **Defined using parentheses `()`.**\n",
        "\n",
        "### Dictionaries\n",
        "- **Unordered key-value pairs.**\n",
        "- **Keys must be unique and immutable.**\n",
        "- **Values can be of any data type.**\n",
        "- **Defined using curly braces `{}`.**\n",
        "\n",
        "### Ordered Dictionaries\n",
        "- **Similar to regular dictionaries but maintain the order of insertion.**\n",
        "- **Useful for scenarios where the order of items matters.**\n",
        "- **Introduced in Python 3.7.**\n",
        "\n",
        "### Other Data Types\n",
        "- **Sets:** Unordered collections of unique elements.\n",
        "- **Frozen Sets:** Immutable sets.\n",
        "- **Bytes and Bytearrays:** Sequences of bytes.\n",
        "- **Complex Numbers:** Numbers with real and imaginary parts.\n",
        "- **Boolean Type:** Represents True or False values.\n",
        "- **NoneType:** Represents the absence of a value.\n",
        "\n",
        "For more details and examples, refer to the official Python documentation: [Python Data Types](https://docs.python.org/3/library/datatypes.html)\n"
      ]
    },
    {
      "cell_type": "markdown",
      "metadata": {
        "id": "3Wq-VgO8JXuZ"
      },
      "source": [
        "## Strings\n",
        "\n",
        "  * **Sequences of characters.**\n",
        "  * **Immutable:** Individual characters cannot be changed.\n",
        "  * **Defined using single quotes `''` or double quotes `\"\"`.**\n",
        "\n",
        "**Example:**"
      ]
    },
    {
      "cell_type": "code",
      "execution_count": 1,
      "metadata": {
        "colab": {
          "base_uri": "https://localhost:8080/"
        },
        "id": "3w4dXQnTJXua",
        "outputId": "beae5c1c-6b2a-4b81-a983-f18a8112dba7"
      },
      "outputs": [
        {
          "name": "stdout",
          "output_type": "stream",
          "text": [
            "H\n",
            "!\n",
            "world\n",
            "HELLO, WORLD!\n",
            "hello, world!\n",
            "['Hello', ' world!']\n",
            "Hello, Python!\n"
          ]
        }
      ],
      "source": [
        "text = \"Hello, world!\"\n",
        "\n",
        "# Accessing characters:\n",
        "print(text[0])  # Output: H\n",
        "print(text[-1])  # Output: !\n",
        "\n",
        "# Slicing:\n",
        "print(text[7:12])  # Output: world\n",
        "\n",
        "# String methods:\n",
        "print(text.upper())  # Output: HELLO, WORLD!\n",
        "print(text.lower())  # Output: hello, world!\n",
        "print(text.split(\",\"))  # Output: ['Hello', ' world!']\n",
        "print(text.replace(\"world\", \"Python\"))  # Output: Hello, Python!"
      ]
    },
    {
      "cell_type": "markdown",
      "metadata": {},
      "source": [
        "#### Demonstrates string creation, concatenation, and length calculation."
      ]
    },
    {
      "cell_type": "code",
      "execution_count": 2,
      "metadata": {},
      "outputs": [
        {
          "name": "stdout",
          "output_type": "stream",
          "text": [
            "String 1: Hello\n",
            "String 2: World\n",
            "Combined String: Hello World\n",
            "Length of Combined String: 11\n"
          ]
        }
      ],
      "source": [
        "string1 = \"Hello\"\n",
        "string2 = \"World\"\n",
        "combined_string = string1 + \" \" + string2  # Concatenation\n",
        "string_length = len(combined_string)\n",
        "\n",
        "print(f\"String 1: {string1}\")\n",
        "print(f\"String 2: {string2}\")\n",
        "print(f\"Combined String: {combined_string}\")\n",
        "print(f\"Length of Combined String: {string_length}\")"
      ]
    },
    {
      "cell_type": "markdown",
      "metadata": {},
      "source": [
        "### String Indexing and Slicing\n",
        "\n",
        "Shows how to access individual characters and substrings using indexing and slicing."
      ]
    },
    {
      "cell_type": "code",
      "execution_count": 3,
      "metadata": {},
      "outputs": [
        {
          "name": "stdout",
          "output_type": "stream",
          "text": [
            "First Character: P\n",
            "Last Character: g\n",
            "Substring: Program\n",
            "Substring from index 7: Programming\n",
            "Substring from beginning to index 7: Python \n"
          ]
        }
      ],
      "source": [
        "my_string = \"Python Programming\"\n",
        "\n",
        "first_char = my_string[0]  # Accessing the first character\n",
        "last_char = my_string[-1] # Accessing the last character\n",
        "substring = my_string[7:14]  # Slicing from index 7 (inclusive) to 14 (exclusive)\n",
        "substring_end = my_string[7:] # Slicing from index 7 to end\n",
        "substring_begin = my_string[:7] # Slicing from beginning to index 7\n",
        "\n",
        "print(f\"First Character: {first_char}\")\n",
        "print(f\"Last Character: {last_char}\")\n",
        "print(f\"Substring: {substring}\")\n",
        "print(f\"Substring from index 7: {substring_end}\")\n",
        "print(f\"Substring from beginning to index 7: {substring_begin}\")"
      ]
    },
    {
      "cell_type": "markdown",
      "metadata": {},
      "source": [
        "### String Methods: find(), replace(), and count()\n",
        "\n",
        "Illustrates the use of common string methods."
      ]
    },
    {
      "cell_type": "code",
      "execution_count": 4,
      "metadata": {},
      "outputs": [
        {
          "name": "stdout",
          "output_type": "stream",
          "text": [
            "Index of 'sample': 10\n",
            "Replaced Text: This is a example string. This string has some repeated words.\n",
            "Count of 'string': 2\n"
          ]
        }
      ],
      "source": [
        "text = \"This is a sample string. This string has some repeated words.\"\n",
        "\n",
        "index = text.find(\"sample\")  # Find the index of the first occurrence\n",
        "replaced_text = text.replace(\"sample\", \"example\")  # Replace \"sample\" with \"example\"\n",
        "count = text.count(\"string\")  # Count the occurrences of \"string\"\n",
        "\n",
        "print(f\"Index of 'sample': {index}\")\n",
        "print(f\"Replaced Text: {replaced_text}\")\n",
        "print(f\"Count of 'string': {count}\")"
      ]
    },
    {
      "cell_type": "markdown",
      "metadata": {},
      "source": [
        "#### String Splitting and Joining\n",
        "\n",
        "Explanation: Demonstrates splitting a string into a list of substrings and joining a list of strings into a single string."
      ]
    },
    {
      "cell_type": "code",
      "execution_count": 5,
      "metadata": {},
      "outputs": [
        {
          "name": "stdout",
          "output_type": "stream",
          "text": [
            "Words: ['This', 'is', 'a', 'sentence', 'with', 'spaces.']\n",
            "Type of variable 'words': <class 'list'>\n",
            "Words split by comma: ['This is a sentence with spaces.']\n",
            "Joined String: This-is-a-sentence-with-spaces.\n"
          ]
        }
      ],
      "source": [
        "sentence = \"This is a sentence with spaces.\"\n",
        "words = sentence.split()  # Split by default whitespace\n",
        "words_comma = sentence.split(\",\")  # Split by comma\n",
        "\n",
        "joined_string = \"-\".join(words)  # Join with a hyphen\n",
        "\n",
        "print(f\"Words: {words}\")\n",
        "print(f\"Type of variable 'words': {type(words)}\")\n",
        "print(f\"Words split by comma: {words_comma}\")\n",
        "print(f\"Joined String: {joined_string}\")"
      ]
    },
    {
      "cell_type": "markdown",
      "metadata": {},
      "source": [
        "### String Formatting\n",
        "\n",
        "Explanation: Shows different ways to format strings, including f-strings."
      ]
    },
    {
      "cell_type": "code",
      "execution_count": 6,
      "metadata": {},
      "outputs": [
        {
          "name": "stdout",
          "output_type": "stream",
          "text": [
            "My name is Alice and I am 30 years old.\n",
            "My name is Alice and I am 30 years old.\n",
            "My name is Alice and I am 30 years old. My name is Alice again.\n"
          ]
        }
      ],
      "source": [
        "name = \"Alice\"\n",
        "age = 30\n",
        "\n",
        "formatted_string1 = \"My name is {} and I am {} years old.\".format(name, age) # Old format\n",
        "formatted_string2 = f\"My name is {name} and I am {age} years old.\"  # f-string (recommended)\n",
        "formatted_string3 = \"My name is {0} and I am {1} years old. My name is {0} again.\".format(name, age) # Using index\n",
        "\n",
        "print(formatted_string1)\n",
        "print(formatted_string2)\n",
        "print(formatted_string3)\n"
      ]
    },
    {
      "cell_type": "markdown",
      "metadata": {},
      "source": [
        "### String Matching with Regular Expressions\n",
        "\n",
        "Explanation: Introduces basic regular expression matching using the `re` module."
      ]
    },
    {
      "cell_type": "code",
      "execution_count": 7,
      "metadata": {},
      "outputs": [
        {
          "name": "stdout",
          "output_type": "stream",
          "text": [
            "Match 1: True\n",
            "Match 2: False\n",
            "Matches found: ['123', '456']\n"
          ]
        }
      ],
      "source": [
        "import re\n",
        "\n",
        "pattern = r\"^[a-zA-Z]+$\" # Matches one or more letters from the beginning to the end of the string\n",
        "string_to_match1 = \"HelloWorld\"\n",
        "string_to_match2 = \"HelloWorld123\"\n",
        "\n",
        "match1 = re.match(pattern, string_to_match1)\n",
        "match2 = re.match(pattern, string_to_match2)\n",
        "\n",
        "print(f\"Match 1: {bool(match1)}\")  # Output: True\n",
        "print(f\"Match 2: {bool(match2)}\")  # Output: False\n",
        "\n",
        "\n",
        "pattern2 = r\"\\d+\" # Matches one or more digits\n",
        "text_to_search = \"There are 123 apples and 456 oranges.\"\n",
        "matches = re.findall(pattern2, text_to_search)\n",
        "print(f\"Matches found: {matches}\")"
      ]
    },
    {
      "cell_type": "markdown",
      "metadata": {},
      "source": [
        "\n",
        "### Iterating over Strings\n",
        "\n",
        "Explanation: Shows how to iterate over the characters of a string."
      ]
    },
    {
      "cell_type": "code",
      "execution_count": 8,
      "metadata": {},
      "outputs": [
        {
          "name": "stdout",
          "output_type": "stream",
          "text": [
            "P\n",
            "y\n",
            "t\n",
            "h\n",
            "o\n",
            "n\n",
            "Character at index 0: P\n",
            "Character at index 1: y\n",
            "Character at index 2: t\n",
            "Character at index 3: h\n",
            "Character at index 4: o\n",
            "Character at index 5: n\n"
          ]
        }
      ],
      "source": [
        "my_string = \"Python\"\n",
        "\n",
        "for char in my_string:\n",
        "    print(char)\n",
        "\n",
        "for index, char in enumerate(my_string):\n",
        "    print(f\"Character at index {index}: {char}\")"
      ]
    },
    {
      "cell_type": "markdown",
      "metadata": {},
      "source": [
        "### String Case Conversion\n",
        "\n",
        "Explanation: Demonstrates converting strings to uppercase and lowercase."
      ]
    },
    {
      "cell_type": "markdown",
      "metadata": {},
      "source": [
        "text = \"This is a mixed case string.\"\n",
        "\n",
        "uppercase_text = text.upper()\n",
        "lowercase_text = text.lower()\n",
        "titlecase_text = text.title() # Makes the first letter of each word capital\n",
        "\n",
        "print(f\"Uppercase: {uppercase_text}\")\n",
        "print(f\"Lowercase: {lowercase_text}\")\n",
        "print(f\"Title Case: {titlecase_text}\")"
      ]
    },
    {
      "cell_type": "markdown",
      "metadata": {},
      "source": [
        "### Checking String Start and End\n",
        "\n",
        "Explanation: Demonstrates checking if a string starts or ends with a specific substring."
      ]
    },
    {
      "cell_type": "code",
      "execution_count": 9,
      "metadata": {},
      "outputs": [
        {
          "name": "stdout",
          "output_type": "stream",
          "text": [
            "Starts with 'doc': True\n",
            "Ends with '.txt': True\n"
          ]
        }
      ],
      "source": [
        "filename = \"document.txt\"\n",
        "\n",
        "starts_with_doc = filename.startswith(\"doc\")\n",
        "ends_with_txt = filename.endswith(\".txt\")\n",
        "\n",
        "print(f\"Starts with 'doc': {starts_with_doc}\")\n",
        "print(f\"Ends with '.txt': {ends_with_txt}\")"
      ]
    },
    {
      "cell_type": "markdown",
      "metadata": {},
      "source": [
        "### Stripping Whitespace\n",
        "\n",
        "Explanation: Shows how to remove leading and trailing whitespace from a string."
      ]
    },
    {
      "cell_type": "code",
      "execution_count": 10,
      "metadata": {},
      "outputs": [
        {
          "name": "stdout",
          "output_type": "stream",
          "text": [
            "Original Text: '   This string has leading and trailing spaces.   '\n",
            "Stripped Text: 'This string has leading and trailing spaces.'\n",
            "Left Stripped Text: 'This string has leading and trailing spaces.   '\n",
            "Right Stripped Text: '   This string has leading and trailing spaces.'\n"
          ]
        }
      ],
      "source": [
        "text_with_whitespace = \"   This string has leading and trailing spaces.   \"\n",
        "\n",
        "stripped_text = text_with_whitespace.strip()\n",
        "lstripped_text = text_with_whitespace.lstrip() #Remove from the left\n",
        "rstripped_text = text_with_whitespace.rstrip() #Remove from the right\n",
        "\n",
        "print(f\"Original Text: '{text_with_whitespace}'\")\n",
        "print(f\"Stripped Text: '{stripped_text}'\")\n",
        "print(f\"Left Stripped Text: '{lstripped_text}'\")\n",
        "print(f\"Right Stripped Text: '{rstripped_text}'\")"
      ]
    },
    {
      "cell_type": "markdown",
      "metadata": {
        "id": "B4E1GGuGJXua"
      },
      "source": [
        "### Lists\n",
        "\n",
        "  * **Ordered collections of items.**\n",
        "  * **Mutable:** Elements can be changed after creation.\n",
        "  * **Defined using square brackets `[]`.**\n",
        "\n",
        "**Example:**"
      ]
    },
    {
      "cell_type": "code",
      "execution_count": 11,
      "metadata": {
        "colab": {
          "base_uri": "https://localhost:8080/"
        },
        "id": "zLJiYHnCJXub",
        "outputId": "7cd854ef-9b43-42d6-caa5-8f64e40801cb"
      },
      "outputs": [
        {
          "name": "stdout",
          "output_type": "stream",
          "text": [
            "apple\n",
            "cherry\n",
            "['banana', 'cherry']\n",
            "['apple', 'orange', 'cherry']\n",
            "['apple', 'orange', 'cherry', 'grape']\n",
            "['orange', 'cherry', 'grape']\n",
            "Error: list.remove(x): x not in list\n"
          ]
        }
      ],
      "source": [
        "fruits = [\"apple\", \"banana\", \"cherry\"]\n",
        "\n",
        "# Accessing elements:\n",
        "print(fruits[0])  # Output: apple\n",
        "print(fruits[-1])  # Output: cherry\n",
        "\n",
        "# Slicing:\n",
        "print(fruits[1:3])  # Output: ['banana', 'cherry']\n",
        "\n",
        "# Modifying elements:\n",
        "fruits[1] = \"orange\"\n",
        "print(fruits)  # Output: ['apple', 'orange', 'cherry']\n",
        "\n",
        "# Adding elements:\n",
        "fruits.append(\"grape\")\n",
        "print(fruits)  # Output: ['apple', 'orange', 'cherry', 'grape']\n",
        "\n",
        "# Removing elements:\n",
        "fruits.remove(\"apple\")\n",
        "print(fruits)  # Output: ['orange', 'cherry', 'grape']\n",
        "\n",
        "# Removing no existing element\n",
        "try:\n",
        "    fruits.remove(\"kiwi\")\n",
        "except ValueError as e:\n",
        "    print(f\"Error: {e}\")"
      ]
    },
    {
      "cell_type": "markdown",
      "metadata": {},
      "source": [
        "### List methods\n",
        "\n",
        "- `sort`\n",
        "- `append`\n",
        "- `reverse`\n",
        "- `extend`\n",
        "- `+` operator\n",
        "\n",
        "The `extend` method modifies list1 in place by appending all elements from list2 to the end of list1. Unlike the + operator, which creates a new list, the extend method directly alters the original list1. After this operation, list1 will contain [1, 2, 3, 4, 5, 6]."
      ]
    },
    {
      "cell_type": "code",
      "execution_count": 12,
      "metadata": {},
      "outputs": [
        {
          "name": "stdout",
          "output_type": "stream",
          "text": [
            "1\n",
            "1\n",
            "['cherry', 'grape', 'orange']\n",
            "['orange', 'grape', 'cherry']\n",
            "[0, 1, 4, 9, 16, 25, 36, 49, 64, 81]\n",
            "6\n",
            "[1, 2, 3, 4, 5, 6]\n",
            "[1, 2, 3, 4, 5, 6]\n",
            "[2, 3, 4]\n"
          ]
        }
      ],
      "source": [
        "print(fruits.index(\"cherry\"))  # Output: 1\n",
        "print(fruits.count(\"orange\"))  # Output: 1\n",
        "fruits.sort()\n",
        "print(fruits)  # Output: ['cherry', 'grape', 'orange']\n",
        "fruits.reverse()\n",
        "print(fruits)  # Output: ['orange', 'grape', 'cherry']\n",
        "### List comprehensions:\n",
        "squares = [x**2 for x in range(10)]\n",
        "print(squares)  # Output: [0, 1, 4, 9, 16, 25, 36, 49, 64, 81]\n",
        "# Nested lists:\n",
        "matrix = [[1, 2, 3], [4, 5, 6], [7, 8, 9]]\n",
        "print(matrix[1][2])  # Output: 6\n",
        "# List operations:\n",
        "list1 = [1, 2, 3]\n",
        "list2 = [4, 5, 6]\n",
        "combined_list = list1 + list2\n",
        "print(combined_list)  # Output: [1, 2, 3, 4, 5, 6]\n",
        "list1.extend(list2)\n",
        "print(list1)  # Output: [1, 2, 3, 4, 5, 6]\n",
        "# List slicing:\n",
        "print(combined_list[1:4])  # Output: [2, 3, 4]"
      ]
    },
    {
      "cell_type": "markdown",
      "metadata": {
        "id": "L2Bc9sixJXub"
      },
      "source": [
        "### Tuples\n",
        "\n",
        "  * **Ordered collections of items.**\n",
        "  * **Immutable:** Elements cannot be changed after creation.\n",
        "  * **Defined using parentheses `()`.**\n",
        "\n",
        "**Example:**"
      ]
    },
    {
      "cell_type": "code",
      "execution_count": 13,
      "metadata": {
        "id": "lQ7acd4CJXub"
      },
      "outputs": [
        {
          "name": "stdout",
          "output_type": "stream",
          "text": [
            "10\n",
            "10 20\n",
            "value1\n"
          ]
        }
      ],
      "source": [
        "coordinates = (10, 20)\n",
        "\n",
        "# Accessing elements:\n",
        "print(coordinates[0])  # Output: 10\n",
        "\n",
        "# Tuple unpacking:\n",
        "x, y = coordinates\n",
        "print(x, y)  # Output: 10 20\n",
        "\n",
        "# Tuples as keys in dictionaries:\n",
        "my_dict = {(1, 2): \"value1\", (3, 4): \"value2\"}\n",
        "print(my_dict[(1, 2)])  # Output: value1"
      ]
    },
    {
      "cell_type": "markdown",
      "metadata": {
        "id": "i3Yobk3eJXub"
      },
      "source": [
        "### Dictionaries\n",
        "\n",
        "  * **Unordered key-value pairs.**\n",
        "  * **Keys must be unique and immutable.**\n",
        "  * **Values can be of any data type.**\n",
        "  * **Defined using curly braces `{}`.**\n",
        "\n",
        "**Example:**"
      ]
    },
    {
      "cell_type": "code",
      "execution_count": 14,
      "metadata": {
        "id": "TcrPfstRJXub"
      },
      "outputs": [
        {
          "name": "stdout",
          "output_type": "stream",
          "text": [
            "Alice\n",
            "{'name': 'Alice', 'age': 25, 'grade': 'A', 'major': 'Computer Science'}\n",
            "{'name': 'Alice', 'age': 26, 'grade': 'A', 'major': 'Computer Science'}\n",
            "City information not found.\n",
            "Unknown\n"
          ]
        }
      ],
      "source": [
        "student = {\"name\": \"Alice\", \"age\": 25, \"grade\": \"A\"}\n",
        "\n",
        "# Accessing values:\n",
        "print(student[\"name\"])  # Output: Alice\n",
        "\n",
        "# Adding a new key-value pair:\n",
        "student[\"major\"] = \"Computer Science\"\n",
        "print(student)  # Output: {'name': 'Alice', 'age': 25, 'grade': 'A', 'major': 'Computer Science'}\n",
        "\n",
        "# Modifying a value:\n",
        "student[\"age\"] = 26\n",
        "print(student)  # Output: {'name': 'Alice', 'age': 26, 'grade': 'A', 'major': 'Computer Science'}\n",
        "\n",
        "# Checking if a key exists:\n",
        "if \"city\" in student:\n",
        "    print(student[\"city\"])\n",
        "else:\n",
        "    print(\"City information not found.\")\n",
        "\n",
        "# Using the `get` method:\n",
        "city = student.get(\"city\", \"Unknown\")\n",
        "print(city)  # Output: Unknown"
      ]
    },
    {
      "cell_type": "markdown",
      "metadata": {},
      "source": [
        "### Dictionaries: The `get()` Method\n",
        "\n",
        "The `get()` method is a useful way to access values in a dictionary. It allows you to specify a default value to be returned if the key is not found.\n",
        "\n",
        "**Example:**"
      ]
    },
    {
      "cell_type": "code",
      "execution_count": 15,
      "metadata": {},
      "outputs": [],
      "source": [
        "my_dict = {\"name\": \"Alice\", \"age\": 30}\n",
        "\n",
        "# Accessing a value using get()\n",
        "name = my_dict.get(\"name\")  # name will be \"Alice\"\n",
        "city = my_dict.get(\"city\", \"Unknown\")  # city will be \"Unknown\" (key \"city\" doesn't exist)"
      ]
    },
    {
      "cell_type": "markdown",
      "metadata": {},
      "source": [
        "#### Iteration of dictionary keys and values"
      ]
    },
    {
      "cell_type": "code",
      "execution_count": 16,
      "metadata": {},
      "outputs": [
        {
          "name": "stdout",
          "output_type": "stream",
          "text": [
            "Iterating over items:\n",
            "Key: name, Value: Alice\n",
            "Key: age, Value: 26\n",
            "Key: grade, Value: A\n",
            "Key: major, Value: Computer Science\n",
            "\n",
            "Iterating over keys:\n",
            "Key: name\n",
            "Key: age\n",
            "Key: grade\n",
            "Key: major\n",
            "\n",
            "Iterating over values:\n",
            "Value: Alice\n",
            "Value: 26\n",
            "Value: A\n",
            "Value: Computer Science\n"
          ]
        }
      ],
      "source": [
        "# Iterating over dictionary items\n",
        "print(\"Iterating over items:\")\n",
        "for key, value in student.items():\n",
        "    print(f\"Key: {key}, Value: {value}\")\n",
        "\n",
        "# Iterating over dictionary keys\n",
        "print(\"\\nIterating over keys:\")\n",
        "for key in student.keys():\n",
        "    print(f\"Key: {key}\")\n",
        "\n",
        "# Iterating over dictionary values\n",
        "print(\"\\nIterating over values:\")\n",
        "for value in student.values():\n",
        "    print(f\"Value: {value}\")"
      ]
    },
    {
      "cell_type": "markdown",
      "metadata": {
        "id": "WbhgbTTwJXub"
      },
      "source": [
        "### Ordered Dictionaries\n",
        "\n",
        "  * **Similar to regular dictionaries but maintain the order of insertion.**\n",
        "  * **Useful for scenarios where the order of items matters.**\n",
        "  * **Introduced in Python 3.7.**\n",
        "\n",
        "**Example:**"
      ]
    },
    {
      "cell_type": "code",
      "execution_count": 17,
      "metadata": {
        "id": "skA6T5DmJXuc"
      },
      "outputs": [
        {
          "name": "stdout",
          "output_type": "stream",
          "text": [
            "a 1\n",
            "b 2\n",
            "c 3\n"
          ]
        }
      ],
      "source": [
        "from collections import OrderedDict\n",
        "\n",
        "ordered_dict = OrderedDict()\n",
        "ordered_dict['a'] = 1\n",
        "ordered_dict['b'] = 2\n",
        "ordered_dict['c'] = 3\n",
        "\n",
        "# Iterating over items in order:\n",
        "for key, value in ordered_dict.items():\n",
        "    print(key, value)"
      ]
    },
    {
      "cell_type": "markdown",
      "metadata": {
        "id": "0SFF4I5jJXuc"
      },
      "source": [
        "### Other Data Types\n",
        "\n",
        "Python offers a variety of other data types, including:\n",
        "\n",
        "  * **Sets:** Unordered collections of unique elements.\n",
        "  * **Frozen Sets:** Immutable sets.\n",
        "  * **Bytes and Bytearrays:** Sequences of bytes.\n",
        "  * **Complex Numbers:** Numbers with real and imaginary parts.\n",
        "  * **Boolean Type:** Represents True or False values.\n",
        "  * **NoneType:** Represents the absence of a value.\n",
        "\n",
        "**For more details and examples, refer to the official Python documentation:** [https://docs.python.org/3/library/datatypes.html](https://www.google.com/url?sa=E&source=gmail&q=https://docs.python.org/3/library/datatypes.html)"
      ]
    }
  ],
  "metadata": {
    "colab": {
      "provenance": []
    },
    "kernelspec": {
      "display_name": "prog-spring-2025",
      "language": "python",
      "name": "prog-spring-2025"
    },
    "language_info": {
      "codemirror_mode": {
        "name": "ipython",
        "version": 3
      },
      "file_extension": ".py",
      "mimetype": "text/x-python",
      "name": "python",
      "nbconvert_exporter": "python",
      "pygments_lexer": "ipython3",
      "version": "3.10.16"
    }
  },
  "nbformat": 4,
  "nbformat_minor": 0
}
