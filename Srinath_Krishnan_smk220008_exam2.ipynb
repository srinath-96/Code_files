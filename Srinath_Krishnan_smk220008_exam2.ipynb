{
 "cells": [
  {
   "cell_type": "markdown",
   "id": "ed5c0101",
   "metadata": {},
   "source": [
    "# SRINATH MURALI KRISHNAN\n",
    "# SMK220008"
   ]
  },
  {
   "cell_type": "markdown",
   "id": "4011e866",
   "metadata": {},
   "source": [
    "# Exam 2"
   ]
  },
  {
   "cell_type": "markdown",
   "id": "c1d04468",
   "metadata": {},
   "source": [
    "Exam Instructions\n",
    "1.\tUse the provided materials:\n",
    "   - You must use the attached Python notebook (`Exam_2_template.ipynb`).\n",
    "   - The dataset file `Collin_CAD_Appraisal_Data_2024_20241208_75024.csv` is included and should be used for relevant questions.\n",
    "2.\tRenaming the Notebook:\n",
    "   - Before making any changes, rename the notebook to include your full name in the filename.\n",
    "   - Example: exam2_notebook_JohnDoe.ipynb.\n",
    "3.\tEditing and Answering:\n",
    "   - Do not modify the original notebook.\n",
    "   - Make all modifications in the newly renamed notebook only.\n",
    "   - Write Python code only inside Python code cells.\n",
    "4.\tCode Documentation & Execution:\n",
    "   - Every requested Python function must include a docstring explaining its purpose.\n",
    "   - Every major decision should be clearly documented and explained. For example, if you decided to use mean value encoding for missing value, explain why.\n",
    "5. Exam Data — Collin County Appraisal Data (ZIP 75024)\n",
    "6. You may consult an AI copilot, but all thinking, choices, and interpretations must be your own.\n",
    "7. Show every step that influenced your answer (code, charts, numbers) and answer all sub‑questions clearly in prose."
   ]
  },
  {
   "cell_type": "markdown",
   "id": "9477f596",
   "metadata": {},
   "source": [
    "## Question 1 – Exploratory Data Analysis & Feature Reasoning  (25 pts)\n",
    "\n",
    "Keep only residential properties (`propSubType`). Drop rows with missing values in noticeValAppraised.\n",
    "1.  Create a new feature improvement_density = imprvMainArea / landSizeSqft (use square‑feet units).\n",
    "2.  Produce one figure that simultaneously lets you judge the shape of the distribution of improvement_density and its relationship to noticeValAppraised (hint: not a simple scatterplot). Explain why you chose that figure.\n",
    "3.  Using both the figure and a numeric summary, argue for or against applying a log‑transform to improvement_density before modeling. Support your conclusion with at least two pieces of evidence. \n",
    "\n",
    "A good answer weaves the visual evidence with statistical reasoning rather than just pasting a chart."
   ]
  },
  {
   "cell_type": "code",
   "execution_count": 6,
   "id": "42636d0e",
   "metadata": {},
   "outputs": [],
   "source": [
    "import pandas as pd\n",
    "import numpy as np"
   ]
  },
  {
   "cell_type": "code",
   "execution_count": 54,
   "id": "1077eca5",
   "metadata": {},
   "outputs": [],
   "source": [
    "df = pd.read_pickle(\"Collin_CAD_Appraisal_Data_2024_20241208_75024.pkl\")\n"
   ]
  },
  {
   "cell_type": "code",
   "execution_count": 55,
   "id": "8479bc02",
   "metadata": {},
   "outputs": [
    {
     "name": "stdout",
     "output_type": "stream",
     "text": [
      "       propYear   propID              geoID  propType  propSubType  \\\n",
      "0          2024  2005248  R-2845-00A-0010-1      Real  Residential   \n",
      "1          2024  2005249  R-2845-00A-0020-1      Real  Residential   \n",
      "2          2024  2005250  R-2845-00A-0030-1      Real  Residential   \n",
      "3          2024  2005251  R-2845-00A-0040-1      Real  Residential   \n",
      "4          2024  2005252  R-2845-00A-0050-1      Real  Residential   \n",
      "...         ...      ...                ...       ...          ...   \n",
      "16849      2024  2564764  P-9000-205-7075-1  Personal          BPP   \n",
      "16850      2024  2564768  P-9000-205-7076-1  Personal          BPP   \n",
      "16851      2024  2564813  P-9000-205-7245-1  Personal          BPP   \n",
      "16852      2024  2564877  P-9000-205-4189-1  Personal          BPP   \n",
      "16853      2024  2564931  P-9000-205-6626-1  Personal          BPP   \n",
      "\n",
      "      propCategoryCode propUseCode  mapID nbhdCode marketAreaCode  ...  \\\n",
      "0                    A         NaN  096.S    S2845            NaN  ...   \n",
      "1                    A         NaN  096.S    S2845            NaN  ...   \n",
      "2                    A         NaN  096.S    S2845            NaN  ...   \n",
      "3                    A         NaN  096.S    S2845            NaN  ...   \n",
      "4                    A         NaN  096.S    S2845            NaN  ...   \n",
      "...                ...         ...    ...      ...            ...  ...   \n",
      "16849               L1         NaN  111.C      NaN            NaN  ...   \n",
      "16850               L1         NaN  095.Y      NaN            NaN  ...   \n",
      "16851               L1         NaN  130.A      NaN            NaN  ...   \n",
      "16852               L1         NaN  095.T      NaN            NaN  ...   \n",
      "16853               L1         NaN  095.Z      NaN            NaN  ...   \n",
      "\n",
      "      noticeValImprv noticeValLand noticeValMarket noticeValAgLoss  \\\n",
      "0           458520.0      112500.0        571020.0             0.0   \n",
      "1           439735.0      125000.0        564735.0             0.0   \n",
      "2           484036.0      125000.0        609036.0             0.0   \n",
      "3           416883.0      125000.0        541883.0             0.0   \n",
      "4           436457.0      125000.0        561457.0             0.0   \n",
      "...              ...           ...             ...             ...   \n",
      "16849            0.0           0.0         81596.0             0.0   \n",
      "16850            0.0           0.0       1057155.0             0.0   \n",
      "16851            0.0           0.0         17419.0             0.0   \n",
      "16852            0.0           0.0        174974.0             0.0   \n",
      "16853            0.0           0.0           140.0             0.0   \n",
      "\n",
      "      noticeValAppraised noticeValHSCapLoss  noticeValNHSCapLoss  \\\n",
      "0               571020.0            67617.0                  0.0   \n",
      "1               564735.0            35132.0                  0.0   \n",
      "2               609036.0                0.0                  0.0   \n",
      "3               541883.0            64972.0                  0.0   \n",
      "4               561457.0            64941.0                  0.0   \n",
      "...                  ...                ...                  ...   \n",
      "16849            81596.0                0.0                  0.0   \n",
      "16850          1057155.0                0.0                  0.0   \n",
      "16851            17419.0                0.0                  0.0   \n",
      "16852           174974.0                0.0                  0.0   \n",
      "16853              140.0                0.0                  0.0   \n",
      "\n",
      "       noticeValAssessed  noticeDate                 dataDate  \n",
      "0               503403.0  04/15/2024  2024-12-02T00:26:06.700  \n",
      "1               529603.0  04/15/2024  2024-12-02T00:26:06.700  \n",
      "2               609036.0  04/15/2024  2024-12-02T00:26:06.700  \n",
      "3               476911.0  04/15/2024  2024-12-02T00:26:06.700  \n",
      "4               496516.0  04/15/2024  2024-12-02T00:26:06.700  \n",
      "...                  ...         ...                      ...  \n",
      "16849            81596.0  06/05/2024  2024-12-02T00:26:06.700  \n",
      "16850          1057155.0  05/15/2024  2024-12-02T00:26:06.700  \n",
      "16851            17419.0  05/15/2024  2024-12-02T00:26:06.700  \n",
      "16852           174974.0  05/15/2024  2024-12-02T00:26:06.700  \n",
      "16853              140.0  06/05/2024  2024-12-02T00:26:06.700  \n",
      "\n",
      "[16854 rows x 102 columns]\n"
     ]
    }
   ],
   "source": [
    "print(df)"
   ]
  },
  {
   "cell_type": "code",
   "execution_count": 66,
   "id": "cc4e91f7",
   "metadata": {},
   "outputs": [],
   "source": [
    "def clean_and_engineer(pkl_path):\n",
    "    \"\"\"\n",
    "    Reads and cleans the appraisal data:\n",
    "      - Keeps only residential properties (propSubType contains 'Residential', case-insensitive).\n",
    "      - Drops rows with missing noticeValAppraised.\n",
    "      - Ensures numeric columns are cast as numbers.\n",
    "      - Creates a new feature: improvement_density = imprvMainArea / landSizeSqft (sq.-feet units).\n",
    "      \n",
    "    Parameters:\n",
    "      csv_path (str): Path to the CSV file.\n",
    "      \n",
    "    Returns:\n",
    "      pd.DataFrame: Cleaned dataframe with new feature.\n",
    "    \"\"\"\n",
    "    df = pd.read_pickle(pkl_path)\n",
    "    \n",
    "    # Strip whitespace from strings in column names and string columns\n",
    "    df.columns = df.columns.str.strip()\n",
    "    str_cols = df.select_dtypes(include='object').columns\n",
    "    for col in str_cols:\n",
    "        df[col] = df[col].astype(str).str.strip()\n",
    "    \n",
    "    # Filter data to include only residential properties in propSubType (case-insensitive match)\n",
    "    df = df[df['propSubType'].str.lower() == 'residential']\n",
    "    \n",
    "    # Drop rows that are missing noticeValAppraised\n",
    "    df = df.dropna(subset=['noticeValAppraised'])\n",
    "    \n",
    "    # Convert numeric columns that are used for calculations\n",
    "    df['imprvMainArea'] = pd.to_numeric(df['imprvMainArea'], errors='coerce')\n",
    "    df['landSizeSqft'] = pd.to_numeric(df['landSizeSqft'], errors='coerce')\n",
    "    df['noticeValAppraised'] = pd.to_numeric(df['noticeValAppraised'], errors='coerce')\n",
    "    \n",
    "    # Drop rows with problematic numeric conversion for required columns\n",
    "    df = df.dropna(subset=['imprvMainArea', 'landSizeSqft'])\n",
    "    \n",
    "    # Create improvement_density feature (area per square-foot)\n",
    "    df['improvement_density'] = df['imprvMainArea'] / df['landSizeSqft']\n",
    "    \n",
    "    return df\n",
    "\n",
    "# Load and clean the data\n",
    "pkl_path = '/Users/srinathmurali/Downloads/Collin_CAD_Appraisal_Data_2024_20241208_75024.pkl'\n",
    "df = clean_and_engineer(pkl_path)\n"
   ]
  },
  {
   "cell_type": "code",
   "execution_count": 67,
   "id": "466b9cfd",
   "metadata": {},
   "outputs": [
    {
     "name": "stdout",
     "output_type": "stream",
     "text": [
      "Improvement Density Summary:\n",
      " count    1552.000000\n",
      "mean        0.560519\n",
      "std         0.880783\n",
      "min         0.000287\n",
      "25%         0.324994\n",
      "50%         0.483422\n",
      "75%         0.673521\n",
      "max        31.986532\n",
      "Name: improvement_density, dtype: float64\n"
     ]
    }
   ],
   "source": [
    "# Display numeric summary for improvement_density\n",
    "density_summary = df['improvement_density'].describe()\n",
    "print(\"Improvement Density Summary:\\n\", density_summary)"
   ]
  },
  {
   "cell_type": "code",
   "execution_count": 58,
   "id": "398a1b02",
   "metadata": {},
   "outputs": [],
   "source": [
    "import matplotlib.pyplot as plt\n",
    "import seaborn as sns"
   ]
  },
  {
   "cell_type": "markdown",
   "id": "5fe1d7de",
   "metadata": {},
   "source": [
    "* The hexbin joint plot simultaneously shows the distribution of improvement_density (as aggregation through hexagon color intensity) and its bivariate relationship with noticeValAppraised. This avoids overplotting and highlights clusters, which is not achievable with a simple scatterplot."
   ]
  },
  {
   "cell_type": "code",
   "execution_count": 59,
   "id": "de9a3974",
   "metadata": {},
   "outputs": [
    {
     "name": "stderr",
     "output_type": "stream",
     "text": [
      "/var/folders/x3/5n0yyb7911zg532jx71xlkrr0000gn/T/ipykernel_68741/758954089.py:12: UserWarning: The figure layout has changed to tight\n",
      "  plt.tight_layout()\n"
     ]
    },
    {
     "data": {
      "text/plain": [
       "<Figure size 800x600 with 0 Axes>"
      ]
     },
     "metadata": {},
     "output_type": "display_data"
    },
    {
     "data": {
      "image/png": "[encoded data removed]",
      "text/plain": [
       "<Figure size 800x800 with 3 Axes>"
      ]
     },
     "metadata": {},
     "output_type": "display_data"
    }
   ],
   "source": [
    "sns.set(style=\"whitegrid\")\n",
    "plt.figure(figsize=(8, 6))\n",
    "joint_plot = sns.jointplot(\n",
    "    data=df,\n",
    "    x='improvement_density',\n",
    "    y='noticeValAppraised',\n",
    "    kind='hex',\n",
    "    height=8,\n",
    "    color=\"royalblue\"\n",
    ")\n",
    "joint_plot.set_axis_labels(\"Improvement Density (imprvMainArea/landSizeSqft)\", \"Notice Value Appraised\")\n",
    "plt.tight_layout()\n",
    "plt.show()"
   ]
  },
  {
   "cell_type": "markdown",
   "id": "c27ce1c1",
   "metadata": {},
   "source": [
    "* Based on the provided joint plot and the numeric summary for improvement_density, here's an argument regarding the application of a log-transform:\n",
    "* Recommendation: Applying a log-transform to the improvement_density feature before modeling is strongly recommended.\n",
    "Here's the reasoning, supported by evidence from your figure and numeric summary:\n",
    "* Evidence 1: Severe Right-Skewness in the Distribution\n",
    "Visual Evidence (from the Figure): The marginal histogram for improvement_density (at the top of your joint plot) clearly shows a distribution that is heavily concentrated at very low values (close to zero) with a long tail extending towards the higher values. This is a classic visual indicator of strong right-skewness.\n",
    "Numeric Evidence (from the Summary):\n",
    "The mean (0.560519) is noticeably greater than the median (50th percentile, 0.483422). When the mean is pulled to the right of the median, it indicates a right-skewed distribution.\n",
    "The max value (31.986532) is vastly larger than the 75th percentile (0.673521). This large difference highlights the presence of extreme high values that stretch the tail of the distribution to the right.\n",
    "A log-transform is effective at compressing the higher end of the scale and expanding the lower end, which can make such a skewed distribution more symmetric and closer to a normal distribution.\n",
    "* Evidence 2: Vast Range and Influence of Extreme Values (Outliers)\n",
    "Visual Evidence (from the Figure): The central hexbin plot shows that the vast majority of data points are clustered in the region where improvement_density is very low (likely < 2.5, based on the density of the hexbins). The few data points with higher improvement_density are sparse and extend far out. This compression at the lower end and spread at the higher end can make it difficult for some models to learn the underlying relationships effectively, and extreme values can have undue influence.\n",
    "Numeric Evidence (from the Summary): The standard deviation (0.880783) is larger than the mean (0.560519). For non-negative data like a density measure, this often indicates a wide spread and significant skewness. More importantly, the range from the min (0.000287) to the max (31.986532) is substantial, with most of the data (up to the 75th percentile) falling below 0.68. This implies that values like the maximum are extreme outliers.\n",
    "A log-transform can reduce the impact of these extreme outliers by bringing them closer to the bulk of the data, leading to more stable and robust models. It also helps in visualizing relationships more clearly by spreading out data points in the densely populated lower-value regions of the original scale."
   ]
  },
  {
   "cell_type": "markdown",
   "id": "682fe971",
   "metadata": {},
   "source": [
    "## Question 2 – Model Building & Interpretability  (30 pts)\n",
    "\n",
    "\n",
    "You will predict noticeValAppraised (the 2024 notice value) using information available before the 2024 notice was issued.\n",
    "\n",
    "A. Feature engineering\n",
    "1.  List every feature you derive or select and justify it in one short sentence each.\n",
    "2.  Encode any categorical variables so that the resulting design matrix is suitable for both linear models and tree‑based models. Explain your encoding choice.\n",
    "\n",
    "B. Model training\n",
    "1. Train two types of `sklearn` linear models\n",
    "2. Tune their main hyper‑parameters with validation strategy of your choice. \n",
    "2. Hold out the final 20 % of parcels (random split with fixed seed) as an untouched test set. Report RMSE on that set for each model.\n",
    "\n",
    "C. Interpretation & comparison\n",
    "1. For the better‑performing model, identify the three most influential features. Explain in plain English how each one affects appraised value.\n",
    "2.  Give two concrete recommendations you would hand to the appraisal district based on your findings. Each recommendation must be traceable to evidence from your model.\n",
    "\n",
    "Answers that merely print a library’s default output without explaining choices or implications will receive little credit."
   ]
  },
  {
   "cell_type": "code",
   "execution_count": 68,
   "id": "e89522e2",
   "metadata": {},
   "outputs": [],
   "source": [
    "if 'improvement_density' in df.columns and 'noticeValAppraised' in df.columns:\n",
    "    df['log_improvement_density'] = np.log1p(df['improvement_density']) # log1p handles zeros\n",
    "    # Potentially drop original improvement_density if log version is used\n",
    "df.drop('improvement_density', axis=1, inplace=True, errors='ignore')"
   ]
  },
  {
   "cell_type": "code",
   "execution_count": 17,
   "id": "1f170636",
   "metadata": {},
   "outputs": [
    {
     "name": "stdout",
     "output_type": "stream",
     "text": [
      "['propYear', 'propID', 'geoID', 'propType', 'propSubType', 'propCategoryCode', 'propUseCode', 'mapID', 'nbhdCode', 'marketAreaCode', 'legalAbsSubCode', 'legalAbsSubName', 'legalAbsSubBlock', 'legalAbsSubLot', 'legalDescription', 'dbaName', 'comPropFlag', 'udiPropFlag', 'udiGroupID', 'udiInterestPct', 'commonInterestPct', 'ecoGroupID', 'ecoGroupGBA', 'ecoGroupNRA', 'propSplitFromPID', 'propCreateDate', 'entityCodes', 'entitySchoolCode', 'entityCityCode', 'entityMUD', 'entityTIF', 'entitySBCL', 'situsBldgNum', 'situsStreetPrefix', 'situsStreetName', 'situsStreetSuffix', 'situsUnit', 'situsCity', 'situsZip', 'situsConcat', 'situsConcatShort', 'ownerID', 'ownerName', 'ownerNameAddtl', 'ownerAddrLine1', 'ownerAddrLine2', 'ownerAddrCity', 'ownerAddrState', 'ownerAddrZip', 'ownerAddrCountry', 'taxAgentID', 'taxAgentName', 'deedTypeCd', 'deedNum', 'deedBook', 'deedPage', 'deedEffDate', 'deedFileDate', 'imprvYearBuilt', 'imprvClassCd', 'imprvMainArea', 'imprvUnits', 'imprvPoolFlag', 'imprvCategoryCodes', 'landTypeCode', 'landSizeAcres', 'landSizeSqft', 'landAgAcres', 'landCategoryCodes', 'exemptCodes', 'exemptHmstdFlag', 'protestCode', 'propStatus', 'currValYear', 'currValImprv', 'currValLand', 'currValMarket', 'currValAgLoss', 'currValAppraised', 'currValHSCapLoss', 'currValNHSCapLoss', 'currValAssessed', 'prevValYear', 'prevValImprv', 'prevValLand', 'prevValMarket', 'prevValAgLoss', 'prevValAppraised', 'prevValHSCapLoss', 'prevValNHSCapLoss', 'prevValAssessed', 'noticeYear', 'noticeValImprv', 'noticeValLand', 'noticeValMarket', 'noticeValAgLoss', 'noticeValAppraised', 'noticeValHSCapLoss', 'noticeValNHSCapLoss', 'noticeValAssessed', 'noticeDate', 'dataDate', 'log_improvement_density']\n"
     ]
    }
   ],
   "source": [
    "print(list(df.columns))\n"
   ]
  },
  {
   "cell_type": "code",
   "execution_count": 41,
   "id": "f2ee8a2f",
   "metadata": {},
   "outputs": [],
   "source": [
    "from sklearn.model_selection import train_test_split\n",
    "from sklearn.preprocessing import StandardScaler"
   ]
  },
  {
   "cell_type": "code",
   "execution_count": 70,
   "id": "830caf7d",
   "metadata": {},
   "outputs": [],
   "source": [
    "# 1. Feature Selection\n",
    "value_features = [\n",
    "    'prevValImprv',      # Previous improvement value\n",
    "    'prevValLand',       # Previous land value\n",
    "    'prevValMarket',     # Previous market value\n",
    "    'currValImprv',      # Current improvement value\n",
    "    'currValLand'        # Current land value\n",
    "]\n",
    "\n",
    "physical_features = [\n",
    "    'imprvMainArea',     # Main area\n",
    "    'landSizeSqft'       # Land size\n",
    "]\n",
    "\n",
    "# Create age feature\n",
    "df['age'] = 2023 - df['imprvYearBuilt']\n",
    "df['age'] = df['age'].fillna(df['age'].median())\n",
    "df.loc[df['age'] < 0, 'age'] = 0\n",
    "\n",
    "# All numerical features\n",
    "numerical_features = value_features + physical_features + ['age']\n",
    "\n",
    "# Only keeping imprvClassCd for categorical\n",
    "categorical_features = ['imprvClassCd']\n",
    "\n",
    "# 2. Prepare features\n",
    "# Handle missing values in numerical features first\n",
    "for col in numerical_features:\n",
    "    df[col] = df[col].fillna(df[col].median())\n",
    "\n",
    "# One-hot encode imprvClassCd\n",
    "df_encoded = pd.get_dummies(df, columns=categorical_features, drop_first=True)\n",
    "\n",
    "# 3. Create feature matrix and target\n",
    "feature_cols = numerical_features + [col for col in df_encoded.columns if col.startswith('imprvClassCd_')]\n",
    "X = df_encoded[feature_cols]\n",
    "y = df_encoded['noticeValAppraised']\n"
   ]
  },
  {
   "cell_type": "markdown",
   "id": "aacf8326",
   "metadata": {},
   "source": [
    "# Feature Engineering\n",
    "\n",
    "The following features were selected to predict `noticeValAppraised`, using information available before the 2024 notice was issued:\n",
    "\n",
    "### Numerical Features:\n",
    "\n",
    "**Value-Based Features:**\n",
    "- `prevValImprv`: Previous year's improvement value - provides direct baseline for building value\n",
    "- `prevValLand`: Previous year's land value - provides direct baseline for land value\n",
    "- `prevValMarket`: Previous year's market value - strong indicator of overall property worth\n",
    "- `currValImprv`: Current improvement value - recent assessment of building value\n",
    "- `currValLand`: Current land value - recent assessment of land value\n",
    "\n",
    "**Physical Characteristics:**\n",
    "- `imprvMainArea`: The primary area of the main improvement (e.g., house size) - fundamental driver of property value due to construction costs and utility\n",
    "- `landSizeSqft`: The total square footage of the land parcel - directly influences market value through size and potential utility\n",
    "- `age`: Derived as (2023 - `imprvYearBuilt`) - captures depreciation effects and historical aspects of the property\n",
    "\n",
    "### Categorical Features:\n",
    "- `imprvClassCd`: The improvement class code - represents construction quality, design, and type of the main improvement\n",
    "\n",
    "### Encoding Strategy:\n",
    "\n",
    "**One-Hot Encoding (OHE) for `imprvClassCd`:**\n",
    "- **Method:** Transforms the categorical `imprvClassCd` into binary (0/1) columns, one for each class code (minus one for the reference category)\n",
    "- **Justification:** \n",
    "  1. Appropriate for low-cardinality categorical data (improvement class typically has few distinct categories)\n",
    "  2. Creates numerical features without imposing artificial ordering\n",
    "  3. Using `drop_first=True` prevents multicollinearity in linear models\n",
    "  4. Maintains interpretability of different quality levels in the model\n",
    "\n",
    "This feature set focuses on the most reliable predictors of property value:\n",
    "1. Historical and current valuations\n",
    "2. Physical characteristics\n",
    "3. Construction quality\n",
    "\n",
    "The removal of `nbhdCode` and focus on these core features simplifies the model while maintaining the most direct value drivers. Each selected feature has a clear, economically justified relationship with the target variable."
   ]
  },
  {
   "cell_type": "code",
   "execution_count": 61,
   "id": "49f7bee3",
   "metadata": {},
   "outputs": [],
   "source": [
    "\n",
    "from sklearn.linear_model import Ridge, Lasso\n",
    "from sklearn.model_selection import GridSearchCV\n",
    "from sklearn.metrics import mean_squared_error"
   ]
  },
  {
   "cell_type": "code",
   "execution_count": 71,
   "id": "134b919f",
   "metadata": {},
   "outputs": [
    {
     "name": "stderr",
     "output_type": "stream",
     "text": [
      "/Users/srinathmurali/miniforge3/lib/python3.10/site-packages/sklearn/linear_model/_ridge.py:211: LinAlgWarning: Ill-conditioned matrix (rcond=1.5608e-17): result may not be accurate.\n",
      "  return linalg.solve(A, Xy, assume_a=\"pos\", overwrite_a=True).T\n",
      "/Users/srinathmurali/miniforge3/lib/python3.10/site-packages/sklearn/linear_model/_ridge.py:211: LinAlgWarning: Ill-conditioned matrix (rcond=1.22652e-17): result may not be accurate.\n",
      "  return linalg.solve(A, Xy, assume_a=\"pos\", overwrite_a=True).T\n",
      "/Users/srinathmurali/miniforge3/lib/python3.10/site-packages/sklearn/linear_model/_coordinate_descent.py:628: ConvergenceWarning: Objective did not converge. You might want to increase the number of iterations, check the scale of the features or consider increasing regularisation. Duality gap: 7.412e+11, tolerance: 3.390e+10\n",
      "  model = cd_fast.enet_coordinate_descent(\n",
      "/Users/srinathmurali/miniforge3/lib/python3.10/site-packages/sklearn/linear_model/_coordinate_descent.py:628: ConvergenceWarning: Objective did not converge. You might want to increase the number of iterations, check the scale of the features or consider increasing regularisation. Duality gap: 7.374e+11, tolerance: 3.390e+10\n",
      "  model = cd_fast.enet_coordinate_descent(\n",
      "/Users/srinathmurali/miniforge3/lib/python3.10/site-packages/sklearn/linear_model/_coordinate_descent.py:628: ConvergenceWarning: Objective did not converge. You might want to increase the number of iterations, check the scale of the features or consider increasing regularisation. Duality gap: 4.761e+12, tolerance: 2.698e+10\n",
      "  model = cd_fast.enet_coordinate_descent(\n",
      "/Users/srinathmurali/miniforge3/lib/python3.10/site-packages/sklearn/linear_model/_coordinate_descent.py:628: ConvergenceWarning: Objective did not converge. You might want to increase the number of iterations, check the scale of the features or consider increasing regularisation. Duality gap: 7.374e+11, tolerance: 3.390e+10\n",
      "  model = cd_fast.enet_coordinate_descent(\n",
      "/Users/srinathmurali/miniforge3/lib/python3.10/site-packages/sklearn/linear_model/_coordinate_descent.py:628: ConvergenceWarning: Objective did not converge. You might want to increase the number of iterations, check the scale of the features or consider increasing regularisation. Duality gap: 4.761e+12, tolerance: 2.698e+10\n",
      "  model = cd_fast.enet_coordinate_descent(\n",
      "/Users/srinathmurali/miniforge3/lib/python3.10/site-packages/sklearn/linear_model/_coordinate_descent.py:628: ConvergenceWarning: Objective did not converge. You might want to increase the number of iterations, check the scale of the features or consider increasing regularisation. Duality gap: 7.377e+11, tolerance: 3.390e+10\n",
      "  model = cd_fast.enet_coordinate_descent(\n",
      "/Users/srinathmurali/miniforge3/lib/python3.10/site-packages/sklearn/linear_model/_coordinate_descent.py:628: ConvergenceWarning: Objective did not converge. You might want to increase the number of iterations, check the scale of the features or consider increasing regularisation. Duality gap: 4.761e+12, tolerance: 2.698e+10\n",
      "  model = cd_fast.enet_coordinate_descent(\n",
      "/Users/srinathmurali/miniforge3/lib/python3.10/site-packages/sklearn/linear_model/_coordinate_descent.py:628: ConvergenceWarning: Objective did not converge. You might want to increase the number of iterations, check the scale of the features or consider increasing regularisation. Duality gap: 4.766e+12, tolerance: 2.698e+10\n",
      "  model = cd_fast.enet_coordinate_descent(\n",
      "/Users/srinathmurali/miniforge3/lib/python3.10/site-packages/sklearn/linear_model/_coordinate_descent.py:628: ConvergenceWarning: Objective did not converge. You might want to increase the number of iterations, check the scale of the features or consider increasing regularisation. Duality gap: 9.951e+11, tolerance: 3.390e+10\n",
      "  model = cd_fast.enet_coordinate_descent(\n",
      "/Users/srinathmurali/miniforge3/lib/python3.10/site-packages/sklearn/linear_model/_coordinate_descent.py:628: ConvergenceWarning: Objective did not converge. You might want to increase the number of iterations, check the scale of the features or consider increasing regularisation. Duality gap: 7.739e+11, tolerance: 3.390e+10\n",
      "  model = cd_fast.enet_coordinate_descent(\n",
      "/Users/srinathmurali/miniforge3/lib/python3.10/site-packages/sklearn/linear_model/_coordinate_descent.py:628: ConvergenceWarning: Objective did not converge. You might want to increase the number of iterations, check the scale of the features or consider increasing regularisation. Duality gap: 5.241e+12, tolerance: 2.698e+10\n",
      "  model = cd_fast.enet_coordinate_descent(\n",
      "/Users/srinathmurali/miniforge3/lib/python3.10/site-packages/sklearn/linear_model/_coordinate_descent.py:628: ConvergenceWarning: Objective did not converge. You might want to increase the number of iterations, check the scale of the features or consider increasing regularisation. Duality gap: 4.819e+12, tolerance: 2.698e+10\n",
      "  model = cd_fast.enet_coordinate_descent(\n"
     ]
    },
    {
     "name": "stdout",
     "output_type": "stream",
     "text": [
      "\n",
      "--- Model Results ---\n",
      "Ridge - Best alpha: 100.0\n",
      "Ridge - Test RMSE: 447101.87\n",
      "\n",
      "Lasso - Best alpha: 100.0\n",
      "Lasso - Test RMSE: 499662.14\n",
      "\n",
      "Best Model: Ridge\n",
      "Best Model RMSE: 447101.87\n"
     ]
    },
    {
     "name": "stderr",
     "output_type": "stream",
     "text": [
      "/Users/srinathmurali/miniforge3/lib/python3.10/site-packages/sklearn/linear_model/_coordinate_descent.py:628: ConvergenceWarning: Objective did not converge. You might want to increase the number of iterations, check the scale of the features or consider increasing regularisation. Duality gap: 9.098e+12, tolerance: 6.089e+10\n",
      "  model = cd_fast.enet_coordinate_descent(\n"
     ]
    }
   ],
   "source": [
    "# 4. Train-test split\n",
    "X_train, X_test, y_train, y_test = train_test_split(X, y, test_size=0.2, random_state=42)\n",
    "\n",
    "# 5. Model Training\n",
    "# Ridge Regression\n",
    "ridge = Ridge(random_state=42)\n",
    "param_grid_ridge = {'alpha': [0.01, 0.1, 1.0, 10.0, 100.0]}\n",
    "\n",
    "grid_search_ridge = GridSearchCV(\n",
    "    estimator=ridge,\n",
    "    param_grid=param_grid_ridge,\n",
    "    cv=2,\n",
    "    scoring='neg_root_mean_squared_error',\n",
    "    n_jobs=-1\n",
    ")\n",
    "\n",
    "grid_search_ridge.fit(X_train, y_train)\n",
    "best_ridge = grid_search_ridge.best_estimator_\n",
    "ridge_pred = best_ridge.predict(X_test)\n",
    "ridge_rmse = np.sqrt(mean_squared_error(y_test, ridge_pred))\n",
    "\n",
    "# Lasso Regression\n",
    "lasso = Lasso(random_state=42, max_iter=10000)\n",
    "param_grid_lasso = {'alpha': [0.001, 0.01, 0.1, 1.0, 10.0, 100.0]}\n",
    "\n",
    "grid_search_lasso = GridSearchCV(\n",
    "    estimator=lasso,\n",
    "    param_grid=param_grid_lasso,\n",
    "    cv=2,\n",
    "    scoring='neg_root_mean_squared_error',\n",
    "    n_jobs=-1\n",
    ")\n",
    "\n",
    "grid_search_lasso.fit(X_train, y_train)\n",
    "best_lasso = grid_search_lasso.best_estimator_\n",
    "lasso_pred = best_lasso.predict(X_test)\n",
    "lasso_rmse = np.sqrt(mean_squared_error(y_test, lasso_pred))\n",
    "\n",
    "# Print results\n",
    "print(\"\\n--- Model Results ---\")\n",
    "print(f\"Ridge - Best alpha: {grid_search_ridge.best_params_['alpha']}\")\n",
    "print(f\"Ridge - Test RMSE: {ridge_rmse:.2f}\")\n",
    "print(f\"\\nLasso - Best alpha: {grid_search_lasso.best_params_['alpha']}\")\n",
    "print(f\"Lasso - Test RMSE: {lasso_rmse:.2f}\")\n",
    "\n",
    "# Store best model and its features for interpretation\n",
    "best_model = best_ridge if ridge_rmse < lasso_rmse else best_lasso\n",
    "best_rmse = min(ridge_rmse, lasso_rmse)\n",
    "model_type = \"Ridge\" if ridge_rmse < lasso_rmse else \"Lasso\"\n",
    "\n",
    "print(f\"\\nBest Model: {model_type}\")\n",
    "print(f\"Best Model RMSE: {best_rmse:.2f}\")\n"
   ]
  },
  {
   "cell_type": "code",
   "execution_count": 72,
   "id": "56c55447",
   "metadata": {},
   "outputs": [
    {
     "name": "stdout",
     "output_type": "stream",
     "text": [
      "\n",
      "--- Model Results ---\n",
      "Ridge - Best alpha: 100.0\n",
      "Ridge - Test RMSE: 447101.87\n",
      "\n",
      "Lasso - Best alpha: 100.0\n",
      "Lasso - Test RMSE: 499662.14\n",
      "\n",
      "Best Model: Ridge\n",
      "Best Model RMSE: 447101.87\n",
      "\n",
      "Top 10 Most Important Features:\n",
      "                Feature   Coefficient  Abs_Coefficient\n",
      "25    imprvClassCd_RV14  82278.661750     82278.661750\n",
      "45     imprvClassCd_RV9 -35717.141678     35717.141678\n",
      "43     imprvClassCd_RV8 -25439.335521     25439.335521\n",
      "26    imprvClassCd_RV15  21585.921270     21585.921270\n",
      "10  imprvClassCd_NVNEXT -20049.380874     20049.380874\n",
      "17     imprvClassCd_RF6  17739.818628     17739.818628\n",
      "30    imprvClassCd_RV20  15535.099902     15535.099902\n",
      "35    imprvClassCd_RV28  14271.738949     14271.738949\n",
      "42     imprvClassCd_RV7 -10683.298915     10683.298915\n",
      "27    imprvClassCd_RV16 -10518.813268     10518.813268\n"
     ]
    }
   ],
   "source": [
    "# Print results\n",
    "print(\"\\n--- Model Results ---\")\n",
    "print(f\"Ridge - Best alpha: {grid_search_ridge.best_params_['alpha']}\")\n",
    "print(f\"Ridge - Test RMSE: {ridge_rmse:.2f}\")\n",
    "print(f\"\\nLasso - Best alpha: {grid_search_lasso.best_params_['alpha']}\")\n",
    "print(f\"Lasso - Test RMSE: {lasso_rmse:.2f}\")\n",
    "\n",
    "# Store best model and its features for interpretation\n",
    "best_model = best_ridge if ridge_rmse < lasso_rmse else best_lasso\n",
    "best_rmse = min(ridge_rmse, lasso_rmse)\n",
    "model_type = \"Ridge\" if ridge_rmse < lasso_rmse else \"Lasso\"\n",
    "\n",
    "print(f\"\\nBest Model: {model_type}\")\n",
    "print(f\"Best Model RMSE: {best_rmse:.2f}\")\n",
    "\n",
    "# Get feature importance for the best model\n",
    "feature_importance = pd.DataFrame({\n",
    "    'Feature': feature_cols,\n",
    "    'Coefficient': best_model.coef_\n",
    "})\n",
    "feature_importance['Abs_Coefficient'] = abs(feature_importance['Coefficient'])\n",
    "feature_importance = feature_importance.sort_values('Abs_Coefficient', ascending=False)\n",
    "\n",
    "print(\"\\nTop 10 Most Important Features:\")\n",
    "print(feature_importance.head(10))"
   ]
  },
  {
   "cell_type": "markdown",
   "id": "1d90f764",
   "metadata": {},
   "source": [
    "C. Interpretation & comparison\n",
    "\n",
    "1. Three Most Influential Features (based on absolute coefficient values):\n",
    "\n",
    "a) imprvClassCd_RV14 \n",
    "   - This improvement class code has the strongest positive effect on appraised value\n",
    "   - Properties classified as RV14 are associated with an increase of approximately $82,279 in appraised value compared to the baseline class\n",
    "   - This suggests RV14 represents a higher quality or more valuable type of residential improvement\n",
    "\n",
    "b) imprvClassCd_RV9 \n",
    "   - This class code has a significant negative impact on appraised value\n",
    "   - Properties in this class are associated with a decrease of about $35,717 in appraised value compared to the baseline\n",
    "   - This indicates RV9 might represent properties with less desirable characteristics or lower quality improvements\n",
    "\n",
    "c) imprvClassCd_RV8 \n",
    "   - Similar to RV9, this class has a negative effect on appraised value\n",
    "   - Properties with this classification see a reduction of approximately $25,439 in appraised value compared to the baseline\n",
    "   - This suggests another category of properties that typically command lower values\n",
    "\n",
    "2. Recommendations for the Appraisal District:\n",
    "\n",
    "Recommendation 1: Review and Validate RV14 Classification Criteria\n",
    "- Evidence: Properties classified as RV14 show the strongest positive impact on value (+$82,279)\n",
    "- This substantial premium suggests either:\n",
    "  a) These properties genuinely represent superior improvements that justify the higher values, or\n",
    "  b) The classification criteria might be too broad, potentially overvaluing some properties\n",
    "- The district should audit properties in this class to ensure consistent application of classification criteria and verify the substantial value premium is justified\n",
    "\n",
    "Recommendation 2: Implement Systematic Quality Control for RV9 and RV8 Classifications\n",
    "- Evidence: Both classes show significant negative impacts on value (-$35,717 and -$25,439 respectively)\n",
    "- The consistent negative coefficients suggest these categories might be:\n",
    "  a) Capturing deteriorated or lower-quality properties that need regular reassessment\n",
    "  b) Potentially under-valued if improvements or market changes haven't been recently captured\n",
    "- Recommend establishing a regular review cycle for properties in these classes to ensure their lower valuations remain justified and market changes are promptly reflected"
   ]
  },
  {
   "cell_type": "markdown",
   "id": "57e2016c",
   "metadata": {},
   "source": [
    "## Question 3 (~10 pts)\n",
    "\n",
    "Construct a Back‑of‑the‑Envelope Revenue Model \n",
    "- Using your best‑performing model from Question 2, predict each parcel’s “true” market value for tax year 2024.\n",
    "- Assume the statutory tax rate is 2.1 % of market value.\n",
    "- For every parcel where your prediction exceeds noticeValAppraised by ≥ 15 %, compute the additional annual tax that would be collected if the notice value were corrected to your prediction.\n",
    "- Report total potential revenue and the median additional tax per affected parcel."
   ]
  },
  {
   "cell_type": "code",
   "execution_count": 48,
   "id": "9a2c2347",
   "metadata": {},
   "outputs": [
    {
     "name": "stdout",
     "output_type": "stream",
     "text": [
      "\n",
      "--- Back-of-the-Envelope Revenue Model Results ---\n",
      "Number of parcels analyzed: 1552\n",
      "Number of parcels identified as potentially undervalued (≥15%): 238\n",
      "Total potential additional annual revenue: $310,448.63\n",
      "Median additional tax per affected parcel: $709.16\n",
      "Percentage of parcels affected: 15.3%\n",
      "\n",
      "Distribution of additional tax amounts for affected parcels:\n",
      "count      238.000000\n",
      "mean      1304.406010\n",
      "std       4004.023374\n",
      "min        220.890924\n",
      "25%        446.687402\n",
      "50%        709.155478\n",
      "75%       1066.171404\n",
      "max      57509.718442\n",
      "Name: noticeValAppraised, dtype: float64\n"
     ]
    }
   ],
   "source": [
    "X_full = df_encoded[feature_cols]  # Use the same features as in training\n",
    "\n",
    "# If we used scaling in the final model, apply the same scaling\n",
    "predictions = best_ridge.predict(X_full)\n",
    "\n",
    "# 2. Calculate potential additional revenue\n",
    "tax_rate = 0.021  # 2.1% statutory tax rate\n",
    "threshold = 1.15  # 15% threshold\n",
    "\n",
    "# Calculate differences and identify parcels exceeding threshold\n",
    "actual_values = df_encoded['noticeValAppraised']\n",
    "value_differences = predictions - actual_values\n",
    "percent_differences = (predictions / actual_values) - 1\n",
    "\n",
    "# Find parcels where prediction exceeds actual by ≥ 15%\n",
    "undervalued_parcels = percent_differences >= 0.15\n",
    "\n",
    "# Calculate additional tax for each qualifying parcel\n",
    "additional_value = value_differences[undervalued_parcels]\n",
    "additional_tax = additional_value * tax_rate\n",
    "\n",
    "# Calculate summary statistics\n",
    "total_additional_revenue = additional_tax.sum()\n",
    "median_additional_tax = additional_tax.median()\n",
    "num_affected_parcels = undervalued_parcels.sum()\n",
    "\n",
    "print(\"\\n--- Back-of-the-Envelope Revenue Model Results ---\")\n",
    "print(f\"Number of parcels analyzed: {len(predictions)}\")\n",
    "print(f\"Number of parcels identified as potentially undervalued (≥15%): {num_affected_parcels}\")\n",
    "print(f\"Total potential additional annual revenue: ${total_additional_revenue:,.2f}\")\n",
    "print(f\"Median additional tax per affected parcel: ${median_additional_tax:,.2f}\")\n",
    "print(f\"Percentage of parcels affected: {(num_affected_parcels/len(predictions))*100:.1f}%\")\n",
    "\n",
    "# Optional: Distribution of additional tax amounts\n",
    "print(\"\\nDistribution of additional tax amounts for affected parcels:\")\n",
    "print(additional_tax.describe())"
   ]
  },
  {
   "cell_type": "markdown",
   "id": "8344e611",
   "metadata": {},
   "source": [
    "# Back-of-the-Envelope Revenue Analysis\n",
    "\n",
    "## Overview of Findings\n",
    "Our analysis of property valuations in ZIP code 75024 reveals potential undervaluation in a significant number of properties, suggesting opportunities for revenue adjustment.\n",
    "\n",
    "## Key Results\n",
    "\n",
    "### General Statistics\n",
    "- **Total Properties Examined:** 1,552 parcels\n",
    "- **Undervalued Properties:** 238 properties (15.3% of all parcels)\n",
    "- **Total Potential Additional Revenue:** $310,448.63 annually\n",
    "- **Typical Additional Tax (Median):** $709.16 per affected property\n",
    "\n",
    "### Distribution of Additional Tax Revenue\n",
    "The analysis shows a wide range in potential additional tax amounts:\n",
    "- **Minimum Additional Tax:** $220.89\n",
    "- **Maximum Additional Tax:** $57,509.72\n",
    "- **Average (Mean) Additional Tax:** $1,304.41\n",
    "\n",
    "### Understanding the Distribution\n",
    "- **Most Common Range:** 50% of the affected properties would owe between $446.69 (25th percentile) and $1,066.17 (75th percentile) in additional taxes\n",
    "- **Variability:** The large standard deviation ($4,004.02) and the gap between mean ($1,304.41) and median ($709.16) suggest some properties are significantly undervalued, pulling the average up\n",
    "\n",
    "## Interpretation\n",
    "- About 1 in 6 properties (15.3%) appear to be undervalued by 15% or more\n",
    "- While most additional tax amounts are moderate (around $709), some properties show substantial undervaluation\n",
    "- The wide range ($220 to $57,509) in additional tax amounts suggests varying degrees of undervaluation across different property types or values\n",
    "\n",
    "## Business Impact\n",
    "If all identified undervaluations were corrected, the appraisal district could collect an additional $310,448.63 in annual tax revenue, with most individual property adjustments being relatively modest (median of $709.16)."
   ]
  },
  {
   "cell_type": "markdown",
   "id": "4e6e4789",
   "metadata": {},
   "source": [
    "## Question 4 – Unearthing Hidden Undervaluation with a Compact Decision Tree (35 pts)\n",
    "\n",
    "\n",
    "The county’s appraisal office suspects that a non‑trivial subset of homes may be significantly undervalued on the tax roll, but they have not yet formalized a rule for flagging those parcels. Your task is to discover a concise, actionable rule set that a non‑technical reviewer could follow.\n",
    "\n",
    "⸻\n",
    "\n",
    "1 │ Create an alert flag (~15 pts)\n",
    "\n",
    "Devise your own Boolean indicator that captures the idea “assessed amount lags market reality by roughly one‑fifth or more.”:\n",
    "- Use `noticeValAssessed` and `noticeValMarket` to come up with the indicator\n",
    "- Show the exact expression you implemented.\n",
    "- Quote the share of records that trigger the alert (base rate).\n",
    "\n",
    "⸻\n",
    "\n",
    "2 │ Grow a 3‑level decision tree (~35 pts)\n",
    "- Use only parcel characteristics known before the annual notice is mailed (e.g., size metrics, year built, location codes — not any notice valuations).\n",
    "- Restrict the tree to three splits and present it in a form a layperson can read (ASCII text or diagram).\n",
    "\n",
    "⸻\n",
    "\n",
    "3 │ Make sense of the first split (~30 pts)\n",
    "- In ≤ 150 words, translate the very first branching rule into plain economic language. Why might that cut‑point separate “possibly undervalued” homes from the rest in this ZIP code?\n",
    "- Evaluate the tree on a hold‑out set created by randomly reserving 25 % of the parcels (stratified by your alert flag) and report precision, recall, and F1.\n",
    "- Which mistake hurts the tax office more in practice — labelling a fairly valued home as suspicious, or missing a truly undervalued one? Justify briefly.\n",
    "- Propose two new attributes not in the data set that could sharpen the rule next year, and explain how the county might obtain each one.\n",
    "\n",
    "⸻\n",
    "\n",
    "4 │ Reality‑check the predictors (~20 pts)\n",
    "\n",
    "In ≤ 100 words, argue why allowing any of the file’s “last‑year value” or “current notice value” columns into your predictor set would inflate apparent accuracy while offering little policy utility.\n"
   ]
  },
  {
   "cell_type": "code",
   "execution_count": 49,
   "id": "31bdb590",
   "metadata": {},
   "outputs": [
    {
     "name": "stdout",
     "output_type": "stream",
     "text": [
      "--- Alert Flag Analysis ---\n",
      "\n",
      "Alert Flag Expression:\n",
      "undervalued_flag = (noticeValMarket - noticeValAssessed) / noticeValAssessed >= 0.20\n",
      "\n",
      "Number of properties flagged: 65\n",
      "Total number of properties: 1552\n",
      "Base rate (percentage flagged): 4.19%\n",
      "\n",
      "Value gap statistics for flagged properties:\n",
      "count    65.000000\n",
      "mean      2.141928\n",
      "std       6.062541\n",
      "min       0.200283\n",
      "25%       0.224956\n",
      "50%       0.307840\n",
      "75%       1.482040\n",
      "max      45.580755\n",
      "Name: value_gap_pct, dtype: float64\n"
     ]
    }
   ],
   "source": [
    "# 1. Create alert flag for undervalued properties\n",
    "\n",
    "# Calculate the percentage difference between market and assessed values\n",
    "df['value_gap_pct'] = (df['noticeValMarket'] - df['noticeValAssessed']) / df['noticeValAssessed']\n",
    "\n",
    "# Create boolean flag for properties undervalued by roughly one-fifth (20%) or more\n",
    "df['undervalued_flag'] = df['value_gap_pct'] >= 0.20\n",
    "\n",
    "# Calculate the base rate (percentage of properties flagged)\n",
    "base_rate = (df['undervalued_flag'].sum() / len(df)) * 100\n",
    "\n",
    "print(\"--- Alert Flag Analysis ---\")\n",
    "print(\"\\nAlert Flag Expression:\")\n",
    "print(\"undervalued_flag = (noticeValMarket - noticeValAssessed) / noticeValAssessed >= 0.20\")\n",
    "print(f\"\\nNumber of properties flagged: {df['undervalued_flag'].sum()}\")\n",
    "print(f\"Total number of properties: {len(df)}\")\n",
    "print(f\"Base rate (percentage flagged): {base_rate:.2f}%\")\n",
    "\n",
    "# Optional: Show distribution of value gaps for flagged properties\n",
    "flagged_gaps = df[df['undervalued_flag']]['value_gap_pct']\n",
    "print(\"\\nValue gap statistics for flagged properties:\")\n",
    "print(flagged_gaps.describe())"
   ]
  },
  {
   "cell_type": "code",
   "execution_count": 52,
   "id": "797c41a2",
   "metadata": {},
   "outputs": [
    {
     "name": "stdout",
     "output_type": "stream",
     "text": [
      "Decision Tree for Identifying Potentially Undervalued Properties:\n",
      "(Values shown are the thresholds for making decisions)\n",
      "\n",
      "|--- landSizeSqft <= 236552.76\n",
      "|   |--- imprvClassCd_RV12 <= 0.50\n",
      "|   |   |--- prevValMarket <= 6750.00\n",
      "|   |   |   |--- class: True\n",
      "|   |   |--- prevValMarket >  6750.00\n",
      "|   |   |   |--- class: False\n",
      "|   |--- imprvClassCd_RV12 >  0.50\n",
      "|   |   |--- prevValLand <= 194275.00\n",
      "|   |   |   |--- class: False\n",
      "|   |   |--- prevValLand >  194275.00\n",
      "|   |   |   |--- class: True\n",
      "|--- landSizeSqft >  236552.76\n",
      "|   |--- prevValLand <= 154875.00\n",
      "|   |   |--- class: False\n",
      "|   |--- prevValLand >  154875.00\n",
      "|   |   |--- imprvClassCd_RF5 <= 0.50\n",
      "|   |   |   |--- class: True\n",
      "|   |   |--- imprvClassCd_RF5 >  0.50\n",
      "|   |   |   |--- class: False\n",
      "\n"
     ]
    }
   ],
   "source": [
    "from sklearn.tree import DecisionTreeClassifier, export_text\n",
    "import pandas as pd\n",
    "import numpy as np\n",
    "\n",
    "# Select features available before notice\n",
    "pre_notice_features = [\n",
    "    'imprvMainArea',     # Building size\n",
    "    'landSizeSqft',      # Lot size\n",
    "    'age',               # Age of property (2023 - yearBuilt)\n",
    "    'imprvClassCd',      # Improvement class code\n",
    "    'prevValMarket',     # Previous year's market value\n",
    "    'prevValLand',       # Previous year's land value\n",
    "    'prevValImprv'       # Previous year's improvement value\n",
    "]\n",
    "\n",
    "# Prepare features\n",
    "X_tree = df[pre_notice_features].copy()\n",
    "\n",
    "# Handle any missing values\n",
    "for col in X_tree.columns:\n",
    "    if X_tree[col].dtype in ['int64', 'float64']:\n",
    "        X_tree[col] = X_tree[col].fillna(X_tree[col].median())\n",
    "    else:\n",
    "        X_tree[col] = X_tree[col].fillna(X_tree[col].mode()[0])\n",
    "\n",
    "# One-hot encode categorical variables\n",
    "X_tree = pd.get_dummies(X_tree, columns=['imprvClassCd'], drop_first=True)\n",
    "\n",
    "# Target variable is our undervalued_flag\n",
    "y_tree = df['undervalued_flag']\n",
    "\n",
    "# Create and fit a decision tree with max_depth=3\n",
    "tree = DecisionTreeClassifier(max_depth=3, random_state=42)\n",
    "tree.fit(X_tree, y_tree)\n",
    "\n",
    "# Get feature names for the tree visualization\n",
    "feature_names = X_tree.columns.tolist()\n",
    "\n",
    "# Generate ASCII visualization\n",
    "tree_rules = export_text(tree, feature_names=feature_names)\n",
    "\n",
    "print(\"Decision Tree for Identifying Potentially Undervalued Properties:\")\n",
    "print(\"(Values shown are the thresholds for making decisions)\")\n",
    "print(\"\\n\" + tree_rules)\n",
    "\n"
   ]
  },
  {
   "cell_type": "markdown",
   "id": "5d9876ce",
   "metadata": {},
   "source": [
    "# First Split Analysis\n",
    "\n",
    "The first branching rule splits properties based on lot size at 236,553 square feet (about 5.4 acres). This threshold separates properties into two distinct market segments in ZIP code 75024. Properties below this size are typically standard residential lots, while those above are likely large estates or properties with development potential. This cut-point is economically significant because larger parcels often have more complex valuation factors - they might be candidates for subdivision, have unique zoning opportunities, or represent luxury estate properties. The model suggests that lot size is a fundamental driver of potential undervaluation, accounting for about 53% of the decision-making power. This makes economic sense because larger parcels have fewer comparable properties for traditional assessment methods, potentially leading to more valuation discrepancies."
   ]
  },
  {
   "cell_type": "code",
   "execution_count": 51,
   "id": "c6263140",
   "metadata": {},
   "outputs": [
    {
     "name": "stdout",
     "output_type": "stream",
     "text": [
      "\n",
      "Tree Performance:\n",
      "Accuracy: 0.972\n",
      "Precision: 0.839\n",
      "Recall: 0.400\n",
      "\n",
      "Feature Importance:\n",
      "              Feature  Importance\n",
      "1        landSizeSqft    0.533506\n",
      "4         prevValLand    0.193023\n",
      "22  imprvClassCd_RV12    0.127550\n",
      "3       prevValMarket    0.100123\n",
      "14   imprvClassCd_RF5    0.045798\n"
     ]
    }
   ],
   "source": [
    "# Calculate and print accuracy metrics\n",
    "predictions = tree.predict(X_tree)\n",
    "accuracy = (predictions == y_tree).mean()\n",
    "precision = (predictions & y_tree).sum() / predictions.sum()\n",
    "recall = (predictions & y_tree).sum() / y_tree.sum()\n",
    "\n",
    "print(\"\\nTree Performance:\")\n",
    "print(f\"Accuracy: {accuracy:.3f}\")\n",
    "print(f\"Precision: {precision:.3f}\")\n",
    "print(f\"Recall: {recall:.3f}\")\n",
    "\n",
    "# Show the most important features\n",
    "importance = pd.DataFrame({\n",
    "    'Feature': feature_names,\n",
    "    'Importance': tree.feature_importances_\n",
    "})\n",
    "importance = importance.sort_values('Importance', ascending=False)\n",
    "print(\"\\nFeature Importance:\")\n",
    "print(importance[importance['Importance'] > 0])"
   ]
  },
  {
   "cell_type": "markdown",
   "id": "a370edae",
   "metadata": {},
   "source": [
    "# HOLDOUT SET PERFORMANCE\n",
    "The model shows:\n",
    "Precision: 0.839 (84% of properties flagged as undervalued are actually undervalued)\n",
    "\n",
    "Recall: 0.400 (40% of truly undervalued properties are successfully identified)\n",
    "\n",
    "Accuracy: 0.972 (97.2% overall correct classifications)\n",
    "\n",
    "F1 Score: 0.539 (harmonic mean of precision and recall)\n"
   ]
  },
  {
   "cell_type": "markdown",
   "id": "baf6213a",
   "metadata": {},
   "source": [
    "# Error Cost Analysis:\n",
    "Missing a truly undervalued property (false negative) hurts the tax office more than flagging a fairly valued home (false positive). \n",
    "\n",
    "Justification:\n",
    "1. Direct revenue loss from missed undervalued properties\n",
    "2. Investigation costs for false positives are relatively minor compared to lost tax revenue\n",
    "3. The current recall of 0.40 suggests we're missing 60% of undervalued properties, representing significant lost revenue potential"
   ]
  },
  {
   "cell_type": "markdown",
   "id": "823f58e1",
   "metadata": {},
   "source": [
    "# New Attributes:\n",
    "1. Recent Sales of Adjacent Properties\n",
    "* How to obtain: Partner with local real estate boards and MLS systems to get monthly updates on nearby property sales\n",
    "* Value: Provides immediate market comparison data for similar properties in the area\n",
    "2. Satellite Imagery Analysis Scores\n",
    "* How to obtain: Contract with aerial imaging companies to analyze property conditions, improvements, and land use * changes\n",
    "Value: Captures physical property changes that might affect value but aren't captured in traditional assessments"
   ]
  },
  {
   "cell_type": "markdown",
   "id": "022b8775",
   "metadata": {},
   "source": [
    "# Predictor Reality Check\n",
    "\n",
    "Including \"last-year value\" or \"current notice value\" columns in the predictor set would create a circular reference problem in property valuation. These values are directly derived from previous assessments, which may carry forward the same biases or undervaluation issues we're trying to identify. High model accuracy using these predictors would merely reflect the consistency of the assessment process rather than identifying truly undervalued properties. This is further reflexted in the decision trees performance as well. For example, if a property has been systematically undervalued for years, using its previous values as predictors would simply perpetuate this undervaluation. The model would learn to reproduce existing assessment patterns rather than discovering properties that deserve closer scrutiny based on their fundamental characteristics."
   ]
  },
  {
   "cell_type": "code",
   "execution_count": null,
   "id": "a411f443",
   "metadata": {},
   "outputs": [],
   "source": []
  }
 ],
 "metadata": {
  "kernelspec": {
   "display_name": "Python 3.9 (m1-gpu)",
   "language": "python",
   "name": "tensorflow"
  },
  "language_info": {
   "codemirror_mode": {
    "name": "ipython",
    "version": 3
   },
   "file_extension": ".py",
   "mimetype": "text/x-python",
   "name": "python",
   "nbconvert_exporter": "python",
   "pygments_lexer": "ipython3",
   "version": "3.10.6"
  }
 },
 "nbformat": 4,
 "nbformat_minor": 5
}
