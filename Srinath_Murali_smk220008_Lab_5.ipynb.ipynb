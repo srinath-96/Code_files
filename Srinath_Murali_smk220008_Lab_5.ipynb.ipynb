{
 "cells": [
  {
   "cell_type": "markdown",
   "id": "a0c9b618",
   "metadata": {},
   "source": [
    "## Preparation\n",
    "\n",
    "Use dataset that is provided in the eLearning.  \n",
    "This is the same dataset as in the Lab-3. Repeat the steps from Lab-3 to replace Na's with zero for numerical variables and with \"Missing\" for categorical. \n"
   ]
  },
  {
   "cell_type": "code",
   "execution_count": 4,
   "id": "3ca7e035",
   "metadata": {},
   "outputs": [
    {
     "data": {
      "text/html": [
       "<style>.container { width:80% !important; }</style>"
      ],
      "text/plain": [
       "<IPython.core.display.HTML object>"
      ]
     },
     "metadata": {},
     "output_type": "display_data"
    }
   ],
   "source": [
    "import pandas as pd\n",
    "pd.set_option('display.max_columns', 1500)\n",
    "\n",
    "import warnings\n",
    "warnings.filterwarnings('ignore')\n",
    "\n",
    "#Extend cell width\n",
    "from IPython.core.display import display, HTML\n",
    "display(HTML(\"<style>.container { width:80% !important; }</style>\"))"
   ]
  },
  {
   "cell_type": "markdown",
   "id": "cee2c254",
   "metadata": {},
   "source": [
    "### Load data"
   ]
  },
  {
   "cell_type": "code",
   "execution_count": 7,
   "id": "a19bd163",
   "metadata": {},
   "outputs": [],
   "source": [
    "#train_df = pd.read_csv('./data/SBA_loans_small.zip')\n",
    "X_train = pd.read_csv('SBA_loans_train.csv')\n",
    "X_test  = pd.read_csv('SBA_loans_test.csv')\n",
    "orig_columns = list(X_train.columns)"
   ]
  },
  {
   "cell_type": "code",
   "execution_count": 8,
   "id": "b9856f8b",
   "metadata": {},
   "outputs": [
    {
     "name": "stdout",
     "output_type": "stream",
     "text": [
      "['City', 'State', 'Zip', 'Bank', 'BankState', 'NAICS', 'Term', 'NoEmp', 'NewExist', 'CreateJob', 'RetainedJob', 'FranchiseCode', 'UrbanRural', 'RevLineCr', 'LowDoc', 'DisbursementGross', 'BalanceGross', 'GrAppv', 'SBA_Appv', 'Defaulted']\n"
     ]
    }
   ],
   "source": [
    "print(orig_columns)"
   ]
  },
  {
   "cell_type": "code",
   "execution_count": 11,
   "id": "2301a5ed",
   "metadata": {},
   "outputs": [
    {
     "name": "stdout",
     "output_type": "stream",
     "text": [
      "Train shape: (337186, 20)\n",
      "Test shape: (112396, 20)\n"
     ]
    }
   ],
   "source": [
    "print(\"Train shape:\", X_train.shape)\n",
    "print(\"Test shape:\", X_test.shape)"
   ]
  },
  {
   "cell_type": "markdown",
   "id": "a36e8f3b",
   "metadata": {},
   "source": [
    "## Preparation Step\n",
    "\n",
    "This is the same dataset as in the Lab-3. Repeat the steps from Lab-3 to replace Na's with zero for numerical variables and with \"Missing\" for categorical. "
   ]
  },
  {
   "cell_type": "code",
   "execution_count": 14,
   "id": "08646fb5",
   "metadata": {},
   "outputs": [
    {
     "name": "stdout",
     "output_type": "stream",
     "text": [
      "City\n",
      "State\n",
      "Bank\n",
      "BankState\n",
      "NewExist\n",
      "RevLineCr\n",
      "LowDoc\n"
     ]
    }
   ],
   "source": [
    "for col in X_test.columns:\n",
    "    if X_test[col].isna().any() == True:\n",
    "        print(col)"
   ]
  },
  {
   "cell_type": "code",
   "execution_count": 16,
   "id": "53cb0870-88af-4b88-a1ce-42091f5b13a0",
   "metadata": {},
   "outputs": [
    {
     "name": "stdout",
     "output_type": "stream",
     "text": [
      "City\n",
      "State\n",
      "Bank\n",
      "BankState\n",
      "NewExist\n",
      "RevLineCr\n",
      "LowDoc\n"
     ]
    }
   ],
   "source": [
    "for col in X_train.columns:\n",
    "    if X_test[col].isna().any() == True:\n",
    "        print(col)"
   ]
  },
  {
   "cell_type": "code",
   "execution_count": 18,
   "id": "5d79717e-668f-4d0a-ae2f-cbf868f86277",
   "metadata": {},
   "outputs": [],
   "source": [
    "category=['City','State','Bank','BankState','RevLineCr','LowDoc']\n",
    "numeric=['NewExist']\n",
    "for i in category:\n",
    "    X_train[i]=X_train[i].fillna(\"Missing\")\n",
    "    X_test[i]=X_test[i].fillna(\"Missing\")\n",
    "for j in numeric:\n",
    "    X_train[j]=X_train[j].fillna(0)\n",
    "    X_test[j]=X_test[j].fillna(0)"
   ]
  },
  {
   "cell_type": "markdown",
   "id": "7bb0bfa4",
   "metadata": {},
   "source": [
    "## Question 1 - 2 points\n",
    "\n",
    "Consider following variables to be Categorical:\n",
    "- \"City\" has 22070 values\n",
    "- \"State\" has 52 values\n",
    "- \"Bank\" has 4834 values\n",
    "- \"BankState\" has 56 values\n",
    "- \"RevLineCr\" has 14 values\n",
    "- \"LowDoc\" has 8 values\n",
    "\n",
    "Use Target and WOE encoder from the `category_encoders` library to encode categorical variables.  \n",
    "Fit encoders using Training dataset only.  \n",
    "For each encoder, give new columns names \"Original-name\"_te for target-encoder and \"Original-name\"_woe for WOE encoder. After encoding, your train/test dataframes will have all the original columns, plus new columns with encoded values."
   ]
  },
  {
   "cell_type": "code",
   "execution_count": 20,
   "id": "013fd10c",
   "metadata": {},
   "outputs": [],
   "source": [
    "from sklearn.preprocessing import LabelEncoder\n",
    "from category_encoders import TargetEncoder, WOEEncoder\n",
    "\n",
    "# Initialize dictionary to save encoders\n",
    "cat_encoders = {}\n",
    "\n",
    "# List of categorical variables\n",
    "categorical_vars = [\"City\", \"State\", \"Bank\", \"BankState\", \"RevLineCr\", \"LowDoc\"]\n",
    "\n",
    "# For each categorical variable\n",
    "for var in categorical_vars:\n",
    "    # Target Encoding\n",
    "    te = TargetEncoder()\n",
    "    te.fit(X_train[var], X_train['Defaulted'])  # Assuming 'target' is the target variable\n",
    "    X_train[f\"{var}_te\"] = te.transform(X_train[var])\n",
    "    X_test[f\"{var}_te\"] = te.transform(X_test[var])\n",
    "    cat_encoders[(var, \"te\")] = te\n",
    "\n",
    "    # WOE Encoding\n",
    "    woe = WOEEncoder()\n",
    "    woe.fit(X_train[var], X_train['Defaulted'])  # Assuming 'target' is the target variable\n",
    "    X_train[f\"{var}_woe\"] = woe.transform(X_train[var])\n",
    "    X_test[f\"{var}_woe\"] = woe.transform(X_test[var])\n",
    "    cat_encoders[(var, \"woe\")] = woe"
   ]
  },
  {
   "cell_type": "markdown",
   "id": "8e91bffc",
   "metadata": {},
   "source": [
    "## Question 2 - 6 points\n",
    "\n",
    "Review sklearn documentation on the RandomForest optimal hyper-parameters choice and methods for tuning: https://scikit-learn.org/stable/modules/ensemble.html#random-forest-parameters\n",
    "\n",
    "Train RandomForest models with the following parameters:\n",
    "\n",
    "```\n",
    "n_estimators = [50, 100, 200]\n",
    "max_depth = [5,7,10]\n",
    "max_features = [\"sqrt\", \"log2\", 5]\n",
    "random_state = 0\n",
    "max_samples = [0.2, 0.4, 0.6]\n",
    "bootstrap = True\n",
    "```\n",
    "Don't use original categorical variables, only encoded via Target and WOE encoder.\n",
    "Perform split of the Training dataset to Train and Validation datasets. Use Validation dataset to find best performing model.\n",
    "\n",
    "Don't use Grid-Search Class by Sklearn or other library. For studying purposes, implement Grid-Search yourself.\n",
    "\n",
    "Use F1 to find best performing model on the Validation dataset.\n",
    "\n",
    "Use F1 score \"weighted\" : https://scikit-learn.org/stable/modules/generated/sklearn.metrics.f1_score.html \n",
    "\n",
    "Once optimal hyper-parameters are found, train model on the Training dataset and evaluate on the Test dataset.  \n",
    "You should evaluate model performance on the Test dataset only once, after you found optimal hyper-parameters.\n",
    "\n",
    "Report best model (as measured by F1) hyper-parameters.\n",
    "Report best model F1 and confusion matrix.\n",
    "\n",
    "**Note**: depending on your PC resources you can increase speed of model training by specifying `n_jobs` parameter."
   ]
  },
  {
   "cell_type": "code",
   "execution_count": 22,
   "id": "1497405a",
   "metadata": {},
   "outputs": [],
   "source": [
    "X_train_te=X_train[[\"City_te\",\"State_te\",\"Bank_te\", \"BankState_te\", \"RevLineCr_te\", \"LowDoc_te\"]]\n",
    "X_train_woe=X_train[[\"City_woe\",\"State_woe\",\"Bank_woe\", \"BankState_woe\", \"RevLineCr_woe\", \"LowDoc_woe\"]]\n",
    "y_train=X_train['Defaulted']\n",
    "X_test_te=X_test[[\"City_te\",\"State_te\",\"Bank_te\", \"BankState_te\", \"RevLineCr_te\", \"LowDoc_te\"]]\n",
    "X_test_woe=X_test[[\"City_woe\",\"State_woe\",\"Bank_woe\", \"BankState_woe\", \"RevLineCr_woe\", \"LowDoc_woe\"]]\n",
    "y_test=X_test['Defaulted']\n",
    "\n",
    "\n",
    "from itertools import product\n",
    "from sklearn.ensemble import RandomForestClassifier\n",
    "from sklearn.metrics import accuracy_score\n",
    "from sklearn.model_selection import train_test_split\n"
   ]
  },
  {
   "cell_type": "code",
   "execution_count": 26,
   "id": "8ca1aec4-6308-4de7-a876-100ceaa1f402",
   "metadata": {},
   "outputs": [],
   "source": [
    "# Define parameter grid (example)\n",
    "param_grid = {\n",
    "    'n_estimators': [50, 100, 200],\n",
    "    'max_depth': [5,7,10],\n",
    "    'max_features' : [\"sqrt\", \"log2\", 5],\n",
    "    'random_state': [0],\n",
    "    'max_samples' : [0.2, 0.4, 0.6],\n",
    "    'bootstrap' : [True]\n",
    "}\n",
    "\n",
    "# Function to create all combinations of parameters\n",
    "def param_combinations(param_grid):\n",
    "    keys, values = zip(*param_grid.items())\n",
    "    return [dict(zip(keys, v)) for v in product(*values)]\n",
    "\n"
   ]
  },
  {
   "cell_type": "code",
   "execution_count": 28,
   "id": "693b343a-9240-4bc8-b480-91e35c86772b",
   "metadata": {},
   "outputs": [
    {
     "data": {
      "text/plain": [
       "((337186,), (337186, 6))"
      ]
     },
     "execution_count": 28,
     "metadata": {},
     "output_type": "execute_result"
    }
   ],
   "source": [
    "y_train.shape,X_train_te.shape"
   ]
  },
  {
   "cell_type": "code",
   "execution_count": 30,
   "id": "e8b1ef1b-a502-4526-86e0-2748c260e735",
   "metadata": {},
   "outputs": [],
   "source": [
    "#te\n",
    "x_t,x_v,y_t,y_v=train_test_split(X_train_te, y_train, test_size=0.2, random_state=0)"
   ]
  },
  {
   "cell_type": "code",
   "execution_count": 32,
   "id": "13b9ed74-ce07-47fc-9bd4-5ccc63b6e5f4",
   "metadata": {},
   "outputs": [],
   "source": [
    "#woe\n",
    "x_t_w,x_v_w,y_t_w,y_v_w=train_test_split(X_train_woe, y_train, test_size=0.2, random_state=0)"
   ]
  },
  {
   "cell_type": "code",
   "execution_count": 108,
   "id": "8d524fd1-78b9-49eb-8744-72f09e3d2d90",
   "metadata": {},
   "outputs": [
    {
     "name": "stdout",
     "output_type": "stream",
     "text": [
      "Best Score: 0.848542364838815\n",
      "Best Parameters: {'n_estimators': 50, 'max_depth': 10, 'max_features': 5, 'random_state': 0, 'max_samples': 0.4, 'bootstrap': True}\n"
     ]
    }
   ],
   "source": [
    "# Grid Search Implementation for te\n",
    "best_score = 0\n",
    "best_params = None\n",
    "for params in param_combinations(param_grid):\n",
    "    model = RandomForestClassifier(**params)\n",
    "    model.fit(x_t, y_t)\n",
    "    predictions = model.predict(x_v)\n",
    "    score = accuracy_score(y_v, predictions)\n",
    "    \n",
    "    if score > best_score:\n",
    "        best_score = score\n",
    "        best_params = params\n",
    "\n",
    "print(f\"Best Score: {best_score}\")\n",
    "print(f\"Best Parameters: {best_params}\")\n"
   ]
  },
  {
   "cell_type": "code",
   "execution_count": 126,
   "id": "b236289f-967c-4b99-9f81-92394eb69672",
   "metadata": {},
   "outputs": [
    {
     "name": "stdout",
     "output_type": "stream",
     "text": [
      "Best Score: 0.8453394228773096\n",
      "Best Parameters: {'n_estimators': 200, 'max_depth': 10, 'max_features': 5, 'random_state': 0, 'max_samples': 0.2, 'bootstrap': True}\n"
     ]
    }
   ],
   "source": [
    "# Grid Search Implementation for woe\n",
    "best_score2 = 0\n",
    "best_params2 = None\n",
    "for params in param_combinations(param_grid):\n",
    "    model2 = RandomForestClassifier(**params)\n",
    "    model2.fit(x_t_w, y_t_w)\n",
    "    predictions2 = model2.predict(x_v_w)\n",
    "    score2 = accuracy_score(y_v_w, predictions2)\n",
    "    \n",
    "    if score2 > best_score2:\n",
    "        best_score2 = score2\n",
    "        best_params2 = params\n",
    "\n",
    "print(f\"Best Score: {best_score2}\")\n",
    "print(f\"Best Parameters: {best_params2}\")\n"
   ]
  },
  {
   "cell_type": "code",
   "execution_count": 113,
   "id": "599b4e8e-728b-46ae-b80e-2030e6069b07",
   "metadata": {},
   "outputs": [],
   "source": [
    "#best model using te \n",
    "best_dtc = RandomForestClassifier(**best_params)\n",
    "best_dtc.fit(x_t, y_t)\n",
    "predictions = best_dtc.predict(x_v)"
   ]
  },
  {
   "cell_type": "code",
   "execution_count": 36,
   "id": "514a142c-97b6-4938-9c1c-522a19bea06b",
   "metadata": {},
   "outputs": [],
   "source": [
    "best_params2={'n_estimators': 200, 'max_depth': 10, 'max_features': 5, 'random_state': 0, 'max_samples': 0.2, 'bootstrap': True}"
   ]
  },
  {
   "cell_type": "code",
   "execution_count": 38,
   "id": "ff025531-2279-4edb-a5c5-06130a1ca73b",
   "metadata": {},
   "outputs": [],
   "source": [
    "#best model using woe \n",
    "best_dtc2=RandomForestClassifier(**best_params2)\n",
    "best_dtc2.fit(x_t_w, y_t_w)\n",
    "predictions2 = best_dtc2.predict(x_v_w)"
   ]
  },
  {
   "cell_type": "markdown",
   "id": "3c14003c",
   "metadata": {
    "tags": []
   },
   "source": [
    "## Question 3 - 2 Points\n",
    "\n",
    "Calculate best model feature importances using permutation method.\n",
    "Produce visualization of the best model feature importances."
   ]
  },
  {
   "cell_type": "code",
   "execution_count": 42,
   "id": "932cb75b-abbc-4217-a831-5cfbdd57bbea",
   "metadata": {},
   "outputs": [],
   "source": [
    "from sklearn.inspection import permutation_importance\n",
    "import numpy as np"
   ]
  },
  {
   "cell_type": "code",
   "execution_count": 120,
   "id": "072e674f-7892-4d2a-89aa-07e4cddbdd53",
   "metadata": {},
   "outputs": [],
   "source": [
    "\n",
    "\n",
    "# Calculate permutation importances on the test set\n",
    "perm_importance = permutation_importance(best_dtc, X_test_te, y_test, n_repeats=30, random_state=0)\n",
    "\n",
    "# Get the mean importances and standard deviations\n",
    "importances_mean = perm_importance.importances_mean\n",
    "importances_std = perm_importance.importances_std\n",
    "\n",
    "# Feature names\n",
    "feature_names = X_test_te.columns\n"
   ]
  },
  {
   "cell_type": "code",
   "execution_count": 121,
   "id": "be5fdcc0-3a0d-45ac-a564-a3cd18804d4e",
   "metadata": {},
   "outputs": [
    {
     "data": {
      "image/png": "[encoded data removed]",
      "text/plain": [
       "<Figure size 864x432 with 1 Axes>"
      ]
     },
     "metadata": {
      "needs_background": "light"
     },
     "output_type": "display_data"
    }
   ],
   "source": [
    "import matplotlib.pyplot as plt\n",
    "\n",
    "# Sort the feature importances in descending order and get their indices\n",
    "sorted_idx = np.argsort(importances_mean)[::-1]\n",
    "\n",
    "# Create a bar chart\n",
    "plt.figure(figsize=(12, 6))\n",
    "plt.bar(range(len(sorted_idx)), importances_mean[sorted_idx], yerr=importances_std[sorted_idx], align='center')\n",
    "plt.xticks(range(len(sorted_idx)), feature_names[sorted_idx], rotation=90)\n",
    "plt.title('Permutation Importances (Test Set)')\n",
    "plt.show()"
   ]
  },
  {
   "cell_type": "code",
   "execution_count": 44,
   "id": "d867a657-61ac-448f-84d9-fab00201196c",
   "metadata": {},
   "outputs": [],
   "source": [
    "# Calculate permutation importances on the test set\n",
    "perm_importance = permutation_importance(best_dtc2, X_test_woe, y_test, n_repeats=30, random_state=0)\n",
    "\n",
    "# Get the mean importances and standard deviations\n",
    "importances_mean = perm_importance.importances_mean\n",
    "importances_std = perm_importance.importances_std\n",
    "\n",
    "# Feature names\n",
    "feature_names = X_test_woe.columns"
   ]
  },
  {
   "cell_type": "code",
   "execution_count": 45,
   "id": "8ae2a67e-7950-4a91-9f86-4bec0aadf4d5",
   "metadata": {},
   "outputs": [
    {
     "data": {
      "image/png": "[encoded data removed]",
      "text/plain": [
       "<Figure size 864x432 with 1 Axes>"
      ]
     },
     "metadata": {
      "needs_background": "light"
     },
     "output_type": "display_data"
    }
   ],
   "source": [
    "import matplotlib.pyplot as plt\n",
    "\n",
    "# Sort the feature importances in descending order and get their indices\n",
    "sorted_idx = np.argsort(importances_mean)[::-1]\n",
    "\n",
    "# Create a bar chart\n",
    "plt.figure(figsize=(12, 6))\n",
    "plt.bar(range(len(sorted_idx)), importances_mean[sorted_idx], yerr=importances_std[sorted_idx], align='center')\n",
    "plt.xticks(range(len(sorted_idx)), feature_names[sorted_idx], rotation=90)\n",
    "plt.title('Permutation Importances (Test Set)')\n",
    "plt.show()"
   ]
  },
  {
   "cell_type": "code",
   "execution_count": null,
   "id": "e6273623-3115-44a3-8e72-e07beff1fb6c",
   "metadata": {},
   "outputs": [],
   "source": []
  }
 ],
 "metadata": {
  "kernelspec": {
   "display_name": "Python 3 (ipykernel)",
   "language": "python",
   "name": "python3"
  },
  "language_info": {
   "codemirror_mode": {
    "name": "ipython",
    "version": 3
   },
   "file_extension": ".py",
   "mimetype": "text/x-python",
   "name": "python",
   "nbconvert_exporter": "python",
   "pygments_lexer": "ipython3",
   "version": "3.9.12"
  }
 },
 "nbformat": 4,
 "nbformat_minor": 5
}
