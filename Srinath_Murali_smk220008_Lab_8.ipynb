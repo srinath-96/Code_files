{
 "cells": [
  {
   "cell_type": "markdown",
   "id": "62834763",
   "metadata": {},
   "source": [
    "   # Lab 8\n",
    "**NAME: SRINATH M KRISHNAN | NET ID: SMK220008**"
   ]
  },
  {
   "cell_type": "markdown",
   "id": "a0c9b618",
   "metadata": {},
   "source": [
    "## Preparation\n",
    "\n",
    "Use dataset provided in the eLearning"
   ]
  },
  {
   "cell_type": "code",
   "execution_count": 8,
   "id": "3ca7e035",
   "metadata": {},
   "outputs": [
    {
     "name": "stderr",
     "output_type": "stream",
     "text": [
      "/var/folders/x3/5n0yyb7911zg532jx71xlkrr0000gn/T/ipykernel_35781/3021516139.py:2: DeprecationWarning: Importing display from IPython.core.display is deprecated since IPython 7.14, please import from IPython display\n",
      "  from IPython.core.display import display, HTML\n"
     ]
    },
    {
     "data": {
      "text/html": [
       "<style>.container { width:80% !important; }</style>"
      ],
      "text/plain": [
       "<IPython.core.display.HTML object>"
      ]
     },
     "metadata": {},
     "output_type": "display_data"
    }
   ],
   "source": [
    "#Extend cell width\n",
    "from IPython.core.display import display, HTML\n",
    "display(HTML(\"<style>.container { width:80% !important; }</style>\"))\n",
    "\n",
    "import warnings\n",
    "warnings.filterwarnings('ignore')\n",
    "\n",
    "import pandas as pd \n",
    "\n",
    "#Install shap package as needed:\n",
    "#!pip uninstall numpy\n",
    "#!pip uninstall numba\n",
    "#!pip install shap==0.40.0\n",
    "\n",
    "import shap\n",
    "\n",
    "import h2o\n",
    "from h2o.estimators import H2OTargetEncoderEstimator\n",
    "\n",
    "try:\n",
    "    h2o.cluster().shutdown()\n",
    "except:\n",
    "    pass "
   ]
  },
  {
   "cell_type": "code",
   "execution_count": 9,
   "id": "9e1aa43e",
   "metadata": {},
   "outputs": [
    {
     "name": "stdout",
     "output_type": "stream",
     "text": [
      "Checking whether there is an H2O instance running at http://localhost:54321. connected.\n",
      "Warning: Your H2O cluster version is (3 months and 20 days) old.  There may be a newer version available.\n",
      "Please download and install the latest version from: https://h2o-release.s3.amazonaws.com/h2o/latest_stable.html\n"
     ]
    },
    {
     "data": {
      "text/html": [
       "\n",
       "<style>\n",
       "\n",
       "#h2o-table-1.h2o-container {\n",
       "  overflow-x: auto;\n",
       "}\n",
       "#h2o-table-1 .h2o-table {\n",
       "  /* width: 100%; */\n",
       "  margin-top: 1em;\n",
       "  margin-bottom: 1em;\n",
       "}\n",
       "#h2o-table-1 .h2o-table caption {\n",
       "  white-space: nowrap;\n",
       "  caption-side: top;\n",
       "  text-align: left;\n",
       "  /* margin-left: 1em; */\n",
       "  margin: 0;\n",
       "  font-size: larger;\n",
       "}\n",
       "#h2o-table-1 .h2o-table thead {\n",
       "  white-space: nowrap; \n",
       "  position: sticky;\n",
       "  top: 0;\n",
       "  box-shadow: 0 -1px inset;\n",
       "}\n",
       "#h2o-table-1 .h2o-table tbody {\n",
       "  overflow: auto;\n",
       "}\n",
       "#h2o-table-1 .h2o-table th,\n",
       "#h2o-table-1 .h2o-table td {\n",
       "  text-align: right;\n",
       "  /* border: 1px solid; */\n",
       "}\n",
       "#h2o-table-1 .h2o-table tr:nth-child(even) {\n",
       "  /* background: #F5F5F5 */\n",
       "}\n",
       "\n",
       "</style>      \n",
       "<div id=\"h2o-table-1\" class=\"h2o-container\">\n",
       "  <table class=\"h2o-table\">\n",
       "    <caption></caption>\n",
       "    <thead></thead>\n",
       "    <tbody><tr><td>H2O_cluster_uptime:</td>\n",
       "<td>9 days 2 hours 42 mins</td></tr>\n",
       "<tr><td>H2O_cluster_timezone:</td>\n",
       "<td>America/Chicago</td></tr>\n",
       "<tr><td>H2O_data_parsing_timezone:</td>\n",
       "<td>UTC</td></tr>\n",
       "<tr><td>H2O_cluster_version:</td>\n",
       "<td>3.44.0.3</td></tr>\n",
       "<tr><td>H2O_cluster_version_age:</td>\n",
       "<td>3 months and 20 days</td></tr>\n",
       "<tr><td>H2O_cluster_name:</td>\n",
       "<td>H2O_from_python_srinathmurali_45aqwl</td></tr>\n",
       "<tr><td>H2O_cluster_total_nodes:</td>\n",
       "<td>1</td></tr>\n",
       "<tr><td>H2O_cluster_free_memory:</td>\n",
       "<td>7.777 Gb</td></tr>\n",
       "<tr><td>H2O_cluster_total_cores:</td>\n",
       "<td>8</td></tr>\n",
       "<tr><td>H2O_cluster_allowed_cores:</td>\n",
       "<td>3</td></tr>\n",
       "<tr><td>H2O_cluster_status:</td>\n",
       "<td>locked, healthy</td></tr>\n",
       "<tr><td>H2O_connection_url:</td>\n",
       "<td>http://localhost:54321</td></tr>\n",
       "<tr><td>H2O_connection_proxy:</td>\n",
       "<td>{\"http\": null, \"https\": null}</td></tr>\n",
       "<tr><td>H2O_internal_security:</td>\n",
       "<td>False</td></tr>\n",
       "<tr><td>Python_version:</td>\n",
       "<td>3.9.12 final</td></tr></tbody>\n",
       "  </table>\n",
       "</div>\n"
      ],
      "text/plain": [
       "--------------------------  ------------------------------------\n",
       "H2O_cluster_uptime:         9 days 2 hours 42 mins\n",
       "H2O_cluster_timezone:       America/Chicago\n",
       "H2O_data_parsing_timezone:  UTC\n",
       "H2O_cluster_version:        3.44.0.3\n",
       "H2O_cluster_version_age:    3 months and 20 days\n",
       "H2O_cluster_name:           H2O_from_python_srinathmurali_45aqwl\n",
       "H2O_cluster_total_nodes:    1\n",
       "H2O_cluster_free_memory:    7.777 Gb\n",
       "H2O_cluster_total_cores:    8\n",
       "H2O_cluster_allowed_cores:  3\n",
       "H2O_cluster_status:         locked, healthy\n",
       "H2O_connection_url:         http://localhost:54321\n",
       "H2O_connection_proxy:       {\"http\": null, \"https\": null}\n",
       "H2O_internal_security:      False\n",
       "Python_version:             3.9.12 final\n",
       "--------------------------  ------------------------------------"
      ]
     },
     "metadata": {},
     "output_type": "display_data"
    }
   ],
   "source": [
    "#Limit to 3 threads and 8GB memory\n",
    "h2o.init(nthreads=3, max_mem_size=8)"
   ]
  },
  {
   "cell_type": "markdown",
   "id": "cee2c254",
   "metadata": {},
   "source": [
    "### Load data"
   ]
  },
  {
   "cell_type": "code",
   "execution_count": 15,
   "id": "a19bd163",
   "metadata": {},
   "outputs": [
    {
     "name": "stdout",
     "output_type": "stream",
     "text": [
      "Parse progress: |████████████████████████████████████████████████████████████████| (done) 100%\n",
      "Parse progress: |████████████████████████████████████████████████████████████████| (done) 100%\n"
     ]
    }
   ],
   "source": [
    "train = h2o.import_file('Car_Prices_Poland_train.csv')\n",
    "test = h2o.import_file('Car_Prices_Poland_test.csv')"
   ]
  },
  {
   "cell_type": "code",
   "execution_count": 17,
   "id": "052d0c31",
   "metadata": {},
   "outputs": [
    {
     "data": {
      "text/html": [
       "<table class='dataframe'>\n",
       "<thead>\n",
       "<tr><th>mark   </th><th>model     </th><th>generation_name       </th><th style=\"text-align: right;\">  year</th><th style=\"text-align: right;\">  mileage</th><th style=\"text-align: right;\">  vol_engine</th><th>fuel    </th><th>city       </th><th>province          </th><th style=\"text-align: right;\">  price</th></tr>\n",
       "</thead>\n",
       "<tbody>\n",
       "<tr><td>opel   </td><td>insignia  </td><td>gen-a-2008-2017       </td><td style=\"text-align: right;\">  2009</td><td style=\"text-align: right;\">   106125</td><td style=\"text-align: right;\">        1796</td><td>Gasoline</td><td>Częstochowa</td><td>Śląskie           </td><td style=\"text-align: right;\">  25000</td></tr>\n",
       "<tr><td>skoda  </td><td>fabia     </td><td>gen-ii-2007           </td><td style=\"text-align: right;\">  2010</td><td style=\"text-align: right;\">   207000</td><td style=\"text-align: right;\">        1200</td><td>Gasoline</td><td>Bydgoszcz  </td><td>Kujawsko-pomorskie</td><td style=\"text-align: right;\">  11900</td></tr>\n",
       "<tr><td>opel   </td><td>insignia  </td><td>gen-a-2008-2017       </td><td style=\"text-align: right;\">  2013</td><td style=\"text-align: right;\">   195000</td><td style=\"text-align: right;\">        1956</td><td>Diesel  </td><td>Ruda Śląska</td><td>Śląskie           </td><td style=\"text-align: right;\">  24598</td></tr>\n",
       "<tr><td>audi   </td><td>a4        </td><td>gen-b8-2007-2015      </td><td style=\"text-align: right;\">  2012</td><td style=\"text-align: right;\">   280000</td><td style=\"text-align: right;\">        1968</td><td>Diesel  </td><td>Białystok  </td><td>Podlaskie         </td><td style=\"text-align: right;\">  41900</td></tr>\n",
       "<tr><td>citroen</td><td>c4-picasso</td><td>gen-ii-2013-c4-picasso</td><td style=\"text-align: right;\">  2014</td><td style=\"text-align: right;\">   122200</td><td style=\"text-align: right;\">        1560</td><td>Diesel  </td><td>Dziemionna </td><td>Kujawsko-pomorskie</td><td style=\"text-align: right;\">  39500</td></tr>\n",
       "</tbody>\n",
       "</table><pre style='font-size: smaller; margin-bottom: 1em;'>[5 rows x 10 columns]</pre>"
      ],
      "text/plain": [
       "mark     model       generation_name           year    mileage    vol_engine  fuel      city         province              price\n",
       "-------  ----------  ----------------------  ------  ---------  ------------  --------  -----------  ------------------  -------\n",
       "opel     insignia    gen-a-2008-2017           2009     106125          1796  Gasoline  Częstochowa  Śląskie               25000\n",
       "skoda    fabia       gen-ii-2007               2010     207000          1200  Gasoline  Bydgoszcz    Kujawsko-pomorskie    11900\n",
       "opel     insignia    gen-a-2008-2017           2013     195000          1956  Diesel    Ruda Śląska  Śląskie               24598\n",
       "audi     a4          gen-b8-2007-2015          2012     280000          1968  Diesel    Białystok    Podlaskie             41900\n",
       "citroen  c4-picasso  gen-ii-2013-c4-picasso    2014     122200          1560  Diesel    Dziemionna   Kujawsko-pomorskie    39500\n",
       "[5 rows x 10 columns]\n"
      ]
     },
     "execution_count": 17,
     "metadata": {},
     "output_type": "execute_result"
    }
   ],
   "source": [
    "train.head(5)"
   ]
  },
  {
   "cell_type": "code",
   "execution_count": 19,
   "id": "2301a5ed",
   "metadata": {},
   "outputs": [
    {
     "name": "stdout",
     "output_type": "stream",
     "text": [
      "Train shape: (88445, 10)\n",
      "Test shape: (29482, 10)\n"
     ]
    }
   ],
   "source": [
    "print(\"Train shape:\", train.shape)\n",
    "print(\"Test shape:\", test.shape)"
   ]
  },
  {
   "cell_type": "code",
   "execution_count": 21,
   "id": "7fe2f315",
   "metadata": {},
   "outputs": [
    {
     "data": {
      "text/html": [
       "<pre style='margin: 1em 0 1em 0;'>Rows:88445\n",
       "Cols:10\n",
       "</pre>"
      ],
      "text/plain": [
       "Rows:88445\n",
       "Cols:10\n"
      ]
     },
     "metadata": {},
     "output_type": "display_data"
    },
    {
     "data": {
      "text/html": [
       "<table class='dataframe'>\n",
       "<thead>\n",
       "<tr><th>       </th><th>mark   </th><th>model     </th><th>generation_name       </th><th>year             </th><th>mileage           </th><th>vol_engine        </th><th>fuel    </th><th>city       </th><th>province          </th><th>price            </th></tr>\n",
       "</thead>\n",
       "<tbody>\n",
       "<tr><td>type   </td><td>enum   </td><td>enum      </td><td>enum                  </td><td>int              </td><td>int               </td><td>int               </td><td>enum    </td><td>enum       </td><td>enum              </td><td>int              </td></tr>\n",
       "<tr><td>mins   </td><td>       </td><td>          </td><td>                      </td><td>1964.0           </td><td>0.0               </td><td>0.0               </td><td>        </td><td>           </td><td>                  </td><td>500.0            </td></tr>\n",
       "<tr><td>mean   </td><td>       </td><td>          </td><td>                      </td><td>2012.933427553847</td><td>140832.01954887222</td><td>1812.3419074000788</td><td>        </td><td>           </td><td>                  </td><td>70347.49990389506</td></tr>\n",
       "<tr><td>maxs   </td><td>       </td><td>          </td><td>                      </td><td>2022.0           </td><td>2800000.0         </td><td>7600.0            </td><td>        </td><td>           </td><td>                  </td><td>2399900.0        </td></tr>\n",
       "<tr><td>sigma  </td><td>       </td><td>          </td><td>                      </td><td>5.684015918888904</td><td>92510.79953360026 </td><td>646.7315007474648 </td><td>        </td><td>           </td><td>                  </td><td>85275.90175596683</td></tr>\n",
       "<tr><td>zeros  </td><td>       </td><td>          </td><td>                      </td><td>0                </td><td>283               </td><td>936               </td><td>        </td><td>           </td><td>                  </td><td>0                </td></tr>\n",
       "<tr><td>missing</td><td>0      </td><td>0         </td><td>22551                 </td><td>0                </td><td>0                 </td><td>0                 </td><td>0       </td><td>0          </td><td>0                 </td><td>0                </td></tr>\n",
       "<tr><td>0      </td><td>opel   </td><td>insignia  </td><td>gen-a-2008-2017       </td><td>2009.0           </td><td>106125.0          </td><td>1796.0            </td><td>Gasoline</td><td>Częstochowa</td><td>Śląskie           </td><td>25000.0          </td></tr>\n",
       "<tr><td>1      </td><td>skoda  </td><td>fabia     </td><td>gen-ii-2007           </td><td>2010.0           </td><td>207000.0          </td><td>1200.0            </td><td>Gasoline</td><td>Bydgoszcz  </td><td>Kujawsko-pomorskie</td><td>11900.0          </td></tr>\n",
       "<tr><td>2      </td><td>opel   </td><td>insignia  </td><td>gen-a-2008-2017       </td><td>2013.0           </td><td>195000.0          </td><td>1956.0            </td><td>Diesel  </td><td>Ruda Śląska</td><td>Śląskie           </td><td>24598.0          </td></tr>\n",
       "<tr><td>3      </td><td>audi   </td><td>a4        </td><td>gen-b8-2007-2015      </td><td>2012.0           </td><td>280000.0          </td><td>1968.0            </td><td>Diesel  </td><td>Białystok  </td><td>Podlaskie         </td><td>41900.0          </td></tr>\n",
       "<tr><td>4      </td><td>citroen</td><td>c4-picasso</td><td>gen-ii-2013-c4-picasso</td><td>2014.0           </td><td>122200.0          </td><td>1560.0            </td><td>Diesel  </td><td>Dziemionna </td><td>Kujawsko-pomorskie</td><td>39500.0          </td></tr>\n",
       "<tr><td>5      </td><td>bmw    </td><td>m3        </td><td>                      </td><td>2018.0           </td><td>44000.0           </td><td>2979.0            </td><td>Gasoline</td><td>Kraków     </td><td>Małopolskie       </td><td>299900.0         </td></tr>\n",
       "<tr><td>6      </td><td>skoda  </td><td>superb    </td><td>gen-iii-2015          </td><td>2016.0           </td><td>115456.0          </td><td>1968.0            </td><td>Diesel  </td><td>Chorzów    </td><td>Śląskie           </td><td>75900.0          </td></tr>\n",
       "<tr><td>7      </td><td>audi   </td><td>a4        </td><td>gen-b9-2015           </td><td>2017.0           </td><td>84000.0           </td><td>1968.0            </td><td>Diesel  </td><td>Tarczyn    </td><td>Mazowieckie       </td><td>112500.0         </td></tr>\n",
       "<tr><td>8      </td><td>opel   </td><td>astra     </td><td>gen-j-2009-2015       </td><td>2010.0           </td><td>75000.0           </td><td>1598.0            </td><td>Gasoline</td><td>Truskolasy </td><td>Śląskie           </td><td>33333.0          </td></tr>\n",
       "<tr><td>9      </td><td>ford   </td><td>focus     </td><td>gen-mk3-2010          </td><td>2013.0           </td><td>199997.0          </td><td>1560.0            </td><td>Diesel  </td><td>Gdynia     </td><td>Pomorskie         </td><td>29900.0          </td></tr>\n",
       "</tbody>\n",
       "</table><pre style='font-size: smaller; margin-bottom: 1em;'>[88445 rows x 10 columns]</pre>"
      ],
      "text/plain": [
       "         mark     model       generation_name         year               mileage             vol_engine          fuel      city         province            price\n",
       "-------  -------  ----------  ----------------------  -----------------  ------------------  ------------------  --------  -----------  ------------------  -----------------\n",
       "type     enum     enum        enum                    int                int                 int                 enum      enum         enum                int\n",
       "mins                                                  1964.0             0.0                 0.0                                                            500.0\n",
       "mean                                                  2012.933427553847  140832.01954887222  1812.3419074000788                                             70347.49990389506\n",
       "maxs                                                  2022.0             2800000.0           7600.0                                                         2399900.0\n",
       "sigma                                                 5.684015918888904  92510.79953360026   646.7315007474648                                              85275.90175596683\n",
       "zeros                                                 0                  283                 936                                                            0\n",
       "missing  0        0           22551                   0                  0                   0                   0         0            0                   0\n",
       "0        opel     insignia    gen-a-2008-2017         2009.0             106125.0            1796.0              Gasoline  Częstochowa  Śląskie             25000.0\n",
       "1        skoda    fabia       gen-ii-2007             2010.0             207000.0            1200.0              Gasoline  Bydgoszcz    Kujawsko-pomorskie  11900.0\n",
       "2        opel     insignia    gen-a-2008-2017         2013.0             195000.0            1956.0              Diesel    Ruda Śląska  Śląskie             24598.0\n",
       "3        audi     a4          gen-b8-2007-2015        2012.0             280000.0            1968.0              Diesel    Białystok    Podlaskie           41900.0\n",
       "4        citroen  c4-picasso  gen-ii-2013-c4-picasso  2014.0             122200.0            1560.0              Diesel    Dziemionna   Kujawsko-pomorskie  39500.0\n",
       "5        bmw      m3                                  2018.0             44000.0             2979.0              Gasoline  Kraków       Małopolskie         299900.0\n",
       "6        skoda    superb      gen-iii-2015            2016.0             115456.0            1968.0              Diesel    Chorzów      Śląskie             75900.0\n",
       "7        audi     a4          gen-b9-2015             2017.0             84000.0             1968.0              Diesel    Tarczyn      Mazowieckie         112500.0\n",
       "8        opel     astra       gen-j-2009-2015         2010.0             75000.0             1598.0              Gasoline  Truskolasy   Śląskie             33333.0\n",
       "9        ford     focus       gen-mk3-2010            2013.0             199997.0            1560.0              Diesel    Gdynia       Pomorskie           29900.0\n",
       "[88445 rows x 10 columns]\n"
      ]
     },
     "metadata": {},
     "output_type": "display_data"
    }
   ],
   "source": [
    "train.describe()"
   ]
  },
  {
   "cell_type": "code",
   "execution_count": 23,
   "id": "f76a7e08",
   "metadata": {},
   "outputs": [],
   "source": [
    "from h2o.estimators import H2OGradientBoostingEstimator"
   ]
  },
  {
   "cell_type": "markdown",
   "id": "bd38736a",
   "metadata": {},
   "source": [
    "## Question 1\n",
    "\n",
    "Train H2O `H2OGradientBoostingEstimator` with parameters:\n",
    "```\n",
    "nfolds=5,\n",
    "ntrees=500,\n",
    "stopping_rounds=5,\n",
    "stopping_metric='MAE',\n",
    "seed=1234,\n",
    "keep_cross_validation_predictions = False\n",
    "```\n",
    "Display model performance on `test` dataset using `model_performance` function."
   ]
  },
  {
   "cell_type": "code",
   "execution_count": 25,
   "id": "931bec64",
   "metadata": {},
   "outputs": [
    {
     "name": "stdout",
     "output_type": "stream",
     "text": [
      "gbm Model Build progress: |██████████████████████████████████████████████████████| (done) 100%\n"
     ]
    },
    {
     "data": {
      "text/html": [
       "<pre style='margin: 1em 0 1em 0;'>Model Details\n",
       "=============\n",
       "H2OGradientBoostingEstimator : Gradient Boosting Machine\n",
       "Model Key: GBM_model_python_1711996825619_684\n",
       "</pre>\n",
       "<div style='margin: 1em 0 1em 0;'>\n",
       "<style>\n",
       "\n",
       "#h2o-table-2.h2o-container {\n",
       "  overflow-x: auto;\n",
       "}\n",
       "#h2o-table-2 .h2o-table {\n",
       "  /* width: 100%; */\n",
       "  margin-top: 1em;\n",
       "  margin-bottom: 1em;\n",
       "}\n",
       "#h2o-table-2 .h2o-table caption {\n",
       "  white-space: nowrap;\n",
       "  caption-side: top;\n",
       "  text-align: left;\n",
       "  /* margin-left: 1em; */\n",
       "  margin: 0;\n",
       "  font-size: larger;\n",
       "}\n",
       "#h2o-table-2 .h2o-table thead {\n",
       "  white-space: nowrap; \n",
       "  position: sticky;\n",
       "  top: 0;\n",
       "  box-shadow: 0 -1px inset;\n",
       "}\n",
       "#h2o-table-2 .h2o-table tbody {\n",
       "  overflow: auto;\n",
       "}\n",
       "#h2o-table-2 .h2o-table th,\n",
       "#h2o-table-2 .h2o-table td {\n",
       "  text-align: right;\n",
       "  /* border: 1px solid; */\n",
       "}\n",
       "#h2o-table-2 .h2o-table tr:nth-child(even) {\n",
       "  /* background: #F5F5F5 */\n",
       "}\n",
       "\n",
       "</style>      \n",
       "<div id=\"h2o-table-2\" class=\"h2o-container\">\n",
       "  <table class=\"h2o-table\">\n",
       "    <caption>Model Summary: </caption>\n",
       "    <thead><tr><th></th>\n",
       "<th>number_of_trees</th>\n",
       "<th>number_of_internal_trees</th>\n",
       "<th>model_size_in_bytes</th>\n",
       "<th>min_depth</th>\n",
       "<th>max_depth</th>\n",
       "<th>mean_depth</th>\n",
       "<th>min_leaves</th>\n",
       "<th>max_leaves</th>\n",
       "<th>mean_leaves</th></tr></thead>\n",
       "    <tbody><tr><td></td>\n",
       "<td>291.0</td>\n",
       "<td>291.0</td>\n",
       "<td>213399.0</td>\n",
       "<td>5.0</td>\n",
       "<td>5.0</td>\n",
       "<td>5.0</td>\n",
       "<td>9.0</td>\n",
       "<td>32.0</td>\n",
       "<td>20.573883</td></tr></tbody>\n",
       "  </table>\n",
       "</div>\n",
       "</div>\n",
       "<div style='margin: 1em 0 1em 0;'><pre style='margin: 1em 0 1em 0;'>ModelMetricsRegression: gbm\n",
       "** Reported on train data. **\n",
       "\n",
       "MSE: 245839852.2090661\n",
       "RMSE: 15679.280985079198\n",
       "MAE: 7458.992308666638\n",
       "RMSLE: 0.18200564841317668\n",
       "Mean Residual Deviance: 245839852.2090661</pre></div>\n",
       "<div style='margin: 1em 0 1em 0;'><pre style='margin: 1em 0 1em 0;'>ModelMetricsRegression: gbm\n",
       "** Reported on cross-validation data. **\n",
       "\n",
       "MSE: 425873510.2163639\n",
       "RMSE: 20636.702988034787\n",
       "MAE: 8594.433046475779\n",
       "RMSLE: NaN\n",
       "Mean Residual Deviance: 425873510.2163639</pre></div>\n",
       "<div style='margin: 1em 0 1em 0;'>\n",
       "<style>\n",
       "\n",
       "#h2o-table-3.h2o-container {\n",
       "  overflow-x: auto;\n",
       "}\n",
       "#h2o-table-3 .h2o-table {\n",
       "  /* width: 100%; */\n",
       "  margin-top: 1em;\n",
       "  margin-bottom: 1em;\n",
       "}\n",
       "#h2o-table-3 .h2o-table caption {\n",
       "  white-space: nowrap;\n",
       "  caption-side: top;\n",
       "  text-align: left;\n",
       "  /* margin-left: 1em; */\n",
       "  margin: 0;\n",
       "  font-size: larger;\n",
       "}\n",
       "#h2o-table-3 .h2o-table thead {\n",
       "  white-space: nowrap; \n",
       "  position: sticky;\n",
       "  top: 0;\n",
       "  box-shadow: 0 -1px inset;\n",
       "}\n",
       "#h2o-table-3 .h2o-table tbody {\n",
       "  overflow: auto;\n",
       "}\n",
       "#h2o-table-3 .h2o-table th,\n",
       "#h2o-table-3 .h2o-table td {\n",
       "  text-align: right;\n",
       "  /* border: 1px solid; */\n",
       "}\n",
       "#h2o-table-3 .h2o-table tr:nth-child(even) {\n",
       "  /* background: #F5F5F5 */\n",
       "}\n",
       "\n",
       "</style>      \n",
       "<div id=\"h2o-table-3\" class=\"h2o-container\">\n",
       "  <table class=\"h2o-table\">\n",
       "    <caption>Cross-Validation Metrics Summary: </caption>\n",
       "    <thead><tr><th></th>\n",
       "<th>mean</th>\n",
       "<th>sd</th>\n",
       "<th>cv_1_valid</th>\n",
       "<th>cv_2_valid</th>\n",
       "<th>cv_3_valid</th>\n",
       "<th>cv_4_valid</th>\n",
       "<th>cv_5_valid</th></tr></thead>\n",
       "    <tbody><tr><td>mae</td>\n",
       "<td>8594.149</td>\n",
       "<td>214.98857</td>\n",
       "<td>8427.125</td>\n",
       "<td>8390.564</td>\n",
       "<td>8932.547</td>\n",
       "<td>8594.365</td>\n",
       "<td>8626.144</td></tr>\n",
       "<tr><td>mean_residual_deviance</td>\n",
       "<td>425985408.0000000</td>\n",
       "<td>62814844.0000000</td>\n",
       "<td>481668800.0000000</td>\n",
       "<td>386456096.0000000</td>\n",
       "<td>345252544.0000000</td>\n",
       "<td>422802144.0000000</td>\n",
       "<td>493747392.0000000</td></tr>\n",
       "<tr><td>mse</td>\n",
       "<td>425985408.0000000</td>\n",
       "<td>62814844.0000000</td>\n",
       "<td>481668800.0000000</td>\n",
       "<td>386456096.0000000</td>\n",
       "<td>345252544.0000000</td>\n",
       "<td>422802144.0000000</td>\n",
       "<td>493747392.0000000</td></tr>\n",
       "<tr><td>r2</td>\n",
       "<td>0.9415261</td>\n",
       "<td>0.0076173</td>\n",
       "<td>0.9342327</td>\n",
       "<td>0.9470950</td>\n",
       "<td>0.9510058</td>\n",
       "<td>0.941387</td>\n",
       "<td>0.9339099</td></tr>\n",
       "<tr><td>residual_deviance</td>\n",
       "<td>425985408.0000000</td>\n",
       "<td>62814844.0000000</td>\n",
       "<td>481668800.0000000</td>\n",
       "<td>386456096.0000000</td>\n",
       "<td>345252544.0000000</td>\n",
       "<td>422802144.0000000</td>\n",
       "<td>493747392.0000000</td></tr>\n",
       "<tr><td>rmse</td>\n",
       "<td>20593.799</td>\n",
       "<td>1533.3157</td>\n",
       "<td>21946.955</td>\n",
       "<td>19658.486</td>\n",
       "<td>18580.973</td>\n",
       "<td>20562.152</td>\n",
       "<td>22220.428</td></tr>\n",
       "<tr><td>rmsle</td>\n",
       "<td>0.2069460</td>\n",
       "<td>0.0027209</td>\n",
       "<td>nan</td>\n",
       "<td>nan</td>\n",
       "<td>0.2088700</td>\n",
       "<td>0.2050220</td>\n",
       "<td>nan</td></tr></tbody>\n",
       "  </table>\n",
       "</div>\n",
       "</div>\n",
       "<div style='margin: 1em 0 1em 0;'>\n",
       "<style>\n",
       "\n",
       "#h2o-table-4.h2o-container {\n",
       "  overflow-x: auto;\n",
       "}\n",
       "#h2o-table-4 .h2o-table {\n",
       "  /* width: 100%; */\n",
       "  margin-top: 1em;\n",
       "  margin-bottom: 1em;\n",
       "}\n",
       "#h2o-table-4 .h2o-table caption {\n",
       "  white-space: nowrap;\n",
       "  caption-side: top;\n",
       "  text-align: left;\n",
       "  /* margin-left: 1em; */\n",
       "  margin: 0;\n",
       "  font-size: larger;\n",
       "}\n",
       "#h2o-table-4 .h2o-table thead {\n",
       "  white-space: nowrap; \n",
       "  position: sticky;\n",
       "  top: 0;\n",
       "  box-shadow: 0 -1px inset;\n",
       "}\n",
       "#h2o-table-4 .h2o-table tbody {\n",
       "  overflow: auto;\n",
       "}\n",
       "#h2o-table-4 .h2o-table th,\n",
       "#h2o-table-4 .h2o-table td {\n",
       "  text-align: right;\n",
       "  /* border: 1px solid; */\n",
       "}\n",
       "#h2o-table-4 .h2o-table tr:nth-child(even) {\n",
       "  /* background: #F5F5F5 */\n",
       "}\n",
       "\n",
       "</style>      \n",
       "<div id=\"h2o-table-4\" class=\"h2o-container\">\n",
       "  <table class=\"h2o-table\">\n",
       "    <caption>Scoring History: </caption>\n",
       "    <thead><tr><th></th>\n",
       "<th>timestamp</th>\n",
       "<th>duration</th>\n",
       "<th>number_of_trees</th>\n",
       "<th>training_rmse</th>\n",
       "<th>training_mae</th>\n",
       "<th>training_deviance</th></tr></thead>\n",
       "    <tbody><tr><td></td>\n",
       "<td>2024-04-10 16:37:30</td>\n",
       "<td>28.187 sec</td>\n",
       "<td>0.0</td>\n",
       "<td>85275.4196702</td>\n",
       "<td>54099.7072438</td>\n",
       "<td>7271897199.9369326</td></tr>\n",
       "<tr><td></td>\n",
       "<td>2024-04-10 16:37:30</td>\n",
       "<td>28.216 sec</td>\n",
       "<td>1.0</td>\n",
       "<td>77852.9636570</td>\n",
       "<td>49180.8993496</td>\n",
       "<td>6061083950.1713848</td></tr>\n",
       "<tr><td></td>\n",
       "<td>2024-04-10 16:37:30</td>\n",
       "<td>28.237 sec</td>\n",
       "<td>2.0</td>\n",
       "<td>71173.1197096</td>\n",
       "<td>44686.0659488</td>\n",
       "<td>5065612969.1915655</td></tr>\n",
       "<tr><td></td>\n",
       "<td>2024-04-10 16:37:30</td>\n",
       "<td>28.253 sec</td>\n",
       "<td>3.0</td>\n",
       "<td>65253.6957883</td>\n",
       "<td>40686.6966482</td>\n",
       "<td>4258044814.0289798</td></tr>\n",
       "<tr><td></td>\n",
       "<td>2024-04-10 16:37:30</td>\n",
       "<td>28.278 sec</td>\n",
       "<td>4.0</td>\n",
       "<td>59960.0045383</td>\n",
       "<td>37133.1358699</td>\n",
       "<td>3595202144.2319660</td></tr>\n",
       "<tr><td></td>\n",
       "<td>2024-04-10 16:37:30</td>\n",
       "<td>28.298 sec</td>\n",
       "<td>5.0</td>\n",
       "<td>55219.8605563</td>\n",
       "<td>33875.5907242</td>\n",
       "<td>3049232999.8625283</td></tr>\n",
       "<tr><td></td>\n",
       "<td>2024-04-10 16:37:30</td>\n",
       "<td>28.313 sec</td>\n",
       "<td>6.0</td>\n",
       "<td>51001.2428870</td>\n",
       "<td>30953.8041772</td>\n",
       "<td>2601126776.0138454</td></tr>\n",
       "<tr><td></td>\n",
       "<td>2024-04-10 16:37:30</td>\n",
       "<td>28.328 sec</td>\n",
       "<td>7.0</td>\n",
       "<td>47269.4620750</td>\n",
       "<td>28364.8182212</td>\n",
       "<td>2234402044.8563743</td></tr>\n",
       "<tr><td></td>\n",
       "<td>2024-04-10 16:37:30</td>\n",
       "<td>28.353 sec</td>\n",
       "<td>8.0</td>\n",
       "<td>43973.9225454</td>\n",
       "<td>26078.8049544</td>\n",
       "<td>1933705864.0294480</td></tr>\n",
       "<tr><td></td>\n",
       "<td>2024-04-10 16:37:30</td>\n",
       "<td>28.378 sec</td>\n",
       "<td>9.0</td>\n",
       "<td>40966.1773354</td>\n",
       "<td>24047.7672132</td>\n",
       "<td>1678227685.4733818</td></tr>\n",
       "<tr><td>---</td>\n",
       "<td>---</td>\n",
       "<td>---</td>\n",
       "<td>---</td>\n",
       "<td>---</td>\n",
       "<td>---</td>\n",
       "<td>---</td></tr>\n",
       "<tr><td></td>\n",
       "<td>2024-04-10 16:37:33</td>\n",
       "<td>32.013 sec</td>\n",
       "<td>231.0</td>\n",
       "<td>16347.4853676</td>\n",
       "<td>7695.7178031</td>\n",
       "<td>267240277.8446636</td></tr>\n",
       "<tr><td></td>\n",
       "<td>2024-04-10 16:37:33</td>\n",
       "<td>32.028 sec</td>\n",
       "<td>232.0</td>\n",
       "<td>16336.5943094</td>\n",
       "<td>7690.3370265</td>\n",
       "<td>266884313.6309994</td></tr>\n",
       "<tr><td></td>\n",
       "<td>2024-04-10 16:37:33</td>\n",
       "<td>32.059 sec</td>\n",
       "<td>233.0</td>\n",
       "<td>16329.1823562</td>\n",
       "<td>7688.9115801</td>\n",
       "<td>266642196.4217417</td></tr>\n",
       "<tr><td></td>\n",
       "<td>2024-04-10 16:37:33</td>\n",
       "<td>32.074 sec</td>\n",
       "<td>234.0</td>\n",
       "<td>16320.5825482</td>\n",
       "<td>7685.2488075</td>\n",
       "<td>266361414.7135135</td></tr>\n",
       "<tr><td></td>\n",
       "<td>2024-04-10 16:37:33</td>\n",
       "<td>32.089 sec</td>\n",
       "<td>235.0</td>\n",
       "<td>16308.2478170</td>\n",
       "<td>7680.1617795</td>\n",
       "<td>265958946.8611493</td></tr>\n",
       "<tr><td></td>\n",
       "<td>2024-04-10 16:37:33</td>\n",
       "<td>32.120 sec</td>\n",
       "<td>236.0</td>\n",
       "<td>16298.0013535</td>\n",
       "<td>7673.6277022</td>\n",
       "<td>265624848.1190599</td></tr>\n",
       "<tr><td></td>\n",
       "<td>2024-04-10 16:37:33</td>\n",
       "<td>32.142 sec</td>\n",
       "<td>237.0</td>\n",
       "<td>16273.8125704</td>\n",
       "<td>7665.9414267</td>\n",
       "<td>264836975.5757914</td></tr>\n",
       "<tr><td></td>\n",
       "<td>2024-04-10 16:37:33</td>\n",
       "<td>32.161 sec</td>\n",
       "<td>238.0</td>\n",
       "<td>16256.7258274</td>\n",
       "<td>7658.5877306</td>\n",
       "<td>264281134.6257454</td></tr>\n",
       "<tr><td></td>\n",
       "<td>2024-04-10 16:37:33</td>\n",
       "<td>32.175 sec</td>\n",
       "<td>239.0</td>\n",
       "<td>16254.8526538</td>\n",
       "<td>7658.3815466</td>\n",
       "<td>264220234.7954368</td></tr>\n",
       "<tr><td></td>\n",
       "<td>2024-04-10 16:37:34</td>\n",
       "<td>32.989 sec</td>\n",
       "<td>291.0</td>\n",
       "<td>15679.2809851</td>\n",
       "<td>7458.9923087</td>\n",
       "<td>245839852.2090661</td></tr></tbody>\n",
       "  </table>\n",
       "</div>\n",
       "<pre style='font-size: smaller; margin-bottom: 1em;'>[241 rows x 7 columns]</pre></div>\n",
       "<div style='margin: 1em 0 1em 0;'>\n",
       "<style>\n",
       "\n",
       "#h2o-table-5.h2o-container {\n",
       "  overflow-x: auto;\n",
       "}\n",
       "#h2o-table-5 .h2o-table {\n",
       "  /* width: 100%; */\n",
       "  margin-top: 1em;\n",
       "  margin-bottom: 1em;\n",
       "}\n",
       "#h2o-table-5 .h2o-table caption {\n",
       "  white-space: nowrap;\n",
       "  caption-side: top;\n",
       "  text-align: left;\n",
       "  /* margin-left: 1em; */\n",
       "  margin: 0;\n",
       "  font-size: larger;\n",
       "}\n",
       "#h2o-table-5 .h2o-table thead {\n",
       "  white-space: nowrap; \n",
       "  position: sticky;\n",
       "  top: 0;\n",
       "  box-shadow: 0 -1px inset;\n",
       "}\n",
       "#h2o-table-5 .h2o-table tbody {\n",
       "  overflow: auto;\n",
       "}\n",
       "#h2o-table-5 .h2o-table th,\n",
       "#h2o-table-5 .h2o-table td {\n",
       "  text-align: right;\n",
       "  /* border: 1px solid; */\n",
       "}\n",
       "#h2o-table-5 .h2o-table tr:nth-child(even) {\n",
       "  /* background: #F5F5F5 */\n",
       "}\n",
       "\n",
       "</style>      \n",
       "<div id=\"h2o-table-5\" class=\"h2o-container\">\n",
       "  <table class=\"h2o-table\">\n",
       "    <caption>Variable Importances: </caption>\n",
       "    <thead><tr><th>variable</th>\n",
       "<th>relative_importance</th>\n",
       "<th>scaled_importance</th>\n",
       "<th>percentage</th></tr></thead>\n",
       "    <tbody><tr><td>model</td>\n",
       "<td>1369746272419840.0000000</td>\n",
       "<td>1.0</td>\n",
       "<td>0.4188054</td></tr>\n",
       "<tr><td>year</td>\n",
       "<td>1353208098193408.0000000</td>\n",
       "<td>0.9879261</td>\n",
       "<td>0.4137488</td></tr>\n",
       "<tr><td>generation_name</td>\n",
       "<td>231775259328512.0000000</td>\n",
       "<td>0.1692104</td>\n",
       "<td>0.0708662</td></tr>\n",
       "<tr><td>vol_engine</td>\n",
       "<td>166860234424320.0000000</td>\n",
       "<td>0.1218184</td>\n",
       "<td>0.0510182</td></tr>\n",
       "<tr><td>mileage</td>\n",
       "<td>116252248899584.0000000</td>\n",
       "<td>0.0848714</td>\n",
       "<td>0.0355446</td></tr>\n",
       "<tr><td>province</td>\n",
       "<td>19724482117632.0000000</td>\n",
       "<td>0.0144001</td>\n",
       "<td>0.0060308</td></tr>\n",
       "<tr><td>fuel</td>\n",
       "<td>8114305761280.0000000</td>\n",
       "<td>0.0059239</td>\n",
       "<td>0.0024810</td></tr>\n",
       "<tr><td>city</td>\n",
       "<td>4754432327680.0000000</td>\n",
       "<td>0.0034710</td>\n",
       "<td>0.0014537</td></tr>\n",
       "<tr><td>mark</td>\n",
       "<td>168048148480.0000000</td>\n",
       "<td>0.0001227</td>\n",
       "<td>0.0000514</td></tr></tbody>\n",
       "  </table>\n",
       "</div>\n",
       "</div><pre style=\"font-size: smaller; margin: 1em 0 0 0;\">\n",
       "\n",
       "[tips]\n",
       "Use `model.explain()` to inspect the model.\n",
       "--\n",
       "Use `h2o.display.toggle_user_tips()` to switch on/off this section.</pre>"
      ],
      "text/plain": [
       "Model Details\n",
       "=============\n",
       "H2OGradientBoostingEstimator : Gradient Boosting Machine\n",
       "Model Key: GBM_model_python_1711996825619_684\n",
       "\n",
       "\n",
       "Model Summary: \n",
       "    number_of_trees    number_of_internal_trees    model_size_in_bytes    min_depth    max_depth    mean_depth    min_leaves    max_leaves    mean_leaves\n",
       "--  -----------------  --------------------------  ---------------------  -----------  -----------  ------------  ------------  ------------  -------------\n",
       "    291                291                         213399                 5            5            5             9             32            20.5739\n",
       "\n",
       "ModelMetricsRegression: gbm\n",
       "** Reported on train data. **\n",
       "\n",
       "MSE: 245839852.2090661\n",
       "RMSE: 15679.280985079198\n",
       "MAE: 7458.992308666638\n",
       "RMSLE: 0.18200564841317668\n",
       "Mean Residual Deviance: 245839852.2090661\n",
       "\n",
       "ModelMetricsRegression: gbm\n",
       "** Reported on cross-validation data. **\n",
       "\n",
       "MSE: 425873510.2163639\n",
       "RMSE: 20636.702988034787\n",
       "MAE: 8594.433046475779\n",
       "RMSLE: NaN\n",
       "Mean Residual Deviance: 425873510.2163639\n",
       "\n",
       "Cross-Validation Metrics Summary: \n",
       "                        mean         sd           cv_1_valid    cv_2_valid    cv_3_valid    cv_4_valid    cv_5_valid\n",
       "----------------------  -----------  -----------  ------------  ------------  ------------  ------------  ------------\n",
       "mae                     8594.15      214.989      8427.12       8390.56       8932.55       8594.36       8626.14\n",
       "mean_residual_deviance  4.25985e+08  6.28148e+07  4.81669e+08   3.86456e+08   3.45253e+08   4.22802e+08   4.93747e+08\n",
       "mse                     4.25985e+08  6.28148e+07  4.81669e+08   3.86456e+08   3.45253e+08   4.22802e+08   4.93747e+08\n",
       "r2                      0.941526     0.00761734   0.934233      0.947095      0.951006      0.941387      0.93391\n",
       "residual_deviance       4.25985e+08  6.28148e+07  4.81669e+08   3.86456e+08   3.45253e+08   4.22802e+08   4.93747e+08\n",
       "rmse                    20593.8      1533.32      21947         19658.5       18581         20562.2       22220.4\n",
       "rmsle                   0.206946     0.00272094   nan           nan           0.20887       0.205022      nan\n",
       "\n",
       "Scoring History: \n",
       "     timestamp            duration    number_of_trees    training_rmse       training_mae        training_deviance\n",
       "---  -------------------  ----------  -----------------  ------------------  ------------------  -------------------\n",
       "     2024-04-10 16:37:30  28.187 sec  0.0                85275.41967024807   54099.707243764606  7271897199.936933\n",
       "     2024-04-10 16:37:30  28.216 sec  1.0                77852.96365695648   49180.89934956929   6061083950.171385\n",
       "     2024-04-10 16:37:30  28.237 sec  2.0                71173.11970956146   44686.06594882413   5065612969.1915655\n",
       "     2024-04-10 16:37:30  28.253 sec  3.0                65253.69578827685   40686.696648164114  4258044814.02898\n",
       "     2024-04-10 16:37:30  28.278 sec  4.0                59960.00453829174   37133.13586988206   3595202144.231966\n",
       "     2024-04-10 16:37:30  28.298 sec  5.0                55219.860556348096  33875.5907242407    3049232999.8625283\n",
       "     2024-04-10 16:37:30  28.313 sec  6.0                51001.24288695174   30953.80417716342   2601126776.0138454\n",
       "     2024-04-10 16:37:30  28.328 sec  7.0                47269.46207496309   28364.818221202087  2234402044.8563743\n",
       "     2024-04-10 16:37:30  28.353 sec  8.0                43973.92254540693   26078.804954394327  1933705864.029448\n",
       "     2024-04-10 16:37:30  28.378 sec  9.0                40966.17733537487   24047.7672132487    1678227685.4733818\n",
       "---  ---                  ---         ---                ---                 ---                 ---\n",
       "     2024-04-10 16:37:33  32.013 sec  231.0              16347.485367623476  7695.717803053818   267240277.84466365\n",
       "     2024-04-10 16:37:33  32.028 sec  232.0              16336.594309433023  7690.337026545714   266884313.63099942\n",
       "     2024-04-10 16:37:33  32.059 sec  233.0              16329.182356191068  7688.911580104031   266642196.42174166\n",
       "     2024-04-10 16:37:33  32.074 sec  234.0              16320.582548227669  7685.248807478493   266361414.71351352\n",
       "     2024-04-10 16:37:33  32.089 sec  235.0              16308.247817014228  7680.161779488072   265958946.8611493\n",
       "     2024-04-10 16:37:33  32.120 sec  236.0              16298.001353511414  7673.6277022015465  265624848.11905986\n",
       "     2024-04-10 16:37:33  32.142 sec  237.0              16273.81257037795   7665.941426718118   264836975.57579136\n",
       "     2024-04-10 16:37:33  32.161 sec  238.0              16256.725827353594  7658.587730598956   264281134.62574536\n",
       "     2024-04-10 16:37:33  32.175 sec  239.0              16254.852653759639  7658.38154658483    264220234.79543677\n",
       "     2024-04-10 16:37:34  32.989 sec  291.0              15679.280985079198  7458.992308666638   245839852.2090661\n",
       "[241 rows x 7 columns]\n",
       "\n",
       "\n",
       "Variable Importances: \n",
       "variable         relative_importance    scaled_importance    percentage\n",
       "---------------  ---------------------  -------------------  ------------\n",
       "model            1.36975e+15            1                    0.418805\n",
       "year             1.35321e+15            0.987926             0.413749\n",
       "generation_name  2.31775e+14            0.16921              0.0708662\n",
       "vol_engine       1.6686e+14             0.121818             0.0510182\n",
       "mileage          1.16252e+14            0.0848714            0.0355446\n",
       "province         1.97245e+13            0.0144001            0.00603084\n",
       "fuel             8.11431e+12            0.00592395           0.00248098\n",
       "city             4.75443e+12            0.00347103           0.00145369\n",
       "mark             1.68048e+11            0.000122686          5.13814e-05\n",
       "\n",
       "[tips]\n",
       "Use `model.explain()` to inspect the model.\n",
       "--\n",
       "Use `h2o.display.toggle_user_tips()` to switch on/off this section."
      ]
     },
     "execution_count": 25,
     "metadata": {},
     "output_type": "execute_result"
    }
   ],
   "source": [
    "model = H2OGradientBoostingEstimator(\n",
    "    nfolds=5,\n",
    "    ntrees=500,\n",
    "    stopping_rounds=5,\n",
    "    stopping_metric='MAE',\n",
    "    seed=1234,\n",
    "    keep_cross_validation_predictions=False\n",
    ")\n",
    "\n",
    "# Assume 'target' is your target variable and the rest are features\n",
    "# Replace 'target' with the actual name of your target column\n",
    "model.train(y='price', training_frame=train)"
   ]
  },
  {
   "cell_type": "code",
   "execution_count": 26,
   "id": "eb4b89d9-a77f-4e50-b0ad-16386c073af2",
   "metadata": {},
   "outputs": [
    {
     "name": "stdout",
     "output_type": "stream",
     "text": [
      "ModelMetricsRegression: gbm\n",
      "** Reported on test data. **\n",
      "\n",
      "MSE: 343539292.18877727\n",
      "RMSE: 18534.812979600774\n",
      "MAE: 8321.909304150824\n",
      "RMSLE: NaN\n",
      "Mean Residual Deviance: 343539292.18877727\n"
     ]
    }
   ],
   "source": [
    "# Evaluate model performance\n",
    "performance = model.model_performance(test_data=test)\n",
    "\n",
    "# Print performance metrics\n",
    "print(performance)"
   ]
  },
  {
   "cell_type": "markdown",
   "id": "1e07fd52",
   "metadata": {},
   "source": [
    "## Question 2\n",
    "\n",
    "Use model from Question 1 to answer Q#2.\n",
    "\n",
    "- Calculate and display permutation feature importance for the model using **test** dataset\n",
    "- What is the most important feature?\n",
    "- Can you tell how feature is impacting (direction) probability? "
   ]
  },
  {
   "cell_type": "code",
   "execution_count": 35,
   "id": "bd130800",
   "metadata": {},
   "outputs": [
    {
     "name": "stderr",
     "output_type": "stream",
     "text": [
      "/opt/anaconda3/lib/python3.9/site-packages/h2o/frame.py:1979: H2ODependencyWarning: converting H2O frame to pandas dataframe using single-thread.  For faster conversion using multi-thread, install datatable (for Python 3.9 or lower), or polars and pyarrow (for Python 3.10 or above).\n",
      "  warnings.warn(\"converting H2O frame to pandas dataframe using single-thread.  For faster conversion using\"\n"
     ]
    },
    {
     "data": {
      "image/png": "[encoded data removed]",
      "text/plain": [
       "<Figure size 1008x720 with 1 Axes>"
      ]
     },
     "metadata": {
      "needs_background": "light"
     },
     "output_type": "display_data"
    },
    {
     "data": {
      "image/png": "[encoded data removed]",
      "text/plain": [
       "<Figure size 1008x720 with 1 Axes>"
      ]
     },
     "metadata": {
      "needs_background": "light"
     },
     "output_type": "display_data"
    },
    {
     "data": {
      "text/html": [
       "\n",
       "<style>\n",
       "\n",
       "#h2o-table-6.h2o-container {\n",
       "  overflow-x: auto;\n",
       "}\n",
       "#h2o-table-6 .h2o-table {\n",
       "  /* width: 100%; */\n",
       "  margin-top: 1em;\n",
       "  margin-bottom: 1em;\n",
       "}\n",
       "#h2o-table-6 .h2o-table caption {\n",
       "  white-space: nowrap;\n",
       "  caption-side: top;\n",
       "  text-align: left;\n",
       "  /* margin-left: 1em; */\n",
       "  margin: 0;\n",
       "  font-size: larger;\n",
       "}\n",
       "#h2o-table-6 .h2o-table thead {\n",
       "  white-space: nowrap; \n",
       "  position: sticky;\n",
       "  top: 0;\n",
       "  box-shadow: 0 -1px inset;\n",
       "}\n",
       "#h2o-table-6 .h2o-table tbody {\n",
       "  overflow: auto;\n",
       "}\n",
       "#h2o-table-6 .h2o-table th,\n",
       "#h2o-table-6 .h2o-table td {\n",
       "  text-align: right;\n",
       "  /* border: 1px solid; */\n",
       "}\n",
       "#h2o-table-6 .h2o-table tr:nth-child(even) {\n",
       "  /* background: #F5F5F5 */\n",
       "}\n",
       "\n",
       "</style>      \n",
       "<div id=\"h2o-table-6\" class=\"h2o-container\">\n",
       "  <table class=\"h2o-table\">\n",
       "    <caption>Variable Importances</caption>\n",
       "    <thead><tr><th>Variable</th>\n",
       "<th>Run 1</th>\n",
       "<th>Run 2</th>\n",
       "<th>Run 3</th>\n",
       "<th>Run 4</th>\n",
       "<th>Run 5</th>\n",
       "<th>Run 6</th>\n",
       "<th>Run 7</th>\n",
       "<th>Run 8</th>\n",
       "<th>Run 9</th>\n",
       "<th>Run 10</th>\n",
       "<th>Run 11</th>\n",
       "<th>Run 12</th>\n",
       "<th>Run 13</th>\n",
       "<th>Run 14</th>\n",
       "<th>Run 15</th></tr></thead>\n",
       "    <tbody><tr><td>year</td>\n",
       "<td>45193.4279285</td>\n",
       "<td>44490.6205482</td>\n",
       "<td>45083.8579232</td>\n",
       "<td>46798.4421729</td>\n",
       "<td>48174.9886892</td>\n",
       "<td>46850.5649743</td>\n",
       "<td>45417.0878836</td>\n",
       "<td>47382.6801104</td>\n",
       "<td>46359.0017928</td>\n",
       "<td>43038.3368374</td>\n",
       "<td>45702.6331016</td>\n",
       "<td>46563.0364462</td>\n",
       "<td>48415.9681728</td>\n",
       "<td>43799.1573279</td>\n",
       "<td>45454.9301090</td></tr>\n",
       "<tr><td>model</td>\n",
       "<td>44194.5200903</td>\n",
       "<td>44909.8029636</td>\n",
       "<td>44514.3920265</td>\n",
       "<td>47682.1802481</td>\n",
       "<td>48720.6593286</td>\n",
       "<td>47360.1074312</td>\n",
       "<td>44294.9148431</td>\n",
       "<td>48857.0028882</td>\n",
       "<td>47539.9529275</td>\n",
       "<td>43068.0694000</td>\n",
       "<td>44587.3802681</td>\n",
       "<td>45035.5669636</td>\n",
       "<td>47055.1053999</td>\n",
       "<td>45428.6059147</td>\n",
       "<td>45217.1586096</td></tr>\n",
       "<tr><td>mileage</td>\n",
       "<td>10171.3074170</td>\n",
       "<td>12197.1883313</td>\n",
       "<td>10370.4572800</td>\n",
       "<td>12369.6836945</td>\n",
       "<td>13490.7314120</td>\n",
       "<td>13509.2737155</td>\n",
       "<td>11591.2087957</td>\n",
       "<td>12461.8179353</td>\n",
       "<td>12136.4589664</td>\n",
       "<td>9392.2681177</td>\n",
       "<td>11454.9591452</td>\n",
       "<td>12500.5036124</td>\n",
       "<td>12698.0305625</td>\n",
       "<td>11344.3403699</td>\n",
       "<td>10362.1363872</td></tr>\n",
       "<tr><td>vol_engine</td>\n",
       "<td>8038.2081144</td>\n",
       "<td>10255.3851928</td>\n",
       "<td>9171.6515166</td>\n",
       "<td>10671.9191458</td>\n",
       "<td>10634.5516656</td>\n",
       "<td>11346.9871398</td>\n",
       "<td>9927.5048431</td>\n",
       "<td>10963.1607296</td>\n",
       "<td>10177.1310011</td>\n",
       "<td>9311.2338896</td>\n",
       "<td>9735.7336400</td>\n",
       "<td>10009.5292046</td>\n",
       "<td>11452.7038960</td>\n",
       "<td>10763.4667812</td>\n",
       "<td>9199.2250117</td></tr>\n",
       "<tr><td>generation_name</td>\n",
       "<td>6946.9051873</td>\n",
       "<td>9478.6396956</td>\n",
       "<td>8280.1643110</td>\n",
       "<td>9172.1121677</td>\n",
       "<td>9681.0481832</td>\n",
       "<td>9771.8159406</td>\n",
       "<td>8650.0852837</td>\n",
       "<td>8728.9572982</td>\n",
       "<td>8310.6333694</td>\n",
       "<td>7299.7022324</td>\n",
       "<td>8414.2989343</td>\n",
       "<td>9259.6054556</td>\n",
       "<td>10043.3414337</td>\n",
       "<td>8348.5331424</td>\n",
       "<td>8057.2660040</td></tr>\n",
       "<tr><td>province</td>\n",
       "<td>1312.1667598</td>\n",
       "<td>782.0049252</td>\n",
       "<td>408.1240900</td>\n",
       "<td>906.1251449</td>\n",
       "<td>1320.6721415</td>\n",
       "<td>871.0175591</td>\n",
       "<td>719.7048161</td>\n",
       "<td>1247.3869129</td>\n",
       "<td>661.8084054</td>\n",
       "<td>506.6225914</td>\n",
       "<td>1031.9929226</td>\n",
       "<td>1231.8037599</td>\n",
       "<td>1019.0188892</td>\n",
       "<td>769.9818109</td>\n",
       "<td>834.1500521</td></tr>\n",
       "<tr><td>fuel</td>\n",
       "<td>914.7488403</td>\n",
       "<td>996.4474362</td>\n",
       "<td>1017.0045193</td>\n",
       "<td>965.3276392</td>\n",
       "<td>946.3598583</td>\n",
       "<td>904.9797705</td>\n",
       "<td>1084.4077266</td>\n",
       "<td>964.0611850</td>\n",
       "<td>1005.7748994</td>\n",
       "<td>986.0049820</td>\n",
       "<td>943.5292315</td>\n",
       "<td>905.3013696</td>\n",
       "<td>958.7337863</td>\n",
       "<td>1023.8837817</td>\n",
       "<td>879.2379206</td></tr>\n",
       "<tr><td>city</td>\n",
       "<td>141.8479185</td>\n",
       "<td>257.2086988</td>\n",
       "<td>134.8745592</td>\n",
       "<td>119.9938819</td>\n",
       "<td>154.4321460</td>\n",
       "<td>291.1770220</td>\n",
       "<td>190.7443033</td>\n",
       "<td>110.7434444</td>\n",
       "<td>21.4666748</td>\n",
       "<td>555.3359460</td>\n",
       "<td>113.4582830</td>\n",
       "<td>90.7294532</td>\n",
       "<td>102.5189983</td>\n",
       "<td>177.7003684</td>\n",
       "<td>358.2610270</td></tr>\n",
       "<tr><td>mark</td>\n",
       "<td>3.3642204</td>\n",
       "<td>4.1221333</td>\n",
       "<td>7.3267577</td>\n",
       "<td>0.6028156</td>\n",
       "<td>8.1422564</td>\n",
       "<td>2.5367173</td>\n",
       "<td>1.4306892</td>\n",
       "<td>9.1131981</td>\n",
       "<td>5.8960924</td>\n",
       "<td>1.1467201</td>\n",
       "<td>3.1889111</td>\n",
       "<td>7.1569404</td>\n",
       "<td>6.7387704</td>\n",
       "<td>0.3904178</td>\n",
       "<td>0.8433938</td></tr></tbody>\n",
       "  </table>\n",
       "</div>\n"
      ],
      "text/plain": [
       "Variable Importances\n",
       "Variable         Run 1    Run 2    Run 3    Run 4     Run 5    Run 6    Run 7    Run 8    Run 9    Run 10    Run 11    Run 12    Run 13    Run 14    Run 15\n",
       "---------------  -------  -------  -------  --------  -------  -------  -------  -------  -------  --------  --------  --------  --------  --------  --------\n",
       "year             45193.4  44490.6  45083.9  46798.4   48175    46850.6  45417.1  47382.7  46359    43038.3   45702.6   46563     48416     43799.2   45454.9\n",
       "model            44194.5  44909.8  44514.4  47682.2   48720.7  47360.1  44294.9  48857    47540    43068.1   44587.4   45035.6   47055.1   45428.6   45217.2\n",
       "mileage          10171.3  12197.2  10370.5  12369.7   13490.7  13509.3  11591.2  12461.8  12136.5  9392.27   11455     12500.5   12698     11344.3   10362.1\n",
       "vol_engine       8038.21  10255.4  9171.65  10671.9   10634.6  11347    9927.5   10963.2  10177.1  9311.23   9735.73   10009.5   11452.7   10763.5   9199.23\n",
       "generation_name  6946.91  9478.64  8280.16  9172.11   9681.05  9771.82  8650.09  8728.96  8310.63  7299.7    8414.3    9259.61   10043.3   8348.53   8057.27\n",
       "province         1312.17  782.005  408.124  906.125   1320.67  871.018  719.705  1247.39  661.808  506.623   1031.99   1231.8    1019.02   769.982   834.15\n",
       "fuel             914.749  996.447  1017     965.328   946.36   904.98   1084.41  964.061  1005.77  986.005   943.529   905.301   958.734   1023.88   879.238\n",
       "city             141.848  257.209  134.875  119.994   154.432  291.177  190.744  110.743  21.4667  555.336   113.458   90.7295   102.519   177.7     358.261\n",
       "mark             3.36422  4.12213  7.32676  0.602816  8.14226  2.53672  1.43069  9.1132   5.89609  1.14672   3.18891   7.15694   6.73877   0.390418  0.843394"
      ]
     },
     "execution_count": 35,
     "metadata": {},
     "output_type": "execute_result"
    }
   ],
   "source": [
    "# calculate importance\n",
    "permutation_varimp =model.permutation_importance(test, use_pandas=True)\n",
    "\n",
    "# plot permutation importance (bar plot)\n",
    "model.permutation_importance_plot(test)\n",
    "\n",
    "# plot permutation importance (box plot)\n",
    "model.permutation_importance_plot(test, n_repeats=15)"
   ]
  },
  {
   "cell_type": "markdown",
   "id": "f81badcc-ef40-44b5-a0fa-3216423d0c84",
   "metadata": {},
   "source": [
    "The most important feature, according to the permutation variable importance graph you've provided, is \"year.\" It has the highest importance score among all the features listed in the chart.\n",
    "\n",
    "As for the impact direction or how the \"year\" feature affects the probability, permutation importance on its own doesn't provide that information. Permutation feature importance only tells us that the \"year\" feature is important for predictions, not how it affects them."
   ]
  },
  {
   "cell_type": "markdown",
   "id": "c5ed15c3",
   "metadata": {},
   "source": [
    "## Question 3\n",
    "\n",
    "Calculate absolute error of the price on test dataset. Add absolute error column to the dataset and call it `abs_error`.   \n",
    "\n",
    "Formula: `abs(price-predict_price)`"
   ]
  },
  {
   "cell_type": "code",
   "execution_count": 38,
   "id": "30611196",
   "metadata": {},
   "outputs": [
    {
     "name": "stdout",
     "output_type": "stream",
     "text": [
      "gbm prediction progress: |███████████████████████████████████████████████████████| (done) 100%\n"
     ]
    }
   ],
   "source": [
    "predicted = model.predict(test)\n",
    "\n",
    "# Calculate the absolute errors\n",
    "abs_error = (test['price'] - predicted).abs()\n",
    "\n",
    "# Add the absolute error column to the test dataset\n",
    "test['abs_error'] = abs_error"
   ]
  },
  {
   "cell_type": "code",
   "execution_count": 40,
   "id": "5c38edd3-9021-4d9a-a84a-759f61fddc06",
   "metadata": {},
   "outputs": [
    {
     "data": {
      "text/html": [
       "<table class='dataframe'>\n",
       "<thead>\n",
       "<tr><th>mark      </th><th>model   </th><th>generation_name      </th><th style=\"text-align: right;\">  year</th><th style=\"text-align: right;\">  mileage</th><th style=\"text-align: right;\">  vol_engine</th><th>fuel    </th><th>city       </th><th>province          </th><th style=\"text-align: right;\">  price</th><th style=\"text-align: right;\">  abs_error</th></tr>\n",
       "</thead>\n",
       "<tbody>\n",
       "<tr><td>skoda     </td><td>octavia </td><td>gen-iii-2013         </td><td style=\"text-align: right;\">  2016</td><td style=\"text-align: right;\">    63000</td><td style=\"text-align: right;\">        1598</td><td>Diesel  </td><td>Szamotuły  </td><td>Wielkopolskie     </td><td style=\"text-align: right;\">  49500</td><td style=\"text-align: right;\">    7051.7 </td></tr>\n",
       "<tr><td>ford      </td><td>mustang </td><td>                     </td><td style=\"text-align: right;\">  1967</td><td style=\"text-align: right;\">        1</td><td style=\"text-align: right;\">        6384</td><td>Gasoline</td><td>Łódź       </td><td>Łódzkie           </td><td style=\"text-align: right;\"> 379900</td><td style=\"text-align: right;\">   28894.9 </td></tr>\n",
       "<tr><td>mini      </td><td>cooper  </td><td>                     </td><td style=\"text-align: right;\">  2016</td><td style=\"text-align: right;\">   125600</td><td style=\"text-align: right;\">        1998</td><td>Gasoline</td><td>Poznań     </td><td>Wielkopolskie     </td><td style=\"text-align: right;\">  99800</td><td style=\"text-align: right;\">   26515.4 </td></tr>\n",
       "<tr><td>hyundai   </td><td>santa-fe</td><td>gen-iii-2012-santa-fe</td><td style=\"text-align: right;\">  2014</td><td style=\"text-align: right;\">   270000</td><td style=\"text-align: right;\">        2199</td><td>Diesel  </td><td>Radziejów  </td><td>Kujawsko-pomorskie</td><td style=\"text-align: right;\">  59900</td><td style=\"text-align: right;\">   19742.5 </td></tr>\n",
       "<tr><td>renault   </td><td>clio    </td><td>gen-v-2019           </td><td style=\"text-align: right;\">  2019</td><td style=\"text-align: right;\">    24000</td><td style=\"text-align: right;\">         999</td><td>Gasoline</td><td>Leszno     </td><td>Wielkopolskie     </td><td style=\"text-align: right;\">  56999</td><td style=\"text-align: right;\">    5684.47</td></tr>\n",
       "<tr><td>bmw       </td><td>seria-3 </td><td>gen-e46-1998-2007    </td><td style=\"text-align: right;\">  2003</td><td style=\"text-align: right;\">   248000</td><td style=\"text-align: right;\">        2171</td><td>LPG     </td><td>Świebodzice</td><td>Dolnośląskie      </td><td style=\"text-align: right;\">  13900</td><td style=\"text-align: right;\">    2515.12</td></tr>\n",
       "<tr><td>volkswagen</td><td>tiguan  </td><td>gen-ii-2016-tiguan   </td><td style=\"text-align: right;\">  2018</td><td style=\"text-align: right;\">    26500</td><td style=\"text-align: right;\">        1498</td><td>Gasoline</td><td>Swarzędz   </td><td>Wielkopolskie     </td><td style=\"text-align: right;\"> 117500</td><td style=\"text-align: right;\">    6469.05</td></tr>\n",
       "<tr><td>ford      </td><td>mustang </td><td>                     </td><td style=\"text-align: right;\">  1966</td><td style=\"text-align: right;\">    47522</td><td style=\"text-align: right;\">        4700</td><td>Gasoline</td><td>Repki      </td><td>Mazowieckie       </td><td style=\"text-align: right;\">  59900</td><td style=\"text-align: right;\">   60539.3 </td></tr>\n",
       "<tr><td>fiat      </td><td>500     </td><td>                     </td><td style=\"text-align: right;\">  2021</td><td style=\"text-align: right;\">        7</td><td style=\"text-align: right;\">           0</td><td>Electric</td><td>Warszawa   </td><td>Mazowieckie       </td><td style=\"text-align: right;\"> 160000</td><td style=\"text-align: right;\">   20906.9 </td></tr>\n",
       "<tr><td>volkswagen</td><td>caddy   </td><td>gen-iv-2015          </td><td style=\"text-align: right;\">  2021</td><td style=\"text-align: right;\">       10</td><td style=\"text-align: right;\">        1968</td><td>Diesel  </td><td>Łódź       </td><td>Łódzkie           </td><td style=\"text-align: right;\"> 140046</td><td style=\"text-align: right;\">    9094.01</td></tr>\n",
       "</tbody>\n",
       "</table><pre style='font-size: smaller; margin-bottom: 1em;'>[29482 rows x 11 columns]</pre>"
      ],
      "text/plain": [
       "mark        model     generation_name          year    mileage    vol_engine  fuel      city         province              price    abs_error\n",
       "----------  --------  ---------------------  ------  ---------  ------------  --------  -----------  ------------------  -------  -----------\n",
       "skoda       octavia   gen-iii-2013             2016      63000          1598  Diesel    Szamotuły    Wielkopolskie         49500      7051.7\n",
       "ford        mustang                            1967          1          6384  Gasoline  Łódź         Łódzkie              379900     28894.9\n",
       "mini        cooper                             2016     125600          1998  Gasoline  Poznań       Wielkopolskie         99800     26515.4\n",
       "hyundai     santa-fe  gen-iii-2012-santa-fe    2014     270000          2199  Diesel    Radziejów    Kujawsko-pomorskie    59900     19742.5\n",
       "renault     clio      gen-v-2019               2019      24000           999  Gasoline  Leszno       Wielkopolskie         56999      5684.47\n",
       "bmw         seria-3   gen-e46-1998-2007        2003     248000          2171  LPG       Świebodzice  Dolnośląskie          13900      2515.12\n",
       "volkswagen  tiguan    gen-ii-2016-tiguan       2018      26500          1498  Gasoline  Swarzędz     Wielkopolskie        117500      6469.05\n",
       "ford        mustang                            1966      47522          4700  Gasoline  Repki        Mazowieckie           59900     60539.3\n",
       "fiat        500                                2021          7             0  Electric  Warszawa     Mazowieckie          160000     20906.9\n",
       "volkswagen  caddy     gen-iv-2015              2021         10          1968  Diesel    Łódź         Łódzkie              140046      9094.01\n",
       "[29482 rows x 11 columns]\n"
      ]
     },
     "execution_count": 40,
     "metadata": {},
     "output_type": "execute_result"
    }
   ],
   "source": [
    "test"
   ]
  },
  {
   "cell_type": "markdown",
   "id": "c9563b9e",
   "metadata": {},
   "source": [
    "## Question 4\n",
    "\n",
    "Calculate and display summary plot of Shapley values. Use `test` dataset to calculate Shapley values.\n",
    "\n",
    "- What is the most important feature based on Shapley values? \n",
    "- Based on the Summary plot, how features `year` and `mileage` affect model prediction of the car price?  "
   ]
  },
  {
   "cell_type": "code",
   "execution_count": 43,
   "id": "1bfe163d",
   "metadata": {},
   "outputs": [
    {
     "data": {
      "text/html": [
       "<h1>SHAP Summary</h1>"
      ],
      "text/markdown": [
       "\n",
       "\n",
       "# SHAP Summary"
      ],
      "text/plain": [
       "\n",
       "\n",
       "# SHAP Summary"
      ]
     },
     "metadata": {},
     "output_type": "display_data"
    },
    {
     "data": {
      "text/html": [
       "<blockquote>SHAP summary plot shows the contribution of the features for each instance (row of data). The sum of the feature contributions and the bias term is equal to the raw prediction of the model, i.e., prediction before applying inverse link function.</blockquote>"
      ],
      "text/markdown": [
       "\n",
       "> SHAP summary plot shows the contribution of the features for each instance (row of data). The sum of the feature contributions and the bias term is equal to the raw prediction of the model, i.e., prediction before applying inverse link function."
      ],
      "text/plain": [
       "\n",
       "> SHAP summary plot shows the contribution of the features for each instance (row of data). The sum of the feature contributions and the bias term is equal to the raw prediction of the model, i.e., prediction before applying inverse link function."
      ]
     },
     "metadata": {},
     "output_type": "display_data"
    },
    {
     "data": {
      "image/png": "[encoded data removed]",
      "text/plain": [
       "<Figure size 1152x648 with 2 Axes>"
      ]
     },
     "metadata": {
      "needs_background": "light"
     },
     "output_type": "display_data"
    },
    {
     "name": "stdout",
     "output_type": "stream",
     "text": [
      "\n",
      "\n"
     ]
    }
   ],
   "source": [
    "model.explain(test,include_explanations='shap_summary');"
   ]
  },
  {
   "cell_type": "markdown",
   "id": "69682882-2eb5-4d2e-9b1e-9312839d3b2a",
   "metadata": {},
   "source": [
    "The most important feature in the model's prediction of car price is \"year,\" as it has the widest spread of SHAP values and the highest position on the y-axis, which indicates its high level of importance.\n",
    "\n",
    "or the \"year\" feature:\n",
    "\n",
    "Higher SHAP values (right side) are primarily associated with more recent years.\n",
    "Lower SHAP values (left side) are associated with older years.\n",
    "This suggests that newer cars tend to have a higher predicted price, while older cars tend to have a lower predicted price, all else being equal.\n",
    "For the \"mileage\" feature:\n",
    "\n",
    "Higher SHAP values (right side) correspond to lower mileage.\n",
    "Lower SHAP values (left side) correspond to higher mileage.\n",
    "This indicates that cars with lower mileage tend to be valued higher, and cars with higher mileage are predicted to have lower prices."
   ]
  },
  {
   "cell_type": "markdown",
   "id": "008b1191",
   "metadata": {},
   "source": [
    "## Question 5\n",
    "\n",
    "Plot individual Shapley values plots for records top 3 and bottom 3 records based on the residuals, for the total of 6 plots.  \n",
    "\n",
    "Explain each plot in terms of what are most influential features and how they impact model prediction, and why you think model was correct for the top 3 records (smallest residuals) and significantly incorrect for the bottom 3 records (largest residuals).\n"
   ]
  },
  {
   "cell_type": "code",
   "execution_count": 49,
   "id": "94301093",
   "metadata": {},
   "outputs": [
    {
     "data": {
      "text/html": [
       "<h1>SHAP Explanation</h1>"
      ],
      "text/markdown": [
       "\n",
       "\n",
       "# SHAP Explanation"
      ],
      "text/plain": [
       "\n",
       "\n",
       "# SHAP Explanation"
      ]
     },
     "metadata": {},
     "output_type": "display_data"
    },
    {
     "data": {
      "text/html": [
       "<blockquote>SHAP explanation shows contribution of features for a given instance. The sum of the feature contributions and the bias term is equal to the raw prediction of the model, i.e., prediction before applying inverse link function. H2O implements TreeSHAP which when the features are correlated, can increase contribution of a feature that had no influence on the prediction.</blockquote>"
      ],
      "text/markdown": [
       "\n",
       "> SHAP explanation shows contribution of features for a given instance. The sum of the feature contributions and the bias term is equal to the raw prediction of the model, i.e., prediction before applying inverse link function. H2O implements TreeSHAP which when the features are correlated, can increase contribution of a feature that had no influence on the prediction."
      ],
      "text/plain": [
       "\n",
       "> SHAP explanation shows contribution of features for a given instance. The sum of the feature contributions and the bias term is equal to the raw prediction of the model, i.e., prediction before applying inverse link function. H2O implements TreeSHAP which when the features are correlated, can increase contribution of a feature that had no influence on the prediction."
      ]
     },
     "metadata": {},
     "output_type": "display_data"
    },
    {
     "data": {
      "image/png": "[encoded data removed]",
      "text/plain": [
       "<Figure size 1152x648 with 1 Axes>"
      ]
     },
     "metadata": {
      "needs_background": "light"
     },
     "output_type": "display_data"
    },
    {
     "name": "stdout",
     "output_type": "stream",
     "text": [
      "\n",
      "\n"
     ]
    }
   ],
   "source": [
    "model.explain_row(test,row_index=0,include_explanations='shap_explain_row');"
   ]
  },
  {
   "cell_type": "code",
   "execution_count": 50,
   "id": "40d76b49-a022-4b0a-b9aa-b3f07b08f70b",
   "metadata": {},
   "outputs": [
    {
     "data": {
      "text/html": [
       "<h1>SHAP Explanation</h1>"
      ],
      "text/markdown": [
       "\n",
       "\n",
       "# SHAP Explanation"
      ],
      "text/plain": [
       "\n",
       "\n",
       "# SHAP Explanation"
      ]
     },
     "metadata": {},
     "output_type": "display_data"
    },
    {
     "data": {
      "text/html": [
       "<blockquote>SHAP explanation shows contribution of features for a given instance. The sum of the feature contributions and the bias term is equal to the raw prediction of the model, i.e., prediction before applying inverse link function. H2O implements TreeSHAP which when the features are correlated, can increase contribution of a feature that had no influence on the prediction.</blockquote>"
      ],
      "text/markdown": [
       "\n",
       "> SHAP explanation shows contribution of features for a given instance. The sum of the feature contributions and the bias term is equal to the raw prediction of the model, i.e., prediction before applying inverse link function. H2O implements TreeSHAP which when the features are correlated, can increase contribution of a feature that had no influence on the prediction."
      ],
      "text/plain": [
       "\n",
       "> SHAP explanation shows contribution of features for a given instance. The sum of the feature contributions and the bias term is equal to the raw prediction of the model, i.e., prediction before applying inverse link function. H2O implements TreeSHAP which when the features are correlated, can increase contribution of a feature that had no influence on the prediction."
      ]
     },
     "metadata": {},
     "output_type": "display_data"
    },
    {
     "data": {
      "image/png": "[encoded data removed]",
      "text/plain": [
       "<Figure size 1152x648 with 1 Axes>"
      ]
     },
     "metadata": {
      "needs_background": "light"
     },
     "output_type": "display_data"
    },
    {
     "name": "stdout",
     "output_type": "stream",
     "text": [
      "\n",
      "\n"
     ]
    }
   ],
   "source": [
    "model.explain_row(test,row_index=1,include_explanations='shap_explain_row');"
   ]
  },
  {
   "cell_type": "code",
   "execution_count": 51,
   "id": "ce03dd31-e90e-42ec-82a8-838705e2b701",
   "metadata": {},
   "outputs": [
    {
     "data": {
      "text/html": [
       "<h1>SHAP Explanation</h1>"
      ],
      "text/markdown": [
       "\n",
       "\n",
       "# SHAP Explanation"
      ],
      "text/plain": [
       "\n",
       "\n",
       "# SHAP Explanation"
      ]
     },
     "metadata": {},
     "output_type": "display_data"
    },
    {
     "data": {
      "text/html": [
       "<blockquote>SHAP explanation shows contribution of features for a given instance. The sum of the feature contributions and the bias term is equal to the raw prediction of the model, i.e., prediction before applying inverse link function. H2O implements TreeSHAP which when the features are correlated, can increase contribution of a feature that had no influence on the prediction.</blockquote>"
      ],
      "text/markdown": [
       "\n",
       "> SHAP explanation shows contribution of features for a given instance. The sum of the feature contributions and the bias term is equal to the raw prediction of the model, i.e., prediction before applying inverse link function. H2O implements TreeSHAP which when the features are correlated, can increase contribution of a feature that had no influence on the prediction."
      ],
      "text/plain": [
       "\n",
       "> SHAP explanation shows contribution of features for a given instance. The sum of the feature contributions and the bias term is equal to the raw prediction of the model, i.e., prediction before applying inverse link function. H2O implements TreeSHAP which when the features are correlated, can increase contribution of a feature that had no influence on the prediction."
      ]
     },
     "metadata": {},
     "output_type": "display_data"
    },
    {
     "data": {
      "image/png": "[encoded data removed]",
      "text/plain": [
       "<Figure size 1152x648 with 1 Axes>"
      ]
     },
     "metadata": {
      "needs_background": "light"
     },
     "output_type": "display_data"
    },
    {
     "name": "stdout",
     "output_type": "stream",
     "text": [
      "\n",
      "\n"
     ]
    }
   ],
   "source": [
    "model.explain_row(test,row_index=2,include_explanations='shap_explain_row');"
   ]
  },
  {
   "cell_type": "code",
   "execution_count": 63,
   "id": "0de1d312-03ea-4ac7-bc8f-25c0a889daae",
   "metadata": {},
   "outputs": [
    {
     "data": {
      "text/html": [
       "<h1>SHAP Explanation</h1>"
      ],
      "text/markdown": [
       "\n",
       "\n",
       "# SHAP Explanation"
      ],
      "text/plain": [
       "\n",
       "\n",
       "# SHAP Explanation"
      ]
     },
     "metadata": {},
     "output_type": "display_data"
    },
    {
     "data": {
      "text/html": [
       "<blockquote>SHAP explanation shows contribution of features for a given instance. The sum of the feature contributions and the bias term is equal to the raw prediction of the model, i.e., prediction before applying inverse link function. H2O implements TreeSHAP which when the features are correlated, can increase contribution of a feature that had no influence on the prediction.</blockquote>"
      ],
      "text/markdown": [
       "\n",
       "> SHAP explanation shows contribution of features for a given instance. The sum of the feature contributions and the bias term is equal to the raw prediction of the model, i.e., prediction before applying inverse link function. H2O implements TreeSHAP which when the features are correlated, can increase contribution of a feature that had no influence on the prediction."
      ],
      "text/plain": [
       "\n",
       "> SHAP explanation shows contribution of features for a given instance. The sum of the feature contributions and the bias term is equal to the raw prediction of the model, i.e., prediction before applying inverse link function. H2O implements TreeSHAP which when the features are correlated, can increase contribution of a feature that had no influence on the prediction."
      ]
     },
     "metadata": {},
     "output_type": "display_data"
    },
    {
     "data": {
      "image/png": "[encoded data removed]",
      "text/plain": [
       "<Figure size 1152x648 with 1 Axes>"
      ]
     },
     "metadata": {
      "needs_background": "light"
     },
     "output_type": "display_data"
    },
    {
     "name": "stdout",
     "output_type": "stream",
     "text": [
      "\n",
      "\n"
     ]
    }
   ],
   "source": [
    "model.explain_row(test,row_index=test.nrow-2,include_explanations='shap_explain_row');"
   ]
  },
  {
   "cell_type": "code",
   "execution_count": 65,
   "id": "c12c25d6-c7f7-41bd-8fa5-ef3485d99443",
   "metadata": {},
   "outputs": [
    {
     "data": {
      "text/html": [
       "<h1>SHAP Explanation</h1>"
      ],
      "text/markdown": [
       "\n",
       "\n",
       "# SHAP Explanation"
      ],
      "text/plain": [
       "\n",
       "\n",
       "# SHAP Explanation"
      ]
     },
     "metadata": {},
     "output_type": "display_data"
    },
    {
     "data": {
      "text/html": [
       "<blockquote>SHAP explanation shows contribution of features for a given instance. The sum of the feature contributions and the bias term is equal to the raw prediction of the model, i.e., prediction before applying inverse link function. H2O implements TreeSHAP which when the features are correlated, can increase contribution of a feature that had no influence on the prediction.</blockquote>"
      ],
      "text/markdown": [
       "\n",
       "> SHAP explanation shows contribution of features for a given instance. The sum of the feature contributions and the bias term is equal to the raw prediction of the model, i.e., prediction before applying inverse link function. H2O implements TreeSHAP which when the features are correlated, can increase contribution of a feature that had no influence on the prediction."
      ],
      "text/plain": [
       "\n",
       "> SHAP explanation shows contribution of features for a given instance. The sum of the feature contributions and the bias term is equal to the raw prediction of the model, i.e., prediction before applying inverse link function. H2O implements TreeSHAP which when the features are correlated, can increase contribution of a feature that had no influence on the prediction."
      ]
     },
     "metadata": {},
     "output_type": "display_data"
    },
    {
     "data": {
      "image/png": "[encoded data removed]",
      "text/plain": [
       "<Figure size 1152x648 with 1 Axes>"
      ]
     },
     "metadata": {
      "needs_background": "light"
     },
     "output_type": "display_data"
    },
    {
     "name": "stdout",
     "output_type": "stream",
     "text": [
      "\n",
      "\n"
     ]
    }
   ],
   "source": [
    "model.explain_row(test,row_index=test.nrow-1,include_explanations='shap_explain_row');"
   ]
  },
  {
   "cell_type": "code",
   "execution_count": 67,
   "id": "2536bb19-4b48-4298-be69-b85d69ca6ba0",
   "metadata": {},
   "outputs": [
    {
     "data": {
      "text/html": [
       "<h1>SHAP Explanation</h1>"
      ],
      "text/markdown": [
       "\n",
       "\n",
       "# SHAP Explanation"
      ],
      "text/plain": [
       "\n",
       "\n",
       "# SHAP Explanation"
      ]
     },
     "metadata": {},
     "output_type": "display_data"
    },
    {
     "data": {
      "text/html": [
       "<blockquote>SHAP explanation shows contribution of features for a given instance. The sum of the feature contributions and the bias term is equal to the raw prediction of the model, i.e., prediction before applying inverse link function. H2O implements TreeSHAP which when the features are correlated, can increase contribution of a feature that had no influence on the prediction.</blockquote>"
      ],
      "text/markdown": [
       "\n",
       "> SHAP explanation shows contribution of features for a given instance. The sum of the feature contributions and the bias term is equal to the raw prediction of the model, i.e., prediction before applying inverse link function. H2O implements TreeSHAP which when the features are correlated, can increase contribution of a feature that had no influence on the prediction."
      ],
      "text/plain": [
       "\n",
       "> SHAP explanation shows contribution of features for a given instance. The sum of the feature contributions and the bias term is equal to the raw prediction of the model, i.e., prediction before applying inverse link function. H2O implements TreeSHAP which when the features are correlated, can increase contribution of a feature that had no influence on the prediction."
      ]
     },
     "metadata": {},
     "output_type": "display_data"
    },
    {
     "data": {
      "image/png": "[encoded data removed]",
      "text/plain": [
       "<Figure size 1152x648 with 1 Axes>"
      ]
     },
     "metadata": {
      "needs_background": "light"
     },
     "output_type": "display_data"
    },
    {
     "name": "stdout",
     "output_type": "stream",
     "text": [
      "\n",
      "\n"
     ]
    }
   ],
   "source": [
    "model.explain_row(test,row_index=test.nrow,include_explanations='shap_explain_row');"
   ]
  },
  {
   "cell_type": "markdown",
   "id": "ca3213d1-5b72-4d8b-825f-18a2e38eb27b",
   "metadata": {},
   "source": [
    "**Plot 1:**\n",
    "\n",
    "Most influential features: Mileage has the most substantial influence on the model's prediction.\n",
    "Impact on prediction: High mileage is contributing to a decrease in the predicted price.\n",
    "Model accuracy: For this record, which is one of the top three with the smallest residuals, the model's prediction appears accurate, suggesting that the mileage is a critical factor in determining the car price, aligning well with real-world data.\n",
    "\n",
    "**Plot 2:**\n",
    "\n",
    "Most influential features: The volume of the engine is the predominant feature.\n",
    "Impact on prediction: A larger engine size is increasing the predicted price, indicating that the model associates higher engine volume with more value.\n",
    "Model accuracy: Being among the top three, it seems the model's representation of engine size effect is consistent with the actual effect on car pricing.\n",
    "\n",
    "**Plot 3:**\n",
    "\n",
    "Most influential features: The year of the car and the volume of the engine are crucial.\n",
    "Impact on prediction: Newer car years and larger engines have a positive influence on the price prediction.\n",
    "Model accuracy: As this record is one of the top three, the prediction is quite accurate, suggesting the model correctly estimates the impact of recent years and engine size on car prices.\n",
    "\n",
    "**Plot 4:**\n",
    "\n",
    "Most influential features: Year and generation name appear to be significant.\n",
    "Impact on prediction: Both are contributing positively to the price prediction, perhaps overestimating the price.\n",
    "Model accuracy: This plot corresponds to one of the bottom three records with the largest residuals, indicating potential overemphasis on the model's part or other missing factors that influence the car's price.\n",
    "\n",
    "**Plot 5:**\n",
    "\n",
    "Most influential features: Mileage is the standout feature.\n",
    "Impact on prediction: The model predicts a lower price with higher mileage, which might be exaggerated in this case.\n",
    "Model accuracy: Given this is a bottom-three record, the model might be overly penalizing high mileage or missing other value-retaining factors.\n",
    "\n",
    "**Plot 6:**\n",
    "\n",
    "Most influential features: Mileage and engine volume are prominent.\n",
    "Impact on prediction: High mileage significantly lowers the price prediction, whereas a larger engine size increases it.\n",
    "Model accuracy: This plot shows another bottom-three record, suggesting that the model may not capture some nuances, such as the interplay between high mileage and engine volume or other valuable features not included in the model."
   ]
  },
  {
   "cell_type": "markdown",
   "id": "e5993bf0",
   "metadata": {},
   "source": [
    "## Question 6 \n",
    "\n",
    "Train new H2O GBM model on the test dataset trying to predict residuals. This is your surrogate model that you will use to understand what features are driving high residuals.   \n",
    "\n",
    "Use same parameters as in question #1, except:\n",
    "  - predictor is now \"abs_error\"\n",
    "  - dataset now is \"test\" dataset\n",
    "  - make sure not to include original \"price\" column in the model\n",
    "\n",
    "Plot Shapley summary plot for the top 100 records with highest residuals.\n",
    "Answer following question:\n",
    "  - What is the most important feature of the surrogate model that impacts high residuals?"
   ]
  },
  {
   "cell_type": "code",
   "execution_count": 113,
   "id": "4e898e87",
   "metadata": {},
   "outputs": [
    {
     "name": "stdout",
     "output_type": "stream",
     "text": [
      "gbm Model Build progress: |██████████████████████████████████████████████████████| (done) 100%\n"
     ]
    },
    {
     "data": {
      "text/html": [
       "<pre style='margin: 1em 0 1em 0;'>Model Details\n",
       "=============\n",
       "H2OGradientBoostingEstimator : Gradient Boosting Machine\n",
       "Model Key: GBM_model_python_1711996825619_685\n",
       "</pre>\n",
       "<div style='margin: 1em 0 1em 0;'>\n",
       "<style>\n",
       "\n",
       "#h2o-table-7.h2o-container {\n",
       "  overflow-x: auto;\n",
       "}\n",
       "#h2o-table-7 .h2o-table {\n",
       "  /* width: 100%; */\n",
       "  margin-top: 1em;\n",
       "  margin-bottom: 1em;\n",
       "}\n",
       "#h2o-table-7 .h2o-table caption {\n",
       "  white-space: nowrap;\n",
       "  caption-side: top;\n",
       "  text-align: left;\n",
       "  /* margin-left: 1em; */\n",
       "  margin: 0;\n",
       "  font-size: larger;\n",
       "}\n",
       "#h2o-table-7 .h2o-table thead {\n",
       "  white-space: nowrap; \n",
       "  position: sticky;\n",
       "  top: 0;\n",
       "  box-shadow: 0 -1px inset;\n",
       "}\n",
       "#h2o-table-7 .h2o-table tbody {\n",
       "  overflow: auto;\n",
       "}\n",
       "#h2o-table-7 .h2o-table th,\n",
       "#h2o-table-7 .h2o-table td {\n",
       "  text-align: right;\n",
       "  /* border: 1px solid; */\n",
       "}\n",
       "#h2o-table-7 .h2o-table tr:nth-child(even) {\n",
       "  /* background: #F5F5F5 */\n",
       "}\n",
       "\n",
       "</style>      \n",
       "<div id=\"h2o-table-7\" class=\"h2o-container\">\n",
       "  <table class=\"h2o-table\">\n",
       "    <caption>Model Summary: </caption>\n",
       "    <thead><tr><th></th>\n",
       "<th>number_of_trees</th>\n",
       "<th>number_of_internal_trees</th>\n",
       "<th>model_size_in_bytes</th>\n",
       "<th>min_depth</th>\n",
       "<th>max_depth</th>\n",
       "<th>mean_depth</th>\n",
       "<th>min_leaves</th>\n",
       "<th>max_leaves</th>\n",
       "<th>mean_leaves</th></tr></thead>\n",
       "    <tbody><tr><td></td>\n",
       "<td>49.0</td>\n",
       "<td>49.0</td>\n",
       "<td>34701.0</td>\n",
       "<td>5.0</td>\n",
       "<td>5.0</td>\n",
       "<td>5.0</td>\n",
       "<td>8.0</td>\n",
       "<td>31.0</td>\n",
       "<td>19.918367</td></tr></tbody>\n",
       "  </table>\n",
       "</div>\n",
       "</div>\n",
       "<div style='margin: 1em 0 1em 0;'><pre style='margin: 1em 0 1em 0;'>ModelMetricsRegression: gbm\n",
       "** Reported on train data. **\n",
       "\n",
       "MSE: 109764223.20005392\n",
       "RMSE: 10476.842234187452\n",
       "MAE: 4943.227617691289\n",
       "RMSLE: 1.217642232103816\n",
       "Mean Residual Deviance: 109764223.20005392</pre></div>\n",
       "<div style='margin: 1em 0 1em 0;'><pre style='margin: 1em 0 1em 0;'>ModelMetricsRegression: gbm\n",
       "** Reported on cross-validation data. **\n",
       "\n",
       "MSE: 174241595.31206802\n",
       "RMSE: 13200.060428349107\n",
       "MAE: 5461.423549595423\n",
       "RMSLE: NaN\n",
       "Mean Residual Deviance: 174241595.31206802</pre></div>\n",
       "<div style='margin: 1em 0 1em 0;'>\n",
       "<style>\n",
       "\n",
       "#h2o-table-8.h2o-container {\n",
       "  overflow-x: auto;\n",
       "}\n",
       "#h2o-table-8 .h2o-table {\n",
       "  /* width: 100%; */\n",
       "  margin-top: 1em;\n",
       "  margin-bottom: 1em;\n",
       "}\n",
       "#h2o-table-8 .h2o-table caption {\n",
       "  white-space: nowrap;\n",
       "  caption-side: top;\n",
       "  text-align: left;\n",
       "  /* margin-left: 1em; */\n",
       "  margin: 0;\n",
       "  font-size: larger;\n",
       "}\n",
       "#h2o-table-8 .h2o-table thead {\n",
       "  white-space: nowrap; \n",
       "  position: sticky;\n",
       "  top: 0;\n",
       "  box-shadow: 0 -1px inset;\n",
       "}\n",
       "#h2o-table-8 .h2o-table tbody {\n",
       "  overflow: auto;\n",
       "}\n",
       "#h2o-table-8 .h2o-table th,\n",
       "#h2o-table-8 .h2o-table td {\n",
       "  text-align: right;\n",
       "  /* border: 1px solid; */\n",
       "}\n",
       "#h2o-table-8 .h2o-table tr:nth-child(even) {\n",
       "  /* background: #F5F5F5 */\n",
       "}\n",
       "\n",
       "</style>      \n",
       "<div id=\"h2o-table-8\" class=\"h2o-container\">\n",
       "  <table class=\"h2o-table\">\n",
       "    <caption>Cross-Validation Metrics Summary: </caption>\n",
       "    <thead><tr><th></th>\n",
       "<th>mean</th>\n",
       "<th>sd</th>\n",
       "<th>cv_1_valid</th>\n",
       "<th>cv_2_valid</th>\n",
       "<th>cv_3_valid</th>\n",
       "<th>cv_4_valid</th>\n",
       "<th>cv_5_valid</th></tr></thead>\n",
       "    <tbody><tr><td>mae</td>\n",
       "<td>5462.6777</td>\n",
       "<td>81.4431</td>\n",
       "<td>5580.3784</td>\n",
       "<td>5422.2036</td>\n",
       "<td>5423.9707</td>\n",
       "<td>5377.085</td>\n",
       "<td>5509.751</td></tr>\n",
       "<tr><td>mean_residual_deviance</td>\n",
       "<td>174558288.0000000</td>\n",
       "<td>21393242.0000000</td>\n",
       "<td>188194000.0000000</td>\n",
       "<td>163530192.0000000</td>\n",
       "<td>154901584.0000000</td>\n",
       "<td>160818432.0000000</td>\n",
       "<td>205347280.0000000</td></tr>\n",
       "<tr><td>mse</td>\n",
       "<td>174558288.0000000</td>\n",
       "<td>21393242.0000000</td>\n",
       "<td>188194000.0000000</td>\n",
       "<td>163530192.0000000</td>\n",
       "<td>154901584.0000000</td>\n",
       "<td>160818432.0000000</td>\n",
       "<td>205347280.0000000</td></tr>\n",
       "<tr><td>r2</td>\n",
       "<td>0.3653388</td>\n",
       "<td>0.0409742</td>\n",
       "<td>0.3224487</td>\n",
       "<td>0.3948987</td>\n",
       "<td>0.4004402</td>\n",
       "<td>0.3900417</td>\n",
       "<td>0.3188646</td></tr>\n",
       "<tr><td>residual_deviance</td>\n",
       "<td>174558288.0000000</td>\n",
       "<td>21393242.0000000</td>\n",
       "<td>188194000.0000000</td>\n",
       "<td>163530192.0000000</td>\n",
       "<td>154901584.0000000</td>\n",
       "<td>160818432.0000000</td>\n",
       "<td>205347280.0000000</td></tr>\n",
       "<tr><td>rmse</td>\n",
       "<td>13192.717</td>\n",
       "<td>798.8399</td>\n",
       "<td>13718.382</td>\n",
       "<td>12787.893</td>\n",
       "<td>12445.946</td>\n",
       "<td>12681.421</td>\n",
       "<td>14329.943</td></tr>\n",
       "<tr><td>rmsle</td>\n",
       "<td>1.246239</td>\n",
       "<td>0.0075038</td>\n",
       "<td>1.2408437</td>\n",
       "<td>nan</td>\n",
       "<td>1.243065</td>\n",
       "<td>1.2548082</td>\n",
       "<td>nan</td></tr></tbody>\n",
       "  </table>\n",
       "</div>\n",
       "</div>\n",
       "<div style='margin: 1em 0 1em 0;'>\n",
       "<style>\n",
       "\n",
       "#h2o-table-9.h2o-container {\n",
       "  overflow-x: auto;\n",
       "}\n",
       "#h2o-table-9 .h2o-table {\n",
       "  /* width: 100%; */\n",
       "  margin-top: 1em;\n",
       "  margin-bottom: 1em;\n",
       "}\n",
       "#h2o-table-9 .h2o-table caption {\n",
       "  white-space: nowrap;\n",
       "  caption-side: top;\n",
       "  text-align: left;\n",
       "  /* margin-left: 1em; */\n",
       "  margin: 0;\n",
       "  font-size: larger;\n",
       "}\n",
       "#h2o-table-9 .h2o-table thead {\n",
       "  white-space: nowrap; \n",
       "  position: sticky;\n",
       "  top: 0;\n",
       "  box-shadow: 0 -1px inset;\n",
       "}\n",
       "#h2o-table-9 .h2o-table tbody {\n",
       "  overflow: auto;\n",
       "}\n",
       "#h2o-table-9 .h2o-table th,\n",
       "#h2o-table-9 .h2o-table td {\n",
       "  text-align: right;\n",
       "  /* border: 1px solid; */\n",
       "}\n",
       "#h2o-table-9 .h2o-table tr:nth-child(even) {\n",
       "  /* background: #F5F5F5 */\n",
       "}\n",
       "\n",
       "</style>      \n",
       "<div id=\"h2o-table-9\" class=\"h2o-container\">\n",
       "  <table class=\"h2o-table\">\n",
       "    <caption>Scoring History: </caption>\n",
       "    <thead><tr><th></th>\n",
       "<th>timestamp</th>\n",
       "<th>duration</th>\n",
       "<th>number_of_trees</th>\n",
       "<th>training_rmse</th>\n",
       "<th>training_mae</th>\n",
       "<th>training_deviance</th></tr></thead>\n",
       "    <tbody><tr><td></td>\n",
       "<td>2024-04-10 17:19:10</td>\n",
       "<td> 1.859 sec</td>\n",
       "<td>0.0</td>\n",
       "<td>16561.5554513</td>\n",
       "<td>7950.8446594</td>\n",
       "<td>274285118.9673808</td></tr>\n",
       "<tr><td></td>\n",
       "<td>2024-04-10 17:19:10</td>\n",
       "<td> 1.867 sec</td>\n",
       "<td>1.0</td>\n",
       "<td>15873.2917836</td>\n",
       "<td>7533.4571314</td>\n",
       "<td>251961392.0483155</td></tr>\n",
       "<tr><td></td>\n",
       "<td>2024-04-10 17:19:10</td>\n",
       "<td> 1.873 sec</td>\n",
       "<td>2.0</td>\n",
       "<td>15301.7438770</td>\n",
       "<td>7188.6859545</td>\n",
       "<td>234143365.6783933</td></tr>\n",
       "<tr><td></td>\n",
       "<td>2024-04-10 17:19:10</td>\n",
       "<td> 1.879 sec</td>\n",
       "<td>3.0</td>\n",
       "<td>14799.8072997</td>\n",
       "<td>6894.7312634</td>\n",
       "<td>219034296.1094920</td></tr>\n",
       "<tr><td></td>\n",
       "<td>2024-04-10 17:19:10</td>\n",
       "<td> 1.885 sec</td>\n",
       "<td>4.0</td>\n",
       "<td>14369.4291358</td>\n",
       "<td>6650.1893846</td>\n",
       "<td>206480493.6883472</td></tr>\n",
       "<tr><td></td>\n",
       "<td>2024-04-10 17:19:10</td>\n",
       "<td> 1.891 sec</td>\n",
       "<td>5.0</td>\n",
       "<td>13982.3780026</td>\n",
       "<td>6436.5032742</td>\n",
       "<td>195506894.6063002</td></tr>\n",
       "<tr><td></td>\n",
       "<td>2024-04-10 17:19:10</td>\n",
       "<td> 1.896 sec</td>\n",
       "<td>6.0</td>\n",
       "<td>13681.3170042</td>\n",
       "<td>6264.6820234</td>\n",
       "<td>187178434.9687880</td></tr>\n",
       "<tr><td></td>\n",
       "<td>2024-04-10 17:19:10</td>\n",
       "<td> 1.902 sec</td>\n",
       "<td>7.0</td>\n",
       "<td>13408.0684651</td>\n",
       "<td>6113.6485433</td>\n",
       "<td>179776299.9646949</td></tr>\n",
       "<tr><td></td>\n",
       "<td>2024-04-10 17:19:10</td>\n",
       "<td> 1.908 sec</td>\n",
       "<td>8.0</td>\n",
       "<td>13159.8602270</td>\n",
       "<td>5983.6755906</td>\n",
       "<td>173181921.1946610</td></tr>\n",
       "<tr><td></td>\n",
       "<td>2024-04-10 17:19:10</td>\n",
       "<td> 1.914 sec</td>\n",
       "<td>9.0</td>\n",
       "<td>12918.0086353</td>\n",
       "<td>5866.3327833</td>\n",
       "<td>166874947.1028924</td></tr>\n",
       "<tr><td>---</td>\n",
       "<td>---</td>\n",
       "<td>---</td>\n",
       "<td>---</td>\n",
       "<td>---</td>\n",
       "<td>---</td>\n",
       "<td>---</td></tr>\n",
       "<tr><td></td>\n",
       "<td>2024-04-10 17:19:10</td>\n",
       "<td> 2.090 sec</td>\n",
       "<td>40.0</td>\n",
       "<td>10678.3761314</td>\n",
       "<td>4983.6647089</td>\n",
       "<td>114027716.8046001</td></tr>\n",
       "<tr><td></td>\n",
       "<td>2024-04-10 17:19:10</td>\n",
       "<td> 2.096 sec</td>\n",
       "<td>41.0</td>\n",
       "<td>10620.2331955</td>\n",
       "<td>4975.4066480</td>\n",
       "<td>112789353.1274711</td></tr>\n",
       "<tr><td></td>\n",
       "<td>2024-04-10 17:19:10</td>\n",
       "<td> 2.101 sec</td>\n",
       "<td>42.0</td>\n",
       "<td>10611.9920547</td>\n",
       "<td>4973.0444115</td>\n",
       "<td>112614375.3693568</td></tr>\n",
       "<tr><td></td>\n",
       "<td>2024-04-10 17:19:10</td>\n",
       "<td> 2.106 sec</td>\n",
       "<td>43.0</td>\n",
       "<td>10603.3218938</td>\n",
       "<td>4969.7959963</td>\n",
       "<td>112430435.1827058</td></tr>\n",
       "<tr><td></td>\n",
       "<td>2024-04-10 17:19:10</td>\n",
       "<td> 2.111 sec</td>\n",
       "<td>44.0</td>\n",
       "<td>10596.6786443</td>\n",
       "<td>4967.8583922</td>\n",
       "<td>112289598.2911854</td></tr>\n",
       "<tr><td></td>\n",
       "<td>2024-04-10 17:19:10</td>\n",
       "<td> 2.117 sec</td>\n",
       "<td>45.0</td>\n",
       "<td>10571.1784625</td>\n",
       "<td>4960.2998800</td>\n",
       "<td>111749814.0862928</td></tr>\n",
       "<tr><td></td>\n",
       "<td>2024-04-10 17:19:10</td>\n",
       "<td> 2.123 sec</td>\n",
       "<td>46.0</td>\n",
       "<td>10520.9974056</td>\n",
       "<td>4955.0606512</td>\n",
       "<td>110691386.4079339</td></tr>\n",
       "<tr><td></td>\n",
       "<td>2024-04-10 17:19:10</td>\n",
       "<td> 2.128 sec</td>\n",
       "<td>47.0</td>\n",
       "<td>10503.2698325</td>\n",
       "<td>4951.1781167</td>\n",
       "<td>110318677.1733811</td></tr>\n",
       "<tr><td></td>\n",
       "<td>2024-04-10 17:19:10</td>\n",
       "<td> 2.133 sec</td>\n",
       "<td>48.0</td>\n",
       "<td>10494.3995885</td>\n",
       "<td>4947.4033185</td>\n",
       "<td>110132422.7230475</td></tr>\n",
       "<tr><td></td>\n",
       "<td>2024-04-10 17:19:10</td>\n",
       "<td> 2.139 sec</td>\n",
       "<td>49.0</td>\n",
       "<td>10476.8422342</td>\n",
       "<td>4943.2276177</td>\n",
       "<td>109764223.2000539</td></tr></tbody>\n",
       "  </table>\n",
       "</div>\n",
       "<pre style='font-size: smaller; margin-bottom: 1em;'>[50 rows x 7 columns]</pre></div>\n",
       "<div style='margin: 1em 0 1em 0;'>\n",
       "<style>\n",
       "\n",
       "#h2o-table-10.h2o-container {\n",
       "  overflow-x: auto;\n",
       "}\n",
       "#h2o-table-10 .h2o-table {\n",
       "  /* width: 100%; */\n",
       "  margin-top: 1em;\n",
       "  margin-bottom: 1em;\n",
       "}\n",
       "#h2o-table-10 .h2o-table caption {\n",
       "  white-space: nowrap;\n",
       "  caption-side: top;\n",
       "  text-align: left;\n",
       "  /* margin-left: 1em; */\n",
       "  margin: 0;\n",
       "  font-size: larger;\n",
       "}\n",
       "#h2o-table-10 .h2o-table thead {\n",
       "  white-space: nowrap; \n",
       "  position: sticky;\n",
       "  top: 0;\n",
       "  box-shadow: 0 -1px inset;\n",
       "}\n",
       "#h2o-table-10 .h2o-table tbody {\n",
       "  overflow: auto;\n",
       "}\n",
       "#h2o-table-10 .h2o-table th,\n",
       "#h2o-table-10 .h2o-table td {\n",
       "  text-align: right;\n",
       "  /* border: 1px solid; */\n",
       "}\n",
       "#h2o-table-10 .h2o-table tr:nth-child(even) {\n",
       "  /* background: #F5F5F5 */\n",
       "}\n",
       "\n",
       "</style>      \n",
       "<div id=\"h2o-table-10\" class=\"h2o-container\">\n",
       "  <table class=\"h2o-table\">\n",
       "    <caption>Variable Importances: </caption>\n",
       "    <thead><tr><th>variable</th>\n",
       "<th>relative_importance</th>\n",
       "<th>scaled_importance</th>\n",
       "<th>percentage</th></tr></thead>\n",
       "    <tbody><tr><td>model</td>\n",
       "<td>11100973170688.0000000</td>\n",
       "<td>1.0</td>\n",
       "<td>0.4349693</td></tr>\n",
       "<tr><td>generation_name</td>\n",
       "<td>4917769011200.0000000</td>\n",
       "<td>0.4430034</td>\n",
       "<td>0.1926929</td></tr>\n",
       "<tr><td>mileage</td>\n",
       "<td>2994824806400.0000000</td>\n",
       "<td>0.2697804</td>\n",
       "<td>0.1173462</td></tr>\n",
       "<tr><td>vol_engine</td>\n",
       "<td>2536453963776.0000000</td>\n",
       "<td>0.2284893</td>\n",
       "<td>0.0993858</td></tr>\n",
       "<tr><td>province</td>\n",
       "<td>1757044015104.0000000</td>\n",
       "<td>0.1582784</td>\n",
       "<td>0.0688462</td></tr>\n",
       "<tr><td>year</td>\n",
       "<td>1370330628096.0000000</td>\n",
       "<td>0.1234424</td>\n",
       "<td>0.0536936</td></tr>\n",
       "<tr><td>city</td>\n",
       "<td>616997847040.0000000</td>\n",
       "<td>0.0555805</td>\n",
       "<td>0.0241758</td></tr>\n",
       "<tr><td>fuel</td>\n",
       "<td>226889154560.0000000</td>\n",
       "<td>0.0204387</td>\n",
       "<td>0.0088902</td></tr>\n",
       "<tr><td>mark</td>\n",
       "<td>0.0</td>\n",
       "<td>0.0</td>\n",
       "<td>0.0</td></tr></tbody>\n",
       "  </table>\n",
       "</div>\n",
       "</div><pre style=\"font-size: smaller; margin: 1em 0 0 0;\">\n",
       "\n",
       "[tips]\n",
       "Use `model.explain()` to inspect the model.\n",
       "--\n",
       "Use `h2o.display.toggle_user_tips()` to switch on/off this section.</pre>"
      ],
      "text/plain": [
       "Model Details\n",
       "=============\n",
       "H2OGradientBoostingEstimator : Gradient Boosting Machine\n",
       "Model Key: GBM_model_python_1711996825619_685\n",
       "\n",
       "\n",
       "Model Summary: \n",
       "    number_of_trees    number_of_internal_trees    model_size_in_bytes    min_depth    max_depth    mean_depth    min_leaves    max_leaves    mean_leaves\n",
       "--  -----------------  --------------------------  ---------------------  -----------  -----------  ------------  ------------  ------------  -------------\n",
       "    49                 49                          34701                  5            5            5             8             31            19.9184\n",
       "\n",
       "ModelMetricsRegression: gbm\n",
       "** Reported on train data. **\n",
       "\n",
       "MSE: 109764223.20005392\n",
       "RMSE: 10476.842234187452\n",
       "MAE: 4943.227617691289\n",
       "RMSLE: 1.217642232103816\n",
       "Mean Residual Deviance: 109764223.20005392\n",
       "\n",
       "ModelMetricsRegression: gbm\n",
       "** Reported on cross-validation data. **\n",
       "\n",
       "MSE: 174241595.31206802\n",
       "RMSE: 13200.060428349107\n",
       "MAE: 5461.423549595423\n",
       "RMSLE: NaN\n",
       "Mean Residual Deviance: 174241595.31206802\n",
       "\n",
       "Cross-Validation Metrics Summary: \n",
       "                        mean         sd           cv_1_valid    cv_2_valid    cv_3_valid    cv_4_valid    cv_5_valid\n",
       "----------------------  -----------  -----------  ------------  ------------  ------------  ------------  ------------\n",
       "mae                     5462.68      81.4431      5580.38       5422.2        5423.97       5377.09       5509.75\n",
       "mean_residual_deviance  1.74558e+08  2.13932e+07  1.88194e+08   1.6353e+08    1.54902e+08   1.60818e+08   2.05347e+08\n",
       "mse                     1.74558e+08  2.13932e+07  1.88194e+08   1.6353e+08    1.54902e+08   1.60818e+08   2.05347e+08\n",
       "r2                      0.365339     0.0409742    0.322449      0.394899      0.40044       0.390042      0.318865\n",
       "residual_deviance       1.74558e+08  2.13932e+07  1.88194e+08   1.6353e+08    1.54902e+08   1.60818e+08   2.05347e+08\n",
       "rmse                    13192.7      798.84       13718.4       12787.9       12445.9       12681.4       14329.9\n",
       "rmsle                   1.24624      0.00750382   1.24084       nan           1.24307       1.25481       nan\n",
       "\n",
       "Scoring History: \n",
       "     timestamp            duration    number_of_trees    training_rmse       training_mae        training_deviance\n",
       "---  -------------------  ----------  -----------------  ------------------  ------------------  -------------------\n",
       "     2024-04-10 17:19:10  1.859 sec   0.0                16561.55545132705   7950.844659381112   274285118.96738076\n",
       "     2024-04-10 17:19:10  1.867 sec   1.0                15873.291783631885  7533.457131384562   251961392.0483155\n",
       "     2024-04-10 17:19:10  1.873 sec   2.0                15301.743877035497  7188.685954516446   234143365.67839333\n",
       "     2024-04-10 17:19:10  1.879 sec   3.0                14799.807299741846  6894.731263362866   219034296.109492\n",
       "     2024-04-10 17:19:10  1.885 sec   4.0                14369.429135785012  6650.189384592028   206480493.6883472\n",
       "     2024-04-10 17:19:10  1.891 sec   5.0                13982.378002553793  6436.503274194555   195506894.60630018\n",
       "     2024-04-10 17:19:10  1.896 sec   6.0                13681.317004177192  6264.6820234068655  187178434.96878797\n",
       "     2024-04-10 17:19:10  1.902 sec   7.0                13408.068465095741  6113.648543331894   179776299.96469486\n",
       "     2024-04-10 17:19:10  1.908 sec   8.0                13159.860227018407  5983.675590572186   173181921.19466096\n",
       "     2024-04-10 17:19:10  1.914 sec   9.0                12918.008635346718  5866.332783281932   166874947.10289237\n",
       "---  ---                  ---         ---                ---                 ---                 ---\n",
       "     2024-04-10 17:19:10  2.090 sec   40.0               10678.376131444336  4983.66470892012    114027716.80460012\n",
       "     2024-04-10 17:19:10  2.096 sec   41.0               10620.233195531588  4975.406647985793   112789353.12747109\n",
       "     2024-04-10 17:19:10  2.101 sec   42.0               10611.99205471606   4973.044411508941   112614375.36935678\n",
       "     2024-04-10 17:19:10  2.106 sec   43.0               10603.32189376074   4969.795996274082   112430435.18270583\n",
       "     2024-04-10 17:19:10  2.111 sec   44.0               10596.678644329337  4967.858392241872   112289598.29118544\n",
       "     2024-04-10 17:19:10  2.117 sec   45.0               10571.178462512722  4960.299880022519   111749814.08629285\n",
       "     2024-04-10 17:19:10  2.123 sec   46.0               10520.997405566352  4955.060651220453   110691386.4079339\n",
       "     2024-04-10 17:19:10  2.128 sec   47.0               10503.269832456039  4951.178116688989   110318677.17338109\n",
       "     2024-04-10 17:19:10  2.133 sec   48.0               10494.399588497074  4947.403318541      110132422.72304754\n",
       "     2024-04-10 17:19:10  2.139 sec   49.0               10476.842234187452  4943.227617691289   109764223.20005392\n",
       "[50 rows x 7 columns]\n",
       "\n",
       "\n",
       "Variable Importances: \n",
       "variable         relative_importance    scaled_importance    percentage\n",
       "---------------  ---------------------  -------------------  ------------\n",
       "model            1.1101e+13             1                    0.434969\n",
       "generation_name  4.91777e+12            0.443003             0.192693\n",
       "mileage          2.99482e+12            0.26978              0.117346\n",
       "vol_engine       2.53645e+12            0.228489             0.0993858\n",
       "province         1.75704e+12            0.158278             0.0688462\n",
       "year             1.37033e+12            0.123442             0.0536936\n",
       "city             6.16998e+11            0.0555805            0.0241758\n",
       "fuel             2.26889e+11            0.0204387            0.00889019\n",
       "mark             0                      0                    0\n",
       "\n",
       "[tips]\n",
       "Use `model.explain()` to inspect the model.\n",
       "--\n",
       "Use `h2o.display.toggle_user_tips()` to switch on/off this section."
      ]
     },
     "execution_count": 113,
     "metadata": {},
     "output_type": "execute_result"
    }
   ],
   "source": [
    "if 'price' in test.columns:\n",
    "    test = test.drop('price')\n",
    "\n",
    "# Define the model with the specified parameters, targeting 'abs_error' this time\n",
    "surrogate_model = H2OGradientBoostingEstimator(\n",
    "    nfolds=5,\n",
    "    ntrees=500,\n",
    "    stopping_rounds=5,\n",
    "    stopping_metric='MAE',\n",
    "    seed=1234,\n",
    "    keep_cross_validation_predictions=False\n",
    ")\n",
    "\n",
    "# Train the surrogate model to predict 'abs_error'\n",
    "# Ensure 'abs_error' is your target variable and the rest are features\n",
    "surrogate_model.train(y='abs_error', training_frame=test)\n",
    "\n",
    "# Surrogate model is now trained to predict residuals."
   ]
  },
  {
   "cell_type": "code",
   "execution_count": 131,
   "id": "91973174-5b68-480f-935e-7c7737f13910",
   "metadata": {},
   "outputs": [
    {
     "data": {
      "text/html": [
       "<h1>SHAP Summary</h1>"
      ],
      "text/markdown": [
       "\n",
       "\n",
       "# SHAP Summary"
      ],
      "text/plain": [
       "\n",
       "\n",
       "# SHAP Summary"
      ]
     },
     "metadata": {},
     "output_type": "display_data"
    },
    {
     "data": {
      "text/html": [
       "<blockquote>SHAP summary plot shows the contribution of the features for each instance (row of data). The sum of the feature contributions and the bias term is equal to the raw prediction of the model, i.e., prediction before applying inverse link function.</blockquote>"
      ],
      "text/markdown": [
       "\n",
       "> SHAP summary plot shows the contribution of the features for each instance (row of data). The sum of the feature contributions and the bias term is equal to the raw prediction of the model, i.e., prediction before applying inverse link function."
      ],
      "text/plain": [
       "\n",
       "> SHAP summary plot shows the contribution of the features for each instance (row of data). The sum of the feature contributions and the bias term is equal to the raw prediction of the model, i.e., prediction before applying inverse link function."
      ]
     },
     "metadata": {},
     "output_type": "display_data"
    },
    {
     "data": {
      "image/png": "[encoded data removed]",
      "text/plain": [
       "<Figure size 1152x648 with 2 Axes>"
      ]
     },
     "metadata": {
      "needs_background": "light"
     },
     "output_type": "display_data"
    },
    {
     "name": "stdout",
     "output_type": "stream",
     "text": [
      "\n",
      "\n"
     ]
    }
   ],
   "source": [
    "surrogate_model.explain(test[0:100,:],include_explanations='shap_summary');"
   ]
  },
  {
   "cell_type": "markdown",
   "id": "e4aa02ee-ac66-4524-883e-8a990d0d62cf",
   "metadata": {},
   "source": [
    "The most important feature in the model's prediction of residual is \"model,\" as it has the widest spread of SHAP values and the highest position on the y-axis, which indicates its high level of importance."
   ]
  },
  {
   "cell_type": "code",
   "execution_count": null,
   "id": "f1a60793-ef0c-4a35-a5e5-c76a40bf21a4",
   "metadata": {},
   "outputs": [],
   "source": []
  }
 ],
 "metadata": {
  "kernelspec": {
   "display_name": "Python 3 (ipykernel)",
   "language": "python",
   "name": "python3"
  },
  "language_info": {
   "codemirror_mode": {
    "name": "ipython",
    "version": 3
   },
   "file_extension": ".py",
   "mimetype": "text/x-python",
   "name": "python",
   "nbconvert_exporter": "python",
   "pygments_lexer": "ipython3",
   "version": "3.9.12"
  }
 },
 "nbformat": 4,
 "nbformat_minor": 5
}
