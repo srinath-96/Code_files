{
  "cells": [
    {
      "cell_type": "markdown",
      "metadata": {},
      "source": [
        "# Lab-1b"
      ]
    },
    {
      "cell_type": "markdown",
      "metadata": {
        "id": "9xUWssqWZsbK"
      },
      "source": [
        "## Python Native Data Types and Type Casting\n",
        "\n",
        "In Python, data types are fundamental for defining the kind of values a variable can hold and the operations that can be performed on it. Unlike some languages where you explicitly declare the data type of a variable, Python infers the type at the time of assignment. This dynamic typing makes Python flexible and easy to use.\n",
        "\n",
        "Here's a breakdown of common native data types in Python:\n",
        "\n",
        "* **Numeric Types:**\n",
        "    * `int`: Integers (whole numbers), e.g., `10`, `-5`, `0`\n",
        "    * `float`: Floating-point numbers (numbers with decimal points), e.g., `3.14`, `-2.5`, `0.0`\n",
        "    * `complex`: Complex numbers (numbers with real and imaginary parts), e.g., `2 + 3j`\n",
        "\n",
        "* **Text Type:**\n",
        "    * `str`: Strings (sequences of characters), e.g., `\"Hello\"`, `'Python'`, `\"123\"`\n",
        "\n",
        "* **Boolean Type:**\n",
        "    * `bool`: Boolean values (represent truth or falsehood), e.g., `True`, `False`\n",
        "\n",
        "* **Sequence Types:**\n",
        "    * `list`: Ordered, mutable collections of items, e.g., `[1, 2, 3]`, `[\"apple\", \"banana\"]`\n",
        "    * `tuple`: Ordered, immutable collections of items, e.g., `(1, 2, 3)`, `(\"apple\", \"banana\")`\n",
        "    * `range`: Represents a sequence of numbers, often used for looping, e.g., `range(1, 5)`\n",
        "\n",
        "* **Mapping Type:**\n",
        "    * `dict`: Dictionaries (unordered collections of key-value pairs), e.g., `{\"name\": \"Alice\", \"age\": 30}`\n",
        "\n",
        "* **Set Types:**\n",
        "    * `set`: Unordered collections of unique items, e.g., `{1, 2, 3}`\n",
        "    * `frozenset`: Immutable sets\n",
        "\n",
        "* **Binary Types:**\n",
        "    * `bytes`: Sequences of bytes, e.g., `b\"Hello\"`\n",
        "    * `bytearray`: Mutable sequences of bytes\n",
        "    * `memoryview`: Allows access to the internal data of an object without copying\n",
        "\n",
        "### Type Inference\n",
        "\n",
        "Python automatically determines the data type of a variable based on the value assigned to it.\n",
        "\n",
        "**Example:**"
      ]
    },
    {
      "cell_type": "code",
      "execution_count": 1,
      "metadata": {
        "id": "tFtGJUY8ZsbM"
      },
      "outputs": [],
      "source": [
        "x = 10       # x is inferred as an integer (int)\n",
        "y = 3.14     # y is inferred as a float\n",
        "name = \"Bob\"  # name is inferred as a string (str)"
      ]
    },
    {
      "cell_type": "markdown",
      "metadata": {
        "id": "pIDwADRgZsbM"
      },
      "source": [
        "### Type Casting\n",
        "\n",
        "Sometimes, you need to explicitly convert a value from one data type to another. This is called type casting. Python provides built-in functions for this purpose:\n",
        "\n",
        "* `int()`: Converts a value to an integer.\n",
        "* `float()`: Converts a value to a float.\n",
        "* `str()`: Converts a value to a string.\n",
        "* `list()`: Converts a value to a list.\n",
        "* `tuple()`: Converts a value to a tuple.\n",
        "* `dict()`: Converts a value to a dictionary.\n",
        "* `set()`: Converts a value to a set.\n",
        "\n",
        "**Example:**"
      ]
    },
    {
      "cell_type": "code",
      "execution_count": 2,
      "metadata": {
        "id": "Nn8RfB21ZsbM"
      },
      "outputs": [],
      "source": [
        "# Converting a float to an integer\n",
        "x = 3.14\n",
        "y = int(x)  # y will be 3\n",
        "\n",
        "# Converting a string to an integer\n",
        "num_str = \"10\"\n",
        "num_int = int(num_str)  # num_int will be 10\n",
        "\n",
        "# Converting a list to a tuple\n",
        "my_list = [1, 2, 3]\n",
        "my_tuple = tuple(my_list)  # my_tuple will be (1, 2, 3)"
      ]
    },
    {
      "cell_type": "markdown",
      "metadata": {
        "id": "KjMjZqfhZsbM"
      },
      "source": [
        "Understanding data types and type casting is crucial for writing effective Python code. By mastering these concepts, you'll be able to manipulate data efficiently and build robust data science applications."
      ]
    }
  ],
  "metadata": {
    "colab": {
      "provenance": []
    },
    "kernelspec": {
      "display_name": "prog-spring-2025",
      "language": "python",
      "name": "prog-spring-2025"
    },
    "language_info": {
      "codemirror_mode": {
        "name": "ipython",
        "version": 3
      },
      "file_extension": ".py",
      "mimetype": "text/x-python",
      "name": "python",
      "nbconvert_exporter": "python",
      "pygments_lexer": "ipython3",
      "version": "3.10.16"
    }
  },
  "nbformat": 4,
  "nbformat_minor": 0
}
