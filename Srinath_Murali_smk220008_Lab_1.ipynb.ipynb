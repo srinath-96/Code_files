{
 "cells": [
  {
   "cell_type": "markdown",
   "id": "0ccd6d2a",
   "metadata": {},
   "source": [
    "# Lab-1 \n",
    "\n",
    "**NETID: SMK220008**\n",
    "**| NAME: SRINATH MURALI KRISHNAN**"
   ]
  },
  {
   "cell_type": "code",
   "execution_count": 2,
   "id": "68807c06",
   "metadata": {
    "tags": []
   },
   "outputs": [
    {
     "data": {
      "text/html": [
       "<style>.container { width:80% !important; }</style>"
      ],
      "text/plain": [
       "<IPython.core.display.HTML object>"
      ]
     },
     "metadata": {},
     "output_type": "display_data"
    }
   ],
   "source": [
    "import pandas as pd\n",
    "pd.set_option('display.max_columns', 1500)\n",
    "\n",
    "import warnings\n",
    "warnings.filterwarnings('ignore')\n",
    "\n",
    "#Extend cell width\n",
    "from IPython.core.display import display, HTML\n",
    "display(HTML(\"<style>.container { width:80% !important; }</style>\"))"
   ]
  },
  {
   "cell_type": "markdown",
   "id": "ef97212d",
   "metadata": {},
   "source": [
    "## Load files into Pandas DF"
   ]
  },
  {
   "cell_type": "code",
   "execution_count": 4,
   "id": "1bb8d4fd",
   "metadata": {},
   "outputs": [],
   "source": [
    "student_df = pd.read_csv(filepath_or_buffer=\"student-mat.csv\", sep=\",\", header='infer')\n",
    "nutr_df = pd.read_csv(filepath_or_buffer=\"Nutritional_Data_for_Fast_Foods.csv\", sep=\",\", header='infer')"
   ]
  },
  {
   "cell_type": "code",
   "execution_count": 5,
   "id": "aa0fbcf0",
   "metadata": {},
   "outputs": [
    {
     "data": {
      "text/html": [
       "<div>\n",
       "<style scoped>\n",
       "    .dataframe tbody tr th:only-of-type {\n",
       "        vertical-align: middle;\n",
       "    }\n",
       "\n",
       "    .dataframe tbody tr th {\n",
       "        vertical-align: top;\n",
       "    }\n",
       "\n",
       "    .dataframe thead th {\n",
       "        text-align: right;\n",
       "    }\n",
       "</style>\n",
       "<table border=\"1\" class=\"dataframe\">\n",
       "  <thead>\n",
       "    <tr style=\"text-align: right;\">\n",
       "      <th></th>\n",
       "      <th>school</th>\n",
       "      <th>sex</th>\n",
       "      <th>age</th>\n",
       "      <th>address</th>\n",
       "      <th>famsize</th>\n",
       "      <th>Pstatus</th>\n",
       "      <th>Medu</th>\n",
       "      <th>Fedu</th>\n",
       "      <th>Mjob</th>\n",
       "      <th>Fjob</th>\n",
       "      <th>reason</th>\n",
       "      <th>guardian</th>\n",
       "      <th>traveltime</th>\n",
       "      <th>studytime</th>\n",
       "      <th>failures</th>\n",
       "      <th>schoolsup</th>\n",
       "      <th>famsup</th>\n",
       "      <th>paid</th>\n",
       "      <th>activities</th>\n",
       "      <th>nursery</th>\n",
       "      <th>higher</th>\n",
       "      <th>internet</th>\n",
       "      <th>romantic</th>\n",
       "      <th>famrel</th>\n",
       "      <th>freetime</th>\n",
       "      <th>goout</th>\n",
       "      <th>Dalc</th>\n",
       "      <th>Walc</th>\n",
       "      <th>health</th>\n",
       "      <th>absences</th>\n",
       "      <th>grade</th>\n",
       "    </tr>\n",
       "  </thead>\n",
       "  <tbody>\n",
       "    <tr>\n",
       "      <th>0</th>\n",
       "      <td>GP</td>\n",
       "      <td>F</td>\n",
       "      <td>18</td>\n",
       "      <td>U</td>\n",
       "      <td>GT3</td>\n",
       "      <td>A</td>\n",
       "      <td>4</td>\n",
       "      <td>4</td>\n",
       "      <td>at_home</td>\n",
       "      <td>teacher</td>\n",
       "      <td>course</td>\n",
       "      <td>mother</td>\n",
       "      <td>2</td>\n",
       "      <td>2</td>\n",
       "      <td>0</td>\n",
       "      <td>yes</td>\n",
       "      <td>no</td>\n",
       "      <td>no</td>\n",
       "      <td>no</td>\n",
       "      <td>yes</td>\n",
       "      <td>yes</td>\n",
       "      <td>no</td>\n",
       "      <td>no</td>\n",
       "      <td>4</td>\n",
       "      <td>3</td>\n",
       "      <td>4</td>\n",
       "      <td>1</td>\n",
       "      <td>1</td>\n",
       "      <td>3</td>\n",
       "      <td>6</td>\n",
       "      <td>F</td>\n",
       "    </tr>\n",
       "    <tr>\n",
       "      <th>1</th>\n",
       "      <td>GP</td>\n",
       "      <td>F</td>\n",
       "      <td>17</td>\n",
       "      <td>U</td>\n",
       "      <td>GT3</td>\n",
       "      <td>T</td>\n",
       "      <td>1</td>\n",
       "      <td>1</td>\n",
       "      <td>at_home</td>\n",
       "      <td>other</td>\n",
       "      <td>course</td>\n",
       "      <td>father</td>\n",
       "      <td>1</td>\n",
       "      <td>2</td>\n",
       "      <td>0</td>\n",
       "      <td>no</td>\n",
       "      <td>yes</td>\n",
       "      <td>no</td>\n",
       "      <td>no</td>\n",
       "      <td>no</td>\n",
       "      <td>yes</td>\n",
       "      <td>yes</td>\n",
       "      <td>no</td>\n",
       "      <td>5</td>\n",
       "      <td>3</td>\n",
       "      <td>3</td>\n",
       "      <td>1</td>\n",
       "      <td>1</td>\n",
       "      <td>3</td>\n",
       "      <td>4</td>\n",
       "      <td>F</td>\n",
       "    </tr>\n",
       "    <tr>\n",
       "      <th>2</th>\n",
       "      <td>GP</td>\n",
       "      <td>F</td>\n",
       "      <td>15</td>\n",
       "      <td>U</td>\n",
       "      <td>LE3</td>\n",
       "      <td>T</td>\n",
       "      <td>1</td>\n",
       "      <td>1</td>\n",
       "      <td>at_home</td>\n",
       "      <td>other</td>\n",
       "      <td>other</td>\n",
       "      <td>mother</td>\n",
       "      <td>1</td>\n",
       "      <td>2</td>\n",
       "      <td>3</td>\n",
       "      <td>yes</td>\n",
       "      <td>no</td>\n",
       "      <td>yes</td>\n",
       "      <td>no</td>\n",
       "      <td>yes</td>\n",
       "      <td>yes</td>\n",
       "      <td>yes</td>\n",
       "      <td>no</td>\n",
       "      <td>4</td>\n",
       "      <td>3</td>\n",
       "      <td>2</td>\n",
       "      <td>2</td>\n",
       "      <td>3</td>\n",
       "      <td>3</td>\n",
       "      <td>10</td>\n",
       "      <td>C</td>\n",
       "    </tr>\n",
       "    <tr>\n",
       "      <th>3</th>\n",
       "      <td>GP</td>\n",
       "      <td>F</td>\n",
       "      <td>15</td>\n",
       "      <td>U</td>\n",
       "      <td>GT3</td>\n",
       "      <td>T</td>\n",
       "      <td>4</td>\n",
       "      <td>2</td>\n",
       "      <td>health</td>\n",
       "      <td>services</td>\n",
       "      <td>home</td>\n",
       "      <td>mother</td>\n",
       "      <td>1</td>\n",
       "      <td>3</td>\n",
       "      <td>0</td>\n",
       "      <td>no</td>\n",
       "      <td>yes</td>\n",
       "      <td>yes</td>\n",
       "      <td>yes</td>\n",
       "      <td>yes</td>\n",
       "      <td>yes</td>\n",
       "      <td>yes</td>\n",
       "      <td>yes</td>\n",
       "      <td>3</td>\n",
       "      <td>2</td>\n",
       "      <td>2</td>\n",
       "      <td>1</td>\n",
       "      <td>1</td>\n",
       "      <td>5</td>\n",
       "      <td>2</td>\n",
       "      <td>B</td>\n",
       "    </tr>\n",
       "    <tr>\n",
       "      <th>4</th>\n",
       "      <td>GP</td>\n",
       "      <td>F</td>\n",
       "      <td>16</td>\n",
       "      <td>U</td>\n",
       "      <td>GT3</td>\n",
       "      <td>T</td>\n",
       "      <td>3</td>\n",
       "      <td>3</td>\n",
       "      <td>other</td>\n",
       "      <td>other</td>\n",
       "      <td>home</td>\n",
       "      <td>father</td>\n",
       "      <td>1</td>\n",
       "      <td>2</td>\n",
       "      <td>0</td>\n",
       "      <td>no</td>\n",
       "      <td>yes</td>\n",
       "      <td>yes</td>\n",
       "      <td>no</td>\n",
       "      <td>yes</td>\n",
       "      <td>yes</td>\n",
       "      <td>no</td>\n",
       "      <td>no</td>\n",
       "      <td>4</td>\n",
       "      <td>3</td>\n",
       "      <td>2</td>\n",
       "      <td>1</td>\n",
       "      <td>2</td>\n",
       "      <td>5</td>\n",
       "      <td>4</td>\n",
       "      <td>C</td>\n",
       "    </tr>\n",
       "  </tbody>\n",
       "</table>\n",
       "</div>"
      ],
      "text/plain": [
       "  school sex  age address famsize Pstatus  Medu  Fedu     Mjob      Fjob  \\\n",
       "0     GP   F   18       U     GT3       A     4     4  at_home   teacher   \n",
       "1     GP   F   17       U     GT3       T     1     1  at_home     other   \n",
       "2     GP   F   15       U     LE3       T     1     1  at_home     other   \n",
       "3     GP   F   15       U     GT3       T     4     2   health  services   \n",
       "4     GP   F   16       U     GT3       T     3     3    other     other   \n",
       "\n",
       "   reason guardian  traveltime  studytime  failures schoolsup famsup paid  \\\n",
       "0  course   mother           2          2         0       yes     no   no   \n",
       "1  course   father           1          2         0        no    yes   no   \n",
       "2   other   mother           1          2         3       yes     no  yes   \n",
       "3    home   mother           1          3         0        no    yes  yes   \n",
       "4    home   father           1          2         0        no    yes  yes   \n",
       "\n",
       "  activities nursery higher internet romantic  famrel  freetime  goout  Dalc  \\\n",
       "0         no     yes    yes       no       no       4         3      4     1   \n",
       "1         no      no    yes      yes       no       5         3      3     1   \n",
       "2         no     yes    yes      yes       no       4         3      2     2   \n",
       "3        yes     yes    yes      yes      yes       3         2      2     1   \n",
       "4         no     yes    yes       no       no       4         3      2     1   \n",
       "\n",
       "   Walc  health  absences grade  \n",
       "0     1       3         6     F  \n",
       "1     1       3         4     F  \n",
       "2     3       3        10     C  \n",
       "3     1       5         2     B  \n",
       "4     2       5         4     C  "
      ]
     },
     "execution_count": 5,
     "metadata": {},
     "output_type": "execute_result"
    }
   ],
   "source": [
    "student_df.head()"
   ]
  },
  {
   "cell_type": "code",
   "execution_count": 6,
   "id": "c0751d64",
   "metadata": {},
   "outputs": [
    {
     "data": {
      "text/plain": [
       "(395, 31)"
      ]
     },
     "execution_count": 6,
     "metadata": {},
     "output_type": "execute_result"
    }
   ],
   "source": [
    "student_df.shape"
   ]
  },
  {
   "cell_type": "code",
   "execution_count": 7,
   "id": "50c71e7b",
   "metadata": {},
   "outputs": [
    {
     "data": {
      "text/html": [
       "<div>\n",
       "<style scoped>\n",
       "    .dataframe tbody tr th:only-of-type {\n",
       "        vertical-align: middle;\n",
       "    }\n",
       "\n",
       "    .dataframe tbody tr th {\n",
       "        vertical-align: top;\n",
       "    }\n",
       "\n",
       "    .dataframe thead th {\n",
       "        text-align: right;\n",
       "    }\n",
       "</style>\n",
       "<table border=\"1\" class=\"dataframe\">\n",
       "  <thead>\n",
       "    <tr style=\"text-align: right;\">\n",
       "      <th></th>\n",
       "      <th>Unnamed: 0</th>\n",
       "      <th>Fast Food Restaurant</th>\n",
       "      <th>Item</th>\n",
       "      <th>Type</th>\n",
       "      <th>Serving Size (g)</th>\n",
       "      <th>Calories</th>\n",
       "      <th>Total Fat (g)</th>\n",
       "      <th>Saturated Fat (g)</th>\n",
       "      <th>Trans Fat (g)</th>\n",
       "      <th>Sodium (mg)</th>\n",
       "      <th>Carbs (g)</th>\n",
       "      <th>Sugars (g)</th>\n",
       "      <th>Protein (g)</th>\n",
       "    </tr>\n",
       "  </thead>\n",
       "  <tbody>\n",
       "    <tr>\n",
       "      <th>0</th>\n",
       "      <td>0</td>\n",
       "      <td>McDonald's</td>\n",
       "      <td>Hamburger</td>\n",
       "      <td>Burger</td>\n",
       "      <td>98</td>\n",
       "      <td>240</td>\n",
       "      <td>8.0</td>\n",
       "      <td>3.0</td>\n",
       "      <td>0.0</td>\n",
       "      <td>480.0</td>\n",
       "      <td>32.0</td>\n",
       "      <td>6.0</td>\n",
       "      <td>12.0</td>\n",
       "    </tr>\n",
       "    <tr>\n",
       "      <th>1</th>\n",
       "      <td>1</td>\n",
       "      <td>McDonald's</td>\n",
       "      <td>Cheeseburger</td>\n",
       "      <td>Burger</td>\n",
       "      <td>113</td>\n",
       "      <td>290</td>\n",
       "      <td>11.0</td>\n",
       "      <td>5.0</td>\n",
       "      <td>0.5</td>\n",
       "      <td>680.0</td>\n",
       "      <td>33.0</td>\n",
       "      <td>7.0</td>\n",
       "      <td>15.0</td>\n",
       "    </tr>\n",
       "    <tr>\n",
       "      <th>2</th>\n",
       "      <td>2</td>\n",
       "      <td>McDonald's</td>\n",
       "      <td>?</td>\n",
       "      <td>Burger</td>\n",
       "      <td>211</td>\n",
       "      <td>530</td>\n",
       "      <td>27.0</td>\n",
       "      <td>10.0</td>\n",
       "      <td>1.0</td>\n",
       "      <td>960.0</td>\n",
       "      <td>47.0</td>\n",
       "      <td>9.0</td>\n",
       "      <td>24.0</td>\n",
       "    </tr>\n",
       "    <tr>\n",
       "      <th>3</th>\n",
       "      <td>3</td>\n",
       "      <td>McDonald's</td>\n",
       "      <td>Quarter Pounder with Cheese</td>\n",
       "      <td>Burger</td>\n",
       "      <td>202</td>\n",
       "      <td>520</td>\n",
       "      <td>26.0</td>\n",
       "      <td>12.0</td>\n",
       "      <td>1.5</td>\n",
       "      <td>1100.0</td>\n",
       "      <td>41.0</td>\n",
       "      <td>10.0</td>\n",
       "      <td>30.0</td>\n",
       "    </tr>\n",
       "    <tr>\n",
       "      <th>4</th>\n",
       "      <td>4</td>\n",
       "      <td>McDonald's</td>\n",
       "      <td>Bacon Clubhouse Burger</td>\n",
       "      <td>Burger</td>\n",
       "      <td>270</td>\n",
       "      <td>720</td>\n",
       "      <td>40.0</td>\n",
       "      <td>15.0</td>\n",
       "      <td>1.5</td>\n",
       "      <td>1470.0</td>\n",
       "      <td>51.0</td>\n",
       "      <td>14.0</td>\n",
       "      <td>39.0</td>\n",
       "    </tr>\n",
       "  </tbody>\n",
       "</table>\n",
       "</div>"
      ],
      "text/plain": [
       "   Unnamed: 0 Fast Food Restaurant                         Item    Type  \\\n",
       "0           0           McDonald's                    Hamburger  Burger   \n",
       "1           1           McDonald's                 Cheeseburger  Burger   \n",
       "2           2           McDonald's                            ?  Burger   \n",
       "3           3           McDonald's  Quarter Pounder with Cheese  Burger   \n",
       "4           4           McDonald's       Bacon Clubhouse Burger  Burger   \n",
       "\n",
       "   Serving Size (g)  Calories  Total Fat (g)  Saturated Fat (g)  \\\n",
       "0                98       240            8.0                3.0   \n",
       "1               113       290           11.0                5.0   \n",
       "2               211       530           27.0               10.0   \n",
       "3               202       520           26.0               12.0   \n",
       "4               270       720           40.0               15.0   \n",
       "\n",
       "   Trans Fat (g)  Sodium (mg)  Carbs (g)  Sugars (g)  Protein (g)  \n",
       "0            0.0        480.0       32.0         6.0         12.0  \n",
       "1            0.5        680.0       33.0         7.0         15.0  \n",
       "2            1.0        960.0       47.0         9.0         24.0  \n",
       "3            1.5       1100.0       41.0        10.0         30.0  \n",
       "4            1.5       1470.0       51.0        14.0         39.0  "
      ]
     },
     "execution_count": 7,
     "metadata": {},
     "output_type": "execute_result"
    }
   ],
   "source": [
    "nutr_df.head()"
   ]
  },
  {
   "cell_type": "markdown",
   "id": "687183f7",
   "metadata": {
    "tags": []
   },
   "source": [
    "## Question 1\n",
    "\n",
    "(Part a) Read the student grades as a pandas data frame. How many rows are in this data frame?  \n",
    "(Part b) How many columns are in this dataset? "
   ]
  },
  {
   "cell_type": "code",
   "execution_count": 9,
   "id": "0f94ee66",
   "metadata": {},
   "outputs": [
    {
     "name": "stdout",
     "output_type": "stream",
     "text": [
      "rows= 395\n",
      "columns= 31\n"
     ]
    }
   ],
   "source": [
    "#a\n",
    "df = pd.read_csv(\"student-mat.csv\", usecols=['grade'])\n",
    "print(\"rows=\",df.shape[0])\n",
    "#b\n",
    "df = pd.read_csv(\"student-mat.csv\")\n",
    "print(\"columns=\",df.shape[1])"
   ]
  },
  {
   "cell_type": "markdown",
   "id": "db7b63f3",
   "metadata": {},
   "source": [
    "## Question 2\n",
    "\n",
    "(Part a) What is the average age of the students in this dataset? Enter the answer with four significant digits.  \n",
    "(Part b) What is the average freetime in this dataset? Enter the answer with four significant digits."
   ]
  },
  {
   "cell_type": "code",
   "execution_count": 11,
   "id": "ebfaa96d",
   "metadata": {},
   "outputs": [
    {
     "name": "stdout",
     "output_type": "stream",
     "text": [
      "16.6962\n",
      "3.2354\n"
     ]
    }
   ],
   "source": [
    "from statistics import mean\n",
    "#a\n",
    "print(round(mean(df['age']),4))\n",
    "#b\n",
    "print(round(mean(df['freetime']),4))"
   ]
  },
  {
   "cell_type": "markdown",
   "id": "299534e6",
   "metadata": {},
   "source": [
    "## Question 3\n",
    "\n",
    "What is the ratio of Grade 'A' to Grade 'F' in this dataset? Enter the answer with four digits after floatation point."
   ]
  },
  {
   "cell_type": "code",
   "execution_count": 13,
   "id": "c433420c",
   "metadata": {},
   "outputs": [
    {
     "name": "stdout",
     "output_type": "stream",
     "text": [
      "ratio=  0.7681\n"
     ]
    }
   ],
   "source": [
    "a = df['grade'].apply(lambda x: x.count('A')).sum()\n",
    "f = df['grade'].apply(lambda x: x.count('F')).sum()\n",
    "print(\"ratio= \",round(a/f,4))"
   ]
  },
  {
   "cell_type": "markdown",
   "id": "b7695c6b",
   "metadata": {},
   "source": [
    "## Question 4\n",
    "\n",
    "List number of students received Grade B or higher grouped by column `sex`."
   ]
  },
  {
   "cell_type": "code",
   "execution_count": 15,
   "id": "1f09cc39",
   "metadata": {},
   "outputs": [
    {
     "data": {
      "text/plain": [
       "sex\n",
       "F    74\n",
       "M    82\n",
       "Name: grade, dtype: int64"
      ]
     },
     "execution_count": 15,
     "metadata": {},
     "output_type": "execute_result"
    }
   ],
   "source": [
    "a=df[df[\"grade\"]<='B']\n",
    "a.groupby('sex')[\"grade\"].count()"
   ]
  },
  {
   "cell_type": "markdown",
   "id": "fd0659fc",
   "metadata": {},
   "source": [
    "## Question 5\n",
    "\n",
    "Consider the grade assignment to GPA below. What is the average grade per `sex` in this dataset? Round the answers to 4 digits after floatation point.\n",
    "\n",
    "- A: 4\n",
    "- B: 3\n",
    "- C: 2\n",
    "- F: 1"
   ]
  },
  {
   "cell_type": "code",
   "execution_count": 17,
   "id": "d569fa79",
   "metadata": {},
   "outputs": [
    {
     "name": "stdout",
     "output_type": "stream",
     "text": [
      "average grade per sex  sex\n",
      "F    2.577381\n",
      "M    2.708861\n",
      "Name: grade, dtype: float64\n"
     ]
    }
   ],
   "source": [
    "df['grade'] = df['grade'].apply({'A':4, 'B':3,'C':2,'D':1}.get)\n",
    "print(\"average grade per sex \",df.groupby('sex')['grade'].mean())"
   ]
  },
  {
   "cell_type": "markdown",
   "id": "62ee3b86",
   "metadata": {},
   "source": [
    "## Question 6\n",
    "\n",
    "\t\n",
    "For this part use the dataset `Nutritional_Data_for_Fast_Foods.csv`. Read the dataset as a pandas data frame and answer the following questions. \n",
    "\n",
    "Which columns in this dataset have missing values? (represent all the missing values with np.nan)  \n",
    "Consider \"?\" as missing value for this dataset."
   ]
  },
  {
   "cell_type": "code",
   "execution_count": 19,
   "id": "4d3c1507",
   "metadata": {},
   "outputs": [
    {
     "data": {
      "text/plain": [
       "Unnamed: 0              False\n",
       "Fast Food Restaurant    False\n",
       "Item                    False\n",
       "Type                    False\n",
       "Serving Size (g)        False\n",
       "Calories                False\n",
       "Total Fat (g)           False\n",
       "Saturated Fat (g)       False\n",
       "Trans Fat (g)           False\n",
       "Sodium (mg)             False\n",
       "Carbs (g)               False\n",
       "Sugars (g)              False\n",
       "Protein (g)             False\n",
       "dtype: bool"
      ]
     },
     "execution_count": 19,
     "metadata": {},
     "output_type": "execute_result"
    }
   ],
   "source": [
    "df=pd.read_csv('Nutritional_Data_for_Fast_Foods.csv')\n",
    "df.isna().any()\n",
    "df_new=df.fillna('?')\n",
    "df_new.isna().any()"
   ]
  },
  {
   "cell_type": "markdown",
   "id": "1236f3c8",
   "metadata": {},
   "source": [
    "## Question 7\n",
    "\n",
    "How many unique values are in the column `Item`?"
   ]
  },
  {
   "cell_type": "code",
   "execution_count": 21,
   "id": "f27ed4d2",
   "metadata": {},
   "outputs": [
    {
     "data": {
      "text/plain": [
       "101"
      ]
     },
     "execution_count": 21,
     "metadata": {},
     "output_type": "execute_result"
    }
   ],
   "source": [
    "df['Item'].nunique()"
   ]
  },
  {
   "cell_type": "markdown",
   "id": "48e3ad3b",
   "metadata": {},
   "source": [
    "Same as above, but  exclude missing values"
   ]
  },
  {
   "cell_type": "code",
   "execution_count": 23,
   "id": "69789cb2",
   "metadata": {},
   "outputs": [
    {
     "data": {
      "text/plain": [
       "101"
      ]
     },
     "execution_count": 23,
     "metadata": {},
     "output_type": "execute_result"
    }
   ],
   "source": [
    "df['Item'].nunique(dropna=True)"
   ]
  },
  {
   "cell_type": "markdown",
   "id": "6d35eacc",
   "metadata": {},
   "source": [
    "## Question 8\n",
    "\n",
    "List unique values and counts for the column `Type`"
   ]
  },
  {
   "cell_type": "code",
   "execution_count": 25,
   "id": "e3f01623",
   "metadata": {},
   "outputs": [
    {
     "data": {
      "text/plain": [
       "Burger                      69\n",
       "Milkshake                   12\n",
       "French Fries                12\n",
       "Breaded Chicken Sandwich    11\n",
       "Grilled Chicken Sandwich    11\n",
       "Chicken Nuggets             11\n",
       "Name: Type, dtype: int64"
      ]
     },
     "execution_count": 25,
     "metadata": {},
     "output_type": "execute_result"
    }
   ],
   "source": [
    "df['Type'].value_counts()"
   ]
  },
  {
   "cell_type": "markdown",
   "id": "de013755",
   "metadata": {},
   "source": [
    "## Question 9\n",
    "\n",
    "Use a groupby statement to find the average calorie for each food type.   \n",
    "What is the average calorie for French Fries? (enter the answer with 2 digits after floatation point, e.g. 12.34)\n"
   ]
  },
  {
   "cell_type": "code",
   "execution_count": 27,
   "id": "fb52307a",
   "metadata": {},
   "outputs": [
    {
     "name": "stdout",
     "output_type": "stream",
     "text": [
      "Type\n",
      "Breaded Chicken Sandwich    522.090909\n",
      "Burger                      620.202899\n",
      "Chicken Nuggets             274.545455\n",
      "French Fries                314.083333\n",
      "Grilled Chicken Sandwich    408.000000\n",
      "Milkshake                   606.666667\n",
      "Name: Calories, dtype: float64\n",
      "average calories for French Fries=  314.0833333333333\n"
     ]
    }
   ],
   "source": [
    "print(df.groupby('Type')['Calories'].mean())\n",
    "print(\"average calories for French Fries= \",df.groupby('Type')['Calories'].mean()[3] )"
   ]
  },
  {
   "cell_type": "markdown",
   "id": "8c31c401",
   "metadata": {},
   "source": [
    "## Question 10\n",
    "\n",
    "Which fast-food restaurant has the Burger with the highest protein per serving? List restaurants in the order of highest protein per serving to lowest."
   ]
  },
  {
   "cell_type": "code",
   "execution_count": 29,
   "id": "52f73fd8",
   "metadata": {},
   "outputs": [
    {
     "name": "stdout",
     "output_type": "stream",
     "text": [
      "                      Protein (g)\n",
      "Fast Food Restaurant             \n",
      "Whataburger             39.285714\n",
      "Wendy's                 38.857143\n",
      "Hardee's                34.428571\n",
      "Sonic                   34.333333\n",
      "Carl's Jr.              33.237500\n",
      "Dairy Queen             31.500000\n",
      "Burger King             30.000000\n",
      "Jack in the Box         29.714286\n",
      "McDonald's              28.000000\n",
      "In-N-Out Burger         25.000000\n",
      "White Castle            12.400000\n",
      "highest protein per serving =  Whataburger\n"
     ]
    }
   ],
   "source": [
    "df_new_2=df[df['Type']=='Burger']\n",
    "sorted_val=df_new_2.groupby('Fast Food Restaurant').agg({'Protein (g)': 'mean'}).sort_values('Protein (g)', ascending=False)\n",
    "print(sorted_val)\n",
    "print(\"highest protein per serving = \",sorted_val.index[0])"
   ]
  },
  {
   "cell_type": "markdown",
   "id": "2de5a45e",
   "metadata": {},
   "source": [
    "## Question 11\n",
    "\n",
    "Start H2O-3 cluster with 2GB of memory and 2 threads. \n",
    "Load two Lab-1 datasets into H2O-3 dataframes and print their dimensions."
   ]
  },
  {
   "cell_type": "code",
   "execution_count": 31,
   "id": "611643bb",
   "metadata": {},
   "outputs": [
    {
     "name": "stdout",
     "output_type": "stream",
     "text": [
      "Checking whether there is an H2O instance running at http://localhost:54321..... not found.\n",
      "Attempting to start a local H2O server...\n",
      "  Java Version: openjdk version \"17.0.9\" 2023-10-17; OpenJDK Runtime Environment Homebrew (build 17.0.9+0); OpenJDK 64-Bit Server VM Homebrew (build 17.0.9+0, mixed mode, sharing)\n",
      "  Starting server from /opt/anaconda3/lib/python3.9/site-packages/h2o/backend/bin/h2o.jar\n",
      "  Ice root: /var/folders/x3/5n0yyb7911zg532jx71xlkrr0000gn/T/tmp3r5gwutn\n",
      "  JVM stdout: /var/folders/x3/5n0yyb7911zg532jx71xlkrr0000gn/T/tmp3r5gwutn/h2o_srinathmurali_started_from_python.out\n",
      "  JVM stderr: /var/folders/x3/5n0yyb7911zg532jx71xlkrr0000gn/T/tmp3r5gwutn/h2o_srinathmurali_started_from_python.err\n",
      "  Server is running at http://127.0.0.1:54321\n",
      "Connecting to H2O server at http://127.0.0.1:54321 ... successful.\n"
     ]
    },
    {
     "data": {
      "text/html": [
       "\n",
       "<style>\n",
       "\n",
       "#h2o-table-1.h2o-container {\n",
       "  overflow-x: auto;\n",
       "}\n",
       "#h2o-table-1 .h2o-table {\n",
       "  /* width: 100%; */\n",
       "  margin-top: 1em;\n",
       "  margin-bottom: 1em;\n",
       "}\n",
       "#h2o-table-1 .h2o-table caption {\n",
       "  white-space: nowrap;\n",
       "  caption-side: top;\n",
       "  text-align: left;\n",
       "  /* margin-left: 1em; */\n",
       "  margin: 0;\n",
       "  font-size: larger;\n",
       "}\n",
       "#h2o-table-1 .h2o-table thead {\n",
       "  white-space: nowrap; \n",
       "  position: sticky;\n",
       "  top: 0;\n",
       "  box-shadow: 0 -1px inset;\n",
       "}\n",
       "#h2o-table-1 .h2o-table tbody {\n",
       "  overflow: auto;\n",
       "}\n",
       "#h2o-table-1 .h2o-table th,\n",
       "#h2o-table-1 .h2o-table td {\n",
       "  text-align: right;\n",
       "  /* border: 1px solid; */\n",
       "}\n",
       "#h2o-table-1 .h2o-table tr:nth-child(even) {\n",
       "  /* background: #F5F5F5 */\n",
       "}\n",
       "\n",
       "</style>      \n",
       "<div id=\"h2o-table-1\" class=\"h2o-container\">\n",
       "  <table class=\"h2o-table\">\n",
       "    <caption></caption>\n",
       "    <thead></thead>\n",
       "    <tbody><tr><td>H2O_cluster_uptime:</td>\n",
       "<td>03 secs</td></tr>\n",
       "<tr><td>H2O_cluster_timezone:</td>\n",
       "<td>America/Chicago</td></tr>\n",
       "<tr><td>H2O_data_parsing_timezone:</td>\n",
       "<td>UTC</td></tr>\n",
       "<tr><td>H2O_cluster_version:</td>\n",
       "<td>3.44.0.3</td></tr>\n",
       "<tr><td>H2O_cluster_version_age:</td>\n",
       "<td>29 days</td></tr>\n",
       "<tr><td>H2O_cluster_name:</td>\n",
       "<td>H2O_from_python_srinathmurali_793rhf</td></tr>\n",
       "<tr><td>H2O_cluster_total_nodes:</td>\n",
       "<td>1</td></tr>\n",
       "<tr><td>H2O_cluster_free_memory:</td>\n",
       "<td>2 Gb</td></tr>\n",
       "<tr><td>H2O_cluster_total_cores:</td>\n",
       "<td>8</td></tr>\n",
       "<tr><td>H2O_cluster_allowed_cores:</td>\n",
       "<td>2</td></tr>\n",
       "<tr><td>H2O_cluster_status:</td>\n",
       "<td>locked, healthy</td></tr>\n",
       "<tr><td>H2O_connection_url:</td>\n",
       "<td>http://127.0.0.1:54321</td></tr>\n",
       "<tr><td>H2O_connection_proxy:</td>\n",
       "<td>{\"http\": null, \"https\": null}</td></tr>\n",
       "<tr><td>H2O_internal_security:</td>\n",
       "<td>False</td></tr>\n",
       "<tr><td>Python_version:</td>\n",
       "<td>3.9.12 final</td></tr></tbody>\n",
       "  </table>\n",
       "</div>\n"
      ],
      "text/plain": [
       "--------------------------  ------------------------------------\n",
       "H2O_cluster_uptime:         03 secs\n",
       "H2O_cluster_timezone:       America/Chicago\n",
       "H2O_data_parsing_timezone:  UTC\n",
       "H2O_cluster_version:        3.44.0.3\n",
       "H2O_cluster_version_age:    29 days\n",
       "H2O_cluster_name:           H2O_from_python_srinathmurali_793rhf\n",
       "H2O_cluster_total_nodes:    1\n",
       "H2O_cluster_free_memory:    2 Gb\n",
       "H2O_cluster_total_cores:    8\n",
       "H2O_cluster_allowed_cores:  2\n",
       "H2O_cluster_status:         locked, healthy\n",
       "H2O_connection_url:         http://127.0.0.1:54321\n",
       "H2O_connection_proxy:       {\"http\": null, \"https\": null}\n",
       "H2O_internal_security:      False\n",
       "Python_version:             3.9.12 final\n",
       "--------------------------  ------------------------------------"
      ]
     },
     "metadata": {},
     "output_type": "display_data"
    }
   ],
   "source": [
    "import h2o\n",
    "#start h2o cluster with limited memory and cpu\n",
    "h2o.init(max_mem_size = \"2G\", nthreads = 2)"
   ]
  },
  {
   "cell_type": "code",
   "execution_count": 32,
   "id": "1b699cf5-a2de-4edb-b8ed-d4db81623b58",
   "metadata": {},
   "outputs": [
    {
     "name": "stdout",
     "output_type": "stream",
     "text": [
      "Parse progress: |████████████████████████████████████████████████████████████████| (done) 100%\n",
      "Parse progress: |████████████████████████████████████████████████████████████████| (done) 100%\n"
     ]
    }
   ],
   "source": [
    "Nutrition = h2o.import_file(\n",
    "  path=\"Nutritional_Data_for_Fast_Foods.csv\",\n",
    ")\n",
    "Students = h2o.import_file(\n",
    "  path=\"student-mat.csv\",\n",
    ")\n"
   ]
  },
  {
   "cell_type": "code",
   "execution_count": 33,
   "id": "69c01544-cac6-45ba-a953-2dfbf71173dd",
   "metadata": {},
   "outputs": [
    {
     "name": "stdout",
     "output_type": "stream",
     "text": [
      "Dataset dimensions(Nutrition): [126, 13]\n",
      "Dataset dimensions(Students): [395, 31]\n"
     ]
    }
   ],
   "source": [
    "print(\"Dataset dimensions(Nutrition):\", Nutrition.dim)\n",
    "print(\"Dataset dimensions(Students):\", Students.dim)"
   ]
  },
  {
   "cell_type": "code",
   "execution_count": null,
   "id": "79403bf7-8ae8-4462-aa83-a30fe954e9e6",
   "metadata": {},
   "outputs": [],
   "source": []
  }
 ],
 "metadata": {
  "kernelspec": {
   "display_name": "Python 3 (ipykernel)",
   "language": "python",
   "name": "python3"
  },
  "language_info": {
   "codemirror_mode": {
    "name": "ipython",
    "version": 3
   },
   "file_extension": ".py",
   "mimetype": "text/x-python",
   "name": "python",
   "nbconvert_exporter": "python",
   "pygments_lexer": "ipython3",
   "version": "3.9.12"
  }
 },
 "nbformat": 4,
 "nbformat_minor": 5
}
