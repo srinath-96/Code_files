{
  "cells": [
    {
      "cell_type": "markdown",
      "metadata": {
        "id": "LT8KQOQ-GlPd"
      },
      "source": [
        "## **Lecture 1: Introduction to Python for Data Science**\n",
        "\n",
        "### **1. Introduction to Python**\n",
        "\n",
        "* **What is Python?**\n",
        "    * High-level, interpreted language\n",
        "    * General-purpose, but excels in data science\n",
        "    * Readable syntax, emphasizing code clarity\n",
        "* **Why Python for Data Science?**\n",
        "    * **Rich ecosystem of libraries:** NumPy, Pandas, Matplotlib, Scikit-learn, TensorFlow, PyTorch\n",
        "    * **Large and active community:** Constant development, support, and resources\n",
        "    * **Versatility:** Can be used for data cleaning, analysis, visualization, machine learning, and more\n",
        "* **Basic Syntax**\n",
        "    * **Variables and data types:**\n",
        "        * Numbers (integers, floats)\n",
        "        * Strings\n",
        "        * Booleans\n",
        "        * Lists\n",
        "        * Dictionaries\n",
        "    * **Operators:** Arithmetic, comparison, logical\n",
        "    * **Control flow:** `if`, `else`, `elif`, `for`, `while`\n",
        "    * **Functions:** Defining and calling functions\n",
        "\n",
        "**Example:**"
      ]
    },
    {
      "cell_type": "code",
      "execution_count": 1,
      "metadata": {
        "colab": {
          "base_uri": "https://localhost:8080/"
        },
        "id": "HAc2pYCyGlPe",
        "outputId": "0abe44d8-c063-4ad5-bd77-828bce461d3a"
      },
      "outputs": [
        {
          "name": "stdout",
          "output_type": "stream",
          "text": [
            "Hello, world!\n",
            "x is greater than 5\n",
            "Hello, Charlie!\n"
          ]
        }
      ],
      "source": [
        "# Simple Python program\n",
        "print(\"Hello, world!\")\n",
        "\n",
        "# Variables and data types\n",
        "x = 10  # Integer\n",
        "y = 3.14  # Float\n",
        "name = \"Alice\"  # String\n",
        "is_student = True  # Boolean\n",
        "\n",
        "# List\n",
        "my_list = [1, 2, 3, \"apple\", \"banana\"]\n",
        "\n",
        "# Dictionary\n",
        "my_dict = {\"name\": \"Bob\", \"age\": 30, \"city\": \"New York\"}\n",
        "\n",
        "# Control flow\n",
        "if x > 5:\n",
        "    print(\"x is greater than 5\")\n",
        "else:\n",
        "    print(\"x is less than or equal to 5\")\n",
        "\n",
        "# Function\n",
        "def greet(name):\n",
        "    print(\"Hello, \" + name + \"!\")\n",
        "\n",
        "greet(\"Charlie\")"
      ]
    },
    {
      "cell_type": "markdown",
      "metadata": {
        "id": "cVnyde4BGlPf"
      },
      "source": [
        "### **2. Setting Up the Environment**\n",
        "\n",
        "**Virtual Environments**\n",
        "* **Why use virtual environments?**\n",
        "    * Isolation of project dependencies\n",
        "    * Avoid conflicts between different projects\n",
        "* **Creating a virtual environment with `venv`:**\n",
        "```bash\n",
        "python -m venv prog-spring-2025\n",
        "```\n",
        "* **Activating the virtual environment:**\n",
        "    * **Windows:** `prog-spring-2025\\Scripts\\activate`\n",
        "    * **Linux/macOS:** `source prog-spring-2025/bin/activate`\n",
        "* **Installing packages:**\n",
        "```bash\n",
        "pip install numpy pandas matplotlib scikit-learn\n",
        "```\n",
        "\n",
        "* **Installing packages with requirements file**:\n",
        "\n",
        "Create file `requirements-prog-spring-2025.txt`:\n",
        "```\n",
        "scikit-learn==1.3.0\n",
        "numpy==1.24.4\n",
        "pandas==2.0.3\n",
        "matplotlib==3.7.2\n",
        "mlxtend==0.22.0\n",
        "graphviz==0.20.1\n",
        "mglearn==0.2.0\n",
        "future==0.18.3\n",
        "notebook==7.0.2\n",
        "ipykernel==6.25.0\n",
        "shap==0.42.1\n",
        "category-encoders==2.6.1\n",
        "seaborn==0.12.2\n",
        "optuna==3.3.0\n",
        "ipywidgets==8.1.0\n",
        "xgboost==2.0.3\n",
        "plotly==5.14.1\n",
        "pyarrow==16.1.0\n",
        "polars==0.20.29\n",
        "```\n",
        "Run install (make sure your virtual environment is activated):\n",
        "```bash\n",
        "pip install -r requirements-prog-spring-2025.txt\n",
        "```\n",
        "\n",
        "**VS Code Setup**\n",
        "* **Installing VS Code:** Download and install from the official website.\n",
        "* **Installing Python extension:** Search for \"Python\" in the extensions tab and install.\n",
        "* **Configuring the interpreter:**\n",
        "    * Open the command palette (Ctrl+Shift+P) and search for \"Python: Select Interpreter\".\n",
        "    * Choose the Python interpreter from your virtual environment.\n",
        "* **Using VS Code features:**\n",
        "    * Code completion, syntax highlighting, linting\n",
        "    * Debugging\n",
        "    * Git integration\n",
        "\n",
        "**Additional Tips**\n",
        "* **Learn from online resources:**\n",
        "    * Official Python documentation\n",
        "    * DataCamp, Coursera, edX\n",
        "    * YouTube tutorials\n",
        "* **Practice regularly:**\n",
        "    * Work on small projects\n",
        "    * Participate in online challenges (Kaggle, HackerRank)\n",
        "\n",
        "* **Use AI resources responsibly:**\n",
        "    * Learn concepts before applying AI to generate code\n",
        "    * If you use aI to generate code you don't understand, you will not be able to debug it and spot errors\n",
        "    * To use AI effectively you need:\n",
        "        * Understand task\n",
        "        * Understand how solution should look like\n",
        "        * Be able to spot errors in the solution provided by AI\n",
        "        * Be able to debug code generated by AI\n"
      ]
    },
    {
      "cell_type": "markdown",
      "metadata": {},
      "source": []
    }
  ],
  "metadata": {
    "colab": {
      "provenance": []
    },
    "kernelspec": {
      "display_name": "prog-spring-2025",
      "language": "python",
      "name": "prog-spring-2025"
    },
    "language_info": {
      "codemirror_mode": {
        "name": "ipython",
        "version": 3
      },
      "file_extension": ".py",
      "mimetype": "text/x-python",
      "name": "python",
      "nbconvert_exporter": "python",
      "pygments_lexer": "ipython3",
      "version": "3.10.16"
    }
  },
  "nbformat": 4,
  "nbformat_minor": 0
}
