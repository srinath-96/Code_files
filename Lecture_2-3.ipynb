{
  "cells": [
    {
      "cell_type": "markdown",
      "metadata": {},
      "source": [
        "# Lecture 2-3\n",
        "\n",
        "Python Functions: Building Blocks of Code"
      ]
    },
    {
      "cell_type": "markdown",
      "metadata": {},
      "source": [
        "This notebook explores the concept of functions in Python, drawing inspiration from Chapter 4 of \"Think Python.\" Functions are essential building blocks for creating modular, reusable, and well-organized code.  We'll cover function definitions, parameters, arguments, return values, and the importance of good function design.\n",
        "\n",
        "Full book chapter: https://greenteapress.com/thinkpython/html/thinkpython004.html"
      ]
    },
    {
      "cell_type": "markdown",
      "metadata": {},
      "source": [
        "## 1. Function Definitions"
      ]
    },
    {
      "cell_type": "markdown",
      "metadata": {},
      "source": [
        "A function definition specifies the name of a function and the sequence of statements that run when the function is called.  The basic syntax is:"
      ]
    },
    {
      "cell_type": "markdown",
      "metadata": {},
      "source": [
        "```python\n",
        "def function_name(parameter1, parameter2, ...):\n",
        "    \"\"\"Docstring explaining the function's purpose.\"\"\"\n",
        "    # Function body (statements)\n",
        "    return value  # Optional return statement\n",
        "```"
      ]
    },
    {
      "cell_type": "markdown",
      "metadata": {},
      "source": [
        "Key elements:"
      ]
    },
    {
      "cell_type": "markdown",
      "metadata": {},
      "source": [
        "- `def`: Keyword indicating a function definition.\n",
        "- `function_name`:  A descriptive name for your function.\n",
        "- `parameters`:  Values passed to the function (can be zero or more).\n",
        "- `docstring`:  A string explaining the function's purpose (highly recommended).\n",
        "- `function body`: The code executed when the function is called.\n",
        "- `return`:  Sends a result back to the caller (optional).  If no return statement is present, the function implicitly returns `None`."
      ]
    },
    {
      "cell_type": "code",
      "execution_count": 1,
      "metadata": {},
      "outputs": [
        {
          "name": "stdout",
          "output_type": "stream",
          "text": [
            "Hello, Alice!\n",
            "Hello, Bob!\n"
          ]
        }
      ],
      "source": [
        "def greet(name):\n",
        "    \"\"\"Greets the person passed in as a parameter.\"\"\"\n",
        "    print(f\"Hello, {name}!\")\n",
        "\n",
        "greet(\"Alice\")\n",
        "greet(\"Bob\")"
      ]
    },
    {
      "cell_type": "markdown",
      "metadata": {},
      "source": [
        "## 2. Parameters and Arguments"
      ]
    },
    {
      "cell_type": "markdown",
      "metadata": {},
      "source": [
        "- **Parameters:**  Variables in the function definition that receive values.\n",
        "- **Arguments:** The actual values passed to the function when it's called."
      ]
    },
    {
      "cell_type": "code",
      "execution_count": 2,
      "metadata": {},
      "outputs": [
        {
          "name": "stdout",
          "output_type": "stream",
          "text": [
            "8\n"
          ]
        }
      ],
      "source": [
        "def add_numbers(x, y):  # x and y are parameters\n",
        "    \"\"\"Adds two numbers and returns the sum.\"\"\"\n",
        "    sum_of_numbers = x + y\n",
        "    return sum_of_numbers\n",
        "\n",
        "result = add_numbers(5, 3)  # 5 and 3 are arguments\n",
        "print(result)  # Output: 8"
      ]
    },
    {
      "cell_type": "markdown",
      "metadata": {},
      "source": [
        "## 3. Return Values"
      ]
    },
    {
      "cell_type": "markdown",
      "metadata": {},
      "source": [
        "The `return` statement allows a function to send a value back to the part of the code that called it.  This is how functions produce results."
      ]
    },
    {
      "cell_type": "code",
      "execution_count": 3,
      "metadata": {},
      "outputs": [
        {
          "name": "stdout",
          "output_type": "stream",
          "text": [
            "24\n"
          ]
        }
      ],
      "source": [
        "def multiply(a, b):\n",
        "    \"\"\"Multiplies two numbers and returns the product.\"\"\"\n",
        "    product = a * b\n",
        "    return product\n",
        "\n",
        "value = multiply(4, 6)\n",
        "print(value)  # Output: 24"
      ]
    },
    {
      "cell_type": "markdown",
      "metadata": {},
      "source": [
        "## 4. Why Use Functions?"
      ]
    },
    {
      "cell_type": "markdown",
      "metadata": {},
      "source": [
        "- **Modularity:** Break down complex problems into smaller, manageable pieces.\n",
        "- **Reusability:** Write code once and use it multiple times.\n",
        "- **Organization:** Makes code easier to read, understand, and maintain.\n",
        "- **Abstraction:** Hide implementation details and focus on what the function does."
      ]
    },
    {
      "cell_type": "markdown",
      "metadata": {},
      "source": [
        "## 5. Scope and Lifetime of Variables"
      ]
    },
    {
      "cell_type": "markdown",
      "metadata": {},
      "source": [
        "Variables declared inside a function have *local scope*.  They are only accessible within that function. Their lifetime is limited to the function's execution. This helps prevent naming conflicts and keeps code organized."
      ]
    },
    {
      "cell_type": "code",
      "execution_count": 4,
      "metadata": {},
      "outputs": [
        {
          "name": "stdout",
          "output_type": "stream",
          "text": [
            "10\n"
          ]
        }
      ],
      "source": [
        "def my_function():\n",
        "    local_variable = 10  # Local scope\n",
        "    print(local_variable)\n",
        "\n",
        "my_function()\n",
        "# print(local_variable)  # This would cause an error because local_variable is not defined outside the function."
      ]
    },
    {
      "cell_type": "markdown",
      "metadata": {},
      "source": [
        "## 6. Differences between Python built-in functions and methods"
      ]
    },
    {
      "cell_type": "code",
      "execution_count": 5,
      "metadata": {},
      "outputs": [
        {
          "name": "stdout",
          "output_type": "stream",
          "text": [
            "The length of the list is: 5\n",
            "The capitalized text is: HELLO WORLD\n"
          ]
        }
      ],
      "source": [
        "# Example of a built-in function\n",
        "numbers = [1, 2, 3, 4, 5]\n",
        "length = len(numbers)  # len() is a built-in function that returns the length of an object\n",
        "print(f\"The length of the list is: {length}\")\n",
        "\n",
        "# Example of a method\n",
        "text = \"hello world\"\n",
        "capitalized_text = text.upper()  # upper() is a method of the str class that returns the string in uppercase\n",
        "print(f\"The capitalized text is: {capitalized_text}\")"
      ]
    },
    {
      "cell_type": "markdown",
      "metadata": {},
      "source": [
        "This notebook provides a basic introduction to Python functions.  Mastering functions is crucial for writing effective and maintainable Python code.  Practice defining and using functions to solidify your understanding."
      ]
    }
  ],
  "metadata": {
    "kernelspec": {
      "display_name": "prog-spring-2025",
      "language": "python",
      "name": "prog-spring-2025"
    },
    "language_info": {
      "codemirror_mode": {
        "name": "ipython",
        "version": 3
      },
      "file_extension": ".py",
      "mimetype": "text/x-python",
      "name": "python",
      "nbconvert_exporter": "python",
      "pygments_lexer": "ipython3",
      "version": "3.10.16"
    }
  },
  "nbformat": 4,
  "nbformat_minor": 4
}
