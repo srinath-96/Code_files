{
 "cells": [
  {
   "cell_type": "markdown",
   "metadata": {},
   "source": [
    "# Lab-5 \n",
    "# Srinath Krishnan \n",
    "# SMK220008\n",
    "\n"
   ]
  },
  {
   "cell_type": "code",
   "execution_count": 1,
   "metadata": {},
   "outputs": [],
   "source": [
    "import pandas as pd\n",
    "import numpy as np\n",
    "red_wine_url_url = \"https://archive.ics.uci.edu/ml/machine-learning-databases/wine-quality/winequality-red.csv\"  # Or your local path\n",
    "red_wine_df  = pd.read_csv(red_wine_url_url, sep=\";\")\n",
    "white_wine_url = \"https://archive.ics.uci.edu/ml/machine-learning-databases/wine-quality/winequality-white.csv\"  # Or your local path\n",
    "white_wine_df  = pd.read_csv(white_wine_url, sep=\";\")\n"
   ]
  },
  {
   "cell_type": "markdown",
   "metadata": {},
   "source": [
    "## Question 1. Data Exploration and Cleaning (10 points)\n",
    "\n",
    "- a. (2.5 points) Display the first 10 rows of the DataFrame.  What are the data types of each column? Are there any missing values?  How many?\n",
    "- b. (2.5 points) Calculate descriptive statistics (mean, median, standard deviation, min, max, quartiles) for all numerical columns.\n",
    "- c. (2.5 points) The 'quality' column represents a score from 0 to 10. Create a new column 'quality_category' where:\n",
    "    - quality <= 5 is 'Low'\n",
    "    - 6 <= quality <= 7 is 'Medium'\n",
    "    - quality >= 8 is 'High'\n",
    "- d. (2.5 points) Display amount of whines grouped by the new \"quality_category\" column"
   ]
  },
  {
   "cell_type": "code",
   "execution_count": 2,
   "metadata": {},
   "outputs": [
    {
     "name": "stdout",
     "output_type": "stream",
     "text": [
      "First 10 rows:\n",
      "   fixed acidity  volatile acidity  citric acid  residual sugar  chlorides  \\\n",
      "0            7.4              0.70         0.00             1.9      0.076   \n",
      "1            7.8              0.88         0.00             2.6      0.098   \n",
      "2            7.8              0.76         0.04             2.3      0.092   \n",
      "3           11.2              0.28         0.56             1.9      0.075   \n",
      "4            7.4              0.70         0.00             1.9      0.076   \n",
      "5            7.4              0.66         0.00             1.8      0.075   \n",
      "6            7.9              0.60         0.06             1.6      0.069   \n",
      "7            7.3              0.65         0.00             1.2      0.065   \n",
      "8            7.8              0.58         0.02             2.0      0.073   \n",
      "9            7.5              0.50         0.36             6.1      0.071   \n",
      "\n",
      "   free sulfur dioxide  total sulfur dioxide  density    pH  sulphates  \\\n",
      "0                 11.0                  34.0   0.9978  3.51       0.56   \n",
      "1                 25.0                  67.0   0.9968  3.20       0.68   \n",
      "2                 15.0                  54.0   0.9970  3.26       0.65   \n",
      "3                 17.0                  60.0   0.9980  3.16       0.58   \n",
      "4                 11.0                  34.0   0.9978  3.51       0.56   \n",
      "5                 13.0                  40.0   0.9978  3.51       0.56   \n",
      "6                 15.0                  59.0   0.9964  3.30       0.46   \n",
      "7                 15.0                  21.0   0.9946  3.39       0.47   \n",
      "8                  9.0                  18.0   0.9968  3.36       0.57   \n",
      "9                 17.0                 102.0   0.9978  3.35       0.80   \n",
      "\n",
      "   alcohol  quality  \n",
      "0      9.4        5  \n",
      "1      9.8        5  \n",
      "2      9.8        5  \n",
      "3      9.8        6  \n",
      "4      9.4        5  \n",
      "5      9.4        5  \n",
      "6      9.4        5  \n",
      "7     10.0        7  \n",
      "8      9.5        7  \n",
      "9     10.5        5  \n",
      "\n",
      "Data types:\n",
      "fixed acidity           float64\n",
      "volatile acidity        float64\n",
      "citric acid             float64\n",
      "residual sugar          float64\n",
      "chlorides               float64\n",
      "free sulfur dioxide     float64\n",
      "total sulfur dioxide    float64\n",
      "density                 float64\n",
      "pH                      float64\n",
      "sulphates               float64\n",
      "alcohol                 float64\n",
      "quality                   int64\n",
      "dtype: object\n",
      "\n",
      "Missing values:\n",
      "fixed acidity           0\n",
      "volatile acidity        0\n",
      "citric acid             0\n",
      "residual sugar          0\n",
      "chlorides               0\n",
      "free sulfur dioxide     0\n",
      "total sulfur dioxide    0\n",
      "density                 0\n",
      "pH                      0\n",
      "sulphates               0\n",
      "alcohol                 0\n",
      "quality                 0\n",
      "dtype: int64\n",
      "\n",
      "Descriptive Statistics:\n",
      "       fixed acidity  volatile acidity  citric acid  residual sugar  \\\n",
      "count    1599.000000       1599.000000  1599.000000     1599.000000   \n",
      "mean        8.319637          0.527821     0.270976        2.538806   \n",
      "std         1.741096          0.179060     0.194801        1.409928   \n",
      "min         4.600000          0.120000     0.000000        0.900000   \n",
      "25%         7.100000          0.390000     0.090000        1.900000   \n",
      "50%         7.900000          0.520000     0.260000        2.200000   \n",
      "75%         9.200000          0.640000     0.420000        2.600000   \n",
      "max        15.900000          1.580000     1.000000       15.500000   \n",
      "\n",
      "         chlorides  free sulfur dioxide  total sulfur dioxide      density  \\\n",
      "count  1599.000000          1599.000000           1599.000000  1599.000000   \n",
      "mean      0.087467            15.874922             46.467792     0.996747   \n",
      "std       0.047065            10.460157             32.895324     0.001887   \n",
      "min       0.012000             1.000000              6.000000     0.990070   \n",
      "25%       0.070000             7.000000             22.000000     0.995600   \n",
      "50%       0.079000            14.000000             38.000000     0.996750   \n",
      "75%       0.090000            21.000000             62.000000     0.997835   \n",
      "max       0.611000            72.000000            289.000000     1.003690   \n",
      "\n",
      "                pH    sulphates      alcohol      quality  \n",
      "count  1599.000000  1599.000000  1599.000000  1599.000000  \n",
      "mean      3.311113     0.658149    10.422983     5.636023  \n",
      "std       0.154386     0.169507     1.065668     0.807569  \n",
      "min       2.740000     0.330000     8.400000     3.000000  \n",
      "25%       3.210000     0.550000     9.500000     5.000000  \n",
      "50%       3.310000     0.620000    10.200000     6.000000  \n",
      "75%       3.400000     0.730000    11.100000     6.000000  \n",
      "max       4.010000     2.000000    14.900000     8.000000  \n",
      "\n",
      "Wines by Quality Category:\n",
      "quality_category\n",
      "Medium    837\n",
      "Low       744\n",
      "High       18\n",
      "Name: count, dtype: int64\n"
     ]
    }
   ],
   "source": [
    "# a. Display first 10 rows and check data types and missing values\n",
    "print(\"First 10 rows:\")\n",
    "print(red_wine_df.head(10))\n",
    "print(\"\\nData types:\")\n",
    "print(red_wine_df.dtypes)\n",
    "print(\"\\nMissing values:\")\n",
    "print(red_wine_df.isnull().sum())\n",
    "\n",
    "# b. Calculate descriptive statistics\n",
    "print(\"\\nDescriptive Statistics:\")\n",
    "print(red_wine_df.describe())\n",
    "\n",
    "# c. Create quality_category column\n",
    "def categorize_quality(quality):\n",
    "    if quality <= 5:\n",
    "        return 'Low'\n",
    "    elif quality <= 7:\n",
    "        return 'Medium'\n",
    "    else:\n",
    "        return 'High'\n",
    "\n",
    "red_wine_df['quality_category'] = red_wine_df['quality'].apply(categorize_quality)\n",
    "\n",
    "# d. Display amount of wines by quality category\n",
    "print(\"\\nWines by Quality Category:\")\n",
    "print(red_wine_df['quality_category'].value_counts())"
   ]
  },
  {
   "cell_type": "markdown",
   "metadata": {},
   "source": [
    "## 2. Data Aggregation and Grouping (10 points)\n",
    "\n",
    "- a. (5 points) Calculate the average 'alcohol' content for each 'quality_category'.\n",
    "- b. (5 points)  For each 'quality_category', find the wine with the highest 'volatile acidity'. Display the entire row for these wines."
   ]
  },
  {
   "cell_type": "code",
   "execution_count": 3,
   "metadata": {},
   "outputs": [
    {
     "name": "stdout",
     "output_type": "stream",
     "text": [
      "Average Alcohol Content by Quality Category:\n",
      "quality_category\n",
      "High      12.094444\n",
      "Low        9.926478\n",
      "Medium    10.828375\n",
      "Name: alcohol, dtype: float64\n",
      "\n",
      "Wines with Highest Volatile Acidity in Each Category:\n",
      "      fixed acidity  volatile acidity  citric acid  residual sugar  chlorides  \\\n",
      "390             5.6              0.85         0.05             1.4      0.045   \n",
      "1299            7.6              1.58         0.00             2.1      0.137   \n",
      "134             7.9              1.04         0.05             2.2      0.084   \n",
      "\n",
      "      free sulfur dioxide  total sulfur dioxide  density    pH  sulphates  \\\n",
      "390                  12.0                  88.0  0.99240  3.56       0.82   \n",
      "1299                  5.0                   9.0  0.99476  3.50       0.40   \n",
      "134                  13.0                  29.0  0.99590  3.22       0.55   \n",
      "\n",
      "      alcohol  quality quality_category  \n",
      "390      12.9        8             High  \n",
      "1299     10.9        3              Low  \n",
      "134       9.9        6           Medium  \n"
     ]
    }
   ],
   "source": [
    "# a. Calculate average alcohol content by quality category\n",
    "print(\"Average Alcohol Content by Quality Category:\")\n",
    "print(red_wine_df.groupby('quality_category')['alcohol'].mean())\n",
    "\n",
    "# b. Find wines with highest volatile acidity in each category\n",
    "print(\"\\nWines with Highest Volatile Acidity in Each Category:\")\n",
    "highest_volatile = red_wine_df.loc[red_wine_df.groupby('quality_category')['volatile acidity'].idxmax()]\n",
    "print(highest_volatile)"
   ]
  },
  {
   "cell_type": "markdown",
   "metadata": {},
   "source": [
    "## Question 3. Data Filtering and Selection (10 points)\n",
    "\n",
    "- a. (5 points) Create a new DataFrame containing only wines with 'fixed acidity' greater than 7 and 'alcohol' content less than 10.\n",
    "\n",
    "- b. (5 points) Find the 5 wines with the lowest 'residual sugar' and display their 'quality', 'alcohol', and 'residual sugar' values.\n"
   ]
  },
  {
   "cell_type": "code",
   "execution_count": 4,
   "metadata": {},
   "outputs": [
    {
     "name": "stdout",
     "output_type": "stream",
     "text": [
      "Wines with fixed acidity > 7 and alcohol < 10:\n",
      "      fixed acidity  volatile acidity  citric acid  residual sugar  chlorides  \\\n",
      "0               7.4             0.700         0.00             1.9      0.076   \n",
      "1               7.8             0.880         0.00             2.6      0.098   \n",
      "2               7.8             0.760         0.04             2.3      0.092   \n",
      "3              11.2             0.280         0.56             1.9      0.075   \n",
      "4               7.4             0.700         0.00             1.9      0.076   \n",
      "...             ...               ...          ...             ...        ...   \n",
      "1553            7.3             0.735         0.00             2.2      0.080   \n",
      "1559            7.8             0.600         0.26             2.0      0.080   \n",
      "1560            7.8             0.600         0.26             2.0      0.080   \n",
      "1561            7.8             0.600         0.26             2.0      0.080   \n",
      "1572            7.3             0.690         0.32             2.2      0.069   \n",
      "\n",
      "      free sulfur dioxide  total sulfur dioxide  density    pH  sulphates  \\\n",
      "0                    11.0                  34.0  0.99780  3.51       0.56   \n",
      "1                    25.0                  67.0  0.99680  3.20       0.68   \n",
      "2                    15.0                  54.0  0.99700  3.26       0.65   \n",
      "3                    17.0                  60.0  0.99800  3.16       0.58   \n",
      "4                    11.0                  34.0  0.99780  3.51       0.56   \n",
      "...                   ...                   ...      ...   ...        ...   \n",
      "1553                 18.0                  28.0  0.99765  3.41       0.60   \n",
      "1559                 31.0                 131.0  0.99622  3.21       0.52   \n",
      "1560                 31.0                 131.0  0.99622  3.21       0.52   \n",
      "1561                 31.0                 131.0  0.99622  3.21       0.52   \n",
      "1572                 35.0                 104.0  0.99632  3.33       0.51   \n",
      "\n",
      "      alcohol  quality quality_category  \n",
      "0         9.4        5              Low  \n",
      "1         9.8        5              Low  \n",
      "2         9.8        5              Low  \n",
      "3         9.8        6           Medium  \n",
      "4         9.4        5              Low  \n",
      "...       ...      ...              ...  \n",
      "1553      9.4        5              Low  \n",
      "1559      9.9        5              Low  \n",
      "1560      9.9        5              Low  \n",
      "1561      9.9        5              Low  \n",
      "1572      9.5        5              Low  \n",
      "\n",
      "[574 rows x 13 columns]\n",
      "\n",
      "5 wines with lowest residual sugar:\n",
      "      quality  alcohol  residual sugar\n",
      "1017        6     12.7             0.9\n",
      "1018        6     12.7             0.9\n",
      "7           7     10.0             1.2\n",
      "198         7     13.0             1.2\n",
      "469         5      9.8             1.2\n"
     ]
    }
   ],
   "source": [
    "# a. Filter wines based on fixed acidity and alcohol content\n",
    "filtered_wines = red_wine_df[(red_wine_df['fixed acidity'] > 7) & (red_wine_df['alcohol'] < 10)]\n",
    "print(\"Wines with fixed acidity > 7 and alcohol < 10:\")\n",
    "print(filtered_wines)\n",
    "\n",
    "# b. Find 5 wines with lowest residual sugar\n",
    "lowest_sugar = red_wine_df.nsmallest(5, 'residual sugar')[['quality', 'alcohol', 'residual sugar']]\n",
    "print(\"\\n5 wines with lowest residual sugar:\")\n",
    "print(lowest_sugar)"
   ]
  },
  {
   "cell_type": "markdown",
   "metadata": {},
   "source": [
    "## Question 4. Data Transformation (10 points)\n",
    "\n",
    "- a. (5 points) Create a new column 'total_acidity' by summing 'fixed acidity', 'volatile acidity', and 'citric acid'.\n",
    "\n",
    "- b. (5 points) Normalize the 'sulphates' column using min-max scaling (values between 0 and 1)."
   ]
  },
  {
   "cell_type": "code",
   "execution_count": 5,
   "metadata": {},
   "outputs": [
    {
     "name": "stdout",
     "output_type": "stream",
     "text": [
      "Sample of new columns:\n",
      "   total_acidity  normalized_sulphates\n",
      "0           8.10              0.137725\n",
      "1           8.68              0.209581\n",
      "2           8.60              0.191617\n",
      "3          12.04              0.149701\n",
      "4           8.10              0.137725\n"
     ]
    }
   ],
   "source": [
    "# a. Create total_acidity column\n",
    "red_wine_df['total_acidity'] = red_wine_df['fixed acidity'] + red_wine_df['volatile acidity'] + red_wine_df['citric acid']\n",
    "\n",
    "# b. Normalize sulphates using min-max scaling\n",
    "min_sulphates = red_wine_df['sulphates'].min()\n",
    "max_sulphates = red_wine_df['sulphates'].max()\n",
    "red_wine_df['normalized_sulphates'] = (red_wine_df['sulphates'] - min_sulphates) / (max_sulphates - min_sulphates)\n",
    "\n",
    "# Display results\n",
    "print(\"Sample of new columns:\")\n",
    "print(red_wine_df[['total_acidity', 'normalized_sulphates']].head())"
   ]
  },
  {
   "cell_type": "markdown",
   "metadata": {},
   "source": [
    "## Question 5 (5 points)\n",
    "\n",
    "Implement a function that takes the DataFrame and two column names as input.  \n",
    "The function should calculate the correlation coefficient between the two columns and return the correlation value.  \n",
    "Function signature:\n",
    "```python\n",
    "def calculate_correlation(red_wine_df, col1, col2):\n",
    "    #TODO: add your code\n",
    "```\n",
    "\n",
    "Use this function to find the correlation between 'alcohol' and 'quality'."
   ]
  },
  {
   "cell_type": "code",
   "execution_count": 6,
   "metadata": {},
   "outputs": [
    {
     "name": "stdout",
     "output_type": "stream",
     "text": [
      "Correlation between alcohol and quality: 0.4762\n"
     ]
    }
   ],
   "source": [
    "def calculate_correlation(red_wine_df, col1, col2):\n",
    "    # Calculate Pearson correlation coefficient between two columns\n",
    "    correlation = red_wine_df[col1].corr(red_wine_df[col2])\n",
    "    return correlation\n",
    "\n",
    "# Test the function with alcohol and quality\n",
    "correlation = calculate_correlation(red_wine_df, 'alcohol', 'quality')\n",
    "print(f\"Correlation between alcohol and quality: {correlation:.4f}\")\n"
   ]
  },
  {
   "cell_type": "markdown",
   "metadata": {},
   "source": [
    "## Question 6 (10 points) \n",
    "\n",
    "- a. (5 points) Concatenate the red and white wine DataFrames into a single DataFrame called 'all_wines'. Add new column `wine_type` and populate with either `red` or `white`\n",
    "- b. (5 points)  After concatenation, calculate the average 'quality' for each 'wine_type'."
   ]
  },
  {
   "cell_type": "code",
   "execution_count": 7,
   "metadata": {},
   "outputs": [
    {
     "name": "stdout",
     "output_type": "stream",
     "text": [
      "Average quality by wine type:\n",
      "wine_type\n",
      "red      5.636023\n",
      "white    5.877909\n",
      "Name: quality, dtype: float64\n"
     ]
    }
   ],
   "source": [
    "# a. Concatenate datasets and add wine_type column\n",
    "# First add wine_type to each dataset\n",
    "red_wine_df['wine_type'] = 'red'\n",
    "white_wine_df['wine_type'] = 'white'\n",
    "\n",
    "# Concatenate the dataframes\n",
    "all_wines = pd.concat([red_wine_df, white_wine_df], axis=0, ignore_index=True)\n",
    "\n",
    "# b. Calculate average quality by wine type\n",
    "avg_quality = all_wines.groupby('wine_type')['quality'].mean()\n",
    "print(\"Average quality by wine type:\")\n",
    "print(avg_quality)"
   ]
  },
  {
   "cell_type": "markdown",
   "metadata": {},
   "source": [
    "\n",
    "## Question 7 (10 points)\n",
    "\n",
    "\n",
    "Start with creating a sample 'wine_details' DataFrame (in a real scenario, this would come from another source)\n",
    "```python\n",
    "wine_details = pd.DataFrame({\n",
    "    'wine_id': range(len(all_wines)),  # Create a unique ID for each wine\n",
    "    'region': np.random.choice(['Bordeaux', 'Tuscany', 'California'], size=len(all_wines)),\n",
    "    'year': np.random.randint(2010, 2020, size=len(all_wines))\n",
    "})\n",
    "\n",
    "all_wines['wine_id'] = wine_details['wine_id'] # Add the wine_id to the all_wines dataframe\n",
    "```\n",
    "\n",
    "- a. (5 points) Perform a left join between 'all_wines' and 'wine_details' using the 'wine_id' as the key.  Store the result in 'merged_wines'.\n",
    "\n",
    "- b. (5 points)  Calculate the average 'alcohol' content for each 'region' in the 'merged_wines' DataFrame."
   ]
  },
  {
   "cell_type": "code",
   "execution_count": 8,
   "metadata": {},
   "outputs": [
    {
     "name": "stdout",
     "output_type": "stream",
     "text": [
      "Average alcohol content by region:\n",
      "region\n",
      "Bordeaux      10.474526\n",
      "California    10.480180\n",
      "Tuscany       10.519210\n",
      "Name: alcohol, dtype: float64\n"
     ]
    }
   ],
   "source": [
    "# Create the wine_details DataFrame as provided\n",
    "wine_details = pd.DataFrame({\n",
    "    'wine_id': range(len(all_wines)),\n",
    "    'region': np.random.choice(['Bordeaux', 'Tuscany', 'California'], size=len(all_wines)),\n",
    "    'year': np.random.randint(2010, 2020, size=len(all_wines))\n",
    "})\n",
    "\n",
    "# Add wine_id to all_wines\n",
    "all_wines['wine_id'] = wine_details['wine_id']\n",
    "\n",
    "# a. Perform left join\n",
    "merged_wines = all_wines.merge(wine_details, on='wine_id', how='left')\n",
    "\n",
    "# b. Calculate average alcohol content by region\n",
    "avg_alcohol_by_region = merged_wines.groupby('region')['alcohol'].mean()\n",
    "print(\"Average alcohol content by region:\")\n",
    "print(avg_alcohol_by_region)"
   ]
  },
  {
   "cell_type": "code",
   "execution_count": null,
   "metadata": {},
   "outputs": [],
   "source": []
  }
 ],
 "metadata": {
  "kernelspec": {
   "display_name": "Python 3.9 (m1-gpu)",
   "language": "python",
   "name": "tensorflow"
  },
  "language_info": {
   "codemirror_mode": {
    "name": "ipython",
    "version": 3
   },
   "file_extension": ".py",
   "mimetype": "text/x-python",
   "name": "python",
   "nbconvert_exporter": "python",
   "pygments_lexer": "ipython3",
   "version": "3.10.6"
  }
 },
 "nbformat": 4,
 "nbformat_minor": 2
}
