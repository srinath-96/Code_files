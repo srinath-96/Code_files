{
  "cells": [
    {
      "cell_type": "markdown",
      "metadata": {},
      "source": [
        "# Lecture 2-5 \n",
        "\n",
        "This Jupyter Notebook covers the core concepts presented in the *Think Python* chapter on **Files**. We will explore:\n",
        "\n",
        "1. Persistence\n",
        "2. Reading and Writing\n",
        "3. Format Operator\n",
        "4. Filenames and Paths\n",
        "5. Catching Exceptions\n",
        "6. Databases (key-value stores)\n",
        "7. Pickling\n",
        "\n",
        "**Source**: [Think Python by Allen Downey](https://greenteapress.com/thinkpython/html/thinkpython015.html) (Chapter on Files) \n",
        "\n",
        "---"
      ]
    },
    {
      "cell_type": "markdown",
      "metadata": {},
      "source": [
        "## 1. Persistence\n",
        "\n",
        "In programming, **persistence** refers to storing data that can be retrieved and used at a later time, even after the program has terminated. In Python, we typically rely on files (among other methods) for persistence.\n",
        "\n",
        "### Working with files in Python\n",
        "- We use the built-in `open()` function to open a file.\n",
        "- By default, `open(filename)` opens a file in **read mode** (`'r'`).\n",
        "- We can specify different modes like `'w'` for write, `'a'` for append, `'r+'` for read and write, etc.\n",
        "- It's good practice to close a file when you're done, or use a `with` statement.\n"
      ]
    },
    {
      "cell_type": "markdown",
      "metadata": {},
      "source": [
        "### Example of opening a file in read mode\n",
        "```\n",
        "fin = open('example.txt', 'r')\n",
        "text = fin.read()\n",
        "fin.close()\n",
        "```\n",
        "\n",
        "Using a **context manager** (the `with` statement) is a cleaner approach:\n",
        "```\n",
        "with open('example.txt', 'r') as fin:\n",
        "    text = fin.read()\n",
        "# file is automatically closed here.\n",
        "```"
      ]
    },
    {
      "cell_type": "markdown",
      "metadata": {},
      "source": [
        "### Example: writing to a file\n",
        "```\n",
        "with open('output.txt', 'w') as fout:\n",
        "    fout.write(\"Hello, world!\\n\")\n",
        "```\n",
        "This code creates (or overwrites) `output.txt` and writes the string `\"Hello, world!\"` followed by a newline character."
      ]
    },
    {
      "cell_type": "markdown",
      "metadata": {},
      "source": [
        "---\n",
        "## 2. Reading and Writing\n",
        "\n",
        "Python provides several methods for reading file contents:\n",
        "\n",
        "- **`read()`**: Reads the entire file as a single string.\n",
        "- **`readline()`**: Reads one line from the file.\n",
        "- **`readlines()`**: Reads all lines and returns them as a list of strings.\n",
        "\n",
        "Below, we illustrate these methods using a code cell."
      ]
    },
    {
      "cell_type": "markdown",
      "id": "9b46fe37",
      "metadata": {},
      "source": [
        "We'll create a small text file first for demonstration."
      ]
    },
    {
      "cell_type": "code",
      "execution_count": 1,
      "id": "33a1f429",
      "metadata": {},
      "outputs": [],
      "source": [
        "# Create a sample file\n",
        "sample_text = \"\"\"This is line one.\\nThis is line two.\\nThis is line three.\"\"\"\n",
        "\n",
        "with open('example.txt', 'w') as fout:\n",
        "    fout.write(sample_text)"
      ]
    },
    {
      "cell_type": "markdown",
      "id": "1492d7ef",
      "metadata": {},
      "source": [
        "Example: reading files"
      ]
    },
    {
      "cell_type": "code",
      "execution_count": 2,
      "metadata": {},
      "outputs": [
        {
          "name": "stdout",
          "output_type": "stream",
          "text": [
            "********* Reading the entire file with read():\n",
            "This is line one.\n",
            "This is line two.\n",
            "This is line three.\n",
            "\n",
            "******Reading first 3 lines with readline():\n",
            "Line 1: This is line one.\n",
            "Line 2: This is line two.\n",
            "Line 3: This is line three.\n",
            "********Reading lines into a list with readlines():\n",
            "['This is line one.\\n', 'This is line two.\\n', 'This is line three.']\n",
            "\n",
            "*********Reading file one line at a time without knowing number of lines:\n",
            "This is line one.\n",
            "This is line two.\n",
            "This is line three."
          ]
        }
      ],
      "source": [
        "# Now let's read using various methods\n",
        "print(\"********* Reading the entire file with read():\")\n",
        "with open('example.txt', 'r') as fin:\n",
        "    entire_file = fin.read()\n",
        "print(entire_file)\n",
        "\n",
        "print(\"\\n******Reading first 3 lines with readline():\")\n",
        "with open('example.txt', 'r') as fin:\n",
        "    line1 = fin.readline()\n",
        "    line2 = fin.readline()\n",
        "    line3 = fin.readline()\n",
        "print(\"Line 1:\", line1, end='')\n",
        "print(\"Line 2:\", line2, end='')\n",
        "print(\"Line 3:\", line3, end='')\n",
        "\n",
        "print(\"\\n********Reading lines into a list with readlines():\")\n",
        "with open('example.txt', 'r') as fin:\n",
        "    lines_list = fin.readlines()\n",
        "print(lines_list)\n",
        "\n",
        "print(\"\\n*********Reading file one line at a time without knowing number of lines:\")\n",
        "with open('example.txt', 'r') as fin:\n",
        "    for line in fin:\n",
        "        print(line, end='')"
      ]
    },
    {
      "cell_type": "markdown",
      "metadata": {},
      "source": [
        "### Tips for reading files\n",
        "- Using `read()` on a very large file might not be memory-efficient.\n",
        "- Looping over the file object itself (`for line in fin:`) is often the most Pythonic and memory-friendly way to process lines.\n",
        "\n",
        "```python\n",
        "with open('example.txt', 'r') as fin:\n",
        "    for line in fin:\n",
        "        print(line, end='')\n",
        "```"
      ]
    },
    {
      "cell_type": "markdown",
      "metadata": {},
      "source": [
        "---\n",
        "## 3. Format Operator\n",
        "\n",
        "The **format operator** (`%`) can be used to insert values into a string with placeholders. This can be convenient when writing data to files, especially when you have specific formatting requirements (e.g., numeric formatting, alignment).\n",
        "\n",
        "Examples:\n",
        "\n",
        "```python\n",
        "x = 10\n",
        "y = 3.14159\n",
        "print(\"x = %d, y = %.2f\" % (x, y))\n",
        "# output: x = 10, y = 3.14\n",
        "```\n",
        "\n",
        "In modern Python, the `str.format()` method or f-strings (like `f\"x = {x}, y = {y:.2f}\"`) are often preferred. But the chapter demonstrates the older `%` operator, which is still worth knowing."
      ]
    },
    {
      "cell_type": "code",
      "execution_count": 3,
      "metadata": {},
      "outputs": [
        {
          "name": "stdout",
          "output_type": "stream",
          "text": [
            "x = 42, ratio = 2.33\n",
            "x = 42, ratio = 2.33\n"
          ]
        }
      ],
      "source": [
        "# Format operator example\n",
        "x = 42\n",
        "ratio = 7/3\n",
        "formatted_line = \"x = %d, ratio = %.2f\" % (x, ratio)\n",
        "print(formatted_line)\n",
        "\n",
        "# Using an f-string (a more modern approach)\n",
        "f_formatted_line = f\"x = {x}, ratio = {ratio:.2f}\"\n",
        "print(f_formatted_line)"
      ]
    },
    {
      "cell_type": "markdown",
      "metadata": {},
      "source": [
        "---\n",
        "## 4. Filenames and Paths\n",
        "\n",
        "When working with files, you often need to specify the path to the file:\n",
        "\n",
        "- **Absolute paths** start from the root directory (e.g., `/home/user/` on Unix-like systems or `C:\\\\Users\\\\` on Windows).\n",
        "- **Relative paths** specify a path relative to the current working directory.\n",
        "\n",
        "Python provides the `os` and `os.path` modules to work with directories and file paths in a platform-independent way. If you prefer a more modern, object-oriented approach, you can use the `pathlib` module.\n",
        "\n",
        "### Example: using `os.path`\n",
        "```python\n",
        "import os\n",
        "cwd = os.getcwd()  # get current working directory\n",
        "print(cwd)\n",
        "```\n",
        "You can then join paths:\n",
        "```python\n",
        "filename = 'example.txt'\n",
        "full_path = os.path.join(cwd, filename)\n",
        "print(full_path)\n",
        "```"
      ]
    },
    {
      "cell_type": "code",
      "execution_count": 4,
      "metadata": {},
      "outputs": [
        {
          "name": "stdout",
          "output_type": "stream",
          "text": [
            "Current working directory: /usr/local/UTD/var/Spring-2025-local/Python-Programming/Lectures/Lecture-2\n",
            "Full path to example.txt: /usr/local/UTD/var/Spring-2025-local/Python-Programming/Lectures/Lecture-2/example.txt\n",
            "Does example.txt exist? True\n"
          ]
        }
      ],
      "source": [
        "import os\n",
        "cwd = os.getcwd()\n",
        "print(\"Current working directory:\", cwd)\n",
        "\n",
        "filename = 'example.txt'\n",
        "full_path = os.path.join(cwd, filename)\n",
        "print(\"Full path to example.txt:\", full_path)\n",
        "\n",
        "# Check if a path exists\n",
        "print(\"Does example.txt exist?\", os.path.exists(full_path))"
      ]
    },
    {
      "cell_type": "markdown",
      "metadata": {},
      "source": [
        "---\n",
        "## 5. Catching Exceptions\n",
        "\n",
        "When dealing with file operations, errors can happen (e.g., file not found, permission denied). You can handle these errors with **exceptions**.\n",
        "\n",
        "```python\n",
        "try:\n",
        "    fin = open('bad_file_name.txt')\n",
        "except FileNotFoundError:\n",
        "    print(\"File not found.\")\n",
        "```"
      ]
    },
    {
      "cell_type": "code",
      "execution_count": 5,
      "metadata": {},
      "outputs": [
        {
          "name": "stdout",
          "output_type": "stream",
          "text": [
            "Caught a FileNotFoundError!\n"
          ]
        }
      ],
      "source": [
        "# Example: catching exceptions\n",
        "try:\n",
        "    with open('does_not_exist.txt', 'r') as f:\n",
        "        data = f.read()\n",
        "except FileNotFoundError:\n",
        "    print(\"Caught a FileNotFoundError!\")"
      ]
    },
    {
      "cell_type": "markdown",
      "metadata": {},
      "source": [
        "Catching exceptions is crucial for making robust programs that can handle unexpected issues gracefully, rather than crashing."
      ]
    },
    {
      "cell_type": "markdown",
      "metadata": {},
      "source": [
        "Databases like these behave somewhat like dictionaries, but they store data in a file on disk."
      ]
    },
    {
      "cell_type": "markdown",
      "metadata": {},
      "source": [
        "---\n",
        "## 6. Pickling\n",
        "\n",
        "The **pickle** module allows you to convert Python objects to a format that can be written to a file and then read back later (unpickled). This is useful for persistence of arbitrary Python data structures.\n",
        "\n",
        "### Warning\n",
        "Because the pickle format is **not** secure, you should never unpickle data from an untrusted or unauthenticated source.\n",
        "\n",
        "### Example: pickling a dictionary\n",
        "```python\n",
        "import pickle\n",
        "\n",
        "my_dict = {'name': 'Alice', 'language': 'Python'}\n",
        "\n",
        "with open('mydata.pkl', 'wb') as f:\n",
        "    pickle.dump(my_dict, f)\n",
        "\n",
        "with open('mydata.pkl', 'rb') as f:\n",
        "    loaded_data = pickle.load(f)\n",
        "\n",
        "print(loaded_data)\n",
        "```\n",
        "Here, `dump` converts the dictionary into a byte stream, and `load` converts that byte stream back into a dictionary."
      ]
    },
    {
      "cell_type": "code",
      "execution_count": 6,
      "metadata": {},
      "outputs": [
        {
          "name": "stdout",
          "output_type": "stream",
          "text": [
            "Loaded data: {'numbers': [1, 2, 3], 'settings': {'dark_mode': True, 'volume': 75}, 'message': 'Hello, pickle!'}\n"
          ]
        }
      ],
      "source": [
        "import pickle\n",
        "\n",
        "my_data = {\n",
        "    'numbers': [1, 2, 3],\n",
        "    'settings': {'dark_mode': True, 'volume': 75},\n",
        "    'message': \"Hello, pickle!\"\n",
        "}\n",
        "\n",
        "# Pickle (serialize) the data\n",
        "with open('mydata.pkl', 'wb') as f:\n",
        "    pickle.dump(my_data, f)\n",
        "\n",
        "# Unpickle (deserialize) the data\n",
        "with open('mydata.pkl', 'rb') as f:\n",
        "    loaded_data = pickle.load(f)\n",
        "\n",
        "print(\"Loaded data:\", loaded_data)"
      ]
    },
    {
      "cell_type": "markdown",
      "metadata": {},
      "source": [
        "That concludes our overview of working with files in Python, as covered in the **Files** chapter of *Think Python*."
      ]
    },
    {
      "cell_type": "markdown",
      "metadata": {},
      "source": [
        "---\n",
        "## 8. Exercises (Adapted)\n",
        "\n",
        "Here are a few short exercises to practice file handling. You can adapt them from the *Think Python* book or create your own.\n",
        "\n",
        "1. **Line counting**: Write a function `count_lines(filename)` that returns the number of lines in the file.\n",
        "2. **Copy file**: Write a function `copy_file(src, dst)` that copies the contents of `src` into `dst`.\n",
        "3. **Pickle a list**: Create a list of numbers, pickle it, then unpickle it and verify that the data matches.\n"
      ]
    },
    {
      "cell_type": "markdown",
      "id": "2d7830a4",
      "metadata": {},
      "source": [
        "# Example solution for Exercise 1: count_lines(filename)\n",
        "```\n",
        "def count_lines(filename):\n",
        "    count = 0\n",
        "    with open(filename, 'r') as fin:\n",
        "        for line in fin:\n",
        "            count += 1\n",
        "    return count\n",
        "\n",
        "print(\"Number of lines in example.txt:\", count_lines('example.txt'))\n",
        "```"
      ]
    },
    {
      "cell_type": "markdown",
      "metadata": {},
      "source": [
        "Try out the other exercises on your own to gain confidence with file operations!"
      ]
    },
    {
      "cell_type": "markdown",
      "metadata": {},
      "source": [
        "---\n",
        "## Resources and Further Reading\n",
        "\n",
        "- [Think Python Online](https://greenteapress.com/thinkpython/html/thinkpython015.html)\n",
        "- [Python Documentation on File Objects](https://docs.python.org/3/tutorial/inputoutput.html)\n",
        "- [Python Docs on `dbm`](https://docs.python.org/3/library/dbm.html)\n",
        "- [Python Docs on `pickle`](https://docs.python.org/3/library/pickle.html)\n",
        "- [pathlib Official Docs](https://docs.python.org/3/library/pathlib.html)\n",
        "\n",
        "Happy coding!"
      ]
    }
  ],
  "metadata": {
    "kernelspec": {
      "display_name": "prog-spring-2025",
      "language": "python",
      "name": "prog-spring-2025"
    },
    "language_info": {
      "codemirror_mode": {
        "name": "ipython",
        "version": 3
      },
      "file_extension": ".py",
      "mimetype": "text/x-python",
      "name": "python",
      "nbconvert_exporter": "python",
      "pygments_lexer": "ipython3",
      "version": "3.10.16"
    }
  },
  "nbformat": 4,
  "nbformat_minor": 5
}
