{
 "cells": [
  {
   "cell_type": "markdown",
   "metadata": {},
   "source": [
    "# Lecture 2-1\n",
    "\n",
    "This notebook covers the following topics:\n",
    "\n",
    "1. **Iterators in Python**\n",
    "    - Definition and creation of iterators.\n",
    "    - Using iterators with `for` loops.\n",
    "    - Using `range()` with and without `enumerate()`.\n",
    "    - Iterators with dictionaries.\n",
    "    - Iterators with the `zip` command.\n",
    "\n",
    "2. **Loops in Python**\n",
    "    - `for` loops and their usage.\n",
    "    - `while` loops and condition checking.\n",
    "\n",
    "3. **Custom Iterators**\n",
    "    - Creating a custom iterator for a binary tree.\n",
    "    - Example usage of the custom binary tree iterator.\n",
    "\n",
    "4. **Unpacking Operators**\n",
    "    - Using the unpacking operator `*` for iterable unpacking.\n",
    "    - Example of using the unpacking operator with function arguments."
   ]
  },
  {
   "cell_type": "markdown",
   "metadata": {
    "id": "mm8VDSydi3aK"
   },
   "source": [
    "## Iterators in Python\n",
    "\n",
    "Iterators are fundamental objects in Python that allow you to traverse through sequences of data. They provide a way to access elements one at a time without needing to know the underlying structure of the data.\n",
    "\n",
    "### What are Iterators?\n",
    "\n",
    "An iterator is an object that implements the iterator protocol, which consists of two special methods:\n",
    "\n",
    "* `__iter__()`: Returns the iterator object itself.\n",
    "* `__next__()`: Returns the next item in the sequence. When there are no more items, it raises a `StopIteration` exception.\n",
    "\n",
    "### Creating Iterators\n",
    "\n",
    "You can create an iterator from an iterable (like a list, tuple, or string) using the `iter()` function."
   ]
  },
  {
   "cell_type": "code",
   "execution_count": 1,
   "metadata": {
    "id": "am8DXCpCi3aL"
   },
   "outputs": [
    {
     "name": "stdout",
     "output_type": "stream",
     "text": [
      "1\n",
      "2\n",
      "3\n"
     ]
    }
   ],
   "source": [
    "my_list = [1, 2, 3]\n",
    "my_iterator = iter(my_list)\n",
    "\n",
    "print(next(my_iterator))  # Output: 1\n",
    "print(next(my_iterator))  # Output: 2\n",
    "print(next(my_iterator))  # Output: 3\n",
    "# print(next(my_iterator))  # Raises StopIteration"
   ]
  },
  {
   "cell_type": "markdown",
   "metadata": {
    "id": "WNtDxNhRi3aL"
   },
   "source": [
    "### Using Iterators in `for` Loops\n",
    "\n",
    "`for` loops in Python implicitly use iterators. When you iterate over a sequence using a `for` loop, Python automatically creates an iterator and calls `__next__()` for each iteration."
   ]
  },
  {
   "cell_type": "code",
   "execution_count": 2,
   "metadata": {
    "id": "iPdXYjQAi3aL"
   },
   "outputs": [
    {
     "name": "stdout",
     "output_type": "stream",
     "text": [
      "1\n",
      "2\n",
      "3\n"
     ]
    }
   ],
   "source": [
    "my_list = [1, 2, 3]\n",
    "for item in my_list:\n",
    "  print(item)"
   ]
  },
  {
   "cell_type": "markdown",
   "metadata": {
    "id": "u2e0Pdtji3aM"
   },
   "source": [
    "### `range()` with and without `enumerate()`\n",
    "\n",
    "The `range()` function generates a sequence of numbers. You can use it directly in a `for` loop:"
   ]
  },
  {
   "cell_type": "code",
   "execution_count": 3,
   "metadata": {
    "id": "_d-HNWu1i3aM"
   },
   "outputs": [
    {
     "name": "stdout",
     "output_type": "stream",
     "text": [
      "0\n",
      "1\n",
      "2\n",
      "3\n",
      "4\n"
     ]
    }
   ],
   "source": [
    "for i in range(5):  # Iterates from 0 to 4\n",
    "  print(i)"
   ]
  },
  {
   "cell_type": "markdown",
   "metadata": {
    "id": "Xxe7uRMCi3aM"
   },
   "source": [
    "To get both the index and the value during iteration, use `enumerate()`:"
   ]
  },
  {
   "cell_type": "code",
   "execution_count": 4,
   "metadata": {
    "id": "AKwaCDiZi3aM"
   },
   "outputs": [
    {
     "name": "stdout",
     "output_type": "stream",
     "text": [
      "index:: 0 | fruit:: apple\n",
      "index:: 1 | fruit:: banana\n",
      "index:: 2 | fruit:: cherry\n"
     ]
    }
   ],
   "source": [
    "fruits = [\"apple\", \"banana\", \"cherry\"]\n",
    "for index, fruit in enumerate(fruits):\n",
    "  print(f\"index:: {index} | fruit:: {fruit}\")"
   ]
  },
  {
   "cell_type": "markdown",
   "metadata": {
    "id": "g8YCBTfPi3aM"
   },
   "source": [
    "### `while` Loops\n",
    "\n",
    "`while` loops repeatedly execute a block of code as long as a condition is true."
   ]
  },
  {
   "cell_type": "code",
   "execution_count": 5,
   "metadata": {
    "id": "izaDxYgFi3aM"
   },
   "outputs": [
    {
     "name": "stdout",
     "output_type": "stream",
     "text": [
      "0\n",
      "1\n",
      "2\n",
      "3\n",
      "4\n"
     ]
    }
   ],
   "source": [
    "count = 0\n",
    "while count < 5:\n",
    "  print(count)\n",
    "  count += 1"
   ]
  },
  {
   "cell_type": "markdown",
   "metadata": {
    "id": "1URAcX8Ci3aM"
   },
   "source": [
    "* **Condition Checking:** Use `while` loops to repeatedly execute a block of code until a condition is met."
   ]
  },
  {
   "cell_type": "code",
   "execution_count": 6,
   "metadata": {
    "id": "W6pxTXVxi3aM"
   },
   "outputs": [
    {
     "name": "stdout",
     "output_type": "stream",
     "text": [
      "Start of loop *****************************\n",
      "Variable after checking while condition: 0\n",
      "Variable after advancement: 1\n",
      "Loop continues *****************************\n",
      "Variable after checking while condition: 1\n",
      "Variable after advancement: 2\n",
      "Loop continues *****************************\n",
      "Variable after checking while condition: 2\n",
      "Variable after advancement: 3\n",
      "Condition met, stopping the loop.\n",
      "Outside of loop ***********************************************\n"
     ]
    }
   ],
   "source": [
    "count = 0\n",
    "print(\"Start of loop *****************************\")\n",
    "while count < 5:\n",
    "  print(\"Variable after checking while condition:\", count)\n",
    "  count += 1\n",
    "  print(\"Variable after advancement:\", count)\n",
    "  if count == 3:\n",
    "    print(\"Condition met, stopping the loop.\")\n",
    "    break\n",
    "  print(\"Loop continues *****************************\")\n",
    "\n",
    "print(\"Outside of loop ***********************************************\")"
   ]
  },
  {
   "cell_type": "markdown",
   "metadata": {},
   "source": [
    "## Iterators with Dictionaries "
   ]
  },
  {
   "cell_type": "code",
   "execution_count": 7,
   "metadata": {},
   "outputs": [
    {
     "name": "stdout",
     "output_type": "stream",
     "text": [
      "Iterating using items():\n",
      "Key: a, Value: 1\n",
      "Key: b, Value: 2\n",
      "Key: c, Value: 3\n",
      "\n",
      "Iterating using keys():\n",
      "Key: a\n",
      "Key: b\n",
      "Key: c\n",
      "\n",
      "Iterating using values():\n",
      "Value: 1\n",
      "Value: 2\n",
      "Value: 3\n"
     ]
    }
   ],
   "source": [
    "# Example dictionary\n",
    "my_dict = {'a': 1, 'b': 2, 'c': 3}\n",
    "\n",
    "# Using items() to iterate over key-value pairs\n",
    "print(\"Iterating using items():\")\n",
    "for key, value in my_dict.items():\n",
    "    print(f\"Key: {key}, Value: {value}\")\n",
    "\n",
    "# Using keys() to iterate over keys\n",
    "print(\"\\nIterating using keys():\")\n",
    "for key in my_dict.keys():\n",
    "    print(f\"Key: {key}\")\n",
    "\n",
    "# Using values() to iterate over values\n",
    "print(\"\\nIterating using values():\")\n",
    "for value in my_dict.values():\n",
    "    print(f\"Value: {value}\")"
   ]
  },
  {
   "cell_type": "markdown",
   "metadata": {},
   "source": [
    "## Iterators with `zip` command"
   ]
  },
  {
   "cell_type": "markdown",
   "metadata": {},
   "source": [
    "The zip function in Python is used to combine multiple iterables (like lists or tuples) element-wise into a single iterable of tuples. Each tuple contains one element from each of the input iterables. Here's a step-by-step explanation:\n",
    "\n",
    "- Basic Usage: The zip function takes two or more iterables as arguments.\n",
    "- Element-wise Combination: It pairs elements from the input iterables based on their positions (i.e., the first elements together, the second elements together, etc.).\n",
    "- Shortest Iterable: The resulting iterable stops when the shortest input iterable is exhausted.  \n",
    "\n",
    "**Example**  \n",
    "\n",
    "Let's look at an example to understand how zip works:"
   ]
  },
  {
   "cell_type": "code",
   "execution_count": 8,
   "metadata": {},
   "outputs": [
    {
     "name": "stdout",
     "output_type": "stream",
     "text": [
      "[(1, 'a'), (2, 'b'), (3, 'c')]\n"
     ]
    }
   ],
   "source": [
    "# Two lists of equal length\n",
    "list1 = [1, 2, 3]\n",
    "list2 = ['a', 'b', 'c']\n",
    "\n",
    "# Using zip to combine them\n",
    "zipped = zip(list1, list2)\n",
    "\n",
    "# Converting the zip object to a list of tuples\n",
    "result = list(zipped)\n",
    "print(result)  # Output: [(1, 'a'), (2, 'b'), (3, 'c')]"
   ]
  },
  {
   "cell_type": "markdown",
   "metadata": {},
   "source": [
    "**Different Lengths** \n",
    "\n",
    "\n",
    "If the input iterables are of different lengths, zip will stop creating tuples when the shortest iterable is exhausted:"
   ]
  },
  {
   "cell_type": "code",
   "execution_count": 9,
   "metadata": {},
   "outputs": [
    {
     "name": "stdout",
     "output_type": "stream",
     "text": [
      "[(1, 'a'), (2, 'b')]\n"
     ]
    }
   ],
   "source": [
    "# Lists of different lengths\n",
    "list1 = [1, 2, 3]\n",
    "list2 = ['a', 'b']\n",
    "\n",
    "# Using zip to combine them\n",
    "zipped = zip(list1, list2)\n",
    "\n",
    "# Converting the zip object to a list of tuples\n",
    "result = list(zipped)\n",
    "print(result)  # Output: [(1, 'a'), (2, 'b')]"
   ]
  },
  {
   "cell_type": "markdown",
   "metadata": {},
   "source": [
    "Using zip in combination with for loop"
   ]
  },
  {
   "cell_type": "code",
   "execution_count": 10,
   "metadata": {},
   "outputs": [
    {
     "name": "stdout",
     "output_type": "stream",
     "text": [
      "Number: 1, Character: a\n",
      "Number: 2, Character: b\n",
      "Number: 3, Character: c\n"
     ]
    }
   ],
   "source": [
    "# Two lists of equal length\n",
    "list1 = [1, 2, 3]\n",
    "list2 = ['a', 'b', 'c']\n",
    "\n",
    "for num, char in zip(list1, list2):\n",
    "    print(f\"Number: {num}, Character: {char}\")"
   ]
  },
  {
   "cell_type": "markdown",
   "metadata": {},
   "source": [
    "**Unzipping**  \n",
    "\n",
    "You can also \"unzip\" a list of tuples back into individual lists using the zip function with the unpacking operator `*`:\n",
    "\n"
   ]
  },
  {
   "cell_type": "code",
   "execution_count": 11,
   "metadata": {},
   "outputs": [
    {
     "name": "stdout",
     "output_type": "stream",
     "text": [
      "[1, 2, 3]\n",
      "['a', 'b', 'c']\n"
     ]
    }
   ],
   "source": [
    "# List of tuples\n",
    "zipped_list = [(1, 'a'), (2, 'b'), (3, 'c')]\n",
    "\n",
    "# Unzipping\n",
    "unzipped = zip(*zipped_list)\n",
    "\n",
    "# Converting the zip object to lists\n",
    "list1, list2 = map(list, unzipped)\n",
    "print(list1)  # Output: [1, 2, 3]\n",
    "print(list2)  # Output: ['a', 'b', 'c']"
   ]
  },
  {
   "cell_type": "markdown",
   "metadata": {},
   "source": [
    "**Unpacking Operator (Iterable Unpacking)**\n",
    "\n",
    "The `*` operator can be used to unpack the elements of an iterable (like a list or tuple) into individual arguments when calling a function or assigning values."
   ]
  },
  {
   "cell_type": "code",
   "execution_count": 12,
   "metadata": {},
   "outputs": [
    {
     "name": "stdout",
     "output_type": "stream",
     "text": [
      "Calling function with unpacked list:[1, 2, 3]\n",
      "a: 1 b: 2 c: 3\n"
     ]
    }
   ],
   "source": [
    "def my_function(a, b, c):\n",
    "  print(\"a:\",a, \"b:\", b, \"c:\", c)\n",
    "\n",
    "my_list = [1, 2, 3]\n",
    "print(f\"Calling function with unpacked list:{my_list}\")\n",
    "my_function(*my_list)  # Equivalent to my_function(1, 2, 3)"
   ]
  },
  {
   "cell_type": "markdown",
   "metadata": {},
   "source": [
    "## Custom Iterator for a Binary Tree"
   ]
  },
  {
   "cell_type": "code",
   "execution_count": 13,
   "metadata": {},
   "outputs": [],
   "source": [
    "class TreeNode:\n",
    "    def __init__(self, value):\n",
    "        self.value = value\n",
    "        self.left = None\n",
    "        self.right = None\n",
    "\n",
    "class BinaryTreeIterator:\n",
    "    def __init__(self, root):\n",
    "        self.stack = []\n",
    "        self._push_left(root)\n",
    "\n",
    "    def _push_left(self, node):\n",
    "        \"\"\"Helper method to push all left nodes to the stack.\"\"\"\n",
    "        while node:\n",
    "            self.stack.append(node)\n",
    "            node = node.left\n",
    "\n",
    "    def __iter__(self):\n",
    "        return self\n",
    "\n",
    "    def __next__(self):\n",
    "        if not self.stack:\n",
    "            raise StopIteration\n",
    "        \n",
    "        current = self.stack.pop()\n",
    "        value = current.value\n",
    "        self._push_left(current.right)\n",
    "        return value\n",
    "\n",
    "# Example of usage\n",
    "class BinaryTree:\n",
    "    def __init__(self):\n",
    "        self.root = None\n",
    "\n",
    "    def insert(self, value):\n",
    "        if not self.root:\n",
    "            self.root = TreeNode(value)\n",
    "        else:\n",
    "            self._insert(self.root, value)\n",
    "\n",
    "    def _insert(self, node, value):\n",
    "        if value < node.value:\n",
    "            if node.left is None:\n",
    "                node.left = TreeNode(value)\n",
    "            else:\n",
    "                self._insert(node.left, value)\n",
    "        else:\n",
    "            if node.right is None:\n",
    "                node.right = TreeNode(value)\n",
    "            else:\n",
    "                self._insert(node.right, value)\n",
    "\n",
    "    def __iter__(self):\n",
    "        return BinaryTreeIterator(self.root)"
   ]
  },
  {
   "cell_type": "markdown",
   "metadata": {},
   "source": [
    "Example of use"
   ]
  },
  {
   "cell_type": "code",
   "execution_count": 14,
   "metadata": {},
   "outputs": [
    {
     "name": "stdout",
     "output_type": "stream",
     "text": [
      "Showing next value in the tree: 2\n",
      "Showing next value in the tree: 3\n",
      "Showing next value in the tree: 4\n",
      "Showing next value in the tree: 5\n",
      "Showing next value in the tree: 6\n",
      "Showing next value in the tree: 7\n",
      "Showing next value in the tree: 8\n"
     ]
    }
   ],
   "source": [
    "# Example\n",
    "tree = BinaryTree()\n",
    "tree.insert(5)\n",
    "tree.insert(3)\n",
    "tree.insert(7)\n",
    "tree.insert(2)\n",
    "tree.insert(4)\n",
    "tree.insert(6)\n",
    "tree.insert(8)\n",
    "\n",
    "for value in tree:\n",
    "    print(\"Showing next value in the tree:\", value)"
   ]
  },
  {
   "cell_type": "markdown",
   "metadata": {},
   "source": [
    "Explanation:   \n",
    "- TreeNode: Represents a single node in the binary tree.    \n",
    "- BinaryTreeIterator:   \n",
    "    - Maintains a stack to simulate the traversal.    \n",
    "    - Uses a helper method _push_left to ensure left nodes are processed first.     \n",
    "    - Implements the __iter__ and __next__ methods for iteration.     \n",
    "- BinaryTree: Provides an interface for the tree structure and allows iteration by returning an instance of BinaryTreeIterator.  \n",
    "\n",
    "This iterator traverses the binary tree in an in-order manner, meaning it processes nodes in ascending order of their values."
   ]
  }
 ],
 "metadata": {
  "kernelspec": {
   "display_name": "prog-spring-2025",
   "language": "python",
   "name": "prog-spring-2025"
  },
  "language_info": {
   "codemirror_mode": {
    "name": "ipython",
    "version": 3
   },
   "file_extension": ".py",
   "mimetype": "text/x-python",
   "name": "python",
   "nbconvert_exporter": "python",
   "pygments_lexer": "ipython3",
   "version": "3.10.16"
  }
 },
 "nbformat": 4,
 "nbformat_minor": 2
}
