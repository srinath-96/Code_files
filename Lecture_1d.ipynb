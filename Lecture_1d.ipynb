{
  "cells": [
    {
      "cell_type": "markdown",
      "metadata": {
        "id": "3Wq-VgO8JXuZ"
      },
      "source": [
        "## Python Data Structures: A Comprehensive Overview\n",
        "\n",
        "### Strings\n",
        "\n",
        "  * **Sequences of characters.**\n",
        "  * **Immutable:** Individual characters cannot be changed.\n",
        "  * **Defined using single quotes `''` or double quotes `\"\"`.**\n",
        "\n",
        "**Example:**"
      ]
    },
    {
      "cell_type": "code",
      "execution_count": 1,
      "metadata": {
        "colab": {
          "base_uri": "https://localhost:8080/"
        },
        "id": "3w4dXQnTJXua",
        "outputId": "beae5c1c-6b2a-4b81-a983-f18a8112dba7"
      },
      "outputs": [
        {
          "name": "stdout",
          "output_type": "stream",
          "text": [
            "H\n",
            "!\n",
            "world\n",
            "HELLO, WORLD!\n",
            "hello, world!\n",
            "['Hello', ' world!']\n",
            "Hello, Python!\n"
          ]
        }
      ],
      "source": [
        "text = \"Hello, world!\"\n",
        "\n",
        "# Accessing characters:\n",
        "print(text[0])  # Output: H\n",
        "print(text[-1])  # Output: !\n",
        "\n",
        "# Slicing:\n",
        "print(text[7:12])  # Output: world\n",
        "\n",
        "# String methods:\n",
        "print(text.upper())  # Output: HELLO, WORLD!\n",
        "print(text.lower())  # Output: hello, world!\n",
        "print(text.split(\",\"))  # Output: ['Hello', ' world!']\n",
        "print(text.replace(\"world\", \"Python\"))  # Output: Hello, Python!"
      ]
    },
    {
      "cell_type": "markdown",
      "metadata": {
        "id": "B4E1GGuGJXua"
      },
      "source": [
        "### Lists\n",
        "\n",
        "  * **Ordered collections of items.**\n",
        "  * **Mutable:** Elements can be changed after creation.\n",
        "  * **Defined using square brackets `[]`.**\n",
        "\n",
        "**Example:**"
      ]
    },
    {
      "cell_type": "code",
      "execution_count": 4,
      "metadata": {
        "colab": {
          "base_uri": "https://localhost:8080/"
        },
        "id": "zLJiYHnCJXub",
        "outputId": "7cd854ef-9b43-42d6-caa5-8f64e40801cb"
      },
      "outputs": [
        {
          "name": "stdout",
          "output_type": "stream",
          "text": [
            "apple\n",
            "cherry\n",
            "['banana', 'cherry']\n",
            "['apple', 'orange', 'cherry']\n",
            "['apple', 'orange', 'cherry', 'grape']\n",
            "['orange', 'cherry', 'grape']\n",
            "Error: list.remove(x): x not in list\n"
          ]
        }
      ],
      "source": [
        "fruits = [\"apple\", \"banana\", \"cherry\"]\n",
        "\n",
        "# Accessing elements:\n",
        "print(fruits[0])  # Output: apple\n",
        "print(fruits[-1])  # Output: cherry\n",
        "\n",
        "# Slicing:\n",
        "print(fruits[1:3])  # Output: ['banana', 'cherry']\n",
        "\n",
        "# Modifying elements:\n",
        "fruits[1] = \"orange\"\n",
        "print(fruits)  # Output: ['apple', 'orange', 'cherry']\n",
        "\n",
        "# Adding elements:\n",
        "fruits.append(\"grape\")\n",
        "print(fruits)  # Output: ['apple', 'orange', 'cherry', 'grape']\n",
        "\n",
        "# Removing elements:\n",
        "fruits.remove(\"apple\")\n",
        "print(fruits)  # Output: ['orange', 'cherry', 'grape']\n",
        "\n",
        "# Removing no existing element\n",
        "try:\n",
        "    fruits.remove(\"kiwi\")\n",
        "except ValueError as e:\n",
        "    print(f\"Error: {e}\")"
      ]
    },
    {
      "cell_type": "markdown",
      "metadata": {
        "id": "L2Bc9sixJXub"
      },
      "source": [
        "### Tuples\n",
        "\n",
        "  * **Ordered collections of items.**\n",
        "  * **Immutable:** Elements cannot be changed after creation.\n",
        "  * **Defined using parentheses `()`.**\n",
        "\n",
        "**Example:**"
      ]
    },
    {
      "cell_type": "code",
      "execution_count": null,
      "metadata": {
        "id": "lQ7acd4CJXub"
      },
      "outputs": [],
      "source": [
        "coordinates = (10, 20)\n",
        "\n",
        "# Accessing elements:\n",
        "print(coordinates[0])  # Output: 10\n",
        "\n",
        "# Tuple unpacking:\n",
        "x, y = coordinates\n",
        "print(x, y)  # Output: 10 20\n",
        "\n",
        "# Tuples as keys in dictionaries:\n",
        "my_dict = {(1, 2): \"value1\", (3, 4): \"value2\"}\n",
        "print(my_dict[(1, 2)])  # Output: value1"
      ]
    },
    {
      "cell_type": "markdown",
      "metadata": {
        "id": "i3Yobk3eJXub"
      },
      "source": [
        "### Dictionaries\n",
        "\n",
        "  * **Unordered key-value pairs.**\n",
        "  * **Keys must be unique and immutable.**\n",
        "  * **Values can be of any data type.**\n",
        "  * **Defined using curly braces `{}`.**\n",
        "\n",
        "**Example:**"
      ]
    },
    {
      "cell_type": "code",
      "execution_count": null,
      "metadata": {
        "id": "TcrPfstRJXub"
      },
      "outputs": [],
      "source": [
        "student = {\"name\": \"Alice\", \"age\": 25, \"grade\": \"A\"}\n",
        "\n",
        "# Accessing values:\n",
        "print(student[\"name\"])  # Output: Alice\n",
        "\n",
        "# Adding a new key-value pair:\n",
        "student[\"major\"] = \"Computer Science\"\n",
        "print(student)  # Output: {'name': 'Alice', 'age': 25, 'grade': 'A', 'major': 'Computer Science'}\n",
        "\n",
        "# Modifying a value:\n",
        "student[\"age\"] = 26\n",
        "print(student)  # Output: {'name': 'Alice', 'age': 26, 'grade': 'A', 'major': 'Computer Science'}\n",
        "\n",
        "# Checking if a key exists:\n",
        "if \"city\" in student:\n",
        "    print(student[\"city\"])\n",
        "else:\n",
        "    print(\"City information not found.\")\n",
        "\n",
        "# Using the `get` method:\n",
        "city = student.get(\"city\", \"Unknown\")\n",
        "print(city)  # Output: Unknown"
      ]
    },
    {
      "cell_type": "markdown",
      "metadata": {},
      "source": [
        "### Dictionaries: The `get()` Method\n",
        "\n",
        "The `get()` method is a useful way to access values in a dictionary. It allows you to specify a default value to be returned if the key is not found.\n",
        "\n",
        "**Example:**"
      ]
    },
    {
      "cell_type": "code",
      "execution_count": null,
      "metadata": {},
      "outputs": [],
      "source": [
        "my_dict = {\"name\": \"Alice\", \"age\": 30}\n",
        "\n",
        "# Accessing a value using get()\n",
        "name = my_dict.get(\"name\")  # name will be \"Alice\"\n",
        "city = my_dict.get(\"city\", \"Unknown\")  # city will be \"Unknown\" (key \"city\" doesn't exist)"
      ]
    },
    {
      "cell_type": "markdown",
      "metadata": {
        "id": "WbhgbTTwJXub"
      },
      "source": [
        "### Ordered Dictionaries\n",
        "\n",
        "  * **Similar to regular dictionaries but maintain the order of insertion.**\n",
        "  * **Useful for scenarios where the order of items matters.**\n",
        "  * **Introduced in Python 3.7.**\n",
        "\n",
        "**Example:**"
      ]
    },
    {
      "cell_type": "code",
      "execution_count": null,
      "metadata": {
        "id": "skA6T5DmJXuc"
      },
      "outputs": [],
      "source": [
        "from collections import OrderedDict\n",
        "\n",
        "ordered_dict = OrderedDict()\n",
        "ordered_dict['a'] = 1\n",
        "ordered_dict['b'] = 2\n",
        "ordered_dict['c'] = 3\n",
        "\n",
        "# Iterating over items in order:\n",
        "for key, value in ordered_dict.items():\n",
        "    print(key, value)"
      ]
    },
    {
      "cell_type": "markdown",
      "metadata": {
        "id": "0SFF4I5jJXuc"
      },
      "source": [
        "### Other Data Types\n",
        "\n",
        "Python offers a variety of other data types, including:\n",
        "\n",
        "  * **Sets:** Unordered collections of unique elements.\n",
        "  * **Frozen Sets:** Immutable sets.\n",
        "  * **Bytes and Bytearrays:** Sequences of bytes.\n",
        "  * **Complex Numbers:** Numbers with real and imaginary parts.\n",
        "  * **Boolean Type:** Represents True or False values.\n",
        "  * **NoneType:** Represents the absence of a value.\n",
        "\n",
        "**For more details and examples, refer to the official Python documentation:** [https://docs.python.org/3/library/datatypes.html](https://www.google.com/url?sa=E&source=gmail&q=https://docs.python.org/3/library/datatypes.html)"
      ]
    }
  ],
  "metadata": {
    "colab": {
      "provenance": []
    },
    "kernelspec": {
      "display_name": "Python 3",
      "name": "python3"
    }
  },
  "nbformat": 4,
  "nbformat_minor": 0
}
