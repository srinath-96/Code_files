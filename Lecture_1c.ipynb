{
  "cells": [
    {
      "cell_type": "markdown",
      "metadata": {},
      "source": [
        "# Lab - 1c"
      ]
    },
    {
      "cell_type": "markdown",
      "metadata": {
        "id": "WbIwwAwUZo3M"
      },
      "source": [
        "In Python, understanding how variables are passed to functions and how changes to one variable can affect another is crucial. This involves grasping the concepts of \"pass by object reference\" and mutability.\n",
        "\n",
        "**Pass by Object Reference**\n",
        "\n",
        "Python doesn't strictly use \"call by value\" or \"call by reference\" like some other languages. Instead, it uses \"pass by object reference.\" This means when you pass a variable to a function, you're actually passing a reference to the object in memory that the variable points to.\n",
        "\n",
        "**Mutability**\n",
        "\n",
        "Whether changes within a function affect the original object depends on the object's mutability:\n",
        "\n",
        "* **Immutable objects:** (int, float, string, tuple) When you pass an immutable object, any changes made within the function create a new object, leaving the original unchanged.\n",
        "* **Mutable objects:** (list, dictionary, set) When you pass a mutable object, changes made within the function directly modify the original object.\n",
        "\n",
        "**Examples**"
      ]
    },
    {
      "cell_type": "code",
      "execution_count": 5,
      "metadata": {
        "id": "y3GBvb8eZo3N"
      },
      "outputs": [
        {
          "name": "stdout",
          "output_type": "stream",
          "text": [
            "Before function call: 5\n",
            "Inside function: 15\n",
            "After function call: 5\n",
            "****************************************\n",
            "Before function call: [1, 2, 3]\n",
            "Inside function: [1, 2, 3, 4]\n",
            "After function call: [1, 2, 3, 4]\n"
          ]
        }
      ],
      "source": [
        "# Immutable object (integer)\n",
        "def modify_number(x):\n",
        "  x += 10\n",
        "  print(\"Inside function:\", x)\n",
        "\n",
        "num = 5\n",
        "print(\"Before function call:\", num)  # Output: 5\n",
        "modify_number(num)\n",
        "print(\"After function call:\", num)  # Output: 5 (original remains unchanged)\n",
        "print(\"**\" * 20)\n",
        "# Mutable object (list)\n",
        "def modify_list(lst):\n",
        "  lst.append(4)\n",
        "  print(\"Inside function:\", lst)\n",
        "\n",
        "my_list = [1, 2, 3]\n",
        "print(\"Before function call:\", my_list)  # Output: [1, 2, 3]\n",
        "modify_list(my_list)\n",
        "print(\"After function call:\", my_list)  # Output: [1, 2, 3, 4] (original is modified)"
      ]
    },
    {
      "cell_type": "markdown",
      "metadata": {
        "id": "wmQJJUu5Zo3O"
      },
      "source": [
        "**Using `copy` and `deepcopy`**\n",
        "\n",
        "To prevent unintended modifications, you can use the `copy` and `deepcopy` functions from the `copy` module:\n",
        "\n",
        "* **`copy()` (Shallow copy):** Creates a new object but still references the nested objects of the original.\n",
        "* **`deepcopy()` (Deep copy):** Creates a completely independent copy, including all nested objects.\n",
        "\n",
        "**Examples**"
      ]
    },
    {
      "cell_type": "code",
      "execution_count": 2,
      "metadata": {
        "id": "uAQFxVKmZo3O"
      },
      "outputs": [],
      "source": [
        "import copy\n",
        "\n",
        "# Shallow copy\n",
        "original_list = [1, [2, 3]]\n",
        "copied_list = copy.copy(original_list)\n",
        "copied_list[0] = 10  # Modifies only the copied list\n",
        "copied_list[1][0] = 20  # Modifies both lists (shared nested object)\n",
        "\n",
        "# Deep copy\n",
        "original_list = [1, [2, 3]]\n",
        "deep_copied_list = copy.deepcopy(original_list)\n",
        "deep_copied_list[0] = 10  # Modifies only the deep copied list\n",
        "deep_copied_list[1][0] = 20  # Modifies only the deep copied list"
      ]
    },
    {
      "cell_type": "markdown",
      "metadata": {
        "id": "rJ6kgG5XZo3O"
      },
      "source": [
        "By understanding these concepts and using `copy` or `deepcopy` when necessary, you can write more predictable and bug-free Python code."
      ]
    },
    {
      "cell_type": "code",
      "execution_count": 6,
      "metadata": {},
      "outputs": [
        {
          "name": "stdout",
          "output_type": "stream",
          "text": [
            "Original list: [1, [2, 3]]\n",
            "Deep copied list: [10, [20, 3]]\n",
            "****************************************\n"
          ]
        }
      ],
      "source": [
        "# Demonstrate use of deepcopy\n",
        "original_list = [1, [2, 3]]\n",
        "deep_copied_list = copy.deepcopy(original_list)\n",
        "deep_copied_list[0] = 10  # Modifies only the deep copied list\n",
        "deep_copied_list[1][0] = 20  # Modifies only the deep copied list\n",
        "print(\"Original list:\", original_list)  # Output: [1, [2, 3]]\n",
        "print(\"Deep copied list:\", deep_copied_list)  # Output: [10, [20, 3]]\n",
        "print(\"**\" * 20)"
      ]
    },
    {
      "cell_type": "code",
      "execution_count": null,
      "metadata": {},
      "outputs": [],
      "source": [
        "import copy\n",
        "\n",
        "# Original list\n",
        "original_list = [1, [2, 3]]\n",
        "print(\"Original list:\", original_list)\n",
        "\n",
        "# Shallow copy\n",
        "shallow_copied_list = copy.copy(original_list)\n",
        "shallow_copied_list[0] = 10  # Modifies only the copied list\n",
        "shallow_copied_list[1][0] = 20  # Modifies both lists (shared nested object)\n",
        "print(\"Shallow copied list:\", shallow_copied_list)\n",
        "print(\"Original list after shallow copy modification:\", original_list)\n",
        "\n",
        "# Deep copy\n",
        "deep_copied_list = copy.deepcopy(original_list)\n",
        "deep_copied_list[0] = 10  # Modifies only the deep copied list\n",
        "deep_copied_list[1][0] = 20  # Modifies only the deep copied list\n",
        "print(\"Deep copied list:\", deep_copied_list)\n",
        "print(\"Original list after deep copy modification:\", original_list)"
      ]
    }
  ],
  "metadata": {
    "colab": {
      "provenance": []
    },
    "kernelspec": {
      "display_name": "prog-spring-2025",
      "language": "python",
      "name": "prog-spring-2025"
    },
    "language_info": {
      "codemirror_mode": {
        "name": "ipython",
        "version": 3
      },
      "file_extension": ".py",
      "mimetype": "text/x-python",
      "name": "python",
      "nbconvert_exporter": "python",
      "pygments_lexer": "ipython3",
      "version": "3.10.16"
    }
  },
  "nbformat": 4,
  "nbformat_minor": 0
}
